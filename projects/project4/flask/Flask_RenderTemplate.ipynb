{
 "cells": [
  {
   "cell_type": "code",
   "execution_count": 1,
   "metadata": {},
   "outputs": [],
   "source": [
    "def mypredict(l):\n",
    "    return [{'name':'owns','prob':0.75},{'name':'debt','prob':0.5}]"
   ]
  },
  {
   "cell_type": "code",
   "execution_count": null,
   "metadata": {},
   "outputs": [
    {
     "name": "stdout",
     "output_type": "stream",
     "text": [
      " * Serving Flask app \"__main__\" (lazy loading)\n",
      " * Environment: production\n",
      "   WARNING: This is a development server. Do not use it in a production deployment.\n",
      "   Use a production WSGI server instead.\n",
      " * Debug mode: off\n"
     ]
    },
    {
     "name": "stderr",
     "output_type": "stream",
     "text": [
      " * Running on http://127.0.0.1:5000/ (Press CTRL+C to quit)\n",
      "127.0.0.1 - - [26/Feb/2020 09:58:35] \"GET / HTTP/1.1\" 200 -\n"
     ]
    }
   ],
   "source": [
    "# minimal example from:\n",
    "# http://flask.pocoo.org/docs/quickstart/\n",
    "\n",
    "import flask\n",
    "\n",
    "app = flask.Flask(__name__)  # create instance of Flask class\n",
    "\n",
    "@app.route('/')  # the site to route to, index/main in this case\n",
    "def hello_world():\n",
    "    return flask.render_template('predictor.html',features=['age','income','city'])\n",
    "\n",
    "@app.route(\"/predict\")\n",
    "def predict():\n",
    "    print(flask.request.args)\n",
    "    p = mypredict(flask.request.args)\n",
    "    return flask.render_template('predictor.html',features=['age','income','city'],prediction=p)\n",
    "\n",
    "if __name__ == '__main__':\n",
    "    app.run()"
   ]
  },
  {
   "cell_type": "code",
   "execution_count": null,
   "metadata": {
    "collapsed": true
   },
   "outputs": [],
   "source": []
  }
 ],
 "metadata": {
  "kernelspec": {
   "display_name": "Python 3",
   "language": "python",
   "name": "python3"
  },
  "language_info": {
   "codemirror_mode": {
    "name": "ipython",
    "version": 3
   },
   "file_extension": ".py",
   "mimetype": "text/x-python",
   "name": "python",
   "nbconvert_exporter": "python",
   "pygments_lexer": "ipython3",
   "version": "3.7.5"
  },
  "toc": {
   "base_numbering": 1,
   "nav_menu": {},
   "number_sections": true,
   "sideBar": true,
   "skip_h1_title": false,
   "title_cell": "Table of Contents",
   "title_sidebar": "Contents",
   "toc_cell": false,
   "toc_position": {},
   "toc_section_display": true,
   "toc_window_display": false
  }
 },
 "nbformat": 4,
 "nbformat_minor": 2
}

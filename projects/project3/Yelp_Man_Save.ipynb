{
 "cells": [
  {
   "cell_type": "code",
   "execution_count": null,
   "metadata": {},
   "outputs": [],
   "source": [
    "import pandas as pd\n",
    "import argparse\n",
    "import collections\n",
    "import csv\n",
    "import simplejson as json\n",
    "import random\n",
    "import gc\n",
    "import os\n",
    "import glob\n",
    "import numpy as np\n",
    "import re\n",
    "# visualization imports\n",
    "import matplotlib.pyplot as plt\n",
    "import seaborn as sns\n",
    "# modelling imports\n",
    "from sklearn.linear_model import LogisticRegression\n",
    "from sklearn.model_selection import train_test_split\n",
    "from sklearn.metrics import precision_score, recall_score, accuracy_score, roc_auc_score\n",
    "from sklearn.metrics import confusion_matrix\n",
    "from sklearn.preprocessing import StandardScaler\n",
    "#os.chdir(\"../project3/data/yelp_dataset_2020/selected/Round_2\")\n",
    "#os.chdir(os.getcwd())\n",
    "\n",
    "pd.set_option('display.max_rows', 50)\n",
    "pd.set_option('display.max_columns', 100)\n",
    "pd.set_option('display.width', 500)\n",
    "#pd.set_option('display.max_colwidth', 0)\n",
    "\n",
    "#DO NOT RUN\n",
    "\"\"\"\n",
    "extension = 'csv'\n",
    "all_filenames = [i for i in glob.glob('*.{}'.format(extension))]\n",
    "df_scope_elite_19 = pd.concat([pd.read_csv(f, names=['user_id','elite_status']) for f in all_filenames ])\n",
    "#export to csv\n",
    "df_scope_elite_19.to_csv( \"yelp_selected_elites.csv\", index=False, encoding='utf-8-sig')\n",
    "\"\"\""
   ]
  },
  {
   "cell_type": "code",
   "execution_count": null,
   "metadata": {},
   "outputs": [],
   "source": [
    "#ALL YELPERS\n",
    "df_user_18 = pd.read_csv('../project3/data/yelp_dataset_2019/user.csv')\n",
    "df_user_18 = df_user_18.reindex(sorted(df_user_18.columns), axis=1)\n",
    "df_user_18.drop_duplicates(keep=False,inplace=True) \n",
    "\n",
    "#SELECTED YELPERS\n",
    "random.seed(4)\n",
    "yelp_users = list(df_user_18['user_id'].unique())\n",
    "scope_yelp_users = pd.DataFrame(random.sample(yelp_users, k=100001), columns = ['user_id'])\n",
    "\n",
    "#DEFINE SCOPE USERS\n",
    "df_scope_user_18 = scope_yelp_users.merge(df_user_18, left_on='user_id', right_on='user_id').copy()"
   ]
  },
  {
   "cell_type": "code",
   "execution_count": null,
   "metadata": {},
   "outputs": [],
   "source": [
    "#DEFINTE SELECTED ELITES\n",
    "df_scope_elite_19 = pd.read_csv('../project3/data/yelp_dataset_2020/selected/Round_2/yelp_selected_elites.csv')\n",
    "#IF is 2019 ELITE\n",
    "df_scope_elite_19['2019_elite_status'] = df_scope_elite_19['elite_status'].str.contains('19')"
   ]
  },
  {
   "cell_type": "code",
   "execution_count": null,
   "metadata": {},
   "outputs": [],
   "source": [
    "#MERGE DATASETS\n",
    "df_scope_user_18 = df_scope_user_18.merge(df_scope_elite_19, left_on='user_id', right_on='user_id').copy()"
   ]
  },
  {
   "cell_type": "code",
   "execution_count": null,
   "metadata": {},
   "outputs": [],
   "source": [
    "#2018 RAW\n",
    "df_review_18 = pd.read_csv('../project3/data/yelp_dataset_2019/review.csv')\n",
    "df_review_18 = df_review_18.reindex(sorted(df_review_18.columns), axis=1)"
   ]
  },
  {
   "cell_type": "code",
   "execution_count": null,
   "metadata": {},
   "outputs": [],
   "source": [
    "df_tip_18 = pd.read_csv('../project3/data/yelp_dataset_2019/tip.csv')\n",
    "df_tip_18 = df_tip_18.reindex(sorted(df_tip_18.columns), axis=1)"
   ]
  },
  {
   "cell_type": "code",
   "execution_count": null,
   "metadata": {},
   "outputs": [],
   "source": [
    "df_business_18 = pd.read_csv('../project3/data/yelp_dataset_2019/business.csv')\n",
    "df_business_18 = df_business_18.reindex(sorted(df_business_18.columns), axis=1)"
   ]
  },
  {
   "cell_type": "code",
   "execution_count": null,
   "metadata": {},
   "outputs": [],
   "source": [
    "#skiprows = range(1, 1000000), nrows=1000000\n",
    "#df_checkin_18= pd.read_csv('../project3/data/yelp_dataset_2019/checkin.csv', nrows=1000)\n",
    "#df_photo_18 = pd.read_csv('../project3/data/yelp_dataset_2019/photo.csv', nrows=1000)\n"
   ]
  },
  {
   "cell_type": "code",
   "execution_count": null,
   "metadata": {},
   "outputs": [],
   "source": [
    "df_scope_review_18 = scope_yelp_users.merge(df_review_18, left_on='user_id', right_on='user_id').copy()"
   ]
  },
  {
   "cell_type": "code",
   "execution_count": null,
   "metadata": {},
   "outputs": [],
   "source": [
    "df_scope_tip_18 = scope_yelp_users.merge(df_tip_18, left_on='user_id', right_on='user_id').copy()"
   ]
  },
  {
   "cell_type": "code",
   "execution_count": null,
   "metadata": {},
   "outputs": [],
   "source": [
    "df_scope_tip_business_18 = df_scope_tip_18.merge(df_business_18, how='left', left_on='business_id', right_on='business_id').copy()"
   ]
  },
  {
   "cell_type": "code",
   "execution_count": null,
   "metadata": {},
   "outputs": [],
   "source": [
    "df_scope_review_business_18 = df_scope_review_18.merge(df_business_18, how='left', left_on='business_id', right_on='business_id').copy()"
   ]
  },
  {
   "cell_type": "code",
   "execution_count": null,
   "metadata": {},
   "outputs": [],
   "source": [
    "#allievate memory\n",
    "del [[df_business_18,df_tip_18,df_review_18]]\n",
    "gc.collect()"
   ]
  },
  {
   "cell_type": "code",
   "execution_count": null,
   "metadata": {},
   "outputs": [],
   "source": [
    "df_user_17 = pd.read_csv('../project3/data/yelp_dataset_2018/yelp_academic_dataset_user.csv')"
   ]
  },
  {
   "cell_type": "code",
   "execution_count": null,
   "metadata": {},
   "outputs": [],
   "source": [
    "df_user_17 = df_user_17.reindex(sorted(df_user_17.columns), axis=1)\n",
    "df_user_17.drop_duplicates(keep=False,inplace=True) \n",
    "df_scope_user_17 = scope_yelp_users.merge(df_user_17,how='left', left_on='user_id', right_on='user_id').copy()"
   ]
  },
  {
   "cell_type": "code",
   "execution_count": null,
   "metadata": {},
   "outputs": [],
   "source": [
    "df_review_17 = pd.read_csv('../project3/data/yelp_dataset_2018/yelp_academic_dataset_review.csv')\n",
    "df_review_17 = df_review_17.reindex(sorted(df_review_17.columns), axis=1)"
   ]
  },
  {
   "cell_type": "code",
   "execution_count": null,
   "metadata": {},
   "outputs": [],
   "source": [
    "df_scope_review_17 = scope_yelp_users.merge(df_review_17, left_on='user_id', right_on='user_id').copy()"
   ]
  },
  {
   "cell_type": "code",
   "execution_count": null,
   "metadata": {},
   "outputs": [],
   "source": [
    "df_tip_17 = pd.read_csv('../project3/data/yelp_dataset_2018/yelp_academic_dataset_tip.csv')\n",
    "df_business_17 = pd.read_csv('../project3/data/yelp_dataset_2018/yelp_academic_dataset_business.csv')"
   ]
  },
  {
   "cell_type": "code",
   "execution_count": null,
   "metadata": {},
   "outputs": [],
   "source": [
    "df_scope_tip_17 = scope_yelp_users.merge(df_tip_17, left_on='user_id', right_on='user_id').copy()"
   ]
  },
  {
   "cell_type": "code",
   "execution_count": null,
   "metadata": {},
   "outputs": [],
   "source": [
    "df_scope_tip_business_17 = df_scope_tip_17.merge(df_business_17, how='left', left_on='business_id', right_on='business_id').copy()"
   ]
  },
  {
   "cell_type": "code",
   "execution_count": null,
   "metadata": {},
   "outputs": [],
   "source": [
    "df_scope_review_business_17 = df_scope_review_17.merge(df_business_17, how='left', left_on='business_id', right_on='business_id').copy()"
   ]
  },
  {
   "cell_type": "code",
   "execution_count": null,
   "metadata": {},
   "outputs": [],
   "source": [
    "#allievate memory\n",
    "del [[df_business_17,df_tip_17,df_review_17]]\n",
    "gc.collect()"
   ]
  },
  {
   "cell_type": "code",
   "execution_count": null,
   "metadata": {},
   "outputs": [],
   "source": [
    "#df_scope_tip_business_18\n",
    "#df_scope_review_business_18\n",
    "#df_scope_user_18\n",
    "#df_scope_tip_business_17\n",
    "#df_scope_review_business_17\n",
    "#df_scope_user_17"
   ]
  },
  {
   "cell_type": "code",
   "execution_count": null,
   "metadata": {},
   "outputs": [],
   "source": [
    "#2017 RAW\n",
    "#df_review_17 = pd.read_csv('../project3/data/yelp_dataset_2018/yelp_academic_dataset_review.csv', nrows=1000)\n",
    "#df_user_17 = pd.read_csv('../project3/data/yelp_dataset_2018/yelp_academic_dataset_user.csv', nrows=1000)\n",
    "#df_tip_17 = pd.read_csv('../project3/data/yelp_dataset_2018/yelp_academic_dataset_tip.csv', nrows=1000)\n",
    "#df_business_17 = pd.read_csv('../project3/data/yelp_dataset_2018/yelp_academic_dataset_business.csv', nrows=1000)\n",
    "#df_checkin_17 = pd.read_csv('../project3/data/yelp_dataset_2018/yelp_academic_dataset_checkin.csv', nrows=1000)"
   ]
  },
  {
   "cell_type": "code",
   "execution_count": null,
   "metadata": {},
   "outputs": [],
   "source": [
    "#df_scope_tip_business_18\n",
    "#df_scope_review_business_18\n",
    "#df_scope_user_18"
   ]
  },
  {
   "cell_type": "code",
   "execution_count": null,
   "metadata": {},
   "outputs": [],
   "source": [
    "#engineer user 2018\n",
    "df_scope_user_18['friends'].replace('None',np.NaN,inplace=True)\n",
    "df_scope_user_18['num_friends'] = df_scope_user_18['friends'].map(lambda x: len([i.strip() for i in x.split(\",\")]) if pd.notnull(x) else None)\n",
    "df_scope_user_18['2018_elite_status'] = df_scope_user_18['elite'].str.contains('2018')\n",
    "df_scope_user_18['num_years_elite'] = df_scope_user_18['elite'].map(lambda x: len([i.strip() for i in str(x).split(\",\")]) if pd.notnull(x) else None)\n",
    "df_scope_user_18['elite'].fillna(0, inplace=True)\n",
    "df_scope_user_18['num_compliments'] = df_scope_user_18[['compliment_cool', 'compliment_cute', 'compliment_funny', 'compliment_hot', 'compliment_list', 'compliment_more', 'compliment_note', 'compliment_photos', 'compliment_plain', 'compliment_profile', 'compliment_writer']].sum(axis=1)\n",
    "df_scope_user_18['num_votes'] = df_scope_user_18[['cool','funny','useful']].sum(axis=1)\n",
    "df_scope_user_18['yelping_since'] = pd.to_datetime(df_scope_user_18['yelping_since'])\n",
    "end_date_18 = pd.to_datetime(\"12/31/2018\")\n",
    "df_scope_user_18['num_days_acct_created'] = (end_date_18-df_scope_user_18['yelping_since']).dt.days\n",
    "df_scope_user_18['num_years_elite'].fillna(0, inplace = True) \n"
   ]
  },
  {
   "cell_type": "code",
   "execution_count": null,
   "metadata": {},
   "outputs": [],
   "source": [
    "f_df_scope_user_18 = df_scope_user_18[['user_id', 'average_stars', 'fans', 'name', 'review_count','2018_elite_status', '2019_elite_status', 'num_friends', 'num_years_elite', 'num_compliments', 'num_votes', 'num_days_acct_created']]"
   ]
  },
  {
   "cell_type": "code",
   "execution_count": null,
   "metadata": {},
   "outputs": [],
   "source": [
    "#engineer user 2017\n",
    "df_scope_user_17['num_friends'] = df_scope_user_17['friends'].map(lambda x: len([i.strip() for i in x.split(\",\")]) if pd.notnull(x) else None)"
   ]
  },
  {
   "cell_type": "code",
   "execution_count": null,
   "metadata": {},
   "outputs": [],
   "source": [
    "#engineer user 2017\n",
    "df_scope_user_17['friends'].replace('None',np.NaN,inplace=True)\n",
    "df_scope_user_17['num_years_elite'] = df_scope_user_17['elite'].map(lambda x: len([i.strip() for i in str(x).split(\",\")]) if pd.notnull(x) and x != 'None' else 0)\n",
    "df_scope_user_17['num_compliments'] = df_scope_user_17[['compliment_cool', 'compliment_cute', 'compliment_funny', 'compliment_hot', 'compliment_list', 'compliment_more', 'compliment_note', 'compliment_photos', 'compliment_plain', 'compliment_profile', 'compliment_writer']].sum(axis=1)\n",
    "df_scope_user_17['num_votes'] = df_scope_user_17[['cool','funny','useful']].sum(axis=1)\n",
    "df_scope_user_17['yelping_since'] = pd.to_datetime(df_scope_user_17['yelping_since'])\n",
    "end_date_17 = pd.to_datetime(\"12/31/2017\")\n",
    "df_scope_user_17['num_days_acct_created'] = (end_date_17-df_scope_user_17['yelping_since']).dt.days\n",
    "df_scope_user_17['num_years_elite'].fillna(0, inplace = True) "
   ]
  },
  {
   "cell_type": "code",
   "execution_count": null,
   "metadata": {},
   "outputs": [],
   "source": [
    "f_df_scope_user_17 = df_scope_user_17[['user_id', 'average_stars', 'fans', 'name', 'review_count', 'num_friends', 'num_years_elite', 'num_compliments', 'num_votes', 'num_days_acct_created']]"
   ]
  },
  {
   "cell_type": "code",
   "execution_count": null,
   "metadata": {},
   "outputs": [],
   "source": [
    "df_scope_user_17_18 = f_df_scope_user_18.merge(f_df_scope_user_17, how='inner', left_on='user_id', right_on='user_id',suffixes=('_2018', '_2017')).copy()"
   ]
  },
  {
   "cell_type": "code",
   "execution_count": null,
   "metadata": {},
   "outputs": [],
   "source": [
    "full_df_scope_user_17_18 = df_scope_user_18.merge(df_scope_user_17, how='inner', left_on='user_id', right_on='user_id',suffixes=('_2018', '_2017')).copy()"
   ]
  },
  {
   "cell_type": "code",
   "execution_count": null,
   "metadata": {},
   "outputs": [],
   "source": [
    "df_scope_user_17_18 = df_scope_user_17_18.reindex(sorted(df_scope_user_17_18.columns), axis=1)"
   ]
  },
  {
   "cell_type": "code",
   "execution_count": null,
   "metadata": {},
   "outputs": [],
   "source": [
    "#SET FEATURES\n",
    "df_scope_user_17_18['2019_elite_status'].fillna(False, inplace=True)\n"
   ]
  }
 ],
 "metadata": {
  "kernelspec": {
   "display_name": "Python 3",
   "language": "python",
   "name": "python3"
  },
  "language_info": {
   "codemirror_mode": {
    "name": "ipython",
    "version": 3
   },
   "file_extension": ".py",
   "mimetype": "text/x-python",
   "name": "python",
   "nbconvert_exporter": "python",
   "pygments_lexer": "ipython3",
   "version": "3.7.5"
  }
 },
 "nbformat": 4,
 "nbformat_minor": 2
}

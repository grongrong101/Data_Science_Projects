{
 "cells": [
  {
   "cell_type": "code",
   "execution_count": 1,
   "metadata": {},
   "outputs": [],
   "source": [
    "import pandas as pd\n",
    "import argparse\n",
    "import collections\n",
    "import csv\n",
    "import simplejson as json\n",
    "import random\n",
    "import gc\n",
    "import os\n",
    "import glob\n",
    "import numpy as np\n",
    "import re\n",
    "import datetime as dt\n",
    "import matplotlib.pyplot as plt\n",
    "import seaborn as sns\n",
    "from sklearn.naive_bayes import BernoulliNB, MultinomialNB, GaussianNB\n",
    "from sklearn.linear_model import LogisticRegression\n",
    "from sklearn.model_selection import train_test_split\n",
    "from sklearn.metrics import precision_score, recall_score, accuracy_score, roc_auc_score, f1_score\n",
    "from sklearn.metrics import confusion_matrix\n",
    "from sklearn.preprocessing import StandardScaler\n",
    "from sklearn.metrics import precision_score, recall_score, precision_recall_curve,f1_score, fbeta_score\n",
    "pd.set_option('display.max_columns', 100)\n",
    "pd.set_option('display.width', 500)\n",
    "pd.set_option(\"display.max_rows\", 100)\n",
    "pd.set_option('display.max_colwidth', -1)\n",
    "#pd.set_option('display.max_colwidth', 0)\n",
    "\n",
    "import xgboost as xgb\n",
    "from sklearn.ensemble import GradientBoostingRegressor\n",
    "from sklearn.metrics import r2_score\n",
    "from sklearn.ensemble import RandomForestClassifier\n",
    "from sklearn.tree import DecisionTreeClassifier\n",
    "from sklearn.svm import LinearSVC\n",
    "\n",
    "from sklearn.neighbors import KNeighborsClassifier\n",
    "from sklearn import metrics\n",
    "from sklearn.metrics import accuracy_score, confusion_matrix\n",
    "#os.chdir(\"../project3/data/yelp_dataset_2020/selected/Round_3\")\n",
    "#os.chdir(os.getcwd())\n",
    "\n",
    "#DO NOT RUN\n",
    "#extension = 'csv'\n",
    "#all_filenames = [i for i in glob.glob('*.{}'.format(extension))]\n",
    "#df_scope_elite_19 = pd.concat([pd.read_csv(f, names=['user_id','elite_status']) for f in all_filenames ])\n",
    "##export to csv\n",
    "#df_scope_elite_19.to_csv( \"yelp_selected_elites.csv\", index=False, encoding='utf-8-sig')"
   ]
  },
  {
   "cell_type": "code",
   "execution_count": 2,
   "metadata": {},
   "outputs": [],
   "source": [
    "def print_confusion_matrix(confusion_matrix, class_names, figsize = (10,7), fontsize=18):\n",
    "    \"\"\"Prints a confusion matrix, as returned by sklearn.metrics.confusion_matrix, as a heatmap.\n",
    "    \n",
    "    Arguments\n",
    "    ---------\n",
    "    confusion_matrix: numpy.ndarray\n",
    "        The numpy.ndarray object returned from a call to sklearn.metrics.confusion_matrix. \n",
    "        Similarly constructed ndarrays can also be used.\n",
    "    class_names: list\n",
    "        An ordered list of class names, in the order they index the given confusion matrix.\n",
    "    figsize: tuple\n",
    "        A 2-long tuple, the first value determining the horizontal size of the ouputted figure,\n",
    "        the second determining the vertical size. Defaults to (10,7).\n",
    "    fontsize: int\n",
    "        Font size for axes labels. Defaults to 14.\n",
    "        \n",
    "    Returns\n",
    "    -------\n",
    "    matplotlib.figure.Figure\n",
    "        The resulting confusion matrix figure\n",
    "    \"\"\"\n",
    "    df_cm = pd.DataFrame(confusion_matrix, index=class_names, columns=class_names, )\n",
    "    fig = plt.figure(figsize=figsize)\n",
    "    try:\n",
    "        heatmap = sns.heatmap(df_cm, annot=True, fmt=\"d\")\n",
    "    except ValueError:\n",
    "        raise ValueError(\"Confusion matrix values must be integers.\")\n",
    "    heatmap.yaxis.set_ticklabels(heatmap.yaxis.get_ticklabels(), rotation=0, ha='right', fontsize=fontsize)\n",
    "    heatmap.xaxis.set_ticklabels(heatmap.xaxis.get_ticklabels(), rotation=45, ha='right', fontsize=fontsize)\n",
    "    plt.ylabel('True label')\n",
    "    plt.xlabel('Predicted label')\n",
    "    return fig"
   ]
  },
  {
   "cell_type": "code",
   "execution_count": null,
   "metadata": {},
   "outputs": [],
   "source": [
    "#Randomly Sampled -200000 Users are in both 2017,2018 data or in 2018 but started yelping in 2018\n",
    "fin_test_yelp_users = pd.read_csv('../project3/groups/fin_test_users.csv')\n",
    "positive_yelp_users = pd.read_csv('../project3/groups/positive_users.csv',)\n",
    "sample_yelp_users = pd.read_csv('../project3/groups/sample_users.csv')\n",
    "\n",
    "fin_test_yelp_users['group'] = 'fin_test_yelp_users'\n",
    "positive_yelp_users['group'] = 'positive_yelp_users'\n",
    "sample_yelp_users['group'] = 'sample_yelp_users'\n",
    "\n",
    "scope_yelp_users = fin_test_yelp_users.append([positive_yelp_users, sample_yelp_users])"
   ]
  },
  {
   "cell_type": "code",
   "execution_count": null,
   "metadata": {},
   "outputs": [],
   "source": [
    "df_user_18 = pd.read_csv('../project3/data/yelp_dataset_2019/user.csv')\n",
    "df_user_18 = df_user_18.reindex(sorted(df_user_18.columns), axis=1)\n",
    "df_user_18.drop_duplicates(keep=False,inplace=True) \n",
    "df_scope_user_18 = scope_yelp_users.merge(df_user_18, left_on='user_id', right_on='user_id').copy()\n",
    "\n",
    "#del [[df_user_18]]\n",
    "#gc.collect()"
   ]
  },
  {
   "cell_type": "code",
   "execution_count": null,
   "metadata": {},
   "outputs": [],
   "source": [
    "df_scope_user_18['2018_elite_status'] = df_scope_user_18['elite'].str.contains('2018')\n",
    "df_scope_user_18['2018_elite_status'].fillna(False, inplace = True)"
   ]
  },
  {
   "cell_type": "code",
   "execution_count": null,
   "metadata": {},
   "outputs": [],
   "source": [
    "df_user_18['2018_elite_status'] = df_scope_user_18['elite'].str.contains('2018')\n",
    "df_user_18['2018_elite_status'].fillna(False, inplace = True)"
   ]
  },
  {
   "cell_type": "code",
   "execution_count": null,
   "metadata": {},
   "outputs": [],
   "source": [
    "elite_user_18 = df_user_18[['user_id', '2018_elite_status']]\n",
    "elite_user_18.set_index('user_id', inplace = True)\n",
    "elite_user_18_dict = elite_user_18.to_dict()['2018_elite_status']\n",
    "\n",
    "\n",
    "def get_num_18_elite_friends(flist):\n",
    "    try:\n",
    "        return sum(map(lambda x: elite_user_18_dict[x], flist))\n",
    "    except:\n",
    "        return 0"
   ]
  },
  {
   "cell_type": "code",
   "execution_count": null,
   "metadata": {},
   "outputs": [],
   "source": [
    "df_scope_user_18['friends'] = df_scope_user_18['friends'].apply(lambda x: [i.strip() for i in x.split(',')])\n",
    "df_scope_user_18['num_2018_elite_friends'] = df_scope_user_18['friends'].apply(get_num_18_elite_friends)\n"
   ]
  },
  {
   "cell_type": "code",
   "execution_count": null,
   "metadata": {},
   "outputs": [],
   "source": [
    "df_scope_user_18['num_2018_elite_friends'].fillna(0, inplace = True)"
   ]
  },
  {
   "cell_type": "code",
   "execution_count": null,
   "metadata": {},
   "outputs": [],
   "source": [
    "df_user_18['elite_status'] = df_scope_user_18['elite'].notnull()\n",
    "elite_user = df_user_18[['user_id', 'elite_status']]\n",
    "elite_user.set_index('user_id', inplace = True)\n",
    "elite_user_dict = elite_user.to_dict()['elite_status']\n",
    "\n",
    "\n",
    "def get_num_elite_friends(flist):\n",
    "    try:\n",
    "        return sum(map(lambda x: elite_user_dict[x], flist))\n",
    "    except:\n",
    "        return 0"
   ]
  },
  {
   "cell_type": "code",
   "execution_count": null,
   "metadata": {},
   "outputs": [],
   "source": [
    "df_scope_user_18['num_elite_friends'] = df_scope_user_18['friends'].apply(get_num_elite_friends)"
   ]
  },
  {
   "cell_type": "code",
   "execution_count": null,
   "metadata": {},
   "outputs": [],
   "source": [
    "df_scope_user_18['num_elite_friends'].fillna(0, inplace = True)"
   ]
  },
  {
   "cell_type": "code",
   "execution_count": null,
   "metadata": {},
   "outputs": [],
   "source": [
    "#DEFINTE SELECTED ELITES - not predicting 2019\n",
    "#df_scope_elite_19 = pd.read_csv('../project3/data/yelp_dataset_2020/selected/Round_3/yelp_selected_elites.csv')\n",
    "#df_scope_elite_19['2019_elite_status'] = df_scope_elite_19['elite_status'].str.contains('19')\n",
    "#df_scope_user_18 = df_scope_user_18.merge(df_scope_elite_19, left_on='user_id', right_on='user_id').copy()\n",
    "\n",
    "#del [[df_scope_elite_19]]\n",
    "#gc.collect()"
   ]
  },
  {
   "cell_type": "code",
   "execution_count": null,
   "metadata": {},
   "outputs": [],
   "source": [
    "df_scope_review_18 = pd.read_csv('../project3/2018_review.csv')"
   ]
  },
  {
   "cell_type": "code",
   "execution_count": null,
   "metadata": {},
   "outputs": [],
   "source": [
    "#2018 RAW\n",
    "#df_review_18 = pd.read_csv('../project3/data/yelp_dataset_2019/review.csv')\n",
    "#df_review_18 = df_review_18.reindex(sorted(df_review_18.columns), axis=1)\n",
    "#df_scope_review_18 = scope_yelp_users.merge(df_review_18, left_on='user_id', right_on='user_id').copy()\n",
    "\n",
    "#del [[df_review_18]]\n",
    "#gc.collect()"
   ]
  },
  {
   "cell_type": "code",
   "execution_count": null,
   "metadata": {},
   "outputs": [],
   "source": [
    "df_scope_review_18.to_csv('../project3/2018_review.csv', index=False, encoding='utf-8-sig')"
   ]
  },
  {
   "cell_type": "code",
   "execution_count": null,
   "metadata": {},
   "outputs": [],
   "source": [
    "df_tip_18 = pd.read_csv('../project3/data/yelp_dataset_2019/tip.csv')\n",
    "df_tip_18 = df_tip_18.reindex(sorted(df_tip_18.columns), axis=1)\n",
    "df_scope_tip_18 = scope_yelp_users.merge(df_tip_18, left_on='user_id', right_on='user_id').copy()\n",
    "\n",
    "del [[df_tip_18]]\n",
    "gc.collect()"
   ]
  },
  {
   "cell_type": "code",
   "execution_count": null,
   "metadata": {},
   "outputs": [],
   "source": [
    "df_business_18 = pd.read_csv('../project3/data/yelp_dataset_2019/business.csv')\n",
    "df_scope_tip_business_18 = df_scope_tip_18.merge(df_business_18, how='left', left_on='business_id', right_on='business_id').copy()\n",
    "df_scope_review_business_18 = df_scope_review_18.merge(df_business_18, how='left', left_on='business_id', right_on='business_id', suffixes=('_review', '_business')).copy()\n",
    "\n",
    "del [[df_business_18]]\n",
    "gc.collect()\n"
   ]
  },
  {
   "cell_type": "code",
   "execution_count": null,
   "metadata": {},
   "outputs": [],
   "source": [
    "#2017 Yelp Processing\n",
    "df_user_17 = pd.read_csv('../project3/data/yelp_dataset_2018/yelp_academic_dataset_user.csv')\n",
    "df_user_17 = df_user_17.reindex(sorted(df_user_17.columns), axis=1)\n",
    "df_user_17.drop_duplicates(keep=False,inplace=True) \n",
    "df_scope_user_17 = scope_yelp_users.merge(df_user_17,how='left', left_on='user_id', right_on='user_id').copy()\n",
    "\n",
    "del [[df_user_17]]\n",
    "gc.collect()"
   ]
  },
  {
   "cell_type": "code",
   "execution_count": null,
   "metadata": {},
   "outputs": [],
   "source": [
    "df_scope_review_17 = pd.read_csv('../project3/2017_review.csv')"
   ]
  },
  {
   "cell_type": "code",
   "execution_count": null,
   "metadata": {},
   "outputs": [],
   "source": [
    "#df_review_17 = pd.read_csv('../project3/data/yelp_dataset_2018/yelp_academic_dataset_review.csv')\n",
    "#df_scope_review_17 = scope_yelp_users.merge(df_review_17, left_on='user_id', right_on='user_id').copy()\n",
    "\n",
    "#del [[df_review_17]]\n",
    "#gc.collect()"
   ]
  },
  {
   "cell_type": "code",
   "execution_count": null,
   "metadata": {},
   "outputs": [],
   "source": [
    "#df_scope_review_17.to_csv('../project3/2017_review.csv', index=False, encoding='utf-8-sig')"
   ]
  },
  {
   "cell_type": "code",
   "execution_count": null,
   "metadata": {},
   "outputs": [],
   "source": [
    "df_tip_17 = pd.read_csv('../project3/data/yelp_dataset_2018/yelp_academic_dataset_tip.csv')\n",
    "df_scope_tip_17 = scope_yelp_users.merge(df_tip_17, left_on='user_id', right_on='user_id').copy()\n",
    "\n",
    "del [[df_tip_17]]\n",
    "gc.collect()"
   ]
  },
  {
   "cell_type": "code",
   "execution_count": null,
   "metadata": {},
   "outputs": [],
   "source": [
    "df_business_17 = pd.read_csv('../project3/data/yelp_dataset_2018/yelp_academic_dataset_business.csv')\n",
    "df_scope_tip_business_17 = df_scope_tip_17.merge(df_business_17, how='left', left_on='business_id', right_on='business_id').copy()\n",
    "df_scope_review_business_17 = df_scope_review_17.merge(df_business_17, how='left', left_on='business_id', right_on='business_id',suffixes=('_review', '_business')).copy()\n",
    "\n",
    "del [[df_business_17]]\n",
    "gc.collect()"
   ]
  },
  {
   "cell_type": "code",
   "execution_count": null,
   "metadata": {},
   "outputs": [],
   "source": [
    "df_scope_review_business_17"
   ]
  },
  {
   "cell_type": "code",
   "execution_count": null,
   "metadata": {},
   "outputs": [],
   "source": [
    "#df_scope_tip_business_18\n",
    "#df_scope_review_business_18\n",
    "#df_scope_user_18\n",
    "#df_scope_tip_business_17\n",
    "#df_scope_review_business_17\n",
    "#df_scope_user_17"
   ]
  },
  {
   "cell_type": "code",
   "execution_count": null,
   "metadata": {},
   "outputs": [],
   "source": [
    "#2017 RAW\n",
    "#df_review_17 = pd.read_csv('../project3/data/yelp_dataset_2018/yelp_academic_dataset_review.csv', nrows=1000)\n",
    "#df_user_17 = pd.read_csv('../project3/data/yelp_dataset_2018/yelp_academic_dataset_user.csv', nrows=1000)\n",
    "#df_tip_17 = pd.read_csv('../project3/data/yelp_dataset_2018/yelp_academic_dataset_tip.csv', nrows=1000)\n",
    "#df_business_17 = pd.read_csv('../project3/data/yelp_dataset_2018/yelp_academic_dataset_business.csv', nrows=1000)\n",
    "#df_checkin_17 = pd.read_csv('../project3/data/yelp_dataset_2018/yelp_academic_dataset_checkin.csv', nrows=1000)"
   ]
  },
  {
   "cell_type": "code",
   "execution_count": null,
   "metadata": {},
   "outputs": [],
   "source": [
    "#df_scope_tip_business_18\n",
    "#df_scope_review_business_18\n",
    "#df_scope_user_18"
   ]
  },
  {
   "cell_type": "code",
   "execution_count": null,
   "metadata": {},
   "outputs": [],
   "source": [
    "df_scope_tip_18['date'] = pd.to_datetime(df_scope_tip_18['date']) \n",
    "df_scope_tip_17_18 = df_scope_tip_18[(df_scope_tip_18['date'].dt.year == 2018) | (df_scope_tip_18['date'].dt.year == 2017)]\n",
    "df_scope_tip_17_18['count_words'] = df_scope_tip_17_18['text'].apply(lambda x: len(str(x).split(' ')))\n",
    "df_scope_tip_17_18['count_chars'] = df_scope_tip_17_18['text'].str.len()\n",
    "\n",
    "\n",
    "grouped_df_scope_tip_17_18 = df_scope_tip_17_18.groupby([df_scope_tip_17_18['date'].dt.year, df_scope_tip_17_18['user_id']]) \\\n",
    "       .agg({'compliment_count':'sum', 'count_words':'mean','count_chars':'mean'}) \\\n",
    "       .rename(columns={'compliment_count':'num_compliment','count_words':'mean_compliment_num_word','count_chars':'mean_compliment_num_chars'}) \\\n",
    "       .reset_index() \\\n",
    "       .sort_values(['user_id','date'],ascending=False)\n"
   ]
  },
  {
   "cell_type": "code",
   "execution_count": null,
   "metadata": {},
   "outputs": [],
   "source": [
    "flat_grouped_df_scope_tip_17_18 = grouped_df_scope_tip_17_18.pivot(index='user_id',\\\n",
    "                                                                                           columns='date'\n",
    "                                                                                          ).reset_index()\n",
    "flat_grouped_df_scope_tip_17_18.columns = flat_grouped_df_scope_tip_17_18.columns.map('{0[0]}_{0[1]}'.format) "
   ]
  },
  {
   "cell_type": "code",
   "execution_count": null,
   "metadata": {},
   "outputs": [],
   "source": [
    "flat_grouped_df_scope_tip_17_18.rename(columns={'user_id_':'user_id'}, inplace=True)\n",
    "flat_grouped_df_scope_tip_17_18.fillna(0, inplace=True)"
   ]
  },
  {
   "cell_type": "code",
   "execution_count": null,
   "metadata": {},
   "outputs": [],
   "source": [
    "#flat_grouped_df_scope_tip_17_18.to_csv('../project3/flat_grouped_df_scope_tip_17_18.csv', index=False, encoding='utf-8-sig')\n",
    "\n",
    "flat_grouped_df_scope_tip_17_18 = pd.read_csv('../project3/flat_grouped_df_scope_tip_17_18.csv)\n",
    "\n"
   ]
  },
  {
   "cell_type": "code",
   "execution_count": null,
   "metadata": {},
   "outputs": [],
   "source": [
    "flat_grouped_df_scope_tip_17_18"
   ]
  },
  {
   "cell_type": "code",
   "execution_count": null,
   "metadata": {},
   "outputs": [],
   "source": [
    "#engineer reviews 2018\n",
    "df_scope_review_business_18['date'] = pd.to_datetime(df_scope_review_business_18['date']) \n",
    "df_scope_review_business_18['count_words'] = df_scope_review_business_18['text'].apply(lambda x: len(str(x).split(' ')))\n",
    "df_scope_review_business_18['count_chars'] = df_scope_review_business_18['text'].str.len()\n",
    "df_scope_review_business_18['user_to_mean_variance'] = (df_scope_review_business_18['stars_business'] - df_scope_review_business_18['stars_review'])**2\n",
    "df_scope_review_business_18['categories'] = df_scope_review_business_18['categories'].astype(str)\n",
    "\n"
   ]
  },
  {
   "cell_type": "code",
   "execution_count": null,
   "metadata": {},
   "outputs": [],
   "source": [
    "df_scope_review_business_17_18 = df_scope_review_business_18[(df_scope_review_business_18['date'].dt.year == 2018) | (df_scope_review_business_18['date'].dt.year == 2017)]\n"
   ]
  },
  {
   "cell_type": "code",
   "execution_count": null,
   "metadata": {},
   "outputs": [],
   "source": [
    "grouped_df_scope_review_business_17_18 = df_scope_review_business_17_18.groupby([df_scope_review_business_17_18['date'].dt.year,df_scope_review_business_17_18['user_id']]) \\\n",
    "       .agg({'review_id':'count', 'count_words':'mean','count_chars':'mean', 'user_to_mean_variance': 'mean',\\\n",
    "             'categories': ','.join}) \\\n",
    "       .rename(columns={'review_id':'num_reviews','count_words':'mean_review_num_word','count_chars':'mean_review_num_chars',\\\n",
    "                        'user_to_mean_variance':'mean_review_varience', 'categories': 'unique_categories'}) \\\n",
    "       .reset_index() \\\n",
    "       .sort_values(['user_id','date'],ascending=False)\n"
   ]
  },
  {
   "cell_type": "code",
   "execution_count": null,
   "metadata": {},
   "outputs": [],
   "source": [
    "flat_grouped_df_scope_review_business_17_18 = grouped_df_scope_review_business_17_18.pivot(index='user_id',\\\n",
    "                                                                                           columns='date'\n",
    "                                                                                          ).reset_index()\n",
    "flat_grouped_df_scope_review_business_17_18.columns = flat_grouped_df_scope_review_business_17_18.columns.map('{0[0]}_{0[1]}'.format) "
   ]
  },
  {
   "cell_type": "code",
   "execution_count": null,
   "metadata": {},
   "outputs": [],
   "source": [
    "flat_grouped_df_scope_review_business_17_18.rename(columns={'user_id_':'user_id'}, inplace=True)\n",
    "#flat_grouped_df_scope_review_business_17_18.fillna(0, inplace = True)\n",
    "#flat_grouped_df_scope_review_business_17_18\n",
    "flat_grouped_df_scope_review_business_17_18['unique_categories_2018']=flat_grouped_df_scope_review_business_17_18['unique_categories_2018'].\\\n",
    "apply(lambda x: len(np.unique(np.array([i.strip() for i in x.split(\",\")]))) if pd.notnull(x) else None\n",
    "     )\n",
    "flat_grouped_df_scope_review_business_17_18['unique_categories_2017']=flat_grouped_df_scope_review_business_17_18['unique_categories_2017'].\\\n",
    "apply(lambda x: len(np.unique(np.array([i.strip() for i in x.split(\",\")]))) if pd.notnull(x) else None\n",
    "     )\n",
    "flat_grouped_df_scope_review_business_17_18.fillna(0, inplace = True)\n"
   ]
  },
  {
   "cell_type": "code",
   "execution_count": null,
   "metadata": {},
   "outputs": [],
   "source": [
    "#flat_grouped_df_scope_review_business_17_18.to_csv('../project3/flat_grouped_df_scope_review_business_17_18.csv', index=False, encoding='utf-8-sig')\n",
    "\n",
    "flat_grouped_df_scope_review_business_17_18 = pd.read_csv('../project3/flat_grouped_df_scope_review_business_17_18.csv)\n",
    "\n"
   ]
  },
  {
   "cell_type": "code",
   "execution_count": null,
   "metadata": {},
   "outputs": [],
   "source": [
    "#df_scope_user_18['friends'].map(lambda x: len([i.strip() for i in x.split(\",\")]) if pd.notnull(x) else None)\n",
    "#map(lambda x: len([i.strip() for i in str(x).split(\",\")]) if pd.notnull(x) else None)\n",
    "df_scope_user_18['friends'].replace('None',np.NaN,inplace=True)\n",
    "\n",
    "def sum_friends(flist):\n",
    "    try:\n",
    "        return sum(map(lambda x: 1 if str(x) != 'None' or str(x) != NaN else 0, flist))\n",
    "    except:\n",
    "        return 0\n",
    "\n",
    "df_scope_user_18['num_friends'] = df_scope_user_18['friends'].apply(sum_friends)\n",
    "    "
   ]
  },
  {
   "cell_type": "code",
   "execution_count": null,
   "metadata": {},
   "outputs": [],
   "source": [
    "#engineer user 2018\n",
    "df_scope_user_18['friends'].replace('None',np.NaN,inplace=True)\n",
    "df_scope_user_18['2017_elite_status'] = df_scope_user_18['elite'].str.contains('2017')\n",
    "df_scope_user_18['num_years_elite'] = df_scope_user_18['elite'].map(lambda x: len([i.strip() for i in str(x).split(\",\")]) if pd.notnull(x) else None)\n",
    "#df_scope_user_18['elite'].fillna(0, inplace=True)\n",
    "df_scope_user_18['num_compliments'] = df_scope_user_18[['compliment_cool', 'compliment_cute', 'compliment_funny', 'compliment_hot', 'compliment_list', 'compliment_more', 'compliment_note', 'compliment_photos', 'compliment_plain', 'compliment_profile', 'compliment_writer']].sum(axis=1)\n",
    "df_scope_user_18['num_votes'] = df_scope_user_18[['cool','funny','useful']].sum(axis=1)\n",
    "df_scope_user_18['yelping_since'] = pd.to_datetime(df_scope_user_18['yelping_since'])\n",
    "end_date_18 = pd.to_datetime(\"12/31/2018\")\n",
    "df_scope_user_18['num_days_acct_created'] = (end_date_18-df_scope_user_18['yelping_since']).dt.days\n",
    "df_scope_user_18['num_years_elite'].fillna(0, inplace = True) \n",
    "df_scope_user_18['2017_elite_status'].fillna(False, inplace = True)\n",
    "#df_scope_user_18['2017_elite_status'] = df_scope_user_18['2017_elite_status'].astype(int)\n",
    "\n",
    "\n",
    "\n"
   ]
  },
  {
   "cell_type": "code",
   "execution_count": null,
   "metadata": {},
   "outputs": [],
   "source": [
    "df_scope_user_17\n"
   ]
  },
  {
   "cell_type": "code",
   "execution_count": null,
   "metadata": {},
   "outputs": [],
   "source": [
    "#engineer user 2017\n",
    "df_scope_user_17['num_friends'] = df_scope_user_17['friends'].map(lambda x: len([i.strip() for i in x.split(\",\")]) if pd.notnull(x) else None)\n",
    "df_scope_user_17['friends'].replace('None',np.NaN,inplace=True)\n",
    "df_scope_user_17['num_years_elite'] = df_scope_user_17['elite'].map(lambda x: len([i.strip() for i in str(x).split(\",\")]) if pd.notnull(x) and x != 'None' else 0)\n",
    "df_scope_user_17['num_compliments'] = df_scope_user_17[['compliment_cool', 'compliment_cute', 'compliment_funny', 'compliment_hot', 'compliment_list', 'compliment_more', 'compliment_note', 'compliment_photos', 'compliment_plain', 'compliment_profile', 'compliment_writer']].sum(axis=1)\n",
    "df_scope_user_17['num_votes'] = df_scope_user_17[['cool','funny','useful']].sum(axis=1)\n",
    "end_date_17 = pd.to_datetime(\"12/31/2017\")\n",
    "df_scope_user_17['num_years_elite'].fillna(0, inplace = True) \n",
    "\n"
   ]
  },
  {
   "cell_type": "code",
   "execution_count": null,
   "metadata": {},
   "outputs": [],
   "source": [
    "df_scope_user_17_18 = df_scope_user_18.merge(df_scope_user_17, how='inner', left_on='user_id', right_on='user_id',suffixes=('_data_2018', '_data_2017')).copy()\n",
    "df_scope_user_17_18 = df_scope_user_17_18.merge(flat_grouped_df_scope_review_business_17_18, how='left', left_on='user_id', right_on='user_id')\n",
    "df_scope_user_17_18 = df_scope_user_17_18.merge(flat_grouped_df_scope_tip_17_18, how='left', left_on='user_id', right_on='user_id', suffixes=('', '_datatip'))\n",
    "df_scope_user_17_18 = df_scope_user_17_18.reindex(sorted(df_scope_user_17_18.columns), axis=1)\n",
    "\n"
   ]
  },
  {
   "cell_type": "code",
   "execution_count": 3,
   "metadata": {},
   "outputs": [],
   "source": [
    "#df_scope_user_17_18.to_csv('../project3/df_scope_user_17_18.csv', index=False, encoding='utf-8-sig')\n",
    "\n",
    "df_scope_user_17_18 = pd.read_csv('../project3/df_scope_user_17_18.csv')\n",
    "\n"
   ]
  },
  {
   "cell_type": "code",
   "execution_count": 4,
   "metadata": {},
   "outputs": [],
   "source": [
    "#SET FEATURES for LOG (No Nulls Allowed)\n",
    "#df_scope_user_17_18['2019_elite_status'].fillna(False, inplace=True)\n",
    "df_scope_user_17_18['num_votes_delta'] = df_scope_user_17_18['num_votes_data_2018'] - df_scope_user_17_18['num_votes_data_2017']\n",
    "df_scope_user_17_18['num_compliments_delta'] = df_scope_user_17_18['num_compliments_data_2018'] - df_scope_user_17_18['num_compliments_data_2017']\n",
    "df_scope_user_17_18['num_friends_delta'] = df_scope_user_17_18['num_friends_data_2018'] - df_scope_user_17_18['num_friends_data_2017']\n",
    "df_scope_user_17_18['review_count_delta'] = df_scope_user_17_18['review_count_data_2018'] - df_scope_user_17_18['review_count_data_2017']\n",
    "df_scope_user_17_18['fans_delta'] = df_scope_user_17_18['fans_data_2018'] - df_scope_user_17_18['fans_data_2017']\n",
    "\n",
    "#df_scope_user_17_18['_delta'] = df_scope_user_17_18['_2018'] - df_scope_user_17_18['_2017']\n",
    "\n"
   ]
  },
  {
   "cell_type": "code",
   "execution_count": 5,
   "metadata": {},
   "outputs": [],
   "source": [
    "df = df_scope_user_17_18"
   ]
  },
  {
   "cell_type": "code",
   "execution_count": null,
   "metadata": {},
   "outputs": [],
   "source": [
    "df[df['group_data_2018'] == 'fin_test_yelp_users']"
   ]
  },
  {
   "cell_type": "code",
   "execution_count": 80,
   "metadata": {},
   "outputs": [
    {
     "data": {
      "text/html": [
       "<div>\n",
       "<style scoped>\n",
       "    .dataframe tbody tr th:only-of-type {\n",
       "        vertical-align: middle;\n",
       "    }\n",
       "\n",
       "    .dataframe tbody tr th {\n",
       "        vertical-align: top;\n",
       "    }\n",
       "\n",
       "    .dataframe thead th {\n",
       "        text-align: right;\n",
       "    }\n",
       "</style>\n",
       "<table border=\"1\" class=\"dataframe\">\n",
       "  <thead>\n",
       "    <tr style=\"text-align: right;\">\n",
       "      <th></th>\n",
       "      <th>2017_elite_status</th>\n",
       "      <th>2018_elite_status</th>\n",
       "      <th>average_stars_data_2017</th>\n",
       "      <th>average_stars_data_2018</th>\n",
       "      <th>compliment_cool_data_2017</th>\n",
       "      <th>compliment_cool_data_2018</th>\n",
       "      <th>compliment_cute_data_2017</th>\n",
       "      <th>compliment_cute_data_2018</th>\n",
       "      <th>compliment_funny_data_2017</th>\n",
       "      <th>compliment_funny_data_2018</th>\n",
       "      <th>compliment_hot_data_2017</th>\n",
       "      <th>compliment_hot_data_2018</th>\n",
       "      <th>compliment_list_data_2017</th>\n",
       "      <th>compliment_list_data_2018</th>\n",
       "      <th>compliment_more_data_2017</th>\n",
       "      <th>compliment_more_data_2018</th>\n",
       "      <th>compliment_note_data_2017</th>\n",
       "      <th>compliment_note_data_2018</th>\n",
       "      <th>compliment_photos_data_2017</th>\n",
       "      <th>compliment_photos_data_2018</th>\n",
       "      <th>compliment_plain_data_2017</th>\n",
       "      <th>compliment_plain_data_2018</th>\n",
       "      <th>compliment_profile_data_2017</th>\n",
       "      <th>compliment_profile_data_2018</th>\n",
       "      <th>compliment_writer_data_2017</th>\n",
       "      <th>compliment_writer_data_2018</th>\n",
       "      <th>cool_data_2017</th>\n",
       "      <th>cool_data_2018</th>\n",
       "      <th>elite_data_2017</th>\n",
       "      <th>elite_data_2018</th>\n",
       "      <th>fans_data_2017</th>\n",
       "      <th>fans_data_2018</th>\n",
       "      <th>friends_data_2017</th>\n",
       "      <th>friends_data_2018</th>\n",
       "      <th>funny_data_2017</th>\n",
       "      <th>funny_data_2018</th>\n",
       "      <th>group_data_2017</th>\n",
       "      <th>group_data_2018</th>\n",
       "      <th>mean_compliment_num_chars_2017</th>\n",
       "      <th>mean_compliment_num_chars_2018</th>\n",
       "      <th>mean_compliment_num_word_2017</th>\n",
       "      <th>mean_compliment_num_word_2018</th>\n",
       "      <th>mean_review_num_chars_2017</th>\n",
       "      <th>mean_review_num_chars_2018</th>\n",
       "      <th>mean_review_num_word_2017</th>\n",
       "      <th>mean_review_num_word_2018</th>\n",
       "      <th>mean_review_varience_2017</th>\n",
       "      <th>mean_review_varience_2018</th>\n",
       "      <th>name_data_2017</th>\n",
       "      <th>name_data_2018</th>\n",
       "      <th>num_2018_elite_friends</th>\n",
       "      <th>num_compliment_2017</th>\n",
       "      <th>num_compliment_2018</th>\n",
       "      <th>num_compliments_data_2017</th>\n",
       "      <th>num_compliments_data_2018</th>\n",
       "      <th>num_days_acct_created</th>\n",
       "      <th>num_elite_friends</th>\n",
       "      <th>num_friends_data_2017</th>\n",
       "      <th>num_friends_data_2018</th>\n",
       "      <th>num_reviews_2017</th>\n",
       "      <th>num_reviews_2018</th>\n",
       "      <th>num_votes_data_2017</th>\n",
       "      <th>num_votes_data_2018</th>\n",
       "      <th>num_years_elite_data_2017</th>\n",
       "      <th>num_years_elite_data_2018</th>\n",
       "      <th>review_count_data_2017</th>\n",
       "      <th>review_count_data_2018</th>\n",
       "      <th>unique_categories_2017</th>\n",
       "      <th>unique_categories_2018</th>\n",
       "      <th>useful_data_2017</th>\n",
       "      <th>useful_data_2018</th>\n",
       "      <th>user_id</th>\n",
       "      <th>yelping_since_data_2017</th>\n",
       "      <th>yelping_since_data_2018</th>\n",
       "      <th>num_votes_delta</th>\n",
       "      <th>num_compliments_delta</th>\n",
       "      <th>num_friends_delta</th>\n",
       "      <th>review_count_delta</th>\n",
       "      <th>fans_delta</th>\n",
       "    </tr>\n",
       "  </thead>\n",
       "  <tbody>\n",
       "    <tr>\n",
       "      <th>24314</th>\n",
       "      <td>True</td>\n",
       "      <td>True</td>\n",
       "      <td>4.54</td>\n",
       "      <td>4.59</td>\n",
       "      <td>3848.0</td>\n",
       "      <td>5242</td>\n",
       "      <td>113.0</td>\n",
       "      <td>142</td>\n",
       "      <td>3848.0</td>\n",
       "      <td>5242</td>\n",
       "      <td>2331.0</td>\n",
       "      <td>3236</td>\n",
       "      <td>46.0</td>\n",
       "      <td>70</td>\n",
       "      <td>78.0</td>\n",
       "      <td>109</td>\n",
       "      <td>830.0</td>\n",
       "      <td>1256</td>\n",
       "      <td>2874.0</td>\n",
       "      <td>4329</td>\n",
       "      <td>2879.0</td>\n",
       "      <td>3869</td>\n",
       "      <td>105.0</td>\n",
       "      <td>185</td>\n",
       "      <td>586.0</td>\n",
       "      <td>863</td>\n",
       "      <td>78040.0</td>\n",
       "      <td>31895</td>\n",
       "      <td>2016, 2015, 2017</td>\n",
       "      <td>2015,2016,2017,2018</td>\n",
       "      <td>433.0</td>\n",
       "      <td>861</td>\n",
       "      <td>oNII0l8kb83PbqGzDN4yCA, LbWCIaWnwkuRcUF4gNsiTw...</td>\n",
       "      <td>['N6S6h8kFXk0tuxPSiZKCMw', '0l-6FG2dqWJIlQIBeE...</td>\n",
       "      <td>15172.0</td>\n",
       "      <td>20909</td>\n",
       "      <td>fin_test_yelp_users</td>\n",
       "      <td>fin_test_yelp_users</td>\n",
       "      <td>0.0</td>\n",
       "      <td>40.5</td>\n",
       "      <td>0.0</td>\n",
       "      <td>7.25</td>\n",
       "      <td>0.0</td>\n",
       "      <td>977.0</td>\n",
       "      <td>0.0</td>\n",
       "      <td>166.0</td>\n",
       "      <td>0.0</td>\n",
       "      <td>0.25</td>\n",
       "      <td>Elle</td>\n",
       "      <td>Elle</td>\n",
       "      <td>0</td>\n",
       "      <td>0.0</td>\n",
       "      <td>3.0</td>\n",
       "      <td>17538.0</td>\n",
       "      <td>24543</td>\n",
       "      <td>2550</td>\n",
       "      <td>0.0</td>\n",
       "      <td>3011.0</td>\n",
       "      <td>3781</td>\n",
       "      <td>0.0</td>\n",
       "      <td>1.0</td>\n",
       "      <td>107281.0</td>\n",
       "      <td>85366</td>\n",
       "      <td>3</td>\n",
       "      <td>4.0</td>\n",
       "      <td>467.0</td>\n",
       "      <td>564</td>\n",
       "      <td>0.0</td>\n",
       "      <td>3.0</td>\n",
       "      <td>14069.0</td>\n",
       "      <td>32562</td>\n",
       "      <td>oazuTtSyKV6zrhbsgbdbUQ</td>\n",
       "      <td>2012-01-06</td>\n",
       "      <td>2012-01-06 06:11:29</td>\n",
       "      <td>-21915.0</td>\n",
       "      <td>7005.0</td>\n",
       "      <td>770.0</td>\n",
       "      <td>97.0</td>\n",
       "      <td>428.0</td>\n",
       "    </tr>\n",
       "  </tbody>\n",
       "</table>\n",
       "</div>"
      ],
      "text/plain": [
       "       2017_elite_status  2018_elite_status  average_stars_data_2017  average_stars_data_2018  compliment_cool_data_2017  compliment_cool_data_2018  compliment_cute_data_2017  compliment_cute_data_2018  compliment_funny_data_2017  compliment_funny_data_2018  compliment_hot_data_2017  compliment_hot_data_2018  compliment_list_data_2017  compliment_list_data_2018  compliment_more_data_2017  compliment_more_data_2018  compliment_note_data_2017  compliment_note_data_2018  \\\n",
       "24314               True               True                     4.54                     4.59                     3848.0                       5242                      113.0                        142                      3848.0                        5242                    2331.0                      3236                       46.0                         70                       78.0                        109                      830.0                       1256   \n",
       "\n",
       "       compliment_photos_data_2017  compliment_photos_data_2018  compliment_plain_data_2017  compliment_plain_data_2018  compliment_profile_data_2017  compliment_profile_data_2018  compliment_writer_data_2017  compliment_writer_data_2018  cool_data_2017  cool_data_2018   elite_data_2017      elite_data_2018  fans_data_2017  fans_data_2018                                  friends_data_2017                                  friends_data_2018  funny_data_2017  funny_data_2018      group_data_2017  \\\n",
       "24314                       2874.0                         4329                      2879.0                        3869                         105.0                           185                        586.0                          863         78040.0           31895  2016, 2015, 2017  2015,2016,2017,2018           433.0             861  oNII0l8kb83PbqGzDN4yCA, LbWCIaWnwkuRcUF4gNsiTw...  ['N6S6h8kFXk0tuxPSiZKCMw', '0l-6FG2dqWJIlQIBeE...          15172.0            20909  fin_test_yelp_users   \n",
       "\n",
       "           group_data_2018  mean_compliment_num_chars_2017  mean_compliment_num_chars_2018  mean_compliment_num_word_2017  mean_compliment_num_word_2018  mean_review_num_chars_2017  mean_review_num_chars_2018  mean_review_num_word_2017  mean_review_num_word_2018  mean_review_varience_2017  mean_review_varience_2018 name_data_2017 name_data_2018  num_2018_elite_friends  num_compliment_2017  num_compliment_2018  num_compliments_data_2017  num_compliments_data_2018  num_days_acct_created  \\\n",
       "24314  fin_test_yelp_users                             0.0                            40.5                            0.0                           7.25                         0.0                       977.0                        0.0                      166.0                        0.0                       0.25           Elle           Elle                       0                  0.0                  3.0                    17538.0                      24543                   2550   \n",
       "\n",
       "       num_elite_friends  num_friends_data_2017  num_friends_data_2018  num_reviews_2017  num_reviews_2018  num_votes_data_2017  num_votes_data_2018  num_years_elite_data_2017  num_years_elite_data_2018  review_count_data_2017  review_count_data_2018  unique_categories_2017  unique_categories_2018  useful_data_2017  useful_data_2018                 user_id yelping_since_data_2017 yelping_since_data_2018  num_votes_delta  num_compliments_delta  num_friends_delta  review_count_delta  fans_delta  \n",
       "24314                0.0                 3011.0                   3781               0.0               1.0             107281.0                85366                          3                        4.0                   467.0                     564                     0.0                     3.0           14069.0             32562  oazuTtSyKV6zrhbsgbdbUQ              2012-01-06     2012-01-06 06:11:29         -21915.0                 7005.0              770.0                97.0       428.0  "
      ]
     },
     "execution_count": 80,
     "metadata": {},
     "output_type": "execute_result"
    }
   ],
   "source": [
    "df[df['user_id']=='oazuTtSyKV6zrhbsgbdbUQ']"
   ]
  },
  {
   "cell_type": "code",
   "execution_count": 6,
   "metadata": {},
   "outputs": [],
   "source": [
    "df['review_count_delta'].fillna(0, inplace = True)\n",
    "df['num_votes_delta'].fillna(0, inplace = True)\n",
    "df['num_compliments_delta'].fillna(0, inplace = True)\n",
    "df['num_years_elite_data_2017'].fillna(0, inplace = True)\n",
    "df['fans_delta'].fillna(0, inplace = True)\n",
    "df['average_stars_data_2018'].fillna(0, inplace = True)\n",
    "df['2017_elite_status'].fillna(0, inplace = True)\n",
    "df['mean_review_num_chars_2018'].fillna(0, inplace = True)\n",
    "df['mean_review_num_word_2018'].fillna(0, inplace = True)\n",
    "df['unique_categories_2018'].fillna(0, inplace = True)\n",
    "df['num_reviews_2018'].fillna(0, inplace = True)"
   ]
  },
  {
   "cell_type": "code",
   "execution_count": 7,
   "metadata": {},
   "outputs": [],
   "source": [
    "df_test = df[df['group_data_2018'] == 'fin_test_yelp_users']\n",
    "\n",
    "df_train = df[df['group_data_2018'] != 'fin_test_yelp_users']"
   ]
  },
  {
   "cell_type": "code",
   "execution_count": 30,
   "metadata": {},
   "outputs": [],
   "source": [
    "x_train = df_train[['review_count_delta','num_votes_delta',\n",
    "                                                        'num_compliments_delta','num_years_elite_data_2017',\n",
    "                                                        'fans_delta','average_stars_data_2018','2017_elite_status',\n",
    "                                                        'mean_review_num_chars_2018','mean_review_num_word_2018','num_days_acct_created',\n",
    "                                                        'unique_categories_2018','num_elite_friends','review_count_data_2018'                                                       ]]\n",
    "\n",
    "y_train = df_train['2018_elite_status']\n",
    "\n",
    "x_test = df_test[['review_count_delta','num_votes_delta',\n",
    "                                                        'num_compliments_delta','num_years_elite_data_2017',\n",
    "                                                        'fans_delta','average_stars_data_2018','2017_elite_status',\n",
    "                                                        'mean_review_num_chars_2018','mean_review_num_word_2018','num_days_acct_created',\n",
    "                                                        'unique_categories_2018','num_elite_friends','review_count_data_2018'                \n",
    "                                                       ]]\n",
    "\n",
    "y_test = df_test['2018_elite_status']\n"
   ]
  },
  {
   "cell_type": "code",
   "execution_count": 31,
   "metadata": {},
   "outputs": [],
   "source": [
    "x_test, x_val, y_test, y_val = train_test_split(x_test, \n",
    "                                                    y_test, \n",
    "                                                    test_size = 0.5, random_state=42)"
   ]
  },
  {
   "cell_type": "code",
   "execution_count": 32,
   "metadata": {},
   "outputs": [
    {
     "name": "stdout",
     "output_type": "stream",
     "text": [
      "Default threshold:\n",
      "Accuracy: 0.98496, Precision: 0.62324,   Recall: 0.97633, F1_score: 0.76081\n"
     ]
    }
   ],
   "source": [
    "#BOOSTING!\n",
    "gbm = xgb.XGBClassifier( \n",
    "                        n_estimators=30000,\n",
    "                        max_depth=6,\n",
    "                        objective='binary:logistic', #new objective\n",
    "                        learning_rate=.045, #.05 \n",
    "                        subsample=.8, #.8\n",
    "                        scale_pos_weight = 1,\n",
    "                        gamma = .5,\n",
    "                        min_child_weight=3,\n",
    "                        colsample_bytree=.75        \n",
    "                           )\n",
    "\n",
    "eval_set=[(x_train,y_train),(x_test,y_test)]\n",
    "fit_model = gbm.fit( \n",
    "                    x_train, y_train, \n",
    "                    eval_set=eval_set,\n",
    "                    eval_metric='error', #new evaluation metric: classification error (could also use AUC, e.g.)\n",
    "                    early_stopping_rounds=50,\n",
    "                    verbose=False\n",
    "                   )\n",
    "\n",
    "#predicted_new_threshold_adjusted=(pipe.predict_proba(X_new)>threshold).astype(int)\n",
    "\n",
    "#y_pred = fit_model.predict(x_test, ntree_limit=gbm.best_ntree_limit)\n",
    "#y_pred = fit_model.predict(x_test, ntree_limit=gbm.best_ntree_limit)\n",
    "\n",
    "y_pred = (fit_model.predict_proba(x_val, ntree_limit=gbm.best_ntree_limit)[:,1] >= .50)\n",
    "\n",
    "print(\"Default threshold:\")\n",
    "print(\"Accuracy: {:6.5f}, Precision: {:6.5f},   Recall: {:6.5f}, F1_score: {:6.5f}\".format(\n",
    "                    accuracy_score(y_val, y_pred),\n",
    "                    precision_score(y_val, y_pred),\n",
    "                    recall_score(y_val, y_pred),\n",
    "                    f1_score(y_val, y_pred)\n",
    "))\n",
    "\n",
    "\n",
    "#Accuracy: 0.99445, Precision: 0.91354,   Recall: 0.86319, F1_score: 0.88765 without friends\n",
    "#Accuracy: 0.99460, Precision: 0.91667,   Recall: 0.86614, F1_score: 0.89069 with friends\n",
    "#Accuracy: 0.99465, Precision: 0.90752,   Recall: 0.87894, F1_score: 0.89300 with varience stat\n",
    "#Accuracy: 0.99473, Precision: 0.91624,   Recall: 0.87205, F1_score: 0.89360 with category counts\n",
    "#Accuracy: 0.99473, Precision: 0.91538,   Recall: 0.87303, F1_score: 0.89370\n",
    "#Accuracy: 0.99498, Precision: 0.91371,   Recall: 0.88583, F1_score: 0.89955\n",
    "#Accuracy: 0.99515, Precision: 0.91939,   Recall: 0.88681, F1_score: 0.90281\n",
    "#Accuracy: 0.99520, Precision: 0.91700,   Recall: 0.89173, F1_score: 0.90419\n",
    "#Accuracy: 0.98685, Precision: 0.95418,   Recall: 0.96822, F1_score: 0.96115\n",
    "#Accuracy: 0.98725, Precision: 0.95438,   Recall: 0.97043, F1_score: 0.96234\n",
    "#Accuracy: 0.98608, Precision: 0.63651,   Recall: 0.97236, F1_score: 0.76938\n",
    "#Accuracy: 0.98614, Precision: 0.63756,   Recall: 0.97236, F1_score: 0.77015\n",
    "#Accuracy: 0.98550, Precision: 0.62520,   Recall: 0.98074, F1_score: 0.76361\n",
    "#Accuracy: 0.98618, Precision: 0.63872,   Recall: 0.96985, F1_score: 0.77020\n",
    "#\n",
    "#\n"
   ]
  },
  {
   "cell_type": "code",
   "execution_count": 169,
   "metadata": {},
   "outputs": [],
   "source": [
    "import tqdm\n",
    "from sklearn.model_selection import GridSearchCV, cross_val_score, StratifiedKFold\n"
   ]
  },
  {
   "cell_type": "code",
   "execution_count": 170,
   "metadata": {},
   "outputs": [
    {
     "ename": "KeyboardInterrupt",
     "evalue": "",
     "output_type": "error",
     "traceback": [
      "\u001b[0;31m---------------------------------------------------------------------------\u001b[0m",
      "\u001b[0;31mKeyboardInterrupt\u001b[0m                         Traceback (most recent call last)",
      "\u001b[0;32m<ipython-input-170-a0c912bfb1a3>\u001b[0m in \u001b[0;36m<module>\u001b[0;34m\u001b[0m\n\u001b[1;32m      2\u001b[0m \u001b[0;31m#cross_val_score(fit_model, x_train, y_train, cv=kfold, verbose=True)\u001b[0m\u001b[0;34m\u001b[0m\u001b[0;34m\u001b[0m\u001b[0;34m\u001b[0m\u001b[0m\n\u001b[1;32m      3\u001b[0m \u001b[0;34m\u001b[0m\u001b[0m\n\u001b[0;32m----> 4\u001b[0;31m \u001b[0mresults\u001b[0m \u001b[0;34m=\u001b[0m \u001b[0mcross_val_score\u001b[0m\u001b[0;34m(\u001b[0m\u001b[0mfit_model\u001b[0m\u001b[0;34m,\u001b[0m \u001b[0mx_train\u001b[0m\u001b[0;34m,\u001b[0m \u001b[0my_train\u001b[0m\u001b[0;34m,\u001b[0m \u001b[0mcv\u001b[0m\u001b[0;34m=\u001b[0m\u001b[0;36m10\u001b[0m\u001b[0;34m,\u001b[0m \u001b[0mscoring\u001b[0m\u001b[0;34m=\u001b[0m\u001b[0;34m'neg_log_loss'\u001b[0m\u001b[0;34m,\u001b[0m \u001b[0mn_jobs\u001b[0m\u001b[0;34m=\u001b[0m\u001b[0;34m-\u001b[0m\u001b[0;36m1\u001b[0m\u001b[0;34m)\u001b[0m\u001b[0;34m\u001b[0m\u001b[0;34m\u001b[0m\u001b[0m\n\u001b[0m",
      "\u001b[0;32m~/opt/anaconda3/lib/python3.7/site-packages/sklearn/model_selection/_validation.py\u001b[0m in \u001b[0;36mcross_val_score\u001b[0;34m(estimator, X, y, groups, scoring, cv, n_jobs, verbose, fit_params, pre_dispatch, error_score)\u001b[0m\n\u001b[1;32m    388\u001b[0m                                 \u001b[0mfit_params\u001b[0m\u001b[0;34m=\u001b[0m\u001b[0mfit_params\u001b[0m\u001b[0;34m,\u001b[0m\u001b[0;34m\u001b[0m\u001b[0;34m\u001b[0m\u001b[0m\n\u001b[1;32m    389\u001b[0m                                 \u001b[0mpre_dispatch\u001b[0m\u001b[0;34m=\u001b[0m\u001b[0mpre_dispatch\u001b[0m\u001b[0;34m,\u001b[0m\u001b[0;34m\u001b[0m\u001b[0;34m\u001b[0m\u001b[0m\n\u001b[0;32m--> 390\u001b[0;31m                                 error_score=error_score)\n\u001b[0m\u001b[1;32m    391\u001b[0m     \u001b[0;32mreturn\u001b[0m \u001b[0mcv_results\u001b[0m\u001b[0;34m[\u001b[0m\u001b[0;34m'test_score'\u001b[0m\u001b[0;34m]\u001b[0m\u001b[0;34m\u001b[0m\u001b[0;34m\u001b[0m\u001b[0m\n\u001b[1;32m    392\u001b[0m \u001b[0;34m\u001b[0m\u001b[0m\n",
      "\u001b[0;32m~/opt/anaconda3/lib/python3.7/site-packages/sklearn/model_selection/_validation.py\u001b[0m in \u001b[0;36mcross_validate\u001b[0;34m(estimator, X, y, groups, scoring, cv, n_jobs, verbose, fit_params, pre_dispatch, return_train_score, return_estimator, error_score)\u001b[0m\n\u001b[1;32m    234\u001b[0m             \u001b[0mreturn_times\u001b[0m\u001b[0;34m=\u001b[0m\u001b[0;32mTrue\u001b[0m\u001b[0;34m,\u001b[0m \u001b[0mreturn_estimator\u001b[0m\u001b[0;34m=\u001b[0m\u001b[0mreturn_estimator\u001b[0m\u001b[0;34m,\u001b[0m\u001b[0;34m\u001b[0m\u001b[0;34m\u001b[0m\u001b[0m\n\u001b[1;32m    235\u001b[0m             error_score=error_score)\n\u001b[0;32m--> 236\u001b[0;31m         for train, test in cv.split(X, y, groups))\n\u001b[0m\u001b[1;32m    237\u001b[0m \u001b[0;34m\u001b[0m\u001b[0m\n\u001b[1;32m    238\u001b[0m     \u001b[0mzipped_scores\u001b[0m \u001b[0;34m=\u001b[0m \u001b[0mlist\u001b[0m\u001b[0;34m(\u001b[0m\u001b[0mzip\u001b[0m\u001b[0;34m(\u001b[0m\u001b[0;34m*\u001b[0m\u001b[0mscores\u001b[0m\u001b[0;34m)\u001b[0m\u001b[0;34m)\u001b[0m\u001b[0;34m\u001b[0m\u001b[0;34m\u001b[0m\u001b[0m\n",
      "\u001b[0;32m~/opt/anaconda3/lib/python3.7/site-packages/joblib/parallel.py\u001b[0m in \u001b[0;36m__call__\u001b[0;34m(self, iterable)\u001b[0m\n\u001b[1;32m   1014\u001b[0m \u001b[0;34m\u001b[0m\u001b[0m\n\u001b[1;32m   1015\u001b[0m             \u001b[0;32mwith\u001b[0m \u001b[0mself\u001b[0m\u001b[0;34m.\u001b[0m\u001b[0m_backend\u001b[0m\u001b[0;34m.\u001b[0m\u001b[0mretrieval_context\u001b[0m\u001b[0;34m(\u001b[0m\u001b[0;34m)\u001b[0m\u001b[0;34m:\u001b[0m\u001b[0;34m\u001b[0m\u001b[0;34m\u001b[0m\u001b[0m\n\u001b[0;32m-> 1016\u001b[0;31m                 \u001b[0mself\u001b[0m\u001b[0;34m.\u001b[0m\u001b[0mretrieve\u001b[0m\u001b[0;34m(\u001b[0m\u001b[0;34m)\u001b[0m\u001b[0;34m\u001b[0m\u001b[0;34m\u001b[0m\u001b[0m\n\u001b[0m\u001b[1;32m   1017\u001b[0m             \u001b[0;31m# Make sure that we get a last message telling us we are done\u001b[0m\u001b[0;34m\u001b[0m\u001b[0;34m\u001b[0m\u001b[0;34m\u001b[0m\u001b[0m\n\u001b[1;32m   1018\u001b[0m             \u001b[0melapsed_time\u001b[0m \u001b[0;34m=\u001b[0m \u001b[0mtime\u001b[0m\u001b[0;34m.\u001b[0m\u001b[0mtime\u001b[0m\u001b[0;34m(\u001b[0m\u001b[0;34m)\u001b[0m \u001b[0;34m-\u001b[0m \u001b[0mself\u001b[0m\u001b[0;34m.\u001b[0m\u001b[0m_start_time\u001b[0m\u001b[0;34m\u001b[0m\u001b[0;34m\u001b[0m\u001b[0m\n",
      "\u001b[0;32m~/opt/anaconda3/lib/python3.7/site-packages/joblib/parallel.py\u001b[0m in \u001b[0;36mretrieve\u001b[0;34m(self)\u001b[0m\n\u001b[1;32m    906\u001b[0m             \u001b[0;32mtry\u001b[0m\u001b[0;34m:\u001b[0m\u001b[0;34m\u001b[0m\u001b[0;34m\u001b[0m\u001b[0m\n\u001b[1;32m    907\u001b[0m                 \u001b[0;32mif\u001b[0m \u001b[0mgetattr\u001b[0m\u001b[0;34m(\u001b[0m\u001b[0mself\u001b[0m\u001b[0;34m.\u001b[0m\u001b[0m_backend\u001b[0m\u001b[0;34m,\u001b[0m \u001b[0;34m'supports_timeout'\u001b[0m\u001b[0;34m,\u001b[0m \u001b[0;32mFalse\u001b[0m\u001b[0;34m)\u001b[0m\u001b[0;34m:\u001b[0m\u001b[0;34m\u001b[0m\u001b[0;34m\u001b[0m\u001b[0m\n\u001b[0;32m--> 908\u001b[0;31m                     \u001b[0mself\u001b[0m\u001b[0;34m.\u001b[0m\u001b[0m_output\u001b[0m\u001b[0;34m.\u001b[0m\u001b[0mextend\u001b[0m\u001b[0;34m(\u001b[0m\u001b[0mjob\u001b[0m\u001b[0;34m.\u001b[0m\u001b[0mget\u001b[0m\u001b[0;34m(\u001b[0m\u001b[0mtimeout\u001b[0m\u001b[0;34m=\u001b[0m\u001b[0mself\u001b[0m\u001b[0;34m.\u001b[0m\u001b[0mtimeout\u001b[0m\u001b[0;34m)\u001b[0m\u001b[0;34m)\u001b[0m\u001b[0;34m\u001b[0m\u001b[0;34m\u001b[0m\u001b[0m\n\u001b[0m\u001b[1;32m    909\u001b[0m                 \u001b[0;32melse\u001b[0m\u001b[0;34m:\u001b[0m\u001b[0;34m\u001b[0m\u001b[0;34m\u001b[0m\u001b[0m\n\u001b[1;32m    910\u001b[0m                     \u001b[0mself\u001b[0m\u001b[0;34m.\u001b[0m\u001b[0m_output\u001b[0m\u001b[0;34m.\u001b[0m\u001b[0mextend\u001b[0m\u001b[0;34m(\u001b[0m\u001b[0mjob\u001b[0m\u001b[0;34m.\u001b[0m\u001b[0mget\u001b[0m\u001b[0;34m(\u001b[0m\u001b[0;34m)\u001b[0m\u001b[0;34m)\u001b[0m\u001b[0;34m\u001b[0m\u001b[0;34m\u001b[0m\u001b[0m\n",
      "\u001b[0;32m~/opt/anaconda3/lib/python3.7/site-packages/joblib/_parallel_backends.py\u001b[0m in \u001b[0;36mwrap_future_result\u001b[0;34m(future, timeout)\u001b[0m\n\u001b[1;32m    552\u001b[0m         AsyncResults.get from multiprocessing.\"\"\"\n\u001b[1;32m    553\u001b[0m         \u001b[0;32mtry\u001b[0m\u001b[0;34m:\u001b[0m\u001b[0;34m\u001b[0m\u001b[0;34m\u001b[0m\u001b[0m\n\u001b[0;32m--> 554\u001b[0;31m             \u001b[0;32mreturn\u001b[0m \u001b[0mfuture\u001b[0m\u001b[0;34m.\u001b[0m\u001b[0mresult\u001b[0m\u001b[0;34m(\u001b[0m\u001b[0mtimeout\u001b[0m\u001b[0;34m=\u001b[0m\u001b[0mtimeout\u001b[0m\u001b[0;34m)\u001b[0m\u001b[0;34m\u001b[0m\u001b[0;34m\u001b[0m\u001b[0m\n\u001b[0m\u001b[1;32m    555\u001b[0m         \u001b[0;32mexcept\u001b[0m \u001b[0mLokyTimeoutError\u001b[0m\u001b[0;34m:\u001b[0m\u001b[0;34m\u001b[0m\u001b[0;34m\u001b[0m\u001b[0m\n\u001b[1;32m    556\u001b[0m             \u001b[0;32mraise\u001b[0m \u001b[0mTimeoutError\u001b[0m\u001b[0;34m(\u001b[0m\u001b[0;34m)\u001b[0m\u001b[0;34m\u001b[0m\u001b[0;34m\u001b[0m\u001b[0m\n",
      "\u001b[0;32m~/opt/anaconda3/lib/python3.7/concurrent/futures/_base.py\u001b[0m in \u001b[0;36mresult\u001b[0;34m(self, timeout)\u001b[0m\n\u001b[1;32m    428\u001b[0m                 \u001b[0;32mreturn\u001b[0m \u001b[0mself\u001b[0m\u001b[0;34m.\u001b[0m\u001b[0m__get_result\u001b[0m\u001b[0;34m(\u001b[0m\u001b[0;34m)\u001b[0m\u001b[0;34m\u001b[0m\u001b[0;34m\u001b[0m\u001b[0m\n\u001b[1;32m    429\u001b[0m \u001b[0;34m\u001b[0m\u001b[0m\n\u001b[0;32m--> 430\u001b[0;31m             \u001b[0mself\u001b[0m\u001b[0;34m.\u001b[0m\u001b[0m_condition\u001b[0m\u001b[0;34m.\u001b[0m\u001b[0mwait\u001b[0m\u001b[0;34m(\u001b[0m\u001b[0mtimeout\u001b[0m\u001b[0;34m)\u001b[0m\u001b[0;34m\u001b[0m\u001b[0;34m\u001b[0m\u001b[0m\n\u001b[0m\u001b[1;32m    431\u001b[0m \u001b[0;34m\u001b[0m\u001b[0m\n\u001b[1;32m    432\u001b[0m             \u001b[0;32mif\u001b[0m \u001b[0mself\u001b[0m\u001b[0;34m.\u001b[0m\u001b[0m_state\u001b[0m \u001b[0;32min\u001b[0m \u001b[0;34m[\u001b[0m\u001b[0mCANCELLED\u001b[0m\u001b[0;34m,\u001b[0m \u001b[0mCANCELLED_AND_NOTIFIED\u001b[0m\u001b[0;34m]\u001b[0m\u001b[0;34m:\u001b[0m\u001b[0;34m\u001b[0m\u001b[0;34m\u001b[0m\u001b[0m\n",
      "\u001b[0;32m~/opt/anaconda3/lib/python3.7/threading.py\u001b[0m in \u001b[0;36mwait\u001b[0;34m(self, timeout)\u001b[0m\n\u001b[1;32m    294\u001b[0m         \u001b[0;32mtry\u001b[0m\u001b[0;34m:\u001b[0m    \u001b[0;31m# restore state no matter what (e.g., KeyboardInterrupt)\u001b[0m\u001b[0;34m\u001b[0m\u001b[0;34m\u001b[0m\u001b[0m\n\u001b[1;32m    295\u001b[0m             \u001b[0;32mif\u001b[0m \u001b[0mtimeout\u001b[0m \u001b[0;32mis\u001b[0m \u001b[0;32mNone\u001b[0m\u001b[0;34m:\u001b[0m\u001b[0;34m\u001b[0m\u001b[0;34m\u001b[0m\u001b[0m\n\u001b[0;32m--> 296\u001b[0;31m                 \u001b[0mwaiter\u001b[0m\u001b[0;34m.\u001b[0m\u001b[0macquire\u001b[0m\u001b[0;34m(\u001b[0m\u001b[0;34m)\u001b[0m\u001b[0;34m\u001b[0m\u001b[0;34m\u001b[0m\u001b[0m\n\u001b[0m\u001b[1;32m    297\u001b[0m                 \u001b[0mgotit\u001b[0m \u001b[0;34m=\u001b[0m \u001b[0;32mTrue\u001b[0m\u001b[0;34m\u001b[0m\u001b[0;34m\u001b[0m\u001b[0m\n\u001b[1;32m    298\u001b[0m             \u001b[0;32melse\u001b[0m\u001b[0;34m:\u001b[0m\u001b[0;34m\u001b[0m\u001b[0;34m\u001b[0m\u001b[0m\n",
      "\u001b[0;31mKeyboardInterrupt\u001b[0m: "
     ]
    }
   ],
   "source": [
    "\n",
    "kfold = KFold(n_splits=2)\n",
    "#cross_val_score(fit_model, x_train, y_train, cv=kfold, verbose=True)\n",
    "\n",
    "results = cross_val_score(fit_model, x_train, y_train, cv=10, scoring='neg_log_loss', n_jobs=-1)\n"
   ]
  },
  {
   "cell_type": "code",
   "execution_count": 145,
   "metadata": {},
   "outputs": [
    {
     "data": {
      "text/plain": [
       "0.45616624"
      ]
     },
     "execution_count": 145,
     "metadata": {},
     "output_type": "execute_result"
    }
   ],
   "source": [
    "fit_model.predict_proba(x_test, ntree_limit=gbm.best_ntree_limit)[:,1].min()"
   ]
  },
  {
   "cell_type": "code",
   "execution_count": 146,
   "metadata": {},
   "outputs": [
    {
     "name": "stdout",
     "output_type": "stream",
     "text": [
      "              precision    recall  f1-score   support\n",
      "\n",
      "       False       1.00      0.99      0.99     48806\n",
      "        True       0.64      0.97      0.77      1194\n",
      "\n",
      "    accuracy                           0.99     50000\n",
      "   macro avg       0.82      0.98      0.88     50000\n",
      "weighted avg       0.99      0.99      0.99     50000\n",
      "\n"
     ]
    }
   ],
   "source": [
    "from sklearn.metrics import roc_curve, auc, classification_report\n",
    "\n",
    "print(classification_report(y_test, y_pred))"
   ]
  },
  {
   "cell_type": "code",
   "execution_count": 147,
   "metadata": {},
   "outputs": [
    {
     "data": {
      "text/plain": [
       "array([[48146,   660],\n",
       "       [   33,  1161]])"
      ]
     },
     "execution_count": 147,
     "metadata": {},
     "output_type": "execute_result"
    }
   ],
   "source": [
    "conf_mat = confusion_matrix(y_true=y_test, y_pred=y_pred)\n",
    "conf_mat"
   ]
  },
  {
   "cell_type": "code",
   "execution_count": 182,
   "metadata": {},
   "outputs": [
    {
     "name": "stderr",
     "output_type": "stream",
     "text": [
      "/Users/chen/opt/anaconda3/lib/python3.7/site-packages/sklearn/linear_model/_logistic.py:940: ConvergenceWarning: lbfgs failed to converge (status=1):\n",
      "STOP: TOTAL NO. of ITERATIONS REACHED LIMIT.\n",
      "\n",
      "Increase the number of iterations (max_iter) or scale the data as shown in:\n",
      "    https://scikit-learn.org/stable/modules/preprocessing.html\n",
      "Please also refer to the documentation for alternative solver options:\n",
      "    https://scikit-learn.org/stable/modules/linear_model.html#logistic-regression\n",
      "  extra_warning_msg=_LOGISTIC_SOLVER_CONVERGENCE_MSG)\n"
     ]
    },
    {
     "data": {
      "text/plain": [
       "LogisticRegression(C=1.0, class_weight=None, dual=False, fit_intercept=True,\n",
       "                   intercept_scaling=1, l1_ratio=None, max_iter=100,\n",
       "                   multi_class='auto', n_jobs=None, penalty='l2',\n",
       "                   random_state=None, solver='lbfgs', tol=0.0001, verbose=0,\n",
       "                   warm_start=False)"
      ]
     },
     "execution_count": 182,
     "metadata": {},
     "output_type": "execute_result"
    }
   ],
   "source": [
    "log = LogisticRegression()\n",
    "log.fit(x_train, y_train)"
   ]
  },
  {
   "cell_type": "code",
   "execution_count": 185,
   "metadata": {},
   "outputs": [
    {
     "name": "stdout",
     "output_type": "stream",
     "text": [
      "Default threshold:\n",
      "Accuracy: 0.97946, Precision: 0.55010,   Recall: 0.88735, F1_score: 0.67916\n"
     ]
    }
   ],
   "source": [
    "y_predict = log.predict(x_val)\n",
    "\n",
    "print(\"Default threshold:\")\n",
    "print(\"Accuracy: {:6.5f}, Precision: {:6.5f},   Recall: {:6.5f}, F1_score: {:6.5f}\".format(\n",
    "                    log.score(x_val, y_val),\n",
    "                    precision_score(y_val, y_predict), \n",
    "                    recall_score(y_val, y_predict),\n",
    "                    f1_score(y_val, y_predict)\n",
    "))\n",
    "\n",
    "#Accuracy: 0.98523, Precision: 0.84330,   Recall: 0.51378, F1_score: 0.63853 base line\n",
    "#Accuracy: 0.98618, Precision: 0.81931,   Recall: 0.58465, F1_score: 0.68237 with 2018 mean review counts and word\n",
    "#Accuracy: 0.98668, Precision: 0.83871,   Recall: 0.58858, F1_score: 0.69173 with num days acct created 2018\n",
    "#Accuracy: 0.98590, Precision: 0.83832,   Recall: 0.55118, F1_score: 0.66508 with unique categories count\n"
   ]
  },
  {
   "cell_type": "code",
   "execution_count": null,
   "metadata": {},
   "outputs": [],
   "source": [
    "x_test['pred_y'] = log.predict(x_test)"
   ]
  },
  {
   "cell_type": "code",
   "execution_count": null,
   "metadata": {},
   "outputs": [],
   "source": [
    "x_test = pd.merge(x_test,y_test ,how = 'left',left_index = True, right_index = True)\n"
   ]
  },
  {
   "cell_type": "code",
   "execution_count": null,
   "metadata": {},
   "outputs": [],
   "source": [
    "df_pred = pd.merge(x_test,df,how = 'left',left_index = True, right_index = True)"
   ]
  },
  {
   "cell_type": "code",
   "execution_count": null,
   "metadata": {},
   "outputs": [],
   "source": [
    "precision_curve, recall_curve, threshold_curve = precision_recall_curve(y_test, log.predict_proba(x_test)[:,1] )\n",
    "\n",
    "plt.figure(dpi=80)\n",
    "plt.plot(threshold_curve, precision_curve[1:],label='precision')\n",
    "plt.plot(threshold_curve, recall_curve[1:], label='recall')\n",
    "plt.legend(loc='lower left')\n",
    "plt.xlabel('Threshold (above this probability, label as fraud)');\n",
    "plt.title('Precision and Recall Curves');"
   ]
  },
  {
   "cell_type": "code",
   "execution_count": null,
   "metadata": {},
   "outputs": [],
   "source": [
    "\n",
    "plt.figure(dpi=80)\n",
    "plt.plot(recall_curve[1:], precision_curve[1:],label='precision')\n",
    "plt.xlabel(\"Recall\")\n",
    "plt.ylabel(\"Precision\")\n",
    "plt.title(\"Precision-Recall Curve\");"
   ]
  },
  {
   "cell_type": "code",
   "execution_count": null,
   "metadata": {},
   "outputs": [],
   "source": [
    "# Precision = TP / (TP + FP)\n",
    "# Recall = TP/P = True positive rate\n",
    "# false positive rate = FP / true negatives = FP / (FP + TN) \n",
    "from sklearn.metrics import roc_auc_score, roc_curve\n",
    "\n",
    "fpr, tpr, thresholds = roc_curve(y_test, log.predict_proba(x_test)[:,1])"
   ]
  },
  {
   "cell_type": "code",
   "execution_count": null,
   "metadata": {},
   "outputs": [],
   "source": [
    "plt.plot(fpr, tpr,lw=2)\n",
    "plt.plot([0,1],[0,1],c='violet',ls='--')\n",
    "plt.xlim([-0.05,1.05])\n",
    "plt.ylim([-0.05,1.05])\n",
    "\n",
    "\n",
    "plt.xlabel('False positive rate')\n",
    "plt.ylabel('True positive rate')\n",
    "plt.title('ROC curve for fraud problem');\n",
    "print(\"ROC AUC score = \", roc_auc_score(y_test, log.predict_proba(x_test)[:,1]))"
   ]
  },
  {
   "cell_type": "code",
   "execution_count": null,
   "metadata": {},
   "outputs": [],
   "source": [
    "def plot_features(df, sample_size=500):\n",
    "    \n",
    "    sample = (df.drop(['user_id'],axis=1)\n",
    "                .sample(1000, random_state=44)) \n",
    "    sns.pairplot(sample,hue='2019_elite_status', plot_kws=dict(alpha=.3, edgecolor='none'))\n",
    "\n",
    "plot_features(df)"
   ]
  },
  {
   "cell_type": "code",
   "execution_count": null,
   "metadata": {},
   "outputs": [],
   "source": [
    "\n"
   ]
  },
  {
   "cell_type": "code",
   "execution_count": 80,
   "metadata": {},
   "outputs": [
    {
     "name": "stdout",
     "output_type": "stream",
     "text": [
      "Default threshold:\n",
      "Accuracy: 0.98618, Precision: 0.63872,   Recall: 0.96985, F1_score: 0.77020\n"
     ]
    }
   ],
   "source": [
    "#BOOSTING!\n",
    "\n",
    "gbm = xgb.XGBClassifier( \n",
    "                        n_estimators=30000,\n",
    "                        max_depth=6,\n",
    "                        objective='binary:logistic', #new objective\n",
    "                        learning_rate=.045, #.05 \n",
    "                        subsample=.8, #.8\n",
    "                        scale_pos_weight = 1,\n",
    "                        gamma = .5,\n",
    "                        min_child_weight=3,\n",
    "                        colsample_bytree=.75        \n",
    "                           )\n",
    "\n",
    "eval_set=[(x_train,y_train),(x_test,y_test)]\n",
    "fit_model = gbm.fit( \n",
    "                    x_train, y_train, \n",
    "                    eval_set=eval_set,\n",
    "                    eval_metric='error', #new evaluation metric: classification error (could also use AUC, e.g.)\n",
    "                    early_stopping_rounds=50,\n",
    "                    verbose=False\n",
    "                   )\n",
    "\n",
    "print(\"Default threshold:\")\n",
    "print(\"Accuracy: {:6.5f}, Precision: {:6.5f},   Recall: {:6.5f}, F1_score: {:6.5f}\".format(\n",
    "                    accuracy_score(y_test, fit_model.predict(x_test, ntree_limit=gbm.best_ntree_limit)),\n",
    "                    precision_score(y_test, fit_model.predict(x_test, ntree_limit=gbm.best_ntree_limit)),\n",
    "                    recall_score(y_test, fit_model.predict(x_test, ntree_limit=gbm.best_ntree_limit)),\n",
    "                    f1_score(y_test, fit_model.predict(x_test, ntree_limit=gbm.best_ntree_limit))\n",
    "))\n",
    "\n",
    "\n",
    "#Accuracy: 0.99445, Precision: 0.91354,   Recall: 0.86319, F1_score: 0.88765 without friends\n",
    "#Accuracy: 0.99460, Precision: 0.91667,   Recall: 0.86614, F1_score: 0.89069 with friends\n",
    "#Accuracy: 0.99465, Precision: 0.90752,   Recall: 0.87894, F1_score: 0.89300 with varience stat\n",
    "#Accuracy: 0.99473, Precision: 0.91624,   Recall: 0.87205, F1_score: 0.89360 with category counts\n",
    "#Accuracy: 0.99473, Precision: 0.91538,   Recall: 0.87303, F1_score: 0.89370\n",
    "#Accuracy: 0.99498, Precision: 0.91371,   Recall: 0.88583, F1_score: 0.89955\n",
    "#Accuracy: 0.99515, Precision: 0.91939,   Recall: 0.88681, F1_score: 0.90281\n",
    "#Accuracy: 0.99520, Precision: 0.91700,   Recall: 0.89173, F1_score: 0.90419\n",
    "\n",
    "#Accuracy: 0.98685, Precision: 0.95418,   Recall: 0.96822, F1_score: 0.96115\n",
    "#Accuracy: 0.98725, Precision: 0.95438,   Recall: 0.97043, F1_score: 0.96234\n",
    "#Accuracy: 0.98608, Precision: 0.63651,   Recall: 0.97236, F1_score: 0.76938\n",
    "#Accuracy: 0.98614, Precision: 0.63756,   Recall: 0.97236, F1_score: 0.77015\n",
    "#Accuracy: 0.98550, Precision: 0.62520,   Recall: 0.98074, F1_score: 0.76361\n",
    "#Accuracy: 0.98618, Precision: 0.63872,   Recall: 0.96985, F1_score: 0.77020\n",
    "\n",
    "#"
   ]
  },
  {
   "cell_type": "code",
   "execution_count": 33,
   "metadata": {},
   "outputs": [
    {
     "name": "stdout",
     "output_type": "stream",
     "text": [
      "Default threshold:\n",
      "Accuracy: 0.98590, Precision: 0.63138,   Recall: 0.98409, F1_score: 0.76923\n"
     ]
    }
   ],
   "source": [
    "randomforest = RandomForestClassifier(n_estimators=1000) #100\n",
    "randomforest.fit(x_train, y_train)\n",
    "\n",
    "y_predict = randomforest.predict(x_test)\n",
    "\n",
    "print(\"Default threshold:\")\n",
    "print(\"Accuracy: {:6.5f}, Precision: {:6.5f},   Recall: {:6.5f}, F1_score: {:6.5f}\".format(\n",
    "                    randomforest.score(x_test, y_test),\n",
    "                    precision_score(y_test, y_predict), \n",
    "                    recall_score(y_test, y_predict),\n",
    "                    f1_score(y_test, y_predict)))"
   ]
  },
  {
   "cell_type": "code",
   "execution_count": 189,
   "metadata": {},
   "outputs": [
    {
     "name": "stdout",
     "output_type": "stream",
     "text": [
      "{'n_estimators': [200, 400, 600, 800, 1000, 1200, 1400, 1600, 1800, 2000], 'max_features': ['auto', 'sqrt'], 'max_depth': [10, 20, 30, 40, 50, 60, 70, 80, 90, 100, 110, None], 'min_samples_split': [2, 5, 10], 'min_samples_leaf': [1, 2, 4], 'bootstrap': [True, False]}\n"
     ]
    },
    {
     "data": {
      "text/plain": [
       "{'bootstrap': [True, False],\n",
       " 'max_depth': [10, 20, 30, 40, 50, 60, 70, 80, 90, 100, None],\n",
       " 'max_features': ['auto', 'sqrt'],\n",
       " 'min_samples_leaf': [1, 2, 4],\n",
       " 'min_samples_split': [2, 5, 10],\n",
       " 'n_estimators': [200, 400, 600, 800, 1000, 1200, 1400, 1600, 1800, 2000]}"
      ]
     },
     "execution_count": 189,
     "metadata": {},
     "output_type": "execute_result"
    }
   ],
   "source": [
    "from sklearn.model_selection import RandomizedSearchCV\n",
    "# Number of trees in random forest\n",
    "n_estimators = [int(x) for x in np.linspace(start = 200, stop = 2000, num = 10)]\n",
    "# Number of features to consider at every split\n",
    "max_features = ['auto', 'sqrt']\n",
    "# Maximum number of levels in tree\n",
    "max_depth = [int(x) for x in np.linspace(10, 110, num = 11)]\n",
    "max_depth.append(None)\n",
    "# Minimum number of samples required to split a node\n",
    "min_samples_split = [2, 5, 10]\n",
    "# Minimum number of samples required at each leaf node\n",
    "min_samples_leaf = [1, 2, 4]\n",
    "# Method of selecting samples for training each tree\n",
    "bootstrap = [True, False]\n",
    "# Create the random grid\n",
    "random_grid = {'n_estimators': n_estimators,\n",
    "               'max_features': max_features,\n",
    "               'max_depth': max_depth,\n",
    "               'min_samples_split': min_samples_split,\n",
    "               'min_samples_leaf': min_samples_leaf,\n",
    "               'bootstrap': bootstrap}\n",
    "print(random_grid)\n",
    "{'bootstrap': [True, False],\n",
    " 'max_depth': [10, 20, 30, 40, 50, 60, 70, 80, 90, 100, None],\n",
    " 'max_features': ['auto', 'sqrt'],\n",
    " 'min_samples_leaf': [1, 2, 4],\n",
    " 'min_samples_split': [2, 5, 10],\n",
    " 'n_estimators': [200, 400, 600, 800, 1000, 1200, 1400, 1600, 1800, 2000]}\n",
    "\n",
    "\n",
    "\n",
    "#Accuracy: 0.99438, Precision: 0.91852,   Recall: 0.85433, F1_score: 0.88526\n",
    "#Accuracy: 0.98564, Precision: 0.62687,   Recall: 0.98492, F1_score: 0.76612\n"
   ]
  },
  {
   "cell_type": "code",
   "execution_count": null,
   "metadata": {},
   "outputs": [
    {
     "name": "stdout",
     "output_type": "stream",
     "text": [
      "Fitting 3 folds for each of 100 candidates, totalling 300 fits\n",
      "[CV] n_estimators=400, min_samples_split=5, min_samples_leaf=1, max_features=sqrt, max_depth=30, bootstrap=True \n"
     ]
    },
    {
     "name": "stderr",
     "output_type": "stream",
     "text": [
      "[Parallel(n_jobs=1)]: Using backend SequentialBackend with 1 concurrent workers.\n"
     ]
    },
    {
     "name": "stdout",
     "output_type": "stream",
     "text": [
      "[CV]  n_estimators=400, min_samples_split=5, min_samples_leaf=1, max_features=sqrt, max_depth=30, bootstrap=True, total=   7.9s\n",
      "[CV] n_estimators=400, min_samples_split=5, min_samples_leaf=1, max_features=sqrt, max_depth=30, bootstrap=True \n"
     ]
    },
    {
     "name": "stderr",
     "output_type": "stream",
     "text": [
      "[Parallel(n_jobs=1)]: Done   1 out of   1 | elapsed:    7.9s remaining:    0.0s\n"
     ]
    },
    {
     "name": "stdout",
     "output_type": "stream",
     "text": [
      "[CV]  n_estimators=400, min_samples_split=5, min_samples_leaf=1, max_features=sqrt, max_depth=30, bootstrap=True, total=  19.9s\n",
      "[CV] n_estimators=400, min_samples_split=5, min_samples_leaf=1, max_features=sqrt, max_depth=30, bootstrap=True \n",
      "[CV]  n_estimators=400, min_samples_split=5, min_samples_leaf=1, max_features=sqrt, max_depth=30, bootstrap=True, total=  20.9s\n",
      "[CV] n_estimators=2000, min_samples_split=5, min_samples_leaf=1, max_features=sqrt, max_depth=10, bootstrap=True \n",
      "[CV]  n_estimators=2000, min_samples_split=5, min_samples_leaf=1, max_features=sqrt, max_depth=10, bootstrap=True, total=  29.7s\n",
      "[CV] n_estimators=2000, min_samples_split=5, min_samples_leaf=1, max_features=sqrt, max_depth=10, bootstrap=True \n",
      "[CV]  n_estimators=2000, min_samples_split=5, min_samples_leaf=1, max_features=sqrt, max_depth=10, bootstrap=True, total= 1.1min\n",
      "[CV] n_estimators=2000, min_samples_split=5, min_samples_leaf=1, max_features=sqrt, max_depth=10, bootstrap=True \n",
      "[CV]  n_estimators=2000, min_samples_split=5, min_samples_leaf=1, max_features=sqrt, max_depth=10, bootstrap=True, total= 1.2min\n",
      "[CV] n_estimators=1200, min_samples_split=5, min_samples_leaf=2, max_features=sqrt, max_depth=10, bootstrap=False \n",
      "[CV]  n_estimators=1200, min_samples_split=5, min_samples_leaf=2, max_features=sqrt, max_depth=10, bootstrap=False, total=  26.0s\n",
      "[CV] n_estimators=1200, min_samples_split=5, min_samples_leaf=2, max_features=sqrt, max_depth=10, bootstrap=False \n",
      "[CV]  n_estimators=1200, min_samples_split=5, min_samples_leaf=2, max_features=sqrt, max_depth=10, bootstrap=False, total= 1.0min\n",
      "[CV] n_estimators=1200, min_samples_split=5, min_samples_leaf=2, max_features=sqrt, max_depth=10, bootstrap=False \n",
      "[CV]  n_estimators=1200, min_samples_split=5, min_samples_leaf=2, max_features=sqrt, max_depth=10, bootstrap=False, total= 1.0min\n",
      "[CV] n_estimators=2000, min_samples_split=2, min_samples_leaf=4, max_features=auto, max_depth=30, bootstrap=False \n",
      "[CV]  n_estimators=2000, min_samples_split=2, min_samples_leaf=4, max_features=auto, max_depth=30, bootstrap=False, total= 3.0min\n",
      "[CV] n_estimators=2000, min_samples_split=2, min_samples_leaf=4, max_features=auto, max_depth=30, bootstrap=False \n",
      "[CV]  n_estimators=2000, min_samples_split=2, min_samples_leaf=4, max_features=auto, max_depth=30, bootstrap=False, total= 7.1min\n",
      "[CV] n_estimators=2000, min_samples_split=2, min_samples_leaf=4, max_features=auto, max_depth=30, bootstrap=False \n",
      "[CV]  n_estimators=2000, min_samples_split=2, min_samples_leaf=4, max_features=auto, max_depth=30, bootstrap=False, total= 7.6min\n",
      "[CV] n_estimators=1600, min_samples_split=2, min_samples_leaf=4, max_features=sqrt, max_depth=10, bootstrap=True \n",
      "[CV]  n_estimators=1600, min_samples_split=2, min_samples_leaf=4, max_features=sqrt, max_depth=10, bootstrap=True, total=  22.8s\n",
      "[CV] n_estimators=1600, min_samples_split=2, min_samples_leaf=4, max_features=sqrt, max_depth=10, bootstrap=True \n",
      "[CV]  n_estimators=1600, min_samples_split=2, min_samples_leaf=4, max_features=sqrt, max_depth=10, bootstrap=True, total=  53.7s\n",
      "[CV] n_estimators=1600, min_samples_split=2, min_samples_leaf=4, max_features=sqrt, max_depth=10, bootstrap=True \n",
      "[CV]  n_estimators=1600, min_samples_split=2, min_samples_leaf=4, max_features=sqrt, max_depth=10, bootstrap=True, total=  55.8s\n",
      "[CV] n_estimators=800, min_samples_split=5, min_samples_leaf=4, max_features=sqrt, max_depth=30, bootstrap=False \n",
      "[CV]  n_estimators=800, min_samples_split=5, min_samples_leaf=4, max_features=sqrt, max_depth=30, bootstrap=False, total=  16.9s\n",
      "[CV] n_estimators=800, min_samples_split=5, min_samples_leaf=4, max_features=sqrt, max_depth=30, bootstrap=False \n",
      "[CV]  n_estimators=800, min_samples_split=5, min_samples_leaf=4, max_features=sqrt, max_depth=30, bootstrap=False, total=  44.5s\n",
      "[CV] n_estimators=800, min_samples_split=5, min_samples_leaf=4, max_features=sqrt, max_depth=30, bootstrap=False \n",
      "[CV]  n_estimators=800, min_samples_split=5, min_samples_leaf=4, max_features=sqrt, max_depth=30, bootstrap=False, total=  47.0s\n",
      "[CV] n_estimators=1000, min_samples_split=5, min_samples_leaf=2, max_features=sqrt, max_depth=100, bootstrap=False \n",
      "[CV]  n_estimators=1000, min_samples_split=5, min_samples_leaf=2, max_features=sqrt, max_depth=100, bootstrap=False, total=  21.2s\n",
      "[CV] n_estimators=1000, min_samples_split=5, min_samples_leaf=2, max_features=sqrt, max_depth=100, bootstrap=False \n",
      "[CV]  n_estimators=1000, min_samples_split=5, min_samples_leaf=2, max_features=sqrt, max_depth=100, bootstrap=False, total= 1.0min\n",
      "[CV] n_estimators=1000, min_samples_split=5, min_samples_leaf=2, max_features=sqrt, max_depth=100, bootstrap=False \n",
      "[CV]  n_estimators=1000, min_samples_split=5, min_samples_leaf=2, max_features=sqrt, max_depth=100, bootstrap=False, total= 1.0min\n",
      "[CV] n_estimators=600, min_samples_split=5, min_samples_leaf=1, max_features=sqrt, max_depth=60, bootstrap=False \n",
      "[CV]  n_estimators=600, min_samples_split=5, min_samples_leaf=1, max_features=sqrt, max_depth=60, bootstrap=False, total=  12.8s\n",
      "[CV] n_estimators=600, min_samples_split=5, min_samples_leaf=1, max_features=sqrt, max_depth=60, bootstrap=False \n",
      "[CV]  n_estimators=600, min_samples_split=5, min_samples_leaf=1, max_features=sqrt, max_depth=60, bootstrap=False, total=  36.9s\n",
      "[CV] n_estimators=600, min_samples_split=5, min_samples_leaf=1, max_features=sqrt, max_depth=60, bootstrap=False \n",
      "[CV]  n_estimators=600, min_samples_split=5, min_samples_leaf=1, max_features=sqrt, max_depth=60, bootstrap=False, total=  37.0s\n",
      "[CV] n_estimators=1000, min_samples_split=2, min_samples_leaf=1, max_features=auto, max_depth=50, bootstrap=False \n",
      "[CV]  n_estimators=1000, min_samples_split=2, min_samples_leaf=1, max_features=auto, max_depth=50, bootstrap=False, total= 1.5min\n",
      "[CV] n_estimators=1000, min_samples_split=2, min_samples_leaf=1, max_features=auto, max_depth=50, bootstrap=False \n",
      "[CV]  n_estimators=1000, min_samples_split=2, min_samples_leaf=1, max_features=auto, max_depth=50, bootstrap=False, total= 3.6min\n",
      "[CV] n_estimators=1000, min_samples_split=2, min_samples_leaf=1, max_features=auto, max_depth=50, bootstrap=False \n"
     ]
    }
   ],
   "source": [
    "from sklearn.ensemble import RandomForestRegressor\n",
    "\n",
    "rf = RandomForestRegressor()\n",
    "# Random search of parameters, using 3 fold cross validation, \n",
    "# search across 100 different combinations, and use all available cores\n",
    "rf_random = RandomizedSearchCV(estimator = rf, param_distributions = random_grid, n_iter = 100, cv = 3, verbose=2, random_state=42)\n",
    "# Fit the random search model\n",
    "rf_random.fit(x_train, y_train)"
   ]
  },
  {
   "cell_type": "code",
   "execution_count": null,
   "metadata": {},
   "outputs": [],
   "source": [
    "y_predict = randomforest.predict(x_test)\n",
    "\n",
    "print(\"Default threshold:\")\n",
    "print(\"Accuracy: {:6.5f}, Precision: {:6.5f},   Recall: {:6.5f}, F1_score: {:6.5f}\".format(\n",
    "                    randomforest.score(x_test, y_test),\n",
    "                    precision_score(y_test, y_predict), \n",
    "                    recall_score(y_test, y_predict),\n",
    "                    f1_score(y_test, y_predict)))\n",
    "\n",
    "#Accuracy: 0.99438, Precision: 0.91852,   Recall: 0.85433, F1_score: 0.88526\n",
    "#Accuracy: 0.98564, Precision: 0.62687,   Recall: 0.98492, F1_score: 0.76612"
   ]
  },
  {
   "cell_type": "code",
   "execution_count": 21,
   "metadata": {},
   "outputs": [],
   "source": [
    "from sklearn import metrics\n",
    "from sklearn.model_selection import cross_val_score\n",
    "scores = cross_val_score(\n",
    "randomforest, df[['review_count_delta','num_votes_delta',\n",
    "                                                        'num_compliments_delta','num_years_elite_data_2017',\n",
    "                                                        'fans_delta','average_stars_data_2018','2017_elite_status',\n",
    "                                                        'mean_review_num_chars_2018','mean_review_num_word_2018','num_days_acct_created',\n",
    "                                                        'unique_categories_2018','num_elite_friends','review_count_data_2018'\n",
    "                                                       ]], df['2018_elite_status'], cv=5, scoring='f1_macro')"
   ]
  },
  {
   "cell_type": "code",
   "execution_count": 22,
   "metadata": {},
   "outputs": [
    {
     "data": {
      "text/plain": [
       "array([0.98130239, 0.97419049, 0.9789267 , 0.97360605, 0.97152209])"
      ]
     },
     "execution_count": 22,
     "metadata": {},
     "output_type": "execute_result"
    }
   ],
   "source": [
    "scores"
   ]
  },
  {
   "cell_type": "code",
   "execution_count": 30,
   "metadata": {},
   "outputs": [
    {
     "data": {
      "text/plain": [
       "array([[96251,  1330],\n",
       "       [   71,  2348]])"
      ]
     },
     "execution_count": 30,
     "metadata": {},
     "output_type": "execute_result"
    }
   ],
   "source": [
    "y_pred = fit_model.predict(x_test)\n",
    "conf_mat = confusion_matrix(y_true=y_test, y_pred=y_pred)\n",
    "conf_mat\n",
    "#cm = print_confusion_matrix(conf_mat, ['Class 0', 'Class 1'])"
   ]
  },
  {
   "cell_type": "code",
   "execution_count": null,
   "metadata": {},
   "outputs": [],
   "source": [
    "x_test['pred_y'] = gbm.predict(x_test)"
   ]
  },
  {
   "cell_type": "code",
   "execution_count": null,
   "metadata": {},
   "outputs": [],
   "source": [
    "x_test['pred_proba'] = gbm.predict_proba(x_test)[:,1]"
   ]
  },
  {
   "cell_type": "code",
   "execution_count": null,
   "metadata": {},
   "outputs": [],
   "source": [
    "x_test = pd.merge(x_test,y_test ,how = 'left',left_index = True, right_index = True)\n"
   ]
  },
  {
   "cell_type": "code",
   "execution_count": null,
   "metadata": {},
   "outputs": [],
   "source": [
    "df_pred = pd.merge(x_test,df,how = 'left',left_index = True, right_index = True)"
   ]
  },
  {
   "cell_type": "code",
   "execution_count": 79,
   "metadata": {},
   "outputs": [],
   "source": [
    "pd.reset_option('display.max_colwidth')"
   ]
  },
  {
   "cell_type": "code",
   "execution_count": null,
   "metadata": {},
   "outputs": [],
   "source": [
    "df_pred[(df_pred['2018_elite_status'] == 1) & (df_pred['pred_proba'] > .5)]"
   ]
  },
  {
   "cell_type": "code",
   "execution_count": null,
   "metadata": {},
   "outputs": [],
   "source": [
    "df_pred[(df_pred['2018_elite_status'] == 0) & (df_pred['pred_proba'] > .5)].sort_values(['pred_proba'],ascending=False)\n"
   ]
  },
  {
   "cell_type": "code",
   "execution_count": null,
   "metadata": {},
   "outputs": [],
   "source": [
    "df_scope_review_business_18[df_scope_review_business_18['user_id']=='L_Ft1kZRot-UIlDf6WS9iQ']"
   ]
  },
  {
   "cell_type": "markdown",
   "metadata": {},
   "source": [
    "# DID NOT USE MODELS"
   ]
  },
  {
   "cell_type": "code",
   "execution_count": 18,
   "metadata": {},
   "outputs": [
    {
     "name": "stdout",
     "output_type": "stream",
     "text": [
      "0.9683\n",
      "Default threshold:\n",
      "Accuracy: 0.96830, Precision: 0.42789,   Recall: 0.97152, F1_score: 0.59411\n"
     ]
    },
    {
     "name": "stderr",
     "output_type": "stream",
     "text": [
      "/Users/chen/opt/anaconda3/lib/python3.7/site-packages/sklearn/svm/_base.py:947: ConvergenceWarning: Liblinear failed to converge, increase the number of iterations.\n",
      "  \"the number of iterations.\", ConvergenceWarning)\n"
     ]
    }
   ],
   "source": [
    "LSVC = LinearSVC()\n",
    "LSVC.fit(x_train, y_train)\n",
    "y_pred = LSVC.predict(x_test)\n",
    "print(metrics.accuracy_score(y_test, y_pred))\n",
    "\n",
    "y_predict = LSVC.predict(x_test)\n",
    "\n",
    "print(\"Default threshold:\")\n",
    "print(\"Accuracy: {:6.5f}, Precision: {:6.5f},   Recall: {:6.5f}, F1_score: {:6.5f}\".format(\n",
    "                    LSVC.score(x_test, y_test),\n",
    "                    precision_score(y_test, y_predict), \n",
    "                    recall_score(y_test, y_predict),\n",
    "                    f1_score(y_test, y_predict)))\n",
    "\n",
    "#Accuracy: 0.98850, Precision: 0.81027,   Recall: 0.71457, F1_score: 0.75941\n"
   ]
  },
  {
   "cell_type": "code",
   "execution_count": 19,
   "metadata": {},
   "outputs": [
    {
     "name": "stdout",
     "output_type": "stream",
     "text": [
      "Default threshold:\n",
      "Accuracy: 0.95086, Precision: 0.31690,   Recall: 0.91541, F1_score: 0.47082\n"
     ]
    }
   ],
   "source": [
    "knn = KNeighborsClassifier(n_neighbors=5)\n",
    "knn.fit(x_train, y_train)\n",
    "y_predict = knn.predict(x_test)\n",
    "\n",
    "print(\"Default threshold:\")\n",
    "print(\"Accuracy: {:6.5f}, Precision: {:6.5f},   Recall: {:6.5f}, F1_score: {:6.5f}\".format(\n",
    "                    knn.score(x_test, y_test),\n",
    "                    precision_score(y_test, y_predict), \n",
    "                    recall_score(y_test, y_predict),\n",
    "                    f1_score(y_test, y_predict)))"
   ]
  },
  {
   "cell_type": "code",
   "execution_count": 52,
   "metadata": {},
   "outputs": [
    {
     "name": "stdout",
     "output_type": "stream",
     "text": [
      "Default threshold:\n",
      "Accuracy: 0.98356, Precision: 0.59773,   Recall: 0.97974, F1_score: 0.74248\n"
     ]
    }
   ],
   "source": [
    "DT = DecisionTreeClassifier(max_depth=7)\n",
    "DT.fit(x_train, y_train)\n",
    "y_predict = DT.predict(x_test)\n",
    "\n",
    "print(\"Default threshold:\")\n",
    "print(\"Accuracy: {:6.5f}, Precision: {:6.5f},   Recall: {:6.5f}, F1_score: {:6.5f}\".format(\n",
    "                    DT.score(x_test, y_test),\n",
    "                    precision_score(y_test, y_predict), \n",
    "                    recall_score(y_test, y_predict),\n",
    "                    f1_score(y_test, y_predict)))\n",
    "\n",
    "#Accuracy: 0.99375, Precision: 0.88765,   Recall: 0.86319, F1_score: 0.87525 \n",
    "#Accuracy: 0.99410, Precision: 0.90206,   Recall: 0.86122, F1_score: 0.88117 with category"
   ]
  },
  {
   "cell_type": "code",
   "execution_count": 13,
   "metadata": {},
   "outputs": [
    {
     "name": "stdout",
     "output_type": "stream",
     "text": [
      "Default threshold:\n",
      "Accuracy: 0.98530, Precision: 0.62149,   Recall: 0.98325, F1_score: 0.76160\n"
     ]
    }
   ],
   "source": [
    "randomforest = RandomForestClassifier(n_estimators=1000) #100\n",
    "randomforest.fit(x_train, y_train)\n",
    "\n",
    "y_predict = randomforest.predict(x_test)\n",
    "\n",
    "print(\"Default threshold:\")\n",
    "print(\"Accuracy: {:6.5f}, Precision: {:6.5f},   Recall: {:6.5f}, F1_score: {:6.5f}\".format(\n",
    "                    randomforest.score(x_test, y_test),\n",
    "                    precision_score(y_test, y_predict), \n",
    "                    recall_score(y_test, y_predict),\n",
    "                    f1_score(y_test, y_predict)))\n",
    "\n",
    "#Accuracy: 0.99438, Precision: 0.91852,   Recall: 0.85433, F1_score: 0.88526"
   ]
  },
  {
   "cell_type": "code",
   "execution_count": 21,
   "metadata": {},
   "outputs": [
    {
     "name": "stdout",
     "output_type": "stream",
     "text": [
      "Default threshold:\n",
      "Accuracy: 0.98582, Precision: 0.63536,   Recall: 0.98857, F1_score: 0.77355\n"
     ]
    }
   ],
   "source": [
    "\n",
    "y_predict = randomforest.predict(x_val)\n",
    "\n",
    "print(\"Default threshold:\")\n",
    "print(\"Accuracy: {:6.5f}, Precision: {:6.5f},   Recall: {:6.5f}, F1_score: {:6.5f}\".format(\n",
    "                    randomforest.score(x_val, y_val),\n",
    "                    precision_score(y_val, y_predict), \n",
    "                    recall_score(y_val, y_predict),\n",
    "                    f1_score(y_val, y_predict)))\n",
    "\n",
    "#Accuracy: 0.99438, Precision: 0.91852,   Recall: 0.85433, F1_score: 0.88526"
   ]
  },
  {
   "cell_type": "code",
   "execution_count": 35,
   "metadata": {},
   "outputs": [],
   "source": [
    "feature_importances = pd.DataFrame(randomforest.feature_importances_,\n",
    "                                   index = x_train.columns,\n",
    "                                    columns=['importance']).sort_values('importance', ascending=False)\n",
    "\n"
   ]
  },
  {
   "cell_type": "code",
   "execution_count": 90,
   "metadata": {},
   "outputs": [
    {
     "ename": "AttributeError",
     "evalue": "'DataFrame' object has no attribute 'title'",
     "output_type": "error",
     "traceback": [
      "\u001b[0;31m---------------------------------------------------------------------------\u001b[0m",
      "\u001b[0;31mAttributeError\u001b[0m                            Traceback (most recent call last)",
      "\u001b[0;32m<ipython-input-90-a1340a78d0bd>\u001b[0m in \u001b[0;36m<module>\u001b[0;34m\u001b[0m\n\u001b[0;32m----> 1\u001b[0;31m \u001b[0mpd\u001b[0m\u001b[0;34m.\u001b[0m\u001b[0mDataFrame\u001b[0m\u001b[0;34m(\u001b[0m\u001b[0mfeature_importances\u001b[0m\u001b[0;34m.\u001b[0m\u001b[0mindex\u001b[0m\u001b[0;34m)\u001b[0m\u001b[0;34m.\u001b[0m\u001b[0mreplace\u001b[0m\u001b[0;34m(\u001b[0m\u001b[0;34m'_'\u001b[0m\u001b[0;34m,\u001b[0m\u001b[0;34m' '\u001b[0m\u001b[0;34m)\u001b[0m\u001b[0;34m.\u001b[0m\u001b[0mtitle\u001b[0m\u001b[0;34m(\u001b[0m\u001b[0;34m)\u001b[0m\u001b[0;34m\u001b[0m\u001b[0;34m\u001b[0m\u001b[0m\n\u001b[0m",
      "\u001b[0;32m~/opt/anaconda3/lib/python3.7/site-packages/pandas/core/generic.py\u001b[0m in \u001b[0;36m__getattr__\u001b[0;34m(self, name)\u001b[0m\n\u001b[1;32m   5177\u001b[0m             \u001b[0;32mif\u001b[0m \u001b[0mself\u001b[0m\u001b[0;34m.\u001b[0m\u001b[0m_info_axis\u001b[0m\u001b[0;34m.\u001b[0m\u001b[0m_can_hold_identifiers_and_holds_name\u001b[0m\u001b[0;34m(\u001b[0m\u001b[0mname\u001b[0m\u001b[0;34m)\u001b[0m\u001b[0;34m:\u001b[0m\u001b[0;34m\u001b[0m\u001b[0;34m\u001b[0m\u001b[0m\n\u001b[1;32m   5178\u001b[0m                 \u001b[0;32mreturn\u001b[0m \u001b[0mself\u001b[0m\u001b[0;34m[\u001b[0m\u001b[0mname\u001b[0m\u001b[0;34m]\u001b[0m\u001b[0;34m\u001b[0m\u001b[0;34m\u001b[0m\u001b[0m\n\u001b[0;32m-> 5179\u001b[0;31m             \u001b[0;32mreturn\u001b[0m \u001b[0mobject\u001b[0m\u001b[0;34m.\u001b[0m\u001b[0m__getattribute__\u001b[0m\u001b[0;34m(\u001b[0m\u001b[0mself\u001b[0m\u001b[0;34m,\u001b[0m \u001b[0mname\u001b[0m\u001b[0;34m)\u001b[0m\u001b[0;34m\u001b[0m\u001b[0;34m\u001b[0m\u001b[0m\n\u001b[0m\u001b[1;32m   5180\u001b[0m \u001b[0;34m\u001b[0m\u001b[0m\n\u001b[1;32m   5181\u001b[0m     \u001b[0;32mdef\u001b[0m \u001b[0m__setattr__\u001b[0m\u001b[0;34m(\u001b[0m\u001b[0mself\u001b[0m\u001b[0;34m,\u001b[0m \u001b[0mname\u001b[0m\u001b[0;34m,\u001b[0m \u001b[0mvalue\u001b[0m\u001b[0;34m)\u001b[0m\u001b[0;34m:\u001b[0m\u001b[0;34m\u001b[0m\u001b[0;34m\u001b[0m\u001b[0m\n",
      "\u001b[0;31mAttributeError\u001b[0m: 'DataFrame' object has no attribute 'title'"
     ]
    }
   ],
   "source": [
    "pd.DataFrame(feature_importances.index).replace('_',' ').title()"
   ]
  },
  {
   "cell_type": "code",
   "execution_count": 92,
   "metadata": {},
   "outputs": [
    {
     "data": {
      "text/plain": [
       "Index(['2017 Elite Status', 'Num Compliments Delta', 'Review Count Delta', 'Review Count Data 2018', 'Num Years Elite Data 2017', 'Fans Delta', 'Num Votes Delta', 'Num Friends Data 2018', 'Num Days Acct Created', 'Average Stars Data 2018', 'Unique Categories 2018', 'Mean Review Num Chars 2018', 'Mean Review Num Word 2018', 'Num Elite Friends'], dtype='object')"
      ]
     },
     "execution_count": 92,
     "metadata": {},
     "output_type": "execute_result"
    }
   ],
   "source": [
    "feature_importances.index.str.replace('_',' ').str.title()"
   ]
  },
  {
   "cell_type": "code",
   "execution_count": 87,
   "metadata": {},
   "outputs": [
    {
     "name": "stdout",
     "output_type": "stream",
     "text": [
      "Index([['2017', 'elite', 'status'], ['num', 'compliments', 'delta'], ['review', 'count', 'delta'], ['review', 'count', 'data', '2018'], ['num', 'years', 'elite', 'data', '2017'], ['fans', 'delta'], ['num', 'votes', 'delta'], ['num', 'friends', 'data', '2018'], ['num', 'days', 'acct', 'created'], ['average', 'stars', 'data', '2018'], ['unique', 'categories', '2018'], ['mean', 'review', 'num', 'chars', '2018'], ['mean', 'review', 'num', 'word', '2018'], ['num', 'elite', 'friends']], dtype='object')\n"
     ]
    }
   ],
   "source": [
    "print(feature_importances.index.str.split('_'))"
   ]
  },
  {
   "cell_type": "code",
   "execution_count": 86,
   "metadata": {},
   "outputs": [
    {
     "data": {
      "text/plain": [
       "Index(['2017_elite_status', 'num_compliments_delta', 'review_count_delta', 'review_count_data_2018', 'num_years_elite_data_2017', 'fans_delta', 'num_votes_delta', 'num_friends_data_2018', 'num_days_acct_created', 'average_stars_data_2018', 'unique_categories_2018', 'mean_review_num_chars_2018', 'mean_review_num_word_2018', 'num_elite_friends'], dtype='object')"
      ]
     },
     "execution_count": 86,
     "metadata": {},
     "output_type": "execute_result"
    }
   ],
   "source": [
    "feature_importances.index"
   ]
  },
  {
   "cell_type": "code",
   "execution_count": 93,
   "metadata": {},
   "outputs": [
    {
     "data": {
      "image/png": "[encoded data removed]",
      "text/plain": [
       "<Figure size 640x480 with 1 Axes>"
      ]
     },
     "metadata": {},
     "output_type": "display_data"
    }
   ],
   "source": [
    "import matplotlib.pyplot as plt\n",
    "import numpy as np\n",
    "import matplotlib.ticker as mtick\n",
    "\n",
    "# Actual plotting code omitted\n",
    "\n",
    "\n",
    "plt.rcdefaults()\n",
    "\n",
    "fig, ax = plt.subplots()\n",
    "my_colors = ['red','red', 'red', 'red', 'red', 'red','black','black','black','black','black','black','black'] \n",
    "ax.barh(feature_importances.index.str.replace('_',' ').str.title(), feature_importances['importance'], align='center',color=my_colors)\n",
    "\n",
    "#ax.set_yticks(y_pos)\n",
    "#ax.set_yticklabels(people)\n",
    "ax.invert_yaxis()  # labels read top-to-bottom\n",
    "ax.set_xlabel('Importance')\n",
    "ax.set_title('Feature Importance')\n",
    "ax.xaxis.set_major_formatter(mtick.PercentFormatter(1.0))\n"
   ]
  },
  {
   "cell_type": "code",
   "execution_count": 25,
   "metadata": {},
   "outputs": [
    {
     "data": {
      "text/plain": [
       "array([[48080,   695],\n",
       "       [   14,  1211]])"
      ]
     },
     "execution_count": 25,
     "metadata": {},
     "output_type": "execute_result"
    }
   ],
   "source": [
    "conf_mat = confusion_matrix(y_true=y_val, y_pred=y_predict)\n",
    "conf_mat\n"
   ]
  },
  {
   "cell_type": "code",
   "execution_count": 54,
   "metadata": {},
   "outputs": [
    {
     "name": "stdout",
     "output_type": "stream",
     "text": [
      "Default threshold:\n",
      "Accuracy: 0.97137, Precision: 0.45586,   Recall: 0.94791, F1_score: 0.61565\n"
     ]
    }
   ],
   "source": [
    "nb = GaussianNB()\n",
    "nb.fit(x_train, y_train)\n",
    "\n",
    "y_predict = nb.predict(x_test)\n",
    "\n",
    "print(\"Default threshold:\")\n",
    "print(\"Accuracy: {:6.5f}, Precision: {:6.5f},   Recall: {:6.5f}, F1_score: {:6.5f}\".format(\n",
    "                    nb.score(x_test, y_test),\n",
    "                    precision_score(y_test, y_predict), \n",
    "                    recall_score(y_test, y_predict),\n",
    "                    f1_score(y_test, y_predict)))\n"
   ]
  },
  {
   "cell_type": "code",
   "execution_count": null,
   "metadata": {},
   "outputs": [],
   "source": []
  }
 ],
 "metadata": {
  "kernelspec": {
   "display_name": "Python 3",
   "language": "python",
   "name": "python3"
  },
  "language_info": {
   "codemirror_mode": {
    "name": "ipython",
    "version": 3
   },
   "file_extension": ".py",
   "mimetype": "text/x-python",
   "name": "python",
   "nbconvert_exporter": "python",
   "pygments_lexer": "ipython3",
   "version": "3.7.5"
  },
  "toc": {
   "base_numbering": 1,
   "nav_menu": {},
   "number_sections": true,
   "sideBar": true,
   "skip_h1_title": false,
   "title_cell": "Table of Contents",
   "title_sidebar": "Contents",
   "toc_cell": false,
   "toc_position": {},
   "toc_section_display": true,
   "toc_window_display": false
  }
 },
 "nbformat": 4,
 "nbformat_minor": 2
}

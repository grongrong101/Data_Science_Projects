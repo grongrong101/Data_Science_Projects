{
 "cells": [
  {
   "cell_type": "code",
   "execution_count": 2,
   "metadata": {},
   "outputs": [
    {
     "name": "stderr",
     "output_type": "stream",
     "text": [
      "Using TensorFlow backend.\n"
     ]
    }
   ],
   "source": [
    "import numpy as np\n",
    "from keras.preprocessing.image import ImageDataGenerator, img_to_array, load_img\n",
    "from keras.layers import Input, Flatten, Dense, GlobalAveragePooling2D\n",
    "from keras.models import Model\n",
    "from keras.applications.xception import Xception, preprocess_input, decode_predictions"
   ]
  },
  {
   "cell_type": "code",
   "execution_count": 3,
   "metadata": {},
   "outputs": [],
   "source": [
    "def create_generators(train_data_dir, validation_data_dir):\n",
    "    # Read Data and Augment it: Make sure to select augmentations that are appropriate to your images.\n",
    "\n",
    "    transformation_ratio = .05  # how aggressive will be the data augmentation/transformation\n",
    "\n",
    "    train_datagen = ImageDataGenerator(rescale=1. / 255,\n",
    "                                       rotation_range=transformation_ratio,\n",
    "                                       shear_range=transformation_ratio,\n",
    "                                       zoom_range=transformation_ratio,\n",
    "                                       cval=transformation_ratio,\n",
    "                                       horizontal_flip=True,\n",
    "                                       vertical_flip=True)\n",
    "\n",
    "    train_generator = train_datagen.flow_from_directory(train_data_dir,\n",
    "                                                        target_size=(IMG_WIDTH, IMG_HEIGHT),\n",
    "                                                        batch_size=BATCH_SIZE,\n",
    "                                                        class_mode='categorical')\n",
    "\n",
    "    validation_datagen = ImageDataGenerator(rescale=1. / 255)\n",
    "    \n",
    "    validation_generator = validation_datagen.flow_from_directory(validation_data_dir,\n",
    "                                                                  target_size=(IMG_WIDTH, IMG_HEIGHT),\n",
    "                                                                  batch_size=BATCH_SIZE,\n",
    "                                                                  class_mode='categorical')\n",
    "    return train_generator, validation_generator\n",
    "\n",
    "\n",
    "def create_model(num_classes):\n",
    "        base_model = Xception(input_shape=(IMG_WIDTH, IMG_HEIGHT, 3), weights='imagenet', include_top=False)\n",
    "\n",
    "        # Top Model Block\n",
    "        x = base_model.output\n",
    "        x = GlobalAveragePooling2D()(x)\n",
    "        predictions = Dense(num_classes, activation='softmax')(x)\n",
    "\n",
    "        # add your top layer block to your base model\n",
    "        model = Model(base_model.input, predictions)\n",
    "        \n",
    "        for layer in model.layers[:-10]:\n",
    "            layer.trainable = False\n",
    "        \n",
    "        model.compile(optimizer='nadam',loss='categorical_crossentropy', metrics=['accuracy'])\n",
    "        return model\n",
    "\n",
    "\n",
    "def train(train_generator, validation_generator, model):\n",
    "    model.fit_generator(train_generator,\n",
    "                        epochs=1,\n",
    "                        validation_data=validation_generator,\n",
    "                        steps_per_epoch=3,\n",
    "                        validation_steps=2,\n",
    "                        verbose=1)\n",
    "\n",
    "# makes the prediction of the file path image passed as parameter \n",
    "def predict(file, model, to_class):\n",
    "    im = load_img(file, target_size=(IMG_WIDTH, IMG_HEIGHT))\n",
    "    x = img_to_array(im)\n",
    "    x = np.expand_dims(x, axis=0)\n",
    "    x = preprocess_input(x)\n",
    "    index = model.predict(x).argmax()\n",
    "    return to_class[index]"
   ]
  },
  {
   "cell_type": "code",
   "execution_count": 18,
   "metadata": {},
   "outputs": [],
   "source": [
    "DIR = \"data/train_model/\"\n",
    "IMG_WIDTH, IMG_HEIGHT = 299, 299 # set this according to keras documentation, each model has its own size\n",
    "BATCH_SIZE = 200 # decrease this if your computer explodes"
   ]
  },
  {
   "cell_type": "code",
   "execution_count": 19,
   "metadata": {},
   "outputs": [
    {
     "name": "stdout",
     "output_type": "stream",
     "text": [
      "Found 2102 images belonging to 6 classes.\n",
      "Found 129 images belonging to 6 classes.\n"
     ]
    },
    {
     "data": {
      "text/plain": [
       "{0: 'bathroom',\n",
       " 1: 'bedroom',\n",
       " 2: 'exterior',\n",
       " 3: 'kitchen',\n",
       " 4: 'living',\n",
       " 5: 'plan'}"
      ]
     },
     "execution_count": 19,
     "metadata": {},
     "output_type": "execute_result"
    }
   ],
   "source": [
    "train_generator, validation_generator = create_generators(DIR + \"labelled\", DIR + \"validation\")\n",
    "\n",
    "total_classes = len(train_generator.class_indices) # necesary to build the last softmax layer\n",
    "to_class = {v:k for k,v in train_generator.class_indices.items()} # usefull when model returns prediction\n",
    "to_class"
   ]
  },
  {
   "cell_type": "code",
   "execution_count": 20,
   "metadata": {},
   "outputs": [],
   "source": [
    "m = create_model(total_classes)"
   ]
  },
  {
   "cell_type": "code",
   "execution_count": null,
   "metadata": {},
   "outputs": [
    {
     "name": "stdout",
     "output_type": "stream",
     "text": [
      "Epoch 1/1\n"
     ]
    },
    {
     "name": "stderr",
     "output_type": "stream",
     "text": [
      "/usr/local/lib/python3.5/dist-packages/PIL/TiffImagePlugin.py:802: UserWarning: Corrupt EXIF data.  Expecting to read 4 bytes but only got 0. \n",
      "  warnings.warn(str(msg))\n",
      "/usr/local/lib/python3.5/dist-packages/PIL/TiffImagePlugin.py:802: UserWarning: Corrupt EXIF data.  Expecting to read 12 bytes but only got 10. \n",
      "  warnings.warn(str(msg))\n"
     ]
    },
    {
     "name": "stdout",
     "output_type": "stream",
     "text": [
      "1/3 [=========>....................] - ETA: 2:42 - loss: 1.6810 - accuracy: 0.3500"
     ]
    },
    {
     "name": "stderr",
     "output_type": "stream",
     "text": [
      "/usr/local/lib/python3.5/dist-packages/PIL/Image.py:2817: UserWarning: image file could not be identified because WEBP support not installed\n",
      "  warnings.warn(message)\n"
     ]
    }
   ],
   "source": [
    "train(train_generator, validation_generator, m)\n"
   ]
  },
  {
   "cell_type": "code",
   "execution_count": null,
   "metadata": {},
   "outputs": [],
   "source": [
    "train(train_generator, validation_generator, m)\n"
   ]
  },
  {
   "cell_type": "code",
   "execution_count": null,
   "metadata": {},
   "outputs": [],
   "source": [
    "train(train_generator, validation_generator, m)\n"
   ]
  },
  {
   "cell_type": "code",
   "execution_count": null,
   "metadata": {},
   "outputs": [],
   "source": [
    "train(train_generator, validation_generator, m)\n"
   ]
  },
  {
   "cell_type": "code",
   "execution_count": null,
   "metadata": {},
   "outputs": [],
   "source": [
    "train(train_generator, validation_generator, m)\n"
   ]
  },
  {
   "cell_type": "code",
   "execution_count": null,
   "metadata": {},
   "outputs": [],
   "source": [
    "train(train_generator, validation_generator, m)\n"
   ]
  },
  {
   "cell_type": "code",
   "execution_count": null,
   "metadata": {},
   "outputs": [],
   "source": []
  },
  {
   "cell_type": "code",
   "execution_count": null,
   "metadata": {},
   "outputs": [],
   "source": []
  },
  {
   "cell_type": "code",
   "execution_count": null,
   "metadata": {},
   "outputs": [],
   "source": []
  }
 ],
 "metadata": {
  "kernelspec": {
   "display_name": "Python 3",
   "language": "python",
   "name": "python3"
  },
  "language_info": {
   "codemirror_mode": {
    "name": "ipython",
    "version": 3
   },
   "file_extension": ".py",
   "mimetype": "text/x-python",
   "name": "python",
   "nbconvert_exporter": "python",
   "pygments_lexer": "ipython3",
   "version": "3.7.5"
  },
  "toc": {
   "base_numbering": 1,
   "nav_menu": {},
   "number_sections": true,
   "sideBar": true,
   "skip_h1_title": false,
   "title_cell": "Table of Contents",
   "title_sidebar": "Contents",
   "toc_cell": false,
   "toc_position": {},
   "toc_section_display": true,
   "toc_window_display": false
  }
 },
 "nbformat": 4,
 "nbformat_minor": 4
}

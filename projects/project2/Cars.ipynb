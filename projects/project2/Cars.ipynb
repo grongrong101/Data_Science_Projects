{
 "cells": [
  {
   "cell_type": "code",
   "execution_count": 370,
   "metadata": {},
   "outputs": [],
   "source": [
    "from bs4 import BeautifulSoup\n",
    "import requests\n",
    "import time, os\n",
    "from selenium import webdriver\n",
    "from selenium.webdriver.common.keys import Keys\n",
    "from selenium.webdriver.support.ui import Select\n",
    "from random_user_agent.user_agent import UserAgent\n",
    "from random_user_agent.params import SoftwareName, OperatingSystem\n",
    "import re\n",
    "import random\n",
    "import string\n",
    "from datetime import datetime\n",
    "from progressbar import ProgressBar\n",
    "import pandas as pd\n",
    "pbar = ProgressBar()\n",
    "%config InlineBackend.figure_formats = ['retina']\n",
    "import collections\n",
    "import matplotlib.pyplot as plt\n",
    "from sklearn.preprocessing import PolynomialFeatures\n",
    "from sklearn.linear_model import LassoCV\n",
    "from sklearn.linear_model import RidgeCV\n",
    "\n",
    "\n",
    "import pandas as pd\n",
    "import seaborn as sns\n",
    "sns.set()\n",
    "\n",
    "from sklearn.model_selection import train_test_split\n",
    "from sklearn.linear_model import LinearRegression"
   ]
  },
  {
   "cell_type": "markdown",
   "metadata": {},
   "source": [
    "## Gather Data"
   ]
  },
  {
   "cell_type": "code",
   "execution_count": 2,
   "metadata": {},
   "outputs": [],
   "source": [
    "# you can also import SoftwareEngine, HardwareType, SoftwareType, Popularity from random_user_agent.params\n",
    "# you can also set number of user agents required by providing `limit` as parameter\n",
    "\n",
    "software_names = [SoftwareName.CHROME.value]\n",
    "\n",
    "operating_systems = [OperatingSystem.WINDOWS.value, OperatingSystem.LINUX.value]   \n",
    "\n",
    "user_agent_rotator = UserAgent(software_names=software_names, operating_systems=operating_systems, limit=100)\n",
    "\n",
    "# Get list of user agents.\n",
    "user_agents = user_agent_rotator.get_user_agents()\n",
    "\n",
    "user_agent = user_agent_rotator.get_random_user_agent()"
   ]
  },
  {
   "cell_type": "code",
   "execution_count": 3,
   "metadata": {},
   "outputs": [],
   "source": [
    "# Get Random User Agent String.\n",
    "def new_agent():\n",
    "    return user_agent_rotator.get_random_user_agent()\n",
    "\n"
   ]
  },
  {
   "cell_type": "code",
   "execution_count": 4,
   "metadata": {},
   "outputs": [],
   "source": [
    "chromedriver = \"/Applications/chromedriver\" # path to the chromedriver executable\n",
    "os.environ[\"webdriver.chrome.driver\"] = chromedriver\n",
    "cars_all = \"https://www.cars.com/\"\n",
    "#user_agent = {'User-agent': user_agent}\n",
    "driver = webdriver.Chrome(chromedriver)\n",
    "driver.get(cars_all)\n",
    "time.sleep(1)"
   ]
  },
  {
   "cell_type": "code",
   "execution_count": 5,
   "metadata": {},
   "outputs": [],
   "source": [
    "user_agent = new_agent()"
   ]
  },
  {
   "cell_type": "code",
   "execution_count": 6,
   "metadata": {},
   "outputs": [],
   "source": [
    "go_adv_search_button = driver.find_element_by_xpath(\n",
    "    '//a[contains(@href, \"/for-sale/advanced-search/\")]')\n",
    "go_adv_search_button.click()\n",
    "time.sleep(5)\n",
    "\n",
    "all_miles = Select(driver.find_element_by_xpath(\n",
    "    '//select[contains(@class, \"as-radii-drop-down\")]'))\n",
    "all_miles.select_by_visible_text('All Miles')\n",
    "time.sleep(1)\n",
    "\n",
    "my_zip = driver.find_element_by_xpath(\n",
    "    '//input[contains(@name, \"zipField\")]')\n",
    "#input new search\n",
    "my_zip.send_keys(\"11201\")\n",
    "\n",
    "time.sleep(2)\n",
    "\n",
    "all_radio = driver.find_element_by_xpath(\n",
    "    '//li[contains(@class, \"as-button-bar-all\")]')\n",
    "all_radio.click()\n",
    "time.sleep(2)\n",
    "\n",
    "home_delivery_click = driver.find_element_by_xpath(\n",
    "    '//input[contains(@id, \"as-home-delivery\")]')\n",
    "home_delivery_click.click()\n",
    "time.sleep(2)\n",
    "\n",
    "make1 = Select(driver.find_element_by_xpath(\n",
    "    '//select[contains(@name, \"make\")]'))\n",
    "make1.select_by_visible_text('Mazda')\n",
    "time.sleep(1)\n",
    "\n",
    "model1 = Select(driver.find_element_by_xpath(\n",
    "    '//select[contains(@name, \"model\")]'))\n",
    "model1.select_by_visible_text('MX-5 Miata')\n",
    "time.sleep(1)\n",
    "\n",
    "add_another1 = driver.find_element_by_xpath(\n",
    "    '//a[contains(@class, \"as-another-car-anchor\")]')\n",
    "add_another1.click()\n",
    "time.sleep(1)\n",
    "\n",
    "make2 = Select(driver.find_element_by_xpath(\n",
    "    '//select[contains(@class, \"as-make-drop-down ng-pristine ng-untouched ng-valid ng-empty\")]'))\n",
    "make2.select_by_visible_text('Mazda')\n",
    "time.sleep(1)\n",
    "\n",
    "model2 = Select(driver.find_element_by_xpath(\n",
    "    '//select[contains(@class, \"as-model-drop-down ng-pristine ng-untouched ng-valid ng-empty\")]'))\n",
    "model2.select_by_visible_text('MX-5 Miata RF')\n",
    "time.sleep(1)\n",
    "\n",
    "add_another2 = driver.find_element_by_xpath(\n",
    "    '//a[contains(@class, \"as-another-car-anchor\")]')\n",
    "add_another2.click()\n",
    "time.sleep(1)\n",
    "\n",
    "make3 = Select(driver.find_element_by_xpath(\n",
    "    '//select[contains(@class, \"as-make-drop-down ng-pristine ng-untouched ng-valid ng-empty\")]'))\n",
    "make3.select_by_visible_text('Mazda')\n",
    "time.sleep(1)\n",
    "\n",
    "model3 = Select(driver.find_element_by_xpath(\n",
    "    '//select[contains(@class, \"as-model-drop-down ng-pristine ng-untouched ng-valid ng-empty\")]'))\n",
    "model3.select_by_visible_text('MazdaSpeed Miata MX-5')\n",
    "time.sleep(1)\n",
    "\n",
    "submit = driver.find_element_by_xpath(\n",
    "    '//input[contains(@class, \"cui-button as-submit-button\")]')\n",
    "submit.click()\n",
    "time.sleep(3)\n",
    "\n",
    "set_page_limit = Select(driver.find_element_by_xpath(\n",
    "    '//select[contains(@aria-label, \"Results Per Page\")]'))\n",
    "set_page_limit.select_by_visible_text('100 Per Page')\n",
    "time.sleep(5)\n"
   ]
  },
  {
   "cell_type": "code",
   "execution_count": 7,
   "metadata": {},
   "outputs": [],
   "source": [
    "url = driver.current_url\n",
    "user_agent=new_agent()\n",
    "page = requests.get(url, user_agent).text\n",
    "soup = BeautifulSoup(page, 'html5lib')\n",
    "max_page = soup.findAll('a', {'class':'not-current'})[-1].text\n",
    "max_page=int(max_page)+1"
   ]
  },
  {
   "cell_type": "code",
   "execution_count": 8,
   "metadata": {},
   "outputs": [
    {
     "name": "stdout",
     "output_type": "stream",
     "text": [
      "THIS_IS_PAGE: 1\n",
      "THIS_IS_PAGE: 2\n",
      "THIS_IS_PAGE: 3\n",
      "THIS_IS_PAGE: 4\n",
      "THIS_IS_PAGE: 5\n",
      "THIS_IS_PAGE: 6\n",
      "THIS_IS_PAGE: 7\n",
      "THIS_IS_PAGE: 8\n",
      "THIS_IS_PAGE: 9\n",
      "THIS_IS_PAGE: 10\n",
      "THIS_IS_PAGE: 11\n",
      "THIS_IS_PAGE: 12\n",
      "THIS_IS_PAGE: 13\n",
      "THIS_IS_PAGE: 14\n",
      "THIS_IS_PAGE: 15\n",
      "THIS_IS_PAGE: 16\n",
      "THIS_IS_PAGE: 17\n",
      "THIS_IS_PAGE: 18\n",
      "THIS_IS_PAGE: 19\n",
      "THIS_IS_PAGE: 20\n",
      "THIS_IS_PAGE: 21\n",
      "THIS_IS_PAGE: 22\n",
      "THIS_IS_PAGE: 23\n",
      "THIS_IS_PAGE: 24\n",
      "THIS_IS_PAGE: 25\n"
     ]
    }
   ],
   "source": [
    "car_listing=[]\n",
    "for pages in range(1,max_page):\n",
    "#for pages in range(1,2):\n",
    "    url = driver.current_url\n",
    "    user_agent=new_agent()\n",
    "    page = requests.get(url, user_agent).text\n",
    "    soup = BeautifulSoup(page, 'html5lib')\n",
    "    car_links = soup.findAll('div', {'class':'shop-srp-listings__listing-container'})\n",
    "    print('THIS_IS_PAGE: '+str(pages))\n",
    "    for div in car_links:\n",
    "        links = div.findAll('a')\n",
    "        for a in links:\n",
    "            car_listing.append(\"https://www.cars.com/\" + a['href'])\n",
    "    element = driver.find_element_by_xpath('//a[contains(@class, \"button next-page\")]')\n",
    "    driver.execute_script(\"arguments[0].click();\", element)\n",
    "    time.sleep(1+5*random.random())\n"
   ]
  },
  {
   "cell_type": "code",
   "execution_count": 9,
   "metadata": {},
   "outputs": [],
   "source": [
    "car_data = []\n",
    "headers = ['link','vin','stock_type','year_model','year','model','msrp','price','overall_rating','comf_rating','perf_rating','ext_rating','int_rating',\n",
    "           'value_rating','reliability_rating','indv_dealer','dealer_rev_count','dealer_rev_rating','location','fuel_type',\n",
    "           'ext_color','int_color','stock','drivetrain','transmission','engine','mileage','city_mpg','highway_mpg', 'convenience_feats',\n",
    "           'entertainment_feats','safety_feats','seating_feats','exterior_feats']"
   ]
  },
  {
   "cell_type": "code",
   "execution_count": null,
   "metadata": {},
   "outputs": [],
   "source": [
    "#counter=collections.Counter(car_listing)\n",
    "#counter.most_common(200)"
   ]
  },
  {
   "cell_type": "code",
   "execution_count": 10,
   "metadata": {
    "scrolled": true
   },
   "outputs": [
    {
     "name": "stderr",
     "output_type": "stream",
     "text": [
      "  0% |                                                                        |\r"
     ]
    },
    {
     "name": "stdout",
     "output_type": "stream",
     "text": [
      "2020-01-21 17:48:44.030231 https://www.cars.com//vehicledetail/detail/790441447/overview/\n",
      "2020-01-21 17:48:44.677575 https://www.cars.com//vehicledetail/detail/770861363/overview/\n",
      "2020-01-21 17:48:45.362413 https://www.cars.com//vehicledetail/detail/788347956/overview/\n",
      "2020-01-21 17:48:46.078500 https://www.cars.com//vehicledetail/detail/784121059/overview/\n",
      "2020-01-21 17:48:47.014062 https://www.cars.com//vehicledetail/detail/767132829/overview/\n",
      "2020-01-21 17:48:47.405782 https://www.cars.com//vehicledetail/detail/795447374/overview/\n",
      "2020-01-21 17:48:47.882218 https://www.cars.com//vehicledetail/detail/780680672/overview/\n",
      "2020-01-21 17:48:48.580737 https://www.cars.com//vehicledetail/detail/786965826/overview/\n",
      "2020-01-21 17:48:49.358065 https://www.cars.com//vehicledetail/detail/791475368/overview/\n",
      "2020-01-21 17:48:49.822716 https://www.cars.com//vehicledetail/detail/786523777/overview/\n",
      "2020-01-21 17:48:50.563609 https://www.cars.com//vehicledetail/detail/785491086/overview/\n",
      "2020-01-21 17:48:51.160592 https://www.cars.com//vehicledetail/detail/785795129/overview/\n",
      "2020-01-21 17:48:52.146657 https://www.cars.com//vehicledetail/detail/783291911/overview/\n",
      "2020-01-21 17:48:52.973619 https://www.cars.com//vehicledetail/detail/779430901/overview/\n",
      "2020-01-21 17:48:53.636712 https://www.cars.com//vehicledetail/detail/789519726/overview/?isShippableInsideSearchRadius\n",
      "2020-01-21 17:48:54.297065 https://www.cars.com//vehicledetail/detail/781080846/overview/\n",
      "2020-01-21 17:48:54.976041 https://www.cars.com//vehicledetail/detail/794378909/overview/\n",
      "2020-01-21 17:48:55.742708 https://www.cars.com//vehicledetail/detail/793746448/overview/\n",
      "2020-01-21 17:48:56.623511 https://www.cars.com//vehicledetail/detail/781732169/overview/\n",
      "2020-01-21 17:48:57.150028 https://www.cars.com//vehicledetail/detail/779986828/overview/\n",
      "2020-01-21 17:48:57.666764 https://www.cars.com//vehicledetail/detail/784125761/overview/\n",
      "2020-01-21 17:48:58.413419 https://www.cars.com//vehicledetail/detail/774515172/overview/\n",
      "2020-01-21 17:48:59.025104 https://www.cars.com//vehicledetail/detail/772359185/overview/\n",
      "2020-01-21 17:48:59.691641 https://www.cars.com//vehicledetail/detail/775444008/overview/\n"
     ]
    },
    {
     "name": "stderr",
     "output_type": "stream",
     "text": [
      "  1% |                                                                        |\r"
     ]
    },
    {
     "name": "stdout",
     "output_type": "stream",
     "text": [
      "2020-01-21 17:49:00.357862 https://www.cars.com//vehicledetail/detail/790699960/overview/\n",
      "2020-01-21 17:49:00.864705 https://www.cars.com//vehicledetail/detail/760627590/overview/\n",
      "2020-01-21 17:49:01.703999 https://www.cars.com//vehicledetail/detail/787185041/overview/\n",
      "2020-01-21 17:49:02.269213 https://www.cars.com//vehicledetail/detail/775547082/overview/\n",
      "2020-01-21 17:49:02.904806 https://www.cars.com//vehicledetail/detail/779197556/overview/\n",
      "2020-01-21 17:49:03.339459 https://www.cars.com//vehicledetail/detail/790252422/overview/\n",
      "2020-01-21 17:49:03.924654 https://www.cars.com//vehicledetail/detail/763842082/overview/\n",
      "2020-01-21 17:49:04.714937 https://www.cars.com//vehicledetail/detail/792320587/overview/\n",
      "2020-01-21 17:49:05.405321 https://www.cars.com//vehicledetail/detail/789071101/overview/\n",
      "2020-01-21 17:49:06.020160 https://www.cars.com//vehicledetail/detail/772133735/overview/\n",
      "2020-01-21 17:49:06.685231 https://www.cars.com//vehicledetail/detail/776649759/overview/\n",
      "2020-01-21 17:49:07.288037 https://www.cars.com//vehicledetail/detail/793274881/overview/\n",
      "2020-01-21 17:49:08.195250 https://www.cars.com//vehicledetail/detail/766711065/overview/\n",
      "2020-01-21 17:49:08.967963 https://www.cars.com//vehicledetail/detail/699701300/overview/\n",
      "2020-01-21 17:49:09.685098 https://www.cars.com//vehicledetail/detail/762563094/overview/\n",
      "2020-01-21 17:49:10.319956 https://www.cars.com//vehicledetail/detail/762530034/overview/\n",
      "2020-01-21 17:49:10.787233 https://www.cars.com//vehicledetail/detail/791998306/overview/\n",
      "2020-01-21 17:49:11.642666 https://www.cars.com//vehicledetail/detail/792413862/overview/\n",
      "2020-01-21 17:49:12.370036 https://www.cars.com//vehicledetail/detail/767463935/overview/\n",
      "2020-01-21 17:49:12.819490 https://www.cars.com//vehicledetail/detail/793793671/overview/\n",
      "2020-01-21 17:49:13.385705 https://www.cars.com//vehicledetail/detail/791049751/overview/\n",
      "2020-01-21 17:49:14.036145 https://www.cars.com//vehicledetail/detail/791049740/overview/\n",
      "2020-01-21 17:49:14.881172 https://www.cars.com//vehicledetail/detail/793982566/overview/\n",
      "2020-01-21 17:49:15.676542 https://www.cars.com//vehicledetail/detail/789231137/overview/\n",
      "2020-01-21 17:49:16.643519 https://www.cars.com//vehicledetail/detail/790217003/overview/\n"
     ]
    },
    {
     "name": "stderr",
     "output_type": "stream",
     "text": [
      "  2% |#                                                                       |\r"
     ]
    },
    {
     "name": "stdout",
     "output_type": "stream",
     "text": [
      "2020-01-21 17:49:17.489270 https://www.cars.com//vehicledetail/detail/796512937/overview/\n",
      "2020-01-21 17:49:18.216240 https://www.cars.com//vehicledetail/detail/773264270/overview/\n",
      "2020-01-21 17:49:19.037513 https://www.cars.com//vehicledetail/detail/796153714/overview/\n",
      "2020-01-21 17:49:19.578325 https://www.cars.com//vehicledetail/detail/752780656/overview/\n",
      "2020-01-21 17:49:20.270612 https://www.cars.com//vehicledetail/detail/788599685/overview/\n",
      "2020-01-21 17:49:20.995254 https://www.cars.com//vehicledetail/detail/789794325/overview/\n",
      "2020-01-21 17:49:21.794442 https://www.cars.com//vehicledetail/detail/778038507/overview/\n",
      "2020-01-21 17:49:22.552438 https://www.cars.com//vehicledetail/detail/781018812/overview/\n",
      "2020-01-21 17:49:23.373266 https://www.cars.com//vehicledetail/detail/793410330/overview/\n",
      "2020-01-21 17:49:24.328100 https://www.cars.com//vehicledetail/detail/775880124/overview/\n",
      "2020-01-21 17:49:24.820389 https://www.cars.com//vehicledetail/detail/779676767/overview/\n",
      "2020-01-21 17:49:25.411474 https://www.cars.com//vehicledetail/detail/795863853/overview/\n",
      "2020-01-21 17:49:25.984541 https://www.cars.com//vehicledetail/detail/791640635/overview/\n",
      "2020-01-21 17:49:26.707740 https://www.cars.com//vehicledetail/detail/786427634/overview/\n",
      "2020-01-21 17:49:27.406921 https://www.cars.com//vehicledetail/detail/778058938/overview/\n",
      "2020-01-21 17:49:27.880852 https://www.cars.com//vehicledetail/detail/768218765/overview/\n",
      "2020-01-21 17:49:28.700975 https://www.cars.com//vehicledetail/detail/766976116/overview/\n",
      "2020-01-21 17:49:29.729919 https://www.cars.com//vehicledetail/detail/790308861/overview/\n",
      "2020-01-21 17:49:30.701196 https://www.cars.com//vehicledetail/detail/765472521/overview/\n",
      "2020-01-21 17:49:31.261929 https://www.cars.com//vehicledetail/detail/793208703/overview/\n",
      "2020-01-21 17:49:32.270266 https://www.cars.com//vehicledetail/detail/792540442/overview/\n",
      "2020-01-21 17:49:32.835452 https://www.cars.com//vehicledetail/detail/789818653/overview/\n",
      "2020-01-21 17:49:33.737690 https://www.cars.com//vehicledetail/detail/788681248/overview/\n",
      "2020-01-21 17:49:34.344606 https://www.cars.com//vehicledetail/detail/786418132/overview/\n",
      "2020-01-21 17:49:34.859342 https://www.cars.com//vehicledetail/detail/784915474/overview/\n"
     ]
    },
    {
     "name": "stderr",
     "output_type": "stream",
     "text": [
      "  3% |##                                                                      |\r"
     ]
    },
    {
     "name": "stdout",
     "output_type": "stream",
     "text": [
      "2020-01-21 17:49:35.677994 https://www.cars.com//vehicledetail/detail/796797445/overview/\n",
      "2020-01-21 17:49:36.195928 https://www.cars.com//vehicledetail/detail/788125557/overview/\n",
      "2020-01-21 17:49:36.838541 https://www.cars.com//vehicledetail/detail/794329477/overview/\n",
      "2020-01-21 17:49:37.562745 https://www.cars.com//vehicledetail/detail/788317519/overview/\n",
      "2020-01-21 17:49:38.407337 https://www.cars.com//vehicledetail/detail/796701588/overview/\n",
      "2020-01-21 17:49:39.274718 https://www.cars.com//vehicledetail/detail/795680035/overview/\n",
      "2020-01-21 17:49:39.904588 https://www.cars.com//vehicledetail/detail/761407045/overview/\n",
      "2020-01-21 17:49:40.615435 https://www.cars.com//vehicledetail/detail/772814484/overview/\n",
      "2020-01-21 17:49:41.080065 https://www.cars.com//vehicledetail/detail/795166734/overview/\n",
      "2020-01-21 17:49:41.957261 https://www.cars.com//vehicledetail/detail/795166164/overview/\n",
      "2020-01-21 17:49:42.471814 https://www.cars.com//vehicledetail/detail/795166269/overview/\n",
      "2020-01-21 17:49:43.346770 https://www.cars.com//vehicledetail/detail/792161872/overview/\n",
      "2020-01-21 17:49:44.002280 https://www.cars.com//vehicledetail/detail/773400926/overview/\n",
      "2020-01-21 17:49:44.834586 https://www.cars.com//vehicledetail/detail/794623307/overview/\n",
      "2020-01-21 17:49:45.453506 https://www.cars.com//vehicledetail/detail/785859982/overview/\n",
      "2020-01-21 17:49:46.440428 https://www.cars.com//vehicledetail/detail/796163005/overview/\n",
      "2020-01-21 17:49:47.174604 https://www.cars.com//vehicledetail/detail/766212084/overview/\n",
      "2020-01-21 17:49:47.770015 https://www.cars.com//vehicledetail/detail/792906460/overview/\n",
      "2020-01-21 17:49:48.320982 https://www.cars.com//vehicledetail/detail/790138831/overview/\n",
      "2020-01-21 17:49:49.007596 https://www.cars.com//vehicledetail/detail/792623742/overview/\n",
      "2020-01-21 17:49:49.722067 https://www.cars.com//vehicledetail/detail/789358901/overview/\n",
      "2020-01-21 17:49:50.456050 https://www.cars.com//vehicledetail/detail/787277829/overview/\n",
      "2020-01-21 17:49:51.293619 https://www.cars.com//vehicledetail/detail/775819321/overview/\n",
      "2020-01-21 17:49:52.060834 https://www.cars.com//vehicledetail/detail/784631983/overview/\n",
      "2020-01-21 17:49:52.882467 https://www.cars.com//vehicledetail/detail/785889790/overview/\n"
     ]
    },
    {
     "name": "stderr",
     "output_type": "stream",
     "text": [
      "  4% |##                                                                      |\r"
     ]
    },
    {
     "name": "stdout",
     "output_type": "stream",
     "text": [
      "2020-01-21 17:49:53.719590 https://www.cars.com//vehicledetail/detail/792560779/overview/\n",
      "2020-01-21 17:49:54.237111 https://www.cars.com//vehicledetail/detail/790858610/overview/\n",
      "2020-01-21 17:49:54.776046 https://www.cars.com//vehicledetail/detail/793969653/overview/\n",
      "2020-01-21 17:49:55.325514 https://www.cars.com//vehicledetail/detail/793227223/overview/\n",
      "2020-01-21 17:49:56.173560 https://www.cars.com//vehicledetail/detail/788735831/overview/\n",
      "2020-01-21 17:49:57.022427 https://www.cars.com//vehicledetail/detail/794705107/overview/\n",
      "2020-01-21 17:49:57.901336 https://www.cars.com//vehicledetail/detail/795719794/overview/\n",
      "2020-01-21 17:49:58.713173 https://www.cars.com//vehicledetail/detail/788962679/overview/\n",
      "2020-01-21 17:49:59.257252 https://www.cars.com//vehicledetail/detail/785043196/overview/\n",
      "2020-01-21 17:49:59.746695 https://www.cars.com//vehicledetail/detail/794212054/overview/\n",
      "2020-01-21 17:50:00.397842 https://www.cars.com//vehicledetail/detail/764143566/overview/\n",
      "2020-01-21 17:50:00.850152 https://www.cars.com//vehicledetail/detail/778098726/overview/\n",
      "2020-01-21 17:50:01.596472 https://www.cars.com//vehicledetail/detail/793704814/overview/\n",
      "2020-01-21 17:50:02.158292 https://www.cars.com//vehicledetail/detail/786282753/overview/\n",
      "2020-01-21 17:50:02.941916 https://www.cars.com//vehicledetail/detail/786595241/overview/\n",
      "2020-01-21 17:50:03.757604 https://www.cars.com//vehicledetail/detail/795629894/overview/\n",
      "2020-01-21 17:50:04.484784 https://www.cars.com//vehicledetail/detail/796456313/overview/\n",
      "2020-01-21 17:50:05.320217 https://www.cars.com//vehicledetail/detail/792767974/overview/\n",
      "2020-01-21 17:50:06.392477 https://www.cars.com//vehicledetail/detail/791804056/overview/\n",
      "2020-01-21 17:50:07.006287 https://www.cars.com//vehicledetail/detail/767541746/overview/\n",
      "2020-01-21 17:50:07.604770 https://www.cars.com//vehicledetail/detail/796332160/overview/\n",
      "2020-01-21 17:50:08.439840 https://www.cars.com//vehicledetail/detail/775447249/overview/\n",
      "2020-01-21 17:50:09.096926 https://www.cars.com//vehicledetail/detail/763987597/overview/\n",
      "2020-01-21 17:50:09.666906 https://www.cars.com//vehicledetail/detail/793600031/overview/\n",
      "2020-01-21 17:50:10.335465 https://www.cars.com//vehicledetail/detail/787648726/overview/\n"
     ]
    },
    {
     "name": "stderr",
     "output_type": "stream",
     "text": [
      "  5% |###                                                                     |\r"
     ]
    },
    {
     "name": "stdout",
     "output_type": "stream",
     "text": [
      "2020-01-21 17:50:10.967695 https://www.cars.com//vehicledetail/detail/763235482/overview/\n",
      "2020-01-21 17:50:11.730140 https://www.cars.com//vehicledetail/detail/794680538/overview/\n",
      "2020-01-21 17:50:12.692990 https://www.cars.com//vehicledetail/detail/770444702/overview/\n",
      "2020-01-21 17:50:13.414971 https://www.cars.com//vehicledetail/detail/780709520/overview/\n",
      "2020-01-21 17:50:14.273662 https://www.cars.com//vehicledetail/detail/767146079/overview/\n",
      "2020-01-21 17:50:15.367474 https://www.cars.com//vehicledetail/detail/792587750/overview/\n",
      "2020-01-21 17:50:15.820935 https://www.cars.com//vehicledetail/detail/771842578/overview/\n",
      "2020-01-21 17:50:16.343654 https://www.cars.com//vehicledetail/detail/790419325/overview/\n",
      "2020-01-21 17:50:16.820945 https://www.cars.com//vehicledetail/detail/796170054/overview/\n",
      "2020-01-21 17:50:17.319538 https://www.cars.com//vehicledetail/detail/788757739/overview/\n",
      "2020-01-21 17:50:18.210958 https://www.cars.com//vehicledetail/detail/774715404/overview/\n",
      "2020-01-21 17:50:19.199063 https://www.cars.com//vehicledetail/detail/774031466/overview/\n",
      "2020-01-21 17:50:19.938080 https://www.cars.com//vehicledetail/detail/776004489/overview/\n",
      "2020-01-21 17:50:20.706671 https://www.cars.com//vehicledetail/detail/795067130/overview/\n",
      "2020-01-21 17:50:21.257411 https://www.cars.com//vehicledetail/detail/791916521/overview/\n",
      "2020-01-21 17:50:22.109020 https://www.cars.com//vehicledetail/detail/778998101/overview/\n",
      "2020-01-21 17:50:22.805994 https://www.cars.com//vehicledetail/detail/777385313/overview/\n",
      "2020-01-21 17:50:23.597638 https://www.cars.com//vehicledetail/detail/780049014/overview/\n",
      "2020-01-21 17:50:24.444282 https://www.cars.com//vehicledetail/detail/794110949/overview/\n",
      "2020-01-21 17:50:25.094937 https://www.cars.com//vehicledetail/detail/771996191/overview/\n",
      "2020-01-21 17:50:25.725220 https://www.cars.com//vehicledetail/detail/792381689/overview/\n",
      "2020-01-21 17:50:26.573116 https://www.cars.com//vehicledetail/detail/764166669/overview/\n",
      "2020-01-21 17:50:27.491593 https://www.cars.com//vehicledetail/detail/793344805/overview/\n",
      "2020-01-21 17:50:27.963716 https://www.cars.com//vehicledetail/detail/796423744/overview/?isShippableInsideSearchRadius\n",
      "2020-01-21 17:50:28.772632 https://www.cars.com//vehicledetail/detail/791998398/overview/\n"
     ]
    },
    {
     "name": "stderr",
     "output_type": "stream",
     "text": [
      "  6% |####                                                                    |\r"
     ]
    },
    {
     "name": "stdout",
     "output_type": "stream",
     "text": [
      "2020-01-21 17:50:29.522647 https://www.cars.com//vehicledetail/detail/791998461/overview/\n",
      "2020-01-21 17:50:30.444832 https://www.cars.com//vehicledetail/detail/787758602/overview/\n",
      "2020-01-21 17:50:31.410670 https://www.cars.com//vehicledetail/detail/795249833/overview/\n",
      "2020-01-21 17:50:32.289464 https://www.cars.com//vehicledetail/detail/770392672/overview/\n",
      "2020-01-21 17:50:33.081083 https://www.cars.com//vehicledetail/detail/788978636/overview/\n",
      "2020-01-21 17:50:33.906733 https://www.cars.com//vehicledetail/detail/792888393/overview/\n",
      "2020-01-21 17:50:34.764687 https://www.cars.com//vehicledetail/detail/796398768/overview/\n",
      "2020-01-21 17:50:35.774531 https://www.cars.com//vehicledetail/detail/750709905/overview/\n",
      "2020-01-21 17:50:36.616504 https://www.cars.com//vehicledetail/detail/795712603/overview/\n",
      "2020-01-21 17:50:37.551848 https://www.cars.com//vehicledetail/detail/764467476/overview/\n",
      "2020-01-21 17:50:38.242941 https://www.cars.com//vehicledetail/detail/794971483/overview/\n",
      "2020-01-21 17:50:38.913790 https://www.cars.com//vehicledetail/detail/789169719/overview/\n",
      "2020-01-21 17:50:39.751933 https://www.cars.com//vehicledetail/detail/766279550/overview/\n",
      "2020-01-21 17:50:40.399126 https://www.cars.com//vehicledetail/detail/796434407/overview/?isShippableInsideSearchRadius\n",
      "2020-01-21 17:50:40.986189 https://www.cars.com//vehicledetail/detail/796017267/overview/\n",
      "2020-01-21 17:50:41.489816 https://www.cars.com//vehicledetail/detail/788296471/overview/\n",
      "2020-01-21 17:50:42.057745 https://www.cars.com//vehicledetail/detail/791488548/overview/\n",
      "2020-01-21 17:50:42.716567 https://www.cars.com//vehicledetail/detail/795518695/overview/\n",
      "2020-01-21 17:50:43.460742 https://www.cars.com//vehicledetail/detail/791443494/overview/\n",
      "2020-01-21 17:50:44.522865 https://www.cars.com//vehicledetail/detail/787986381/overview/\n",
      "2020-01-21 17:50:44.943171 https://www.cars.com//vehicledetail/detail/796696195/overview/\n",
      "2020-01-21 17:50:45.881543 https://www.cars.com//vehicledetail/detail/779676765/overview/\n",
      "2020-01-21 17:50:46.477811 https://www.cars.com//vehicledetail/detail/796275554/overview/?isShippableInsideSearchRadius\n",
      "2020-01-21 17:50:47.346753 https://www.cars.com//vehicledetail/detail/780189645/overview/\n",
      "2020-01-21 17:50:48.242307 https://www.cars.com//vehicledetail/detail/779155486/overview/\n"
     ]
    },
    {
     "name": "stderr",
     "output_type": "stream",
     "text": [
      "  7% |#####                                                                   |\r"
     ]
    },
    {
     "name": "stdout",
     "output_type": "stream",
     "text": [
      "2020-01-21 17:50:49.049206 https://www.cars.com//vehicledetail/detail/777560894/overview/\n",
      "2020-01-21 17:50:49.629246 https://www.cars.com//vehicledetail/detail/792540451/overview/\n",
      "2020-01-21 17:50:50.362352 https://www.cars.com//vehicledetail/detail/776971328/overview/\n",
      "2020-01-21 17:50:50.997154 https://www.cars.com//vehicledetail/detail/796427699/overview/?isShippableInsideSearchRadius\n",
      "2020-01-21 17:50:51.768745 https://www.cars.com//vehicledetail/detail/792061489/overview/\n",
      "2020-01-21 17:50:52.589634 https://www.cars.com//vehicledetail/detail/795166230/overview/\n",
      "2020-01-21 17:50:53.310482 https://www.cars.com//vehicledetail/detail/795166920/overview/\n",
      "2020-01-21 17:50:54.059425 https://www.cars.com//vehicledetail/detail/795166061/overview/\n",
      "2020-01-21 17:50:54.956865 https://www.cars.com//vehicledetail/detail/795166607/overview/\n",
      "2020-01-21 17:50:55.651659 https://www.cars.com//vehicledetail/detail/794678618/overview/\n",
      "2020-01-21 17:50:56.335542 https://www.cars.com//vehicledetail/detail/795499370/overview/\n",
      "2020-01-21 17:50:56.969250 https://www.cars.com//vehicledetail/detail/730871975/overview/\n",
      "2020-01-21 17:50:57.794316 https://www.cars.com//vehicledetail/detail/792125690/overview/\n",
      "2020-01-21 17:50:58.786586 https://www.cars.com//vehicledetail/detail/783248231/overview/\n",
      "2020-01-21 17:50:59.580636 https://www.cars.com//vehicledetail/detail/795826076/overview/\n",
      "2020-01-21 17:51:00.572973 https://www.cars.com//vehicledetail/detail/745946157/overview/\n",
      "2020-01-21 17:51:01.354716 https://www.cars.com//vehicledetail/detail/794811077/overview/\n",
      "2020-01-21 17:51:02.045663 https://www.cars.com//vehicledetail/detail/794997735/overview/\n",
      "2020-01-21 17:51:02.808206 https://www.cars.com//vehicledetail/detail/789514080/overview/?isShippableInsideSearchRadius\n",
      "2020-01-21 17:51:03.927544 https://www.cars.com//vehicledetail/detail/777104292/overview/\n",
      "2020-01-21 17:51:04.588915 https://www.cars.com//vehicledetail/detail/783903865/overview/\n",
      "2020-01-21 17:51:05.228846 https://www.cars.com//vehicledetail/detail/793749915/overview/\n",
      "2020-01-21 17:51:06.028658 https://www.cars.com//vehicledetail/detail/780778385/overview/\n",
      "2020-01-21 17:51:06.829419 https://www.cars.com//vehicledetail/detail/776143648/overview/\n",
      "2020-01-21 17:51:07.676475 https://www.cars.com//vehicledetail/detail/782638508/overview/\n"
     ]
    },
    {
     "name": "stderr",
     "output_type": "stream",
     "text": [
      "  8% |#####                                                                   |\r"
     ]
    },
    {
     "name": "stdout",
     "output_type": "stream",
     "text": [
      "2020-01-21 17:51:08.573187 https://www.cars.com//vehicledetail/detail/794644599/overview/\n",
      "2020-01-21 17:51:09.182551 https://www.cars.com//vehicledetail/detail/769196616/overview/\n",
      "2020-01-21 17:51:09.739053 https://www.cars.com//vehicledetail/detail/795443902/overview/\n",
      "2020-01-21 17:51:10.673670 https://www.cars.com//vehicledetail/detail/787280530/overview/\n",
      "2020-01-21 17:51:11.222936 https://www.cars.com//vehicledetail/detail/784982308/overview/\n",
      "2020-01-21 17:51:11.738296 https://www.cars.com//vehicledetail/detail/792241035/overview/\n",
      "2020-01-21 17:51:12.498049 https://www.cars.com//vehicledetail/detail/795054912/overview/\n",
      "2020-01-21 17:51:13.137886 https://www.cars.com//vehicledetail/detail/796428328/overview/?isShippableInsideSearchRadius\n",
      "2020-01-21 17:51:13.737697 https://www.cars.com//vehicledetail/detail/795308340/overview/\n",
      "2020-01-21 17:51:14.204551 https://www.cars.com//vehicledetail/detail/787035131/overview/\n",
      "2020-01-21 17:51:14.706244 https://www.cars.com//vehicledetail/detail/782352080/overview/\n",
      "2020-01-21 17:51:15.649836 https://www.cars.com//vehicledetail/detail/795931175/overview/\n",
      "2020-01-21 17:51:16.518694 https://www.cars.com//vehicledetail/detail/765031932/overview/\n",
      "2020-01-21 17:51:17.239100 https://www.cars.com//vehicledetail/detail/794820630/overview/\n",
      "2020-01-21 17:51:18.060731 https://www.cars.com//vehicledetail/detail/795296063/overview/\n",
      "2020-01-21 17:51:18.918376 https://www.cars.com//vehicledetail/detail/792951298/overview/\n",
      "2020-01-21 17:51:19.375963 https://www.cars.com//vehicledetail/detail/784150377/overview/\n",
      "2020-01-21 17:51:20.210404 https://www.cars.com//vehicledetail/detail/794162953/overview/\n",
      "2020-01-21 17:51:21.046428 https://www.cars.com//vehicledetail/detail/783811388/overview/\n",
      "2020-01-21 17:51:21.938381 https://www.cars.com//vehicledetail/detail/783012550/overview/\n",
      "2020-01-21 17:51:22.444199 https://www.cars.com//vehicledetail/detail/780733732/overview/\n",
      "2020-01-21 17:51:23.134022 https://www.cars.com//vehicledetail/detail/768512601/overview/\n",
      "2020-01-21 17:51:23.709794 https://www.cars.com//vehicledetail/detail/787779449/overview/\n",
      "2020-01-21 17:51:24.342565 https://www.cars.com//vehicledetail/detail/796827442/overview/\n",
      "2020-01-21 17:51:24.999197 https://www.cars.com//vehicledetail/detail/790252595/overview/\n"
     ]
    },
    {
     "name": "stderr",
     "output_type": "stream",
     "text": [
      "  9% |######                                                                  |\r"
     ]
    },
    {
     "name": "stdout",
     "output_type": "stream",
     "text": [
      "2020-01-21 17:51:25.846243 https://www.cars.com//vehicledetail/detail/787506689/overview/\n",
      "2020-01-21 17:51:26.508220 https://www.cars.com//vehicledetail/detail/779923518/overview/\n",
      "2020-01-21 17:51:27.189500 https://www.cars.com//vehicledetail/detail/780559034/overview/\n",
      "2020-01-21 17:51:27.745779 https://www.cars.com//vehicledetail/detail/786542484/overview/\n",
      "2020-01-21 17:51:28.263527 https://www.cars.com//vehicledetail/detail/793124414/overview/\n",
      "2020-01-21 17:51:29.097770 https://www.cars.com//vehicledetail/detail/793600006/overview/\n",
      "2020-01-21 17:51:29.898174 https://www.cars.com//vehicledetail/detail/767927783/overview/\n",
      "2020-01-21 17:51:30.637059 https://www.cars.com//vehicledetail/detail/774790463/overview/\n",
      "2020-01-21 17:51:31.511419 https://www.cars.com//vehicledetail/detail/793225834/overview/\n",
      "2020-01-21 17:51:32.672496 https://www.cars.com//vehicledetail/detail/790902142/overview/\n",
      "2020-01-21 17:51:33.645753 https://www.cars.com//vehicledetail/detail/796422632/overview/?isShippableInsideSearchRadius\n",
      "2020-01-21 17:51:34.531842 https://www.cars.com//vehicledetail/detail/776199988/overview/\n",
      "2020-01-21 17:51:35.393635 https://www.cars.com//vehicledetail/detail/746297022/overview/\n",
      "2020-01-21 17:51:36.036158 https://www.cars.com//vehicledetail/detail/790637351/overview/\n",
      "2020-01-21 17:51:36.824986 https://www.cars.com//vehicledetail/detail/795527825/overview/\n",
      "2020-01-21 17:51:37.287155 https://www.cars.com//vehicledetail/detail/790421323/overview/\n",
      "2020-01-21 17:51:38.189881 https://www.cars.com//vehicledetail/detail/766822808/overview/\n",
      "2020-01-21 17:51:38.947882 https://www.cars.com//vehicledetail/detail/793702820/overview/\n",
      "2020-01-21 17:51:39.606644 https://www.cars.com//vehicledetail/detail/762237193/overview/\n",
      "2020-01-21 17:51:40.393533 https://www.cars.com//vehicledetail/detail/771770570/overview/\n",
      "2020-01-21 17:51:41.082518 https://www.cars.com//vehicledetail/detail/779945935/overview/\n",
      "2020-01-21 17:51:41.685076 https://www.cars.com//vehicledetail/detail/786617162/overview/\n",
      "2020-01-21 17:51:42.374854 https://www.cars.com//vehicledetail/detail/788750045/overview/\n",
      "2020-01-21 17:51:43.169683 https://www.cars.com//vehicledetail/detail/789512498/overview/\n",
      "2020-01-21 17:51:43.645262 https://www.cars.com//vehicledetail/detail/793294844/overview/\n"
     ]
    },
    {
     "name": "stderr",
     "output_type": "stream",
     "text": [
      " 10% |#######                                                                 |\r"
     ]
    },
    {
     "name": "stdout",
     "output_type": "stream",
     "text": [
      "2020-01-21 17:51:44.465375 https://www.cars.com//vehicledetail/detail/793878067/overview/\n",
      "2020-01-21 17:51:45.441516 https://www.cars.com//vehicledetail/detail/787535377/overview/\n",
      "2020-01-21 17:51:46.092645 https://www.cars.com//vehicledetail/detail/793905730/overview/\n",
      "2020-01-21 17:51:46.582967 https://www.cars.com//vehicledetail/detail/789649594/overview/\n",
      "2020-01-21 17:51:47.413175 https://www.cars.com//vehicledetail/detail/789533553/overview/\n",
      "2020-01-21 17:51:48.145526 https://www.cars.com//vehicledetail/detail/734820748/overview/\n",
      "2020-01-21 17:51:48.604948 https://www.cars.com//vehicledetail/detail/782369650/overview/\n",
      "2020-01-21 17:51:49.489859 https://www.cars.com//vehicledetail/detail/795859768/overview/\n",
      "2020-01-21 17:51:50.299951 https://www.cars.com//vehicledetail/detail/771806750/overview/\n",
      "2020-01-21 17:51:51.312055 https://www.cars.com//vehicledetail/detail/781741201/overview/\n",
      "2020-01-21 17:51:51.852991 https://www.cars.com//vehicledetail/detail/781018811/overview/\n",
      "2020-01-21 17:51:52.527751 https://www.cars.com//vehicledetail/detail/791434357/overview/\n",
      "2020-01-21 17:51:53.379033 https://www.cars.com//vehicledetail/detail/789703200/overview/\n",
      "2020-01-21 17:51:54.154623 https://www.cars.com//vehicledetail/detail/764938465/overview/\n",
      "2020-01-21 17:51:55.081880 https://www.cars.com//vehicledetail/detail/794945131/overview/\n",
      "2020-01-21 17:51:55.831421 https://www.cars.com//vehicledetail/detail/790045651/overview/\n",
      "2020-01-21 17:51:56.619370 https://www.cars.com//vehicledetail/detail/782357686/overview/\n",
      "2020-01-21 17:51:57.490002 https://www.cars.com//vehicledetail/detail/796282083/overview/\n",
      "2020-01-21 17:51:58.364523 https://www.cars.com//vehicledetail/detail/786128234/overview/\n",
      "2020-01-21 17:51:59.016163 https://www.cars.com//vehicledetail/detail/768916633/overview/\n",
      "2020-01-21 17:51:59.612766 https://www.cars.com//vehicledetail/detail/790135121/overview/\n",
      "2020-01-21 17:52:00.651436 https://www.cars.com//vehicledetail/detail/793651846/overview/\n",
      "2020-01-21 17:52:01.139957 https://www.cars.com//vehicledetail/detail/777396137/overview/\n",
      "2020-01-21 17:52:01.820678 https://www.cars.com//vehicledetail/detail/796705834/overview/\n",
      "2020-01-21 17:52:02.407780 https://www.cars.com//vehicledetail/detail/793447296/overview/\n"
     ]
    },
    {
     "name": "stderr",
     "output_type": "stream",
     "text": [
      " 11% |########                                                                |\r"
     ]
    },
    {
     "name": "stdout",
     "output_type": "stream",
     "text": [
      "2020-01-21 17:52:02.983157 https://www.cars.com//vehicledetail/detail/756715715/overview/\n",
      "2020-01-21 17:52:03.903719 https://www.cars.com//vehicledetail/detail/784670793/overview/\n",
      "2020-01-21 17:52:04.903128 https://www.cars.com//vehicledetail/detail/773505680/overview/\n",
      "2020-01-21 17:52:05.543715 https://www.cars.com//vehicledetail/detail/761781250/overview/\n",
      "2020-01-21 17:52:06.132483 https://www.cars.com//vehicledetail/detail/749984943/overview/\n",
      "2020-01-21 17:52:06.652241 https://www.cars.com//vehicledetail/detail/795166396/overview/\n",
      "2020-01-21 17:52:07.385819 https://www.cars.com//vehicledetail/detail/795166618/overview/\n",
      "2020-01-21 17:52:07.975053 https://www.cars.com//vehicledetail/detail/795166838/overview/\n",
      "2020-01-21 17:52:08.797805 https://www.cars.com//vehicledetail/detail/795166151/overview/\n",
      "2020-01-21 17:52:09.285287 https://www.cars.com//vehicledetail/detail/792249346/overview/\n",
      "2020-01-21 17:52:10.017447 https://www.cars.com//vehicledetail/detail/770330792/overview/\n",
      "2020-01-21 17:52:11.007611 https://www.cars.com//vehicledetail/detail/794745731/overview/\n",
      "2020-01-21 17:52:12.008316 https://www.cars.com//vehicledetail/detail/773733749/overview/\n",
      "2020-01-21 17:52:12.988957 https://www.cars.com//vehicledetail/detail/767505181/overview/\n",
      "2020-01-21 17:52:13.854411 https://www.cars.com//vehicledetail/detail/791737125/overview/\n",
      "2020-01-21 17:52:14.652344 https://www.cars.com//vehicledetail/detail/791737059/overview/\n",
      "2020-01-21 17:52:15.222593 https://www.cars.com//vehicledetail/detail/785186116/overview/\n",
      "2020-01-21 17:52:16.097474 https://www.cars.com//vehicledetail/detail/795297310/overview/\n",
      "2020-01-21 17:52:16.813527 https://www.cars.com//vehicledetail/detail/782892983/overview/\n",
      "2020-01-21 17:52:17.549749 https://www.cars.com//vehicledetail/detail/762005208/overview/\n",
      "2020-01-21 17:52:18.127693 https://www.cars.com//vehicledetail/detail/793078854/overview/\n",
      "2020-01-21 17:52:18.959040 https://www.cars.com//vehicledetail/detail/796545898/overview/\n",
      "2020-01-21 17:52:19.540759 https://www.cars.com//vehicledetail/detail/787277595/overview/\n",
      "2020-01-21 17:52:20.038093 https://www.cars.com//vehicledetail/detail/776246678/overview/\n",
      "2020-01-21 17:52:20.919420 https://www.cars.com//vehicledetail/detail/786689802/overview/\n"
     ]
    },
    {
     "name": "stderr",
     "output_type": "stream",
     "text": [
      " 12% |########                                                                |\r"
     ]
    },
    {
     "name": "stdout",
     "output_type": "stream",
     "text": [
      "2020-01-21 17:52:21.444402 https://www.cars.com//vehicledetail/detail/779228275/overview/\n",
      "2020-01-21 17:52:22.001848 https://www.cars.com//vehicledetail/detail/787058400/overview/\n",
      "2020-01-21 17:52:22.528711 https://www.cars.com//vehicledetail/detail/784972546/overview/\n",
      "2020-01-21 17:52:23.535131 https://www.cars.com//vehicledetail/detail/792044461/overview/\n",
      "2020-01-21 17:52:24.427013 https://www.cars.com//vehicledetail/detail/792867336/overview/\n",
      "2020-01-21 17:52:25.232593 https://www.cars.com//vehicledetail/detail/776121071/overview/\n",
      "2020-01-21 17:52:25.678025 https://www.cars.com//vehicledetail/detail/791739268/overview/\n",
      "2020-01-21 17:52:26.525676 https://www.cars.com//vehicledetail/detail/796183250/overview/\n",
      "2020-01-21 17:52:27.457550 https://www.cars.com//vehicledetail/detail/795207039/overview/\n",
      "2020-01-21 17:52:28.351468 https://www.cars.com//vehicledetail/detail/790309535/overview/\n",
      "2020-01-21 17:52:28.743031 https://www.cars.com//vehicledetail/detail/795726259/overview/?isShippableInsideSearchRadius\n",
      "2020-01-21 17:52:29.335343 https://www.cars.com//vehicledetail/detail/768095299/overview/\n",
      "2020-01-21 17:52:30.288699 https://www.cars.com//vehicledetail/detail/767031947/overview/\n",
      "2020-01-21 17:52:31.032655 https://www.cars.com//vehicledetail/detail/730429699/overview/\n",
      "2020-01-21 17:52:31.894747 https://www.cars.com//vehicledetail/detail/761062037/overview/\n",
      "2020-01-21 17:52:32.809456 https://www.cars.com//vehicledetail/detail/786965744/overview/\n",
      "2020-01-21 17:52:33.515654 https://www.cars.com//vehicledetail/detail/786965827/overview/\n",
      "2020-01-21 17:52:34.207070 https://www.cars.com//vehicledetail/detail/791868541/overview/\n",
      "2020-01-21 17:52:34.775444 https://www.cars.com//vehicledetail/detail/788891061/overview/\n",
      "2020-01-21 17:52:35.424884 https://www.cars.com//vehicledetail/detail/787149665/overview/\n",
      "2020-01-21 17:52:37.297177 https://www.cars.com//vehicledetail/detail/755336712/overview/\n",
      "2020-01-21 17:52:37.845282 https://www.cars.com//vehicledetail/detail/765851454/overview/\n",
      "2020-01-21 17:52:38.393328 https://www.cars.com//vehicledetail/detail/776563325/overview/\n",
      "2020-01-21 17:52:39.073902 https://www.cars.com//vehicledetail/detail/752103773/overview/\n",
      "2020-01-21 17:52:39.830404 https://www.cars.com//vehicledetail/detail/793317106/overview/\n"
     ]
    },
    {
     "name": "stderr",
     "output_type": "stream",
     "text": [
      " 13% |#########                                                               |\r"
     ]
    },
    {
     "name": "stdout",
     "output_type": "stream",
     "text": [
      "2020-01-21 17:52:40.481401 https://www.cars.com//vehicledetail/detail/792147126/overview/\n",
      "2020-01-21 17:52:41.107395 https://www.cars.com//vehicledetail/detail/789874904/overview/\n",
      "2020-01-21 17:52:41.910633 https://www.cars.com//vehicledetail/detail/792461639/overview/\n",
      "2020-01-21 17:52:42.361114 https://www.cars.com//vehicledetail/detail/795066803/overview/\n",
      "2020-01-21 17:52:42.991070 https://www.cars.com//vehicledetail/detail/768296635/overview/\n",
      "2020-01-21 17:52:43.575691 https://www.cars.com//vehicledetail/detail/790993275/overview/\n",
      "2020-01-21 17:52:44.287653 https://www.cars.com//vehicledetail/detail/792892855/overview/\n",
      "2020-01-21 17:52:44.953879 https://www.cars.com//vehicledetail/detail/788842042/overview/\n",
      "2020-01-21 17:52:45.531035 https://www.cars.com//vehicledetail/detail/781862989/overview/\n",
      "2020-01-21 17:52:46.128766 https://www.cars.com//vehicledetail/detail/771000983/overview/\n",
      "2020-01-21 17:52:46.705800 https://www.cars.com//vehicledetail/detail/788898290/overview/\n",
      "2020-01-21 17:52:47.356816 https://www.cars.com//vehicledetail/detail/767541877/overview/\n",
      "2020-01-21 17:52:48.254497 https://www.cars.com//vehicledetail/detail/779489967/overview/\n",
      "2020-01-21 17:52:48.763546 https://www.cars.com//vehicledetail/detail/787840183/overview/\n",
      "2020-01-21 17:52:49.306946 https://www.cars.com//vehicledetail/detail/771870387/overview/\n",
      "2020-01-21 17:52:49.975508 https://www.cars.com//vehicledetail/detail/772418553/overview/\n",
      "2020-01-21 17:52:50.656496 https://www.cars.com//vehicledetail/detail/788486706/overview/\n",
      "2020-01-21 17:52:51.690411 https://www.cars.com//vehicledetail/detail/784959401/overview/\n",
      "2020-01-21 17:52:52.214475 https://www.cars.com//vehicledetail/detail/780685380/overview/\n",
      "2020-01-21 17:52:52.669897 https://www.cars.com//vehicledetail/detail/763165840/overview/\n",
      "2020-01-21 17:52:53.265689 https://www.cars.com//vehicledetail/detail/788618158/overview/\n",
      "2020-01-21 17:52:53.916247 https://www.cars.com//vehicledetail/detail/789801696/overview/\n",
      "2020-01-21 17:52:54.726823 https://www.cars.com//vehicledetail/detail/792121183/overview/\n",
      "2020-01-21 17:52:55.325885 https://www.cars.com//vehicledetail/detail/746579365/overview/\n",
      "2020-01-21 17:52:55.833949 https://www.cars.com//vehicledetail/detail/778986782/overview/\n"
     ]
    },
    {
     "name": "stderr",
     "output_type": "stream",
     "text": [
      " 14% |##########                                                              |\r"
     ]
    },
    {
     "name": "stdout",
     "output_type": "stream",
     "text": [
      "2020-01-21 17:52:56.694614 https://www.cars.com//vehicledetail/detail/764099831/overview/\n",
      "2020-01-21 17:52:57.206270 https://www.cars.com//vehicledetail/detail/782062279/overview/\n",
      "2020-01-21 17:52:58.150959 https://www.cars.com//vehicledetail/detail/784852302/overview/\n",
      "2020-01-21 17:52:58.746318 https://www.cars.com//vehicledetail/detail/689557298/overview/\n",
      "expected string or bytes-like object\n",
      "expected string or bytes-like object\n",
      "expected string or bytes-like object\n",
      "expected string or bytes-like object\n",
      "2020-01-21 17:53:02.606107 https://www.cars.com//vehicledetail/detail/791998415/overview/\n",
      "2020-01-21 17:53:03.521156 https://www.cars.com//vehicledetail/detail/791998382/overview/\n",
      "2020-01-21 17:53:04.043747 https://www.cars.com//vehicledetail/detail/790598735/overview/\n",
      "2020-01-21 17:53:04.988410 https://www.cars.com//vehicledetail/detail/791306480/overview/\n",
      "2020-01-21 17:53:05.585824 https://www.cars.com//vehicledetail/detail/796344567/overview/\n",
      "2020-01-21 17:53:06.369996 https://www.cars.com//vehicledetail/detail/789468533/overview/\n",
      "2020-01-21 17:53:07.131735 https://www.cars.com//vehicledetail/detail/789468527/overview/\n",
      "2020-01-21 17:53:08.135264 https://www.cars.com//vehicledetail/detail/789468385/overview/\n",
      "2020-01-21 17:53:08.588484 https://www.cars.com//vehicledetail/detail/771172746/overview/\n",
      "2020-01-21 17:53:09.357969 https://www.cars.com//vehicledetail/detail/794980566/overview/\n",
      "2020-01-21 17:53:10.180517 https://www.cars.com//vehicledetail/detail/786051622/overview/\n",
      "2020-01-21 17:53:10.837997 https://www.cars.com//vehicledetail/detail/778020460/overview/\n",
      "2020-01-21 17:53:11.530380 https://www.cars.com//vehicledetail/detail/793744828/overview/\n",
      "2020-01-21 17:53:12.104636 https://www.cars.com//vehicledetail/detail/734820850/overview/\n",
      "2020-01-21 17:53:12.686808 https://www.cars.com//vehicledetail/detail/744788134/overview/\n",
      "2020-01-21 17:53:13.521042 https://www.cars.com//vehicledetail/detail/778580972/overview/\n",
      "2020-01-21 17:53:14.113826 https://www.cars.com//vehicledetail/detail/771806664/overview/\n"
     ]
    },
    {
     "name": "stderr",
     "output_type": "stream",
     "text": [
      " 15% |###########                                                             |\r"
     ]
    },
    {
     "name": "stdout",
     "output_type": "stream",
     "text": [
      "2020-01-21 17:53:15.046256 https://www.cars.com//vehicledetail/detail/770804472/overview/\n",
      "2020-01-21 17:53:15.836409 https://www.cars.com//vehicledetail/detail/796422102/overview/?isShippableInsideSearchRadius\n",
      "2020-01-21 17:53:16.455833 https://www.cars.com//vehicledetail/detail/784992823/overview/\n",
      "2020-01-21 17:53:17.121771 https://www.cars.com//vehicledetail/detail/793959339/overview/\n",
      "2020-01-21 17:53:17.643065 https://www.cars.com//vehicledetail/detail/794228036/overview/\n",
      "2020-01-21 17:53:18.291676 https://www.cars.com//vehicledetail/detail/786665505/overview/\n",
      "2020-01-21 17:53:19.045841 https://www.cars.com//vehicledetail/detail/796436418/overview/\n",
      "2020-01-21 17:53:19.811486 https://www.cars.com//vehicledetail/detail/795910178/overview/\n",
      "2020-01-21 17:53:20.365183 https://www.cars.com//vehicledetail/detail/795600403/overview/\n",
      "2020-01-21 17:53:21.094722 https://www.cars.com//vehicledetail/detail/795914148/overview/\n",
      "2020-01-21 17:53:21.867605 https://www.cars.com//vehicledetail/detail/776752728/overview/\n",
      "2020-01-21 17:53:22.743677 https://www.cars.com//vehicledetail/detail/795166790/overview/\n",
      "2020-01-21 17:53:23.652465 https://www.cars.com//vehicledetail/detail/792396993/overview/\n",
      "2020-01-21 17:53:24.546343 https://www.cars.com//vehicledetail/detail/784874887/overview/\n",
      "2020-01-21 17:53:25.127423 https://www.cars.com//vehicledetail/detail/777910124/overview/\n",
      "2020-01-21 17:53:25.630857 https://www.cars.com//vehicledetail/detail/785810500/overview/\n",
      "2020-01-21 17:53:26.474324 https://www.cars.com//vehicledetail/detail/786461384/overview/\n",
      "2020-01-21 17:53:27.108594 https://www.cars.com//vehicledetail/detail/779191971/overview/\n",
      "2020-01-21 17:53:27.777856 https://www.cars.com//vehicledetail/detail/771781444/overview/\n",
      "2020-01-21 17:53:28.649767 https://www.cars.com//vehicledetail/detail/734761067/overview/\n",
      "2020-01-21 17:53:29.196389 https://www.cars.com//vehicledetail/detail/734510135/overview/\n",
      "2020-01-21 17:53:29.880000 https://www.cars.com//vehicledetail/detail/790960319/overview/\n",
      "2020-01-21 17:53:30.476046 https://www.cars.com//vehicledetail/detail/790960325/overview/\n",
      "2020-01-21 17:53:31.355825 https://www.cars.com//vehicledetail/detail/779250183/overview/\n",
      "2020-01-21 17:53:32.429096 https://www.cars.com//vehicledetail/detail/778512295/overview/\n"
     ]
    },
    {
     "name": "stderr",
     "output_type": "stream",
     "text": [
      " 16% |###########                                                             |\r"
     ]
    },
    {
     "name": "stdout",
     "output_type": "stream",
     "text": [
      "2020-01-21 17:53:33.034509 https://www.cars.com//vehicledetail/detail/776490383/overview/\n",
      "2020-01-21 17:53:33.844307 https://www.cars.com//vehicledetail/detail/791052493/overview/\n",
      "2020-01-21 17:53:34.762345 https://www.cars.com//vehicledetail/detail/788824513/overview/\n",
      "2020-01-21 17:53:35.463527 https://www.cars.com//vehicledetail/detail/791817670/overview/\n",
      "2020-01-21 17:53:36.231161 https://www.cars.com//vehicledetail/detail/796195648/overview/\n",
      "2020-01-21 17:53:36.961770 https://www.cars.com//vehicledetail/detail/790808711/overview/\n",
      "2020-01-21 17:53:38.001800 https://www.cars.com//vehicledetail/detail/795424981/overview/\n",
      "2020-01-21 17:53:38.454725 https://www.cars.com//vehicledetail/detail/795186577/overview/\n",
      "2020-01-21 17:53:38.883555 https://www.cars.com//vehicledetail/detail/727654328/overview/\n",
      "2020-01-21 17:53:39.527715 https://www.cars.com//vehicledetail/detail/774035727/overview/\n",
      "2020-01-21 17:53:40.412048 https://www.cars.com//vehicledetail/detail/790975988/overview/\n",
      "2020-01-21 17:53:41.145982 https://www.cars.com//vehicledetail/detail/779255643/overview/\n",
      "2020-01-21 17:53:41.837547 https://www.cars.com//vehicledetail/detail/780784148/overview/\n",
      "2020-01-21 17:53:42.418025 https://www.cars.com//vehicledetail/detail/778840244/overview/\n",
      "2020-01-21 17:53:42.963510 https://www.cars.com//vehicledetail/detail/771267988/overview/\n",
      "2020-01-21 17:53:43.892176 https://www.cars.com//vehicledetail/detail/779452809/overview/\n",
      "2020-01-21 17:53:44.754368 https://www.cars.com//vehicledetail/detail/779259976/overview/\n",
      "2020-01-21 17:53:45.691059 https://www.cars.com//vehicledetail/detail/794398910/overview/\n",
      "2020-01-21 17:53:46.213829 https://www.cars.com//vehicledetail/detail/793227691/overview/\n",
      "2020-01-21 17:53:46.801617 https://www.cars.com//vehicledetail/detail/794356180/overview/\n",
      "2020-01-21 17:53:47.350523 https://www.cars.com//vehicledetail/detail/795727100/overview/?isShippableInsideSearchRadius\n",
      "2020-01-21 17:53:47.918402 https://www.cars.com//vehicledetail/detail/786092932/overview/\n",
      "2020-01-21 17:53:48.815184 https://www.cars.com//vehicledetail/detail/772155015/overview/\n",
      "2020-01-21 17:53:49.655051 https://www.cars.com//vehicledetail/detail/791400374/overview/\n",
      "2020-01-21 17:53:50.271729 https://www.cars.com//vehicledetail/detail/768512834/overview/\n"
     ]
    },
    {
     "name": "stderr",
     "output_type": "stream",
     "text": [
      " 17% |############                                                            |\r"
     ]
    },
    {
     "name": "stdout",
     "output_type": "stream",
     "text": [
      "2020-01-21 17:53:50.883260 https://www.cars.com//vehicledetail/detail/774328310/overview/\n",
      "2020-01-21 17:53:51.636095 https://www.cars.com//vehicledetail/detail/791153402/overview/\n",
      "2020-01-21 17:53:52.486670 https://www.cars.com//vehicledetail/detail/794213141/overview/\n",
      "2020-01-21 17:53:53.077206 https://www.cars.com//vehicledetail/detail/793015603/overview/\n",
      "2020-01-21 17:53:53.871241 https://www.cars.com//vehicledetail/detail/768127591/overview/\n",
      "2020-01-21 17:53:54.540746 https://www.cars.com//vehicledetail/detail/794657676/overview/\n",
      "2020-01-21 17:53:55.134385 https://www.cars.com//vehicledetail/detail/791801131/overview/\n",
      "2020-01-21 17:53:56.026427 https://www.cars.com//vehicledetail/detail/794708856/overview/\n",
      "2020-01-21 17:53:56.754780 https://www.cars.com//vehicledetail/detail/786299570/overview/\n",
      "2020-01-21 17:53:57.372075 https://www.cars.com//vehicledetail/detail/772157335/overview/\n",
      "2020-01-21 17:53:58.312589 https://www.cars.com//vehicledetail/detail/746550889/overview/\n",
      "2020-01-21 17:53:59.240427 https://www.cars.com//vehicledetail/detail/780304425/overview/\n",
      "2020-01-21 17:53:59.787537 https://www.cars.com//vehicledetail/detail/771596712/overview/\n",
      "2020-01-21 17:54:00.694775 https://www.cars.com//vehicledetail/detail/787028917/overview/\n",
      "2020-01-21 17:54:01.539283 https://www.cars.com//vehicledetail/detail/788053896/overview/\n",
      "2020-01-21 17:54:02.084992 https://www.cars.com//vehicledetail/detail/791644171/overview/\n",
      "2020-01-21 17:54:02.670040 https://www.cars.com//vehicledetail/detail/763859475/overview/\n",
      "2020-01-21 17:54:03.227311 https://www.cars.com//vehicledetail/detail/796176593/overview/\n",
      "2020-01-21 17:54:03.803405 https://www.cars.com//vehicledetail/detail/774840743/overview/\n",
      "2020-01-21 17:54:04.566388 https://www.cars.com//vehicledetail/detail/791587191/overview/\n",
      "2020-01-21 17:54:05.083603 https://www.cars.com//vehicledetail/detail/771922930/overview/\n",
      "2020-01-21 17:54:05.890317 https://www.cars.com//vehicledetail/detail/796120638/overview/\n",
      "2020-01-21 17:54:06.646318 https://www.cars.com//vehicledetail/detail/755418660/overview/\n",
      "2020-01-21 17:54:07.654840 https://www.cars.com//vehicledetail/detail/793812337/overview/\n",
      "2020-01-21 17:54:08.510014 https://www.cars.com//vehicledetail/detail/767716311/overview/\n"
     ]
    },
    {
     "name": "stderr",
     "output_type": "stream",
     "text": [
      " 18% |#############                                                           |\r"
     ]
    },
    {
     "name": "stdout",
     "output_type": "stream",
     "text": [
      "2020-01-21 17:54:09.163239 https://www.cars.com//vehicledetail/detail/790895645/overview/\n",
      "2020-01-21 17:54:09.572793 https://www.cars.com//vehicledetail/detail/782874262/overview/\n",
      "2020-01-21 17:54:10.493423 https://www.cars.com//vehicledetail/detail/793340611/overview/\n",
      "2020-01-21 17:54:11.372229 https://www.cars.com//vehicledetail/detail/789796709/overview/\n",
      "2020-01-21 17:54:11.926942 https://www.cars.com//vehicledetail/detail/772133508/overview/\n",
      "2020-01-21 17:54:12.513686 https://www.cars.com//vehicledetail/detail/758228000/overview/\n",
      "2020-01-21 17:54:12.965366 https://www.cars.com//vehicledetail/detail/768327750/overview/\n",
      "2020-01-21 17:54:13.904657 https://www.cars.com//vehicledetail/detail/789526964/overview/\n",
      "2020-01-21 17:54:14.518858 https://www.cars.com//vehicledetail/detail/765632891/overview/\n",
      "2020-01-21 17:54:15.169023 https://www.cars.com//vehicledetail/detail/794699531/overview/\n",
      "2020-01-21 17:54:15.771472 https://www.cars.com//vehicledetail/detail/711078595/overview/\n",
      "2020-01-21 17:54:16.250760 https://www.cars.com//vehicledetail/detail/794699711/overview/\n",
      "2020-01-21 17:54:16.742068 https://www.cars.com//vehicledetail/detail/785616632/overview/\n",
      "2020-01-21 17:54:17.581059 https://www.cars.com//vehicledetail/detail/788754296/overview/\n",
      "2020-01-21 17:54:18.329750 https://www.cars.com//vehicledetail/detail/769279498/overview/\n",
      "2020-01-21 17:54:18.811225 https://www.cars.com//vehicledetail/detail/791998303/overview/\n",
      "2020-01-21 17:54:19.753362 https://www.cars.com//vehicledetail/detail/771172905/overview/\n",
      "2020-01-21 17:54:20.667114 https://www.cars.com//vehicledetail/detail/791030274/overview/\n",
      "2020-01-21 17:54:21.430888 https://www.cars.com//vehicledetail/detail/774119268/overview/\n",
      "2020-01-21 17:54:22.428478 https://www.cars.com//vehicledetail/detail/793151409/overview/\n",
      "2020-01-21 17:54:23.179128 https://www.cars.com//vehicledetail/detail/781338730/overview/\n",
      "2020-01-21 17:54:24.890956 https://www.cars.com//vehicledetail/detail/789489431/overview/\n",
      "2020-01-21 17:54:25.670120 https://www.cars.com//vehicledetail/detail/794211733/overview/\n",
      "2020-01-21 17:54:26.527886 https://www.cars.com//vehicledetail/detail/794211722/overview/\n",
      "2020-01-21 17:54:27.596556 https://www.cars.com//vehicledetail/detail/793664570/overview/\n"
     ]
    },
    {
     "name": "stderr",
     "output_type": "stream",
     "text": [
      " 19% |#############                                                           |\r"
     ]
    },
    {
     "name": "stdout",
     "output_type": "stream",
     "text": [
      "2020-01-21 17:54:28.539564 https://www.cars.com//vehicledetail/detail/760988856/overview/\n",
      "2020-01-21 17:54:29.564954 https://www.cars.com//vehicledetail/detail/791545531/overview/\n",
      "2020-01-21 17:54:32.105647 https://www.cars.com//vehicledetail/detail/790010491/overview/\n",
      "2020-01-21 17:54:33.142856 https://www.cars.com//vehicledetail/detail/791443493/overview/\n",
      "2020-01-21 17:54:33.908485 https://www.cars.com//vehicledetail/detail/790894408/overview/\n",
      "2020-01-21 17:54:35.142329 https://www.cars.com//vehicledetail/detail/770899052/overview/\n",
      "2020-01-21 17:54:35.983608 https://www.cars.com//vehicledetail/detail/761270012/overview/\n",
      "2020-01-21 17:54:37.214672 https://www.cars.com//vehicledetail/detail/779526858/overview/\n",
      "2020-01-21 17:54:37.744531 https://www.cars.com//vehicledetail/detail/788417473/overview/\n",
      "2020-01-21 17:54:38.543695 https://www.cars.com//vehicledetail/detail/793018669/overview/\n",
      "2020-01-21 17:54:39.223550 https://www.cars.com//vehicledetail/detail/780306643/overview/\n",
      "2020-01-21 17:54:39.853088 https://www.cars.com//vehicledetail/detail/796640800/overview/\n",
      "2020-01-21 17:54:40.739744 https://www.cars.com//vehicledetail/detail/790770793/overview/\n",
      "2020-01-21 17:54:41.575462 https://www.cars.com//vehicledetail/detail/795166326/overview/\n",
      "2020-01-21 17:54:42.598802 https://www.cars.com//vehicledetail/detail/773400928/overview/\n",
      "2020-01-21 17:54:43.579301 https://www.cars.com//vehicledetail/detail/771592642/overview/\n",
      "2020-01-21 17:54:44.332270 https://www.cars.com//vehicledetail/detail/794827367/overview/\n",
      "2020-01-21 17:54:44.953191 https://www.cars.com//vehicledetail/detail/730068399/overview/\n",
      "2020-01-21 17:54:45.802710 https://www.cars.com//vehicledetail/detail/795077111/overview/\n",
      "2020-01-21 17:54:46.857722 https://www.cars.com//vehicledetail/detail/763826067/overview/\n",
      "2020-01-21 17:54:47.894368 https://www.cars.com//vehicledetail/detail/772506086/overview/\n",
      "2020-01-21 17:54:48.552632 https://www.cars.com//vehicledetail/detail/795728364/overview/?isShippableInsideSearchRadius\n",
      "2020-01-21 17:54:49.227592 https://www.cars.com//vehicledetail/detail/793255957/overview/\n",
      "2020-01-21 17:54:49.857274 https://www.cars.com//vehicledetail/detail/784438439/overview/\n",
      "2020-01-21 17:54:50.820460 https://www.cars.com//vehicledetail/detail/795907828/overview/\n"
     ]
    },
    {
     "name": "stderr",
     "output_type": "stream",
     "text": [
      " 20% |##############                                                          |\r"
     ]
    },
    {
     "name": "stdout",
     "output_type": "stream",
     "text": [
      "2020-01-21 17:54:51.581324 https://www.cars.com//vehicledetail/detail/791376360/overview/\n",
      "2020-01-21 17:54:52.342535 https://www.cars.com//vehicledetail/detail/777100227/overview/\n",
      "2020-01-21 17:54:53.134194 https://www.cars.com//vehicledetail/detail/785675149/overview/\n",
      "2020-01-21 17:54:54.035217 https://www.cars.com//vehicledetail/detail/792354140/overview/\n",
      "2020-01-21 17:54:54.899992 https://www.cars.com//vehicledetail/detail/778210042/overview/\n",
      "2020-01-21 17:54:55.676799 https://www.cars.com//vehicledetail/detail/792069996/overview/\n",
      "2020-01-21 17:54:56.334288 https://www.cars.com//vehicledetail/detail/788598139/overview/\n",
      "2020-01-21 17:54:57.124188 https://www.cars.com//vehicledetail/detail/789115310/overview/\n",
      "2020-01-21 17:54:57.880886 https://www.cars.com//vehicledetail/detail/793291979/overview/\n",
      "2020-01-21 17:54:58.854516 https://www.cars.com//vehicledetail/detail/793291972/overview/\n",
      "2020-01-21 17:54:59.622323 https://www.cars.com//vehicledetail/detail/789518220/overview/?isShippableInsideSearchRadius\n",
      "2020-01-21 17:55:00.158287 https://www.cars.com//vehicledetail/detail/794436911/overview/\n",
      "2020-01-21 17:55:01.035317 https://www.cars.com//vehicledetail/detail/789551638/overview/\n",
      "2020-01-21 17:55:01.540232 https://www.cars.com//vehicledetail/detail/737166239/overview/\n",
      "2020-01-21 17:55:02.807030 https://www.cars.com//vehicledetail/detail/794730962/overview/\n",
      "2020-01-21 17:55:03.373936 https://www.cars.com//vehicledetail/detail/772735519/overview/\n",
      "2020-01-21 17:55:03.975146 https://www.cars.com//vehicledetail/detail/772526500/overview/\n",
      "2020-01-21 17:55:04.743144 https://www.cars.com//vehicledetail/detail/765475491/overview/\n",
      "2020-01-21 17:55:05.565890 https://www.cars.com//vehicledetail/detail/777882576/overview/\n",
      "2020-01-21 17:55:06.347928 https://www.cars.com//vehicledetail/detail/753863071/overview/\n",
      "2020-01-21 17:55:06.921287 https://www.cars.com//vehicledetail/detail/753862211/overview/\n",
      "2020-01-21 17:55:07.756063 https://www.cars.com//vehicledetail/detail/794957674/overview/\n",
      "2020-01-21 17:55:08.856601 https://www.cars.com//vehicledetail/detail/794300221/overview/\n",
      "2020-01-21 17:55:09.942222 https://www.cars.com//vehicledetail/detail/796191879/overview/\n",
      "2020-01-21 17:55:11.070800 https://www.cars.com//vehicledetail/detail/754012465/overview/\n"
     ]
    },
    {
     "name": "stderr",
     "output_type": "stream",
     "text": [
      " 21% |###############                                                         |\r"
     ]
    },
    {
     "name": "stdout",
     "output_type": "stream",
     "text": [
      "2020-01-21 17:55:12.062731 https://www.cars.com//vehicledetail/detail/789520696/overview/?isShippableInsideSearchRadius\n",
      "2020-01-21 17:55:13.061668 https://www.cars.com//vehicledetail/detail/778872433/overview/\n",
      "2020-01-21 17:55:14.147894 https://www.cars.com//vehicledetail/detail/795002372/overview/\n",
      "2020-01-21 17:55:14.731772 https://www.cars.com//vehicledetail/detail/796456311/overview/\n",
      "2020-01-21 17:55:15.585019 https://www.cars.com//vehicledetail/detail/793701093/overview/\n",
      "2020-01-21 17:55:16.320705 https://www.cars.com//vehicledetail/detail/782970755/overview/\n",
      "2020-01-21 17:55:17.552620 https://www.cars.com//vehicledetail/detail/777946688/overview/\n",
      "2020-01-21 17:55:18.144567 https://www.cars.com//vehicledetail/detail/792432898/overview/\n",
      "2020-01-21 17:55:19.309245 https://www.cars.com//vehicledetail/detail/774412071/overview/\n",
      "2020-01-21 17:55:19.975588 https://www.cars.com//vehicledetail/detail/787028924/overview/\n",
      "2020-01-21 17:55:20.803578 https://www.cars.com//vehicledetail/detail/792781249/overview/\n",
      "2020-01-21 17:55:21.464373 https://www.cars.com//vehicledetail/detail/774209585/overview/\n",
      "2020-01-21 17:55:22.563530 https://www.cars.com//vehicledetail/detail/772751208/overview/\n",
      "2020-01-21 17:55:23.634908 https://www.cars.com//vehicledetail/detail/774840748/overview/\n",
      "2020-01-21 17:55:24.592940 https://www.cars.com//vehicledetail/detail/787645275/overview/\n",
      "2020-01-21 17:55:25.505564 https://www.cars.com//vehicledetail/detail/776036763/overview/\n",
      "2020-01-21 17:55:26.203052 https://www.cars.com//vehicledetail/detail/786519533/overview/\n",
      "2020-01-21 17:55:26.718122 https://www.cars.com//vehicledetail/detail/794669920/overview/\n",
      "2020-01-21 17:55:27.358542 https://www.cars.com//vehicledetail/detail/757529431/overview/\n",
      "2020-01-21 17:55:28.128626 https://www.cars.com//vehicledetail/detail/794394770/overview/\n",
      "2020-01-21 17:55:28.977894 https://www.cars.com//vehicledetail/detail/784243152/overview/\n",
      "2020-01-21 17:55:29.678097 https://www.cars.com//vehicledetail/detail/796283199/overview/\n",
      "2020-01-21 17:55:30.274249 https://www.cars.com//vehicledetail/detail/795691409/overview/\n",
      "2020-01-21 17:55:31.247480 https://www.cars.com//vehicledetail/detail/782376144/overview/\n",
      "2020-01-21 17:55:31.846022 https://www.cars.com//vehicledetail/detail/778986786/overview/\n"
     ]
    },
    {
     "name": "stderr",
     "output_type": "stream",
     "text": [
      " 22% |################                                                        |\r"
     ]
    },
    {
     "name": "stdout",
     "output_type": "stream",
     "text": [
      "2020-01-21 17:55:32.298260 https://www.cars.com//vehicledetail/detail/708003793/overview/\n",
      "2020-01-21 17:55:33.148456 https://www.cars.com//vehicledetail/detail/793636335/overview/\n",
      "2020-01-21 17:55:33.986315 https://www.cars.com//vehicledetail/detail/777385329/overview/\n",
      "2020-01-21 17:55:34.679900 https://www.cars.com//vehicledetail/detail/747953846/overview/\n",
      "2020-01-21 17:55:35.269386 https://www.cars.com//vehicledetail/detail/770566850/overview/\n",
      "2020-01-21 17:55:35.783837 https://www.cars.com//vehicledetail/detail/792250374/overview/\n",
      "2020-01-21 17:55:36.384423 https://www.cars.com//vehicledetail/detail/776926359/overview/\n",
      "2020-01-21 17:55:37.098997 https://www.cars.com//vehicledetail/detail/767161480/overview/\n",
      "2020-01-21 17:55:37.898335 https://www.cars.com//vehicledetail/detail/791998413/overview/\n",
      "2020-01-21 17:55:38.528777 https://www.cars.com//vehicledetail/detail/796430869/overview/?isShippableInsideSearchRadius\n",
      "2020-01-21 17:55:39.357353 https://www.cars.com//vehicledetail/detail/784412323/overview/\n",
      "2020-01-21 17:55:40.044391 https://www.cars.com//vehicledetail/detail/781520008/overview/\n",
      "2020-01-21 17:55:40.976726 https://www.cars.com//vehicledetail/detail/796314218/overview/\n",
      "2020-01-21 17:55:41.818150 https://www.cars.com//vehicledetail/detail/769133600/overview/\n",
      "2020-01-21 17:55:42.715341 https://www.cars.com//vehicledetail/detail/796001331/overview/\n",
      "2020-01-21 17:55:43.578711 https://www.cars.com//vehicledetail/detail/783236401/overview/\n",
      "2020-01-21 17:55:44.471406 https://www.cars.com//vehicledetail/detail/793334795/overview/\n",
      "2020-01-21 17:55:45.490683 https://www.cars.com//vehicledetail/detail/783400958/overview/\n",
      "2020-01-21 17:55:46.386996 https://www.cars.com//vehicledetail/detail/765418864/overview/\n",
      "2020-01-21 17:55:46.951407 https://www.cars.com//vehicledetail/detail/796264266/overview/\n",
      "2020-01-21 17:55:47.813822 https://www.cars.com//vehicledetail/detail/789533500/overview/\n",
      "2020-01-21 17:55:48.588919 https://www.cars.com//vehicledetail/detail/772310822/overview/\n",
      "2020-01-21 17:55:49.195304 https://www.cars.com//vehicledetail/detail/793838829/overview/\n",
      "2020-01-21 17:55:49.862207 https://www.cars.com//vehicledetail/detail/787365522/overview/\n",
      "2020-01-21 17:55:50.713702 https://www.cars.com//vehicledetail/detail/793764137/overview/\n"
     ]
    },
    {
     "name": "stderr",
     "output_type": "stream",
     "text": [
      " 23% |################                                                        |\r"
     ]
    },
    {
     "name": "stdout",
     "output_type": "stream",
     "text": [
      "2020-01-21 17:55:51.595123 https://www.cars.com//vehicledetail/detail/793764136/overview/\n",
      "2020-01-21 17:55:52.135081 https://www.cars.com//vehicledetail/detail/791232866/overview/\n",
      "2020-01-21 17:55:52.677239 https://www.cars.com//vehicledetail/detail/782270723/overview/\n",
      "2020-01-21 17:55:53.308490 https://www.cars.com//vehicledetail/detail/795281395/overview/\n",
      "2020-01-21 17:55:54.087756 https://www.cars.com//vehicledetail/detail/794929373/overview/\n",
      "2020-01-21 17:55:54.730774 https://www.cars.com//vehicledetail/detail/782484602/overview/\n",
      "2020-01-21 17:55:55.528931 https://www.cars.com//vehicledetail/detail/790581690/overview/\n",
      "2020-01-21 17:55:56.603101 https://www.cars.com//vehicledetail/detail/787257593/overview/\n",
      "2020-01-21 17:55:57.338953 https://www.cars.com//vehicledetail/detail/786699750/overview/\n",
      "2020-01-21 17:55:58.018111 https://www.cars.com//vehicledetail/detail/736298149/overview/\n",
      "2020-01-21 17:55:58.507135 https://www.cars.com//vehicledetail/detail/791406870/overview/\n",
      "2020-01-21 17:55:59.054334 https://www.cars.com//vehicledetail/detail/788216683/overview/\n",
      "2020-01-21 17:55:59.840954 https://www.cars.com//vehicledetail/detail/792125815/overview/\n",
      "2020-01-21 17:56:00.501254 https://www.cars.com//vehicledetail/detail/793785282/overview/\n",
      "2020-01-21 17:56:00.977563 https://www.cars.com//vehicledetail/detail/784635604/overview/\n",
      "2020-01-21 17:56:01.413394 https://www.cars.com//vehicledetail/detail/794392212/overview/\n",
      "2020-01-21 17:56:02.112829 https://www.cars.com//vehicledetail/detail/794615426/overview/\n",
      "2020-01-21 17:56:02.919312 https://www.cars.com//vehicledetail/detail/792532991/overview/\n",
      "2020-01-21 17:56:03.680420 https://www.cars.com//vehicledetail/detail/792177577/overview/\n",
      "2020-01-21 17:56:04.489444 https://www.cars.com//vehicledetail/detail/789669519/overview/\n",
      "2020-01-21 17:56:04.922398 https://www.cars.com//vehicledetail/detail/788105342/overview/\n",
      "2020-01-21 17:56:05.597979 https://www.cars.com//vehicledetail/detail/784870641/overview/\n",
      "2020-01-21 17:56:06.021732 https://www.cars.com//vehicledetail/detail/789522255/overview/?isShippableInsideSearchRadius\n",
      "2020-01-21 17:56:06.798890 https://www.cars.com//vehicledetail/detail/771313726/overview/\n",
      "2020-01-21 17:56:07.315112 https://www.cars.com//vehicledetail/detail/777543040/overview/\n"
     ]
    },
    {
     "name": "stderr",
     "output_type": "stream",
     "text": [
      " 24% |#################                                                       |\r"
     ]
    },
    {
     "name": "stdout",
     "output_type": "stream",
     "text": [
      "2020-01-21 17:56:07.967431 https://www.cars.com//vehicledetail/detail/786408659/overview/\n",
      "2020-01-21 17:56:08.619971 https://www.cars.com//vehicledetail/detail/793342232/overview/\n",
      "2020-01-21 17:56:09.546756 https://www.cars.com//vehicledetail/detail/794413130/overview/\n",
      "2020-01-21 17:56:10.037517 https://www.cars.com//vehicledetail/detail/761832026/overview/\n",
      "2020-01-21 17:56:10.789932 https://www.cars.com//vehicledetail/detail/794715888/overview/\n",
      "2020-01-21 17:56:11.226528 https://www.cars.com//vehicledetail/detail/790660323/overview/\n",
      "2020-01-21 17:56:11.762222 https://www.cars.com//vehicledetail/detail/792439223/overview/\n",
      "2020-01-21 17:56:12.310829 https://www.cars.com//vehicledetail/detail/775926965/overview/\n",
      "2020-01-21 17:56:13.058037 https://www.cars.com//vehicledetail/detail/763242865/overview/\n",
      "2020-01-21 17:56:13.953660 https://www.cars.com//vehicledetail/detail/787196740/overview/\n",
      "2020-01-21 17:56:14.705123 https://www.cars.com//vehicledetail/detail/791365855/overview/\n",
      "2020-01-21 17:56:15.678021 https://www.cars.com//vehicledetail/detail/785636945/overview/\n",
      "2020-01-21 17:56:16.465732 https://www.cars.com//vehicledetail/detail/784036012/overview/\n",
      "2020-01-21 17:56:16.937290 https://www.cars.com//vehicledetail/detail/781780463/overview/\n",
      "2020-01-21 17:56:17.491866 https://www.cars.com//vehicledetail/detail/793318039/overview/\n",
      "2020-01-21 17:56:18.086171 https://www.cars.com//vehicledetail/detail/793845499/overview/\n",
      "2020-01-21 17:56:18.853538 https://www.cars.com//vehicledetail/detail/781545515/overview/\n",
      "2020-01-21 17:56:19.540967 https://www.cars.com//vehicledetail/detail/775718682/overview/\n",
      "2020-01-21 17:56:20.441532 https://www.cars.com//vehicledetail/detail/787833891/overview/\n",
      "2020-01-21 17:56:20.963307 https://www.cars.com//vehicledetail/detail/786428410/overview/\n",
      "2020-01-21 17:56:21.782091 https://www.cars.com//vehicledetail/detail/794326350/overview/\n",
      "2020-01-21 17:56:22.491213 https://www.cars.com//vehicledetail/detail/795462768/overview/\n",
      "2020-01-21 17:56:23.441759 https://www.cars.com//vehicledetail/detail/746707802/overview/\n",
      "2020-01-21 17:56:23.965714 https://www.cars.com//vehicledetail/detail/746707806/overview/\n",
      "2020-01-21 17:56:24.835181 https://www.cars.com//vehicledetail/detail/786267015/overview/\n"
     ]
    },
    {
     "name": "stderr",
     "output_type": "stream",
     "text": [
      " 25% |##################                                                      |\r"
     ]
    },
    {
     "name": "stdout",
     "output_type": "stream",
     "text": [
      "2020-01-21 17:56:25.378973 https://www.cars.com//vehicledetail/detail/795204893/overview/\n",
      "2020-01-21 17:56:26.215468 https://www.cars.com//vehicledetail/detail/778573157/overview/\n",
      "2020-01-21 17:56:26.732322 https://www.cars.com//vehicledetail/detail/787458340/overview/\n",
      "2020-01-21 17:56:27.759933 https://www.cars.com//vehicledetail/detail/795003273/overview/\n",
      "2020-01-21 17:56:28.328907 https://www.cars.com//vehicledetail/detail/784648064/overview/\n",
      "2020-01-21 17:56:28.825100 https://www.cars.com//vehicledetail/detail/774885000/overview/\n",
      "2020-01-21 17:56:29.574594 https://www.cars.com//vehicledetail/detail/788429788/overview/\n",
      "2020-01-21 17:56:30.132522 https://www.cars.com//vehicledetail/detail/791209393/overview/\n",
      "2020-01-21 17:56:30.909548 https://www.cars.com//vehicledetail/detail/792858667/overview/\n",
      "2020-01-21 17:56:31.703535 https://www.cars.com//vehicledetail/detail/791183693/overview/\n",
      "2020-01-21 17:56:32.597404 https://www.cars.com//vehicledetail/detail/796344034/overview/\n",
      "2020-01-21 17:56:33.534338 https://www.cars.com//vehicledetail/detail/757407555/overview/\n",
      "2020-01-21 17:56:34.055508 https://www.cars.com//vehicledetail/detail/775263780/overview/\n",
      "2020-01-21 17:56:34.880440 https://www.cars.com//vehicledetail/detail/753880947/overview/\n",
      "2020-01-21 17:56:35.587014 https://www.cars.com//vehicledetail/detail/787503984/overview/\n",
      "2020-01-21 17:56:36.819965 https://www.cars.com//vehicledetail/detail/770402513/overview/\n",
      "2020-01-21 17:56:37.609745 https://www.cars.com//vehicledetail/detail/753893857/overview/\n",
      "2020-01-21 17:56:38.434589 https://www.cars.com//vehicledetail/detail/774219854/overview/\n",
      "2020-01-21 17:56:39.509771 https://www.cars.com//vehicledetail/detail/793271093/overview/\n",
      "2020-01-21 17:56:40.501070 https://www.cars.com//vehicledetail/detail/710353879/overview/\n",
      "2020-01-21 17:56:41.506265 https://www.cars.com//vehicledetail/detail/783283463/overview/\n",
      "2020-01-21 17:56:42.087486 https://www.cars.com//vehicledetail/detail/779947251/overview/\n",
      "2020-01-21 17:56:42.944633 https://www.cars.com//vehicledetail/detail/771995297/overview/\n",
      "2020-01-21 17:56:43.386594 https://www.cars.com//vehicledetail/detail/754978824/overview/\n",
      "2020-01-21 17:56:44.197591 https://www.cars.com//vehicledetail/detail/794752730/overview/\n"
     ]
    },
    {
     "name": "stderr",
     "output_type": "stream",
     "text": [
      " 26% |###################                                                     |\r"
     ]
    },
    {
     "name": "stdout",
     "output_type": "stream",
     "text": [
      "2020-01-21 17:56:44.707386 https://www.cars.com//vehicledetail/detail/794693793/overview/\n",
      "2020-01-21 17:56:45.376118 https://www.cars.com//vehicledetail/detail/796342926/overview/\n",
      "2020-01-21 17:56:46.075185 https://www.cars.com//vehicledetail/detail/747953839/overview/\n",
      "2020-01-21 17:56:46.623604 https://www.cars.com//vehicledetail/detail/787582045/overview/\n",
      "2020-01-21 17:56:47.141324 https://www.cars.com//vehicledetail/detail/767855480/overview/\n",
      "2020-01-21 17:56:48.370501 https://www.cars.com//vehicledetail/detail/796179135/overview/\n",
      "2020-01-21 17:56:49.014619 https://www.cars.com//vehicledetail/detail/792413754/overview/\n",
      "2020-01-21 17:56:49.540151 https://www.cars.com//vehicledetail/detail/793915347/overview/\n",
      "2020-01-21 17:56:50.476560 https://www.cars.com//vehicledetail/detail/788818094/overview/\n",
      "2020-01-21 17:56:51.450465 https://www.cars.com//vehicledetail/detail/786840876/overview/\n",
      "2020-01-21 17:56:52.647019 https://www.cars.com//vehicledetail/detail/793857449/overview/\n",
      "2020-01-21 17:56:53.466406 https://www.cars.com//vehicledetail/detail/771321615/overview/\n",
      "2020-01-21 17:56:54.288254 https://www.cars.com//vehicledetail/detail/771876379/overview/\n",
      "2020-01-21 17:56:54.947878 https://www.cars.com//vehicledetail/detail/792585505/overview/\n",
      "2020-01-21 17:56:55.514216 https://www.cars.com//vehicledetail/detail/792542714/overview/\n",
      "2020-01-21 17:56:56.527765 https://www.cars.com//vehicledetail/detail/761855474/overview/\n",
      "2020-01-21 17:56:57.512335 https://www.cars.com//vehicledetail/detail/788361688/overview/\n",
      "2020-01-21 17:56:58.558130 https://www.cars.com//vehicledetail/detail/792685638/overview/\n",
      "2020-01-21 17:56:59.226796 https://www.cars.com//vehicledetail/detail/757575541/overview/\n",
      "2020-01-21 17:56:59.854566 https://www.cars.com//vehicledetail/detail/794449658/overview/\n",
      "2020-01-21 17:57:00.833377 https://www.cars.com//vehicledetail/detail/795550085/overview/\n",
      "2020-01-21 17:57:01.624150 https://www.cars.com//vehicledetail/detail/793679583/overview/\n",
      "2020-01-21 17:57:02.400653 https://www.cars.com//vehicledetail/detail/795560628/overview/\n",
      "2020-01-21 17:57:02.976425 https://www.cars.com//vehicledetail/detail/795733529/overview/?isShippableInsideSearchRadius\n",
      "2020-01-21 17:57:03.482997 https://www.cars.com//vehicledetail/detail/777403352/overview/\n"
     ]
    },
    {
     "name": "stderr",
     "output_type": "stream",
     "text": [
      " 27% |###################                                                     |\r"
     ]
    },
    {
     "name": "stdout",
     "output_type": "stream",
     "text": [
      "2020-01-21 17:57:04.368439 https://www.cars.com//vehicledetail/detail/788296473/overview/\n",
      "2020-01-21 17:57:05.170081 https://www.cars.com//vehicledetail/detail/793446612/overview/\n",
      "2020-01-21 17:57:05.941656 https://www.cars.com//vehicledetail/detail/791864791/overview/\n",
      "2020-01-21 17:57:06.579215 https://www.cars.com//vehicledetail/detail/787494940/overview/\n",
      "2020-01-21 17:57:07.268962 https://www.cars.com//vehicledetail/detail/791023519/overview/\n",
      "2020-01-21 17:57:08.022928 https://www.cars.com//vehicledetail/detail/787301960/overview/\n",
      "2020-01-21 17:57:08.976607 https://www.cars.com//vehicledetail/detail/796435054/overview/?isShippableInsideSearchRadius\n",
      "2020-01-21 17:57:09.687722 https://www.cars.com//vehicledetail/detail/792032157/overview/\n",
      "2020-01-21 17:57:10.266847 https://www.cars.com//vehicledetail/detail/796693285/overview/?isShippableInsideSearchRadius\n",
      "2020-01-21 17:57:11.189539 https://www.cars.com//vehicledetail/detail/789925795/overview/\n",
      "2020-01-21 17:57:12.088289 https://www.cars.com//vehicledetail/detail/795772872/overview/\n",
      "2020-01-21 17:57:13.124864 https://www.cars.com//vehicledetail/detail/771536795/overview/\n",
      "2020-01-21 17:57:13.540237 https://www.cars.com//vehicledetail/detail/792540315/overview/\n",
      "2020-01-21 17:57:14.468809 https://www.cars.com//vehicledetail/detail/786602494/overview/\n",
      "2020-01-21 17:57:15.383189 https://www.cars.com//vehicledetail/detail/781758423/overview/\n",
      "2020-01-21 17:57:16.245301 https://www.cars.com//vehicledetail/detail/781996877/overview/\n",
      "2020-01-21 17:57:17.094215 https://www.cars.com//vehicledetail/detail/792186378/overview/\n",
      "2020-01-21 17:57:17.593636 https://www.cars.com//vehicledetail/detail/792418927/overview/\n",
      "2020-01-21 17:57:18.495623 https://www.cars.com//vehicledetail/detail/792909375/overview/\n",
      "2020-01-21 17:57:19.498440 https://www.cars.com//vehicledetail/detail/783810542/overview/\n",
      "2020-01-21 17:57:20.403098 https://www.cars.com//vehicledetail/detail/790632327/overview/\n",
      "2020-01-21 17:57:21.207137 https://www.cars.com//vehicledetail/detail/775019034/overview/\n",
      "2020-01-21 17:57:21.815187 https://www.cars.com//vehicledetail/detail/796434355/overview/?isShippableInsideSearchRadius\n",
      "2020-01-21 17:57:22.346648 https://www.cars.com//vehicledetail/detail/793785274/overview/\n",
      "2020-01-21 17:57:22.908881 https://www.cars.com//vehicledetail/detail/791845132/overview/\n"
     ]
    },
    {
     "name": "stderr",
     "output_type": "stream",
     "text": [
      " 28% |####################                                                    |\r"
     ]
    },
    {
     "name": "stdout",
     "output_type": "stream",
     "text": [
      "2020-01-21 17:57:23.850878 https://www.cars.com//vehicledetail/detail/771313647/overview/\n",
      "2020-01-21 17:57:24.598981 https://www.cars.com//vehicledetail/detail/754017043/overview/\n",
      "2020-01-21 17:57:25.462865 https://www.cars.com//vehicledetail/detail/785008758/overview/\n",
      "2020-01-21 17:57:26.144072 https://www.cars.com//vehicledetail/detail/787667951/overview/\n",
      "2020-01-21 17:57:26.784129 https://www.cars.com//vehicledetail/detail/796429581/overview/?isShippableInsideSearchRadius\n",
      "2020-01-21 17:57:27.430333 https://www.cars.com//vehicledetail/detail/793268904/overview/\n",
      "2020-01-21 17:57:28.182981 https://www.cars.com//vehicledetail/detail/768155043/overview/\n",
      "2020-01-21 17:57:28.762594 https://www.cars.com//vehicledetail/detail/789521253/overview/?isShippableInsideSearchRadius\n",
      "2020-01-21 17:57:29.190736 https://www.cars.com//vehicledetail/detail/796042259/overview/?isShippableInsideSearchRadius\n",
      "2020-01-21 17:57:29.983642 https://www.cars.com//vehicledetail/detail/793444093/overview/\n",
      "2020-01-21 17:57:31.055321 https://www.cars.com//vehicledetail/detail/792922220/overview/\n",
      "2020-01-21 17:57:31.930203 https://www.cars.com//vehicledetail/detail/793746444/overview/\n",
      "2020-01-21 17:57:32.936562 https://www.cars.com//vehicledetail/detail/792855049/overview/\n",
      "2020-01-21 17:57:33.714817 https://www.cars.com//vehicledetail/detail/789271629/overview/\n",
      "2020-01-21 17:57:34.580425 https://www.cars.com//vehicledetail/detail/792355516/overview/\n",
      "2020-01-21 17:57:35.156726 https://www.cars.com//vehicledetail/detail/794441555/overview/\n",
      "2020-01-21 17:57:36.070126 https://www.cars.com//vehicledetail/detail/782474652/overview/\n",
      "2020-01-21 17:57:36.673013 https://www.cars.com//vehicledetail/detail/780325394/overview/\n",
      "2020-01-21 17:57:37.214898 https://www.cars.com//vehicledetail/detail/795723001/overview/?isShippableInsideSearchRadius\n",
      "2020-01-21 17:57:37.733207 https://www.cars.com//vehicledetail/detail/778987051/overview/\n",
      "2020-01-21 17:57:39.572612 https://www.cars.com//vehicledetail/detail/791582949/overview/\n",
      "2020-01-21 17:57:40.164636 https://www.cars.com//vehicledetail/detail/792542330/overview/\n",
      "2020-01-21 17:57:40.987387 https://www.cars.com//vehicledetail/detail/794713859/overview/\n",
      "2020-01-21 17:57:41.893944 https://www.cars.com//vehicledetail/detail/795731972/overview/?isShippableInsideSearchRadius\n",
      "2020-01-21 17:57:42.327860 https://www.cars.com//vehicledetail/detail/768935208/overview/\n"
     ]
    },
    {
     "name": "stderr",
     "output_type": "stream",
     "text": [
      " 29% |#####################                                                   |\r"
     ]
    },
    {
     "name": "stdout",
     "output_type": "stream",
     "text": [
      "2020-01-21 17:57:42.895288 https://www.cars.com//vehicledetail/detail/787894695/overview/\n",
      "2020-01-21 17:57:43.741159 https://www.cars.com//vehicledetail/detail/768878380/overview/\n",
      "2020-01-21 17:57:44.522441 https://www.cars.com//vehicledetail/detail/777560716/overview/\n",
      "2020-01-21 17:57:45.262552 https://www.cars.com//vehicledetail/detail/754991563/overview/\n",
      "2020-01-21 17:57:46.125816 https://www.cars.com//vehicledetail/detail/792858109/overview/\n",
      "2020-01-21 17:57:46.783365 https://www.cars.com//vehicledetail/detail/791518677/overview/?isShippableInsideSearchRadius\n",
      "2020-01-21 17:57:47.335381 https://www.cars.com//vehicledetail/detail/791942838/overview/\n",
      "2020-01-21 17:57:48.144511 https://www.cars.com//vehicledetail/detail/767931216/overview/\n",
      "2020-01-21 17:57:48.962625 https://www.cars.com//vehicledetail/detail/788707097/overview/\n",
      "2020-01-21 17:57:49.516725 https://www.cars.com//vehicledetail/detail/782719207/overview/\n",
      "2020-01-21 17:57:50.391921 https://www.cars.com//vehicledetail/detail/774141909/overview/\n",
      "2020-01-21 17:57:51.076860 https://www.cars.com//vehicledetail/detail/778028147/overview/\n",
      "2020-01-21 17:57:51.481614 https://www.cars.com//vehicledetail/detail/770887006/overview/\n",
      "2020-01-21 17:57:52.380468 https://www.cars.com//vehicledetail/detail/756174273/overview/\n",
      "2020-01-21 17:57:52.936969 https://www.cars.com//vehicledetail/detail/758652288/overview/\n",
      "2020-01-21 17:57:53.947913 https://www.cars.com//vehicledetail/detail/781520222/overview/\n",
      "2020-01-21 17:57:54.522720 https://www.cars.com//vehicledetail/detail/774945181/overview/\n",
      "2020-01-21 17:57:55.479647 https://www.cars.com//vehicledetail/detail/791415156/overview/\n",
      "2020-01-21 17:57:56.365156 https://www.cars.com//vehicledetail/detail/793344723/overview/\n",
      "2020-01-21 17:57:57.283798 https://www.cars.com//vehicledetail/detail/789932682/overview/\n",
      "2020-01-21 17:57:58.093936 https://www.cars.com//vehicledetail/detail/772041545/overview/\n",
      "2020-01-21 17:57:58.798692 https://www.cars.com//vehicledetail/detail/769086353/overview/\n",
      "2020-01-21 17:57:59.386260 https://www.cars.com//vehicledetail/detail/792935437/overview/\n",
      "2020-01-21 17:58:00.049300 https://www.cars.com//vehicledetail/detail/795724252/overview/?isShippableInsideSearchRadius\n",
      "2020-01-21 17:58:00.961668 https://www.cars.com//vehicledetail/detail/789153936/overview/\n"
     ]
    },
    {
     "name": "stderr",
     "output_type": "stream",
     "text": [
      " 30% |######################                                                  |\r"
     ]
    },
    {
     "name": "stdout",
     "output_type": "stream",
     "text": [
      "2020-01-21 17:58:01.741492 https://www.cars.com//vehicledetail/detail/793856140/overview/\n",
      "2020-01-21 17:58:02.569945 https://www.cars.com//vehicledetail/detail/781484272/overview/\n",
      "2020-01-21 17:58:03.137060 https://www.cars.com//vehicledetail/detail/795077067/overview/\n",
      "2020-01-21 17:58:03.917679 https://www.cars.com//vehicledetail/detail/794469476/overview/\n",
      "2020-01-21 17:58:04.732030 https://www.cars.com//vehicledetail/detail/786965522/overview/\n",
      "2020-01-21 17:58:05.409227 https://www.cars.com//vehicledetail/detail/787894913/overview/\n",
      "2020-01-21 17:58:06.356496 https://www.cars.com//vehicledetail/detail/794678205/overview/\n",
      "2020-01-21 17:58:07.220917 https://www.cars.com//vehicledetail/detail/793446945/overview/\n",
      "2020-01-21 17:58:07.908295 https://www.cars.com//vehicledetail/detail/788486715/overview/\n",
      "2020-01-21 17:58:08.800111 https://www.cars.com//vehicledetail/detail/795732021/overview/?isShippableInsideSearchRadius\n",
      "2020-01-21 17:58:09.679328 https://www.cars.com//vehicledetail/detail/796548344/overview/\n",
      "2020-01-21 17:58:10.575060 https://www.cars.com//vehicledetail/detail/793821381/overview/\n",
      "2020-01-21 17:58:11.451764 https://www.cars.com//vehicledetail/detail/710353695/overview/\n",
      "2020-01-21 17:58:12.396017 https://www.cars.com//vehicledetail/detail/792092283/overview/\n",
      "2020-01-21 17:58:13.157240 https://www.cars.com//vehicledetail/detail/792071764/overview/\n",
      "2020-01-21 17:58:13.979031 https://www.cars.com//vehicledetail/detail/787571155/overview/\n",
      "2020-01-21 17:58:15.018021 https://www.cars.com//vehicledetail/detail/775998727/overview/\n",
      "2020-01-21 17:58:15.705944 https://www.cars.com//vehicledetail/detail/790960235/overview/\n",
      "2020-01-21 17:58:16.201375 https://www.cars.com//vehicledetail/detail/793151574/overview/\n",
      "2020-01-21 17:58:17.060117 https://www.cars.com//vehicledetail/detail/789522426/overview/?isShippableInsideSearchRadius\n",
      "2020-01-21 17:58:17.599370 https://www.cars.com//vehicledetail/detail/796260477/overview/\n",
      "2020-01-21 17:58:18.620506 https://www.cars.com//vehicledetail/detail/792343266/overview/\n",
      "2020-01-21 17:58:19.112362 https://www.cars.com//vehicledetail/detail/786965732/overview/\n",
      "2020-01-21 17:58:19.903596 https://www.cars.com//vehicledetail/detail/793009295/overview/\n",
      "2020-01-21 17:58:20.673278 https://www.cars.com//vehicledetail/detail/733562299/overview/\n"
     ]
    },
    {
     "name": "stderr",
     "output_type": "stream",
     "text": [
      " 31% |######################                                                  |\r"
     ]
    },
    {
     "name": "stdout",
     "output_type": "stream",
     "text": [
      "2020-01-21 17:58:21.450418 https://www.cars.com//vehicledetail/detail/740006437/overview/\n",
      "2020-01-21 17:58:22.119009 https://www.cars.com//vehicledetail/detail/795731752/overview/?isShippableInsideSearchRadius\n",
      "2020-01-21 17:58:22.794354 https://www.cars.com//vehicledetail/detail/796428393/overview/?isShippableInsideSearchRadius\n",
      "2020-01-21 17:58:23.522326 https://www.cars.com//vehicledetail/detail/711078456/overview/\n",
      "2020-01-21 17:58:24.473833 https://www.cars.com//vehicledetail/detail/780496978/overview/\n",
      "2020-01-21 17:58:25.240021 https://www.cars.com//vehicledetail/detail/765229429/overview/\n",
      "2020-01-21 17:58:25.820740 https://www.cars.com//vehicledetail/detail/791412734/overview/\n",
      "2020-01-21 17:58:26.636971 https://www.cars.com//vehicledetail/detail/787814008/overview/\n",
      "2020-01-21 17:58:27.482470 https://www.cars.com//vehicledetail/detail/770496939/overview/\n",
      "2020-01-21 17:58:28.456173 https://www.cars.com//vehicledetail/detail/791540449/overview/\n",
      "2020-01-21 17:58:29.533162 https://www.cars.com//vehicledetail/detail/782539344/overview/\n",
      "2020-01-21 17:58:30.441935 https://www.cars.com//vehicledetail/detail/791761280/overview/\n",
      "2020-01-21 17:58:31.124292 https://www.cars.com//vehicledetail/detail/772082161/overview/\n",
      "2020-01-21 17:58:31.791907 https://www.cars.com//vehicledetail/detail/786965731/overview/\n",
      "2020-01-21 17:58:32.409645 https://www.cars.com//vehicledetail/detail/795465243/overview/\n",
      "2020-01-21 17:58:33.559959 https://www.cars.com//vehicledetail/detail/790814592/overview/\n",
      "2020-01-21 17:58:34.177567 https://www.cars.com//vehicledetail/detail/795944575/overview/\n",
      "2020-01-21 17:58:34.874316 https://www.cars.com//vehicledetail/detail/793270570/overview/\n",
      "2020-01-21 17:58:36.129452 https://www.cars.com//vehicledetail/detail/746654536/overview/\n",
      "2020-01-21 17:58:36.794297 https://www.cars.com//vehicledetail/detail/789863870/overview/\n",
      "2020-01-21 17:58:37.670455 https://www.cars.com//vehicledetail/detail/796139958/overview/\n",
      "2020-01-21 17:58:38.453301 https://www.cars.com//vehicledetail/detail/761314814/overview/\n",
      "2020-01-21 17:58:39.457835 https://www.cars.com//vehicledetail/detail/794356058/overview/\n",
      "2020-01-21 17:58:40.340473 https://www.cars.com//vehicledetail/detail/791275299/overview/\n",
      "2020-01-21 17:58:41.295358 https://www.cars.com//vehicledetail/detail/796423071/overview/?isShippableInsideSearchRadius\n"
     ]
    },
    {
     "name": "stderr",
     "output_type": "stream",
     "text": [
      " 32% |#######################                                                 |\r"
     ]
    },
    {
     "name": "stdout",
     "output_type": "stream",
     "text": [
      "2020-01-21 17:58:41.985398 https://www.cars.com//vehicledetail/detail/792928977/overview/\n",
      "2020-01-21 17:58:42.986521 https://www.cars.com//vehicledetail/detail/788222344/overview/\n",
      "2020-01-21 17:58:43.437079 https://www.cars.com//vehicledetail/detail/755213073/overview/\n",
      "2020-01-21 17:58:44.314421 https://www.cars.com//vehicledetail/detail/786965521/overview/\n",
      "2020-01-21 17:58:45.433084 https://www.cars.com//vehicledetail/detail/795466387/overview/\n",
      "2020-01-21 17:58:45.903872 https://www.cars.com//vehicledetail/detail/776627164/overview/\n",
      "2020-01-21 17:58:46.691061 https://www.cars.com//vehicledetail/detail/795732556/overview/?isShippableInsideSearchRadius\n",
      "2020-01-21 17:58:47.540633 https://www.cars.com//vehicledetail/detail/790821161/overview/\n",
      "2020-01-21 17:58:48.267351 https://www.cars.com//vehicledetail/detail/791169441/overview/\n",
      "2020-01-21 17:58:49.256065 https://www.cars.com//vehicledetail/detail/793471184/overview/\n",
      "2020-01-21 17:58:49.953841 https://www.cars.com//vehicledetail/detail/785734678/overview/\n",
      "2020-01-21 17:58:50.703859 https://www.cars.com//vehicledetail/detail/786427402/overview/\n",
      "2020-01-21 17:58:51.349342 https://www.cars.com//vehicledetail/detail/732360034/overview/\n",
      "2020-01-21 17:58:51.987108 https://www.cars.com//vehicledetail/detail/796428708/overview/?isShippableInsideSearchRadius\n",
      "2020-01-21 17:58:52.777521 https://www.cars.com//vehicledetail/detail/795772705/overview/\n",
      "2020-01-21 17:58:53.279849 https://www.cars.com//vehicledetail/detail/796452295/overview/?isShippableInsideSearchRadius\n",
      "2020-01-21 17:58:53.766482 https://www.cars.com//vehicledetail/detail/796421186/overview/?isShippableInsideSearchRadius\n",
      "2020-01-21 17:58:54.620373 https://www.cars.com//vehicledetail/detail/776228829/overview/\n",
      "2020-01-21 17:58:55.199237 https://www.cars.com//vehicledetail/detail/796431005/overview/?isShippableInsideSearchRadius\n",
      "2020-01-21 17:58:56.043747 https://www.cars.com//vehicledetail/detail/793880353/overview/\n",
      "2020-01-21 17:58:56.746943 https://www.cars.com//vehicledetail/detail/784007808/overview/\n",
      "2020-01-21 17:58:57.248756 https://www.cars.com//vehicledetail/detail/794260854/overview/?isShippableInsideSearchRadius\n",
      "2020-01-21 17:58:57.756222 https://www.cars.com//vehicledetail/detail/763770541/overview/\n",
      "2020-01-21 17:58:58.432559 https://www.cars.com//vehicledetail/detail/794274253/overview/?isShippableInsideSearchRadius\n",
      "2020-01-21 17:58:58.935180 https://www.cars.com//vehicledetail/detail/788274052/overview/\n"
     ]
    },
    {
     "name": "stderr",
     "output_type": "stream",
     "text": [
      " 33% |########################                                                |\r"
     ]
    },
    {
     "name": "stdout",
     "output_type": "stream",
     "text": [
      "2020-01-21 17:58:59.745398 https://www.cars.com//vehicledetail/detail/795732171/overview/?isShippableInsideSearchRadius\n",
      "2020-01-21 17:59:00.435376 https://www.cars.com//vehicledetail/detail/796426065/overview/?isShippableInsideSearchRadius\n",
      "2020-01-21 17:59:01.134976 https://www.cars.com//vehicledetail/detail/740849252/overview/\n",
      "2020-01-21 17:59:01.792605 https://www.cars.com//vehicledetail/detail/790600142/overview/\n",
      "2020-01-21 17:59:02.464592 https://www.cars.com//vehicledetail/detail/748171249/overview/\n",
      "2020-01-21 17:59:03.284555 https://www.cars.com//vehicledetail/detail/794422860/overview/\n",
      "2020-01-21 17:59:04.140105 https://www.cars.com//vehicledetail/detail/792887419/overview/\n",
      "2020-01-21 17:59:04.749900 https://www.cars.com//vehicledetail/detail/784130944/overview/\n",
      "2020-01-21 17:59:05.367783 https://www.cars.com//vehicledetail/detail/792989535/overview/\n",
      "2020-01-21 17:59:06.149039 https://www.cars.com//vehicledetail/detail/789526961/overview/\n",
      "2020-01-21 17:59:07.018709 https://www.cars.com//vehicledetail/detail/780651001/overview/?isShippableInsideSearchRadius\n",
      "2020-01-21 17:59:07.736089 https://www.cars.com//vehicledetail/detail/787231635/overview/?isShippableInsideSearchRadius\n",
      "2020-01-21 17:59:08.371732 https://www.cars.com//vehicledetail/detail/796195689/overview/\n",
      "2020-01-21 17:59:08.868684 https://www.cars.com//vehicledetail/detail/793623603/overview/\n",
      "2020-01-21 17:59:09.435233 https://www.cars.com//vehicledetail/detail/796512374/overview/\n",
      "2020-01-21 17:59:10.036638 https://www.cars.com//vehicledetail/detail/794640773/overview/\n",
      "2020-01-21 17:59:10.660890 https://www.cars.com//vehicledetail/detail/793959033/overview/\n",
      "2020-01-21 17:59:11.390749 https://www.cars.com//vehicledetail/detail/795248920/overview/\n",
      "2020-01-21 17:59:12.271011 https://www.cars.com//vehicledetail/detail/796236561/overview/\n",
      "2020-01-21 17:59:13.113442 https://www.cars.com//vehicledetail/detail/779418276/overview/\n",
      "2020-01-21 17:59:14.000489 https://www.cars.com//vehicledetail/detail/790982414/overview/\n",
      "2020-01-21 17:59:14.596158 https://www.cars.com//vehicledetail/detail/796430746/overview/?isShippableInsideSearchRadius\n",
      "2020-01-21 17:59:15.365985 https://www.cars.com//vehicledetail/detail/795722943/overview/?isShippableInsideSearchRadius\n",
      "2020-01-21 17:59:15.964777 https://www.cars.com//vehicledetail/detail/793247848/overview/\n",
      "2020-01-21 17:59:17.017627 https://www.cars.com//vehicledetail/detail/793791053/overview/\n"
     ]
    },
    {
     "name": "stderr",
     "output_type": "stream",
     "text": [
      " 34% |#########################                                               |\r"
     ]
    },
    {
     "name": "stdout",
     "output_type": "stream",
     "text": [
      "2020-01-21 17:59:17.971736 https://www.cars.com//vehicledetail/detail/788306498/overview/\n",
      "2020-01-21 17:59:18.467499 https://www.cars.com//vehicledetail/detail/785592811/overview/?isShippableInsideSearchRadius\n",
      "2020-01-21 17:59:19.235835 https://www.cars.com//vehicledetail/detail/790461024/overview/\n",
      "2020-01-21 17:59:19.961511 https://www.cars.com//vehicledetail/detail/788296691/overview/\n",
      "2020-01-21 17:59:20.847982 https://www.cars.com//vehicledetail/detail/796658507/overview/\n",
      "2020-01-21 17:59:21.566870 https://www.cars.com//vehicledetail/detail/779953713/overview/\n",
      "2020-01-21 17:59:21.938395 https://www.cars.com//vehicledetail/detail/795727617/overview/?isShippableInsideSearchRadius\n",
      "2020-01-21 17:59:22.862872 https://www.cars.com//vehicledetail/detail/793916564/overview/\n",
      "2020-01-21 17:59:23.402201 https://www.cars.com//vehicledetail/detail/795728473/overview/?isShippableInsideSearchRadius\n",
      "2020-01-21 17:59:24.254702 https://www.cars.com//vehicledetail/detail/796428203/overview/?isShippableInsideSearchRadius\n",
      "2020-01-21 17:59:25.032213 https://www.cars.com//vehicledetail/detail/790720308/overview/\n",
      "2020-01-21 17:59:25.817903 https://www.cars.com//vehicledetail/detail/789522339/overview/?isShippableInsideSearchRadius\n",
      "2020-01-21 17:59:26.466305 https://www.cars.com//vehicledetail/detail/796420850/overview/?isShippableInsideSearchRadius\n",
      "2020-01-21 17:59:27.161569 https://www.cars.com//vehicledetail/detail/791519777/overview/?isShippableInsideSearchRadius\n",
      "2020-01-21 17:59:27.678877 https://www.cars.com//vehicledetail/detail/795731689/overview/?isShippableInsideSearchRadius\n",
      "2020-01-21 17:59:28.384522 https://www.cars.com//vehicledetail/detail/794835207/overview/\n",
      "2020-01-21 17:59:29.156513 https://www.cars.com//vehicledetail/detail/786422699/overview/\n",
      "2020-01-21 17:59:29.695746 https://www.cars.com//vehicledetail/detail/737046458/overview/\n",
      "2020-01-21 17:59:30.890253 https://www.cars.com//vehicledetail/detail/796425773/overview/?isShippableInsideSearchRadius\n",
      "2020-01-21 17:59:31.811378 https://www.cars.com//vehicledetail/detail/789889817/overview/\n",
      "2020-01-21 17:59:32.670755 https://www.cars.com//vehicledetail/detail/710353650/overview/\n",
      "2020-01-21 17:59:33.396550 https://www.cars.com//vehicledetail/detail/796118799/overview/\n",
      "2020-01-21 17:59:34.130508 https://www.cars.com//vehicledetail/detail/792180763/overview/\n",
      "2020-01-21 17:59:34.680849 https://www.cars.com//vehicledetail/detail/790993851/overview/\n",
      "2020-01-21 17:59:35.253157 https://www.cars.com//vehicledetail/detail/791508705/overview/?isShippableInsideSearchRadius\n"
     ]
    },
    {
     "name": "stderr",
     "output_type": "stream",
     "text": [
      " 35% |#########################                                               |\r"
     ]
    },
    {
     "name": "stdout",
     "output_type": "stream",
     "text": [
      "2020-01-21 17:59:35.741257 https://www.cars.com//vehicledetail/detail/796691039/overview/?isShippableInsideSearchRadius\n",
      "2020-01-21 17:59:36.479054 https://www.cars.com//vehicledetail/detail/635678659/overview/\n",
      "2020-01-21 17:59:37.007501 https://www.cars.com//vehicledetail/detail/754077937/overview/\n",
      "2020-01-21 17:59:37.774853 https://www.cars.com//vehicledetail/detail/769416826/overview/\n",
      "2020-01-21 17:59:38.342408 https://www.cars.com//vehicledetail/detail/793931474/overview/\n",
      "2020-01-21 17:59:38.735468 https://www.cars.com//vehicledetail/detail/796434079/overview/?isShippableInsideSearchRadius\n",
      "2020-01-21 17:59:39.530116 https://www.cars.com//vehicledetail/detail/788181169/overview/\n",
      "2020-01-21 17:59:40.138204 https://www.cars.com//vehicledetail/detail/796420728/overview/?isShippableInsideSearchRadius\n",
      "2020-01-21 17:59:40.772133 https://www.cars.com//vehicledetail/detail/782922857/overview/\n",
      "2020-01-21 17:59:41.587115 https://www.cars.com//vehicledetail/detail/795722993/overview/?isShippableInsideSearchRadius\n",
      "2020-01-21 17:59:42.322367 https://www.cars.com//vehicledetail/detail/795920422/overview/?isShippableInsideSearchRadius\n",
      "2020-01-21 17:59:43.070587 https://www.cars.com//vehicledetail/detail/787085384/overview/\n",
      "2020-01-21 17:59:43.921321 https://www.cars.com//vehicledetail/detail/793684087/overview/\n",
      "2020-01-21 17:59:44.574334 https://www.cars.com//vehicledetail/detail/796454696/overview/?isShippableInsideSearchRadius\n",
      "2020-01-21 17:59:45.209779 https://www.cars.com//vehicledetail/detail/790982670/overview/\n",
      "2020-01-21 17:59:46.085444 https://www.cars.com//vehicledetail/detail/795240056/overview/\n",
      "2020-01-21 17:59:46.796165 https://www.cars.com//vehicledetail/detail/780805804/overview/\n",
      "2020-01-21 17:59:47.359766 https://www.cars.com//vehicledetail/detail/792989629/overview/\n",
      "2020-01-21 17:59:47.941335 https://www.cars.com//vehicledetail/detail/795723511/overview/?isShippableInsideSearchRadius\n",
      "2020-01-21 17:59:48.527266 https://www.cars.com//vehicledetail/detail/795646740/overview/?isShippableInsideSearchRadius\n",
      "2020-01-21 17:59:49.285191 https://www.cars.com//vehicledetail/detail/793676187/overview/\n",
      "2020-01-21 17:59:50.174552 https://www.cars.com//vehicledetail/detail/789524667/overview/?isShippableInsideSearchRadius\n",
      "2020-01-21 17:59:51.023074 https://www.cars.com//vehicledetail/detail/792563922/overview/\n",
      "2020-01-21 17:59:51.742323 https://www.cars.com//vehicledetail/detail/787266058/overview/\n",
      "2020-01-21 17:59:52.456383 https://www.cars.com//vehicledetail/detail/791295794/overview/?isShippableInsideSearchRadius\n"
     ]
    },
    {
     "name": "stderr",
     "output_type": "stream",
     "text": [
      " 36% |##########################                                              |\r"
     ]
    },
    {
     "name": "stdout",
     "output_type": "stream",
     "text": [
      "2020-01-21 17:59:53.458562 https://www.cars.com//vehicledetail/detail/795725389/overview/?isShippableInsideSearchRadius\n",
      "2020-01-21 17:59:54.292050 https://www.cars.com//vehicledetail/detail/795343748/overview/\n",
      "2020-01-21 17:59:54.868021 https://www.cars.com//vehicledetail/detail/773463023/overview/\n",
      "2020-01-21 17:59:55.614779 https://www.cars.com//vehicledetail/detail/790304815/overview/\n",
      "2020-01-21 17:59:56.570237 https://www.cars.com//vehicledetail/detail/795725599/overview/?isShippableInsideSearchRadius\n",
      "2020-01-21 17:59:57.383655 https://www.cars.com//vehicledetail/detail/791523619/overview/?isShippableInsideSearchRadius\n",
      "2020-01-21 17:59:57.891018 https://www.cars.com//vehicledetail/detail/793570276/overview/?isShippableInsideSearchRadius\n",
      "2020-01-21 17:59:58.553579 https://www.cars.com//vehicledetail/detail/796776874/overview/\n",
      "2020-01-21 17:59:59.075885 https://www.cars.com//vehicledetail/detail/795012574/overview/\n",
      "2020-01-21 17:59:59.902720 https://www.cars.com//vehicledetail/detail/791553039/overview/?isShippableInsideSearchRadius\n",
      "2020-01-21 18:00:00.605585 https://www.cars.com//vehicledetail/detail/795724970/overview/?isShippableInsideSearchRadius\n",
      "2020-01-21 18:00:01.194941 https://www.cars.com//vehicledetail/detail/795733041/overview/?isShippableInsideSearchRadius\n",
      "2020-01-21 18:00:02.065382 https://www.cars.com//vehicledetail/detail/784304491/overview/\n",
      "2020-01-21 18:00:02.580223 https://www.cars.com//vehicledetail/detail/789279290/overview/\n",
      "2020-01-21 18:00:03.607039 https://www.cars.com//vehicledetail/detail/795732940/overview/?isShippableInsideSearchRadius\n",
      "2020-01-21 18:00:04.352079 https://www.cars.com//vehicledetail/detail/790910762/overview/\n",
      "2020-01-21 18:00:05.250139 https://www.cars.com//vehicledetail/detail/787080035/overview/\n",
      "2020-01-21 18:00:05.833157 https://www.cars.com//vehicledetail/detail/796422582/overview/?isShippableInsideSearchRadius\n",
      "2020-01-21 18:00:06.356139 https://www.cars.com//vehicledetail/detail/794654700/overview/\n",
      "2020-01-21 18:00:07.338002 https://www.cars.com//vehicledetail/detail/790759844/overview/\n",
      "2020-01-21 18:00:07.790567 https://www.cars.com//vehicledetail/detail/789110019/overview/\n",
      "2020-01-21 18:00:08.600754 https://www.cars.com//vehicledetail/detail/791563700/overview/?isShippableInsideSearchRadius\n",
      "2020-01-21 18:00:09.257240 https://www.cars.com//vehicledetail/detail/788314345/overview/\n",
      "2020-01-21 18:00:10.148421 https://www.cars.com//vehicledetail/detail/751188468/overview/\n",
      "2020-01-21 18:00:10.814530 https://www.cars.com//vehicledetail/detail/794797706/overview/\n"
     ]
    },
    {
     "name": "stderr",
     "output_type": "stream",
     "text": [
      " 37% |###########################                                             |\r"
     ]
    },
    {
     "name": "stdout",
     "output_type": "stream",
     "text": [
      "2020-01-21 18:00:11.651682 https://www.cars.com//vehicledetail/detail/783884829/overview/\n",
      "2020-01-21 18:00:12.402703 https://www.cars.com//vehicledetail/detail/726793376/overview/\n",
      "2020-01-21 18:00:13.058598 https://www.cars.com//vehicledetail/detail/791706042/overview/?isShippableInsideSearchRadius\n",
      "2020-01-21 18:00:13.630377 https://www.cars.com//vehicledetail/detail/789279519/overview/\n",
      "2020-01-21 18:00:14.300412 https://www.cars.com//vehicledetail/detail/800252382/overview/?isShippableInsideSearchRadius\n",
      "2020-01-21 18:00:15.225257 https://www.cars.com//vehicledetail/detail/800783018/overview/?isShippableInsideSearchRadius\n",
      "2020-01-21 18:00:15.843400 https://www.cars.com//vehicledetail/detail/800783772/overview/?isShippableInsideSearchRadius\n",
      "2020-01-21 18:00:16.597970 https://www.cars.com//vehicledetail/detail/800784060/overview/?isShippableInsideSearchRadius\n",
      "2020-01-21 18:00:17.466145 https://www.cars.com//vehicledetail/detail/800782287/overview/?isShippableInsideSearchRadius\n",
      "2020-01-21 18:00:18.121302 https://www.cars.com//vehicledetail/detail/800790367/overview/?isShippableInsideSearchRadius\n",
      "2020-01-21 18:00:18.936373 https://www.cars.com//vehicledetail/detail/800836631/overview/?isShippableInsideSearchRadius\n",
      "2020-01-21 18:00:19.950604 https://www.cars.com//vehicledetail/detail/800767018/overview/?isShippableInsideSearchRadius\n",
      "2020-01-21 18:00:20.813935 https://www.cars.com//vehicledetail/detail/800244827/overview/?isShippableInsideSearchRadius\n",
      "2020-01-21 18:00:21.380939 https://www.cars.com//vehicledetail/detail/800766576/overview/?isShippableInsideSearchRadius\n",
      "2020-01-21 18:00:22.486846 https://www.cars.com//vehicledetail/detail/800812185/overview/?isShippableInsideSearchRadius\n",
      "2020-01-21 18:00:23.332232 https://www.cars.com//vehicledetail/detail/800811742/overview/?isShippableInsideSearchRadius\n",
      "2020-01-21 18:00:24.287056 https://www.cars.com//vehicledetail/detail/800812246/overview/?isShippableInsideSearchRadius\n",
      "2020-01-21 18:00:25.053351 https://www.cars.com//vehicledetail/detail/800778862/overview/?isShippableInsideSearchRadius\n",
      "2020-01-21 18:00:25.587380 https://www.cars.com//vehicledetail/detail/800778160/overview/?isShippableInsideSearchRadius\n",
      "2020-01-21 18:00:26.585908 https://www.cars.com//vehicledetail/detail/800778353/overview/?isShippableInsideSearchRadius\n",
      "2020-01-21 18:00:27.061380 https://www.cars.com//vehicledetail/detail/799029833/overview/?isShippableInsideSearchRadius\n",
      "2020-01-21 18:00:28.057870 https://www.cars.com//vehicledetail/detail/800087782/overview/?isShippableInsideSearchRadius\n",
      "2020-01-21 18:00:28.938754 https://www.cars.com//vehicledetail/detail/800821552/overview/?isShippableInsideSearchRadius\n",
      "2020-01-21 18:00:29.854618 https://www.cars.com//vehicledetail/detail/800261218/overview/?isShippableInsideSearchRadius\n",
      "2020-01-21 18:00:30.682257 https://www.cars.com//vehicledetail/detail/800766919/overview/?isShippableInsideSearchRadius\n"
     ]
    },
    {
     "name": "stderr",
     "output_type": "stream",
     "text": [
      " 38% |###########################                                             |\r"
     ]
    },
    {
     "name": "stdout",
     "output_type": "stream",
     "text": [
      "2020-01-21 18:00:31.277751 https://www.cars.com//vehicledetail/detail/800766786/overview/?isShippableInsideSearchRadius\n",
      "2020-01-21 18:00:32.055443 https://www.cars.com//vehicledetail/detail/800767891/overview/?isShippableInsideSearchRadius\n",
      "2020-01-21 18:00:32.826846 https://www.cars.com//vehicledetail/detail/800837108/overview/?isShippableInsideSearchRadius\n",
      "2020-01-21 18:00:33.229102 https://www.cars.com//vehicledetail/detail/800864075/overview/\n",
      "2020-01-21 18:00:34.102282 https://www.cars.com//vehicledetail/detail/800864014/overview/\n",
      "2020-01-21 18:00:34.901179 https://www.cars.com//vehicledetail/detail/798291883/overview/?isShippableInsideSearchRadius\n",
      "2020-01-21 18:00:35.798388 https://www.cars.com//vehicledetail/detail/800766903/overview/?isShippableInsideSearchRadius\n",
      "2020-01-21 18:00:36.787882 https://www.cars.com//vehicledetail/detail/800767685/overview/?isShippableInsideSearchRadius\n",
      "2020-01-21 18:00:37.720722 https://www.cars.com//vehicledetail/detail/800800714/overview/?isShippableInsideSearchRadius\n",
      "2020-01-21 18:00:38.535585 https://www.cars.com//vehicledetail/detail/800305413/overview/?isShippableInsideSearchRadius\n",
      "2020-01-21 18:00:39.111341 https://www.cars.com//vehicledetail/detail/800766144/overview/?isShippableInsideSearchRadius\n",
      "2020-01-21 18:00:39.903254 https://www.cars.com//vehicledetail/detail/800765255/overview/?isShippableInsideSearchRadius\n",
      "2020-01-21 18:00:40.569172 https://www.cars.com//vehicledetail/detail/799499625/overview/?isShippableInsideSearchRadius\n",
      "2020-01-21 18:00:41.230633 https://www.cars.com//vehicledetail/detail/800765701/overview/?isShippableInsideSearchRadius\n",
      "2020-01-21 18:00:41.988443 https://www.cars.com//vehicledetail/detail/800765816/overview/?isShippableInsideSearchRadius\n",
      "2020-01-21 18:00:42.603709 https://www.cars.com//vehicledetail/detail/800765733/overview/?isShippableInsideSearchRadius\n",
      "2020-01-21 18:00:43.554395 https://www.cars.com//vehicledetail/detail/800787620/overview/?isShippableInsideSearchRadius\n",
      "2020-01-21 18:00:44.076720 https://www.cars.com//vehicledetail/detail/798608045/overview/?isShippableInsideSearchRadius\n",
      "2020-01-21 18:00:44.532025 https://www.cars.com//vehicledetail/detail/800785960/overview/?isShippableInsideSearchRadius\n",
      "2020-01-21 18:00:45.133891 https://www.cars.com//vehicledetail/detail/800256840/overview/?isShippableInsideSearchRadius\n",
      "2020-01-21 18:00:45.734081 https://www.cars.com//vehicledetail/detail/800869252/overview/\n",
      "2020-01-21 18:00:46.461703 https://www.cars.com//vehicledetail/detail/800778926/overview/?isShippableInsideSearchRadius\n",
      "2020-01-21 18:00:46.975901 https://www.cars.com//vehicledetail/detail/800259723/overview/?isShippableInsideSearchRadius\n",
      "2020-01-21 18:00:47.659034 https://www.cars.com//vehicledetail/detail/799490654/overview/?isShippableInsideSearchRadius\n",
      "2020-01-21 18:00:48.520361 https://www.cars.com//vehicledetail/detail/800027987/overview/?isShippableInsideSearchRadius\n"
     ]
    },
    {
     "name": "stderr",
     "output_type": "stream",
     "text": [
      " 39% |############################                                            |\r"
     ]
    },
    {
     "name": "stdout",
     "output_type": "stream",
     "text": [
      "2020-01-21 18:00:49.241749 https://www.cars.com//vehicledetail/detail/800879153/overview/\n",
      "2020-01-21 18:00:50.005171 https://www.cars.com//vehicledetail/detail/799520186/overview/?isShippableInsideSearchRadius\n",
      "2020-01-21 18:00:50.778329 https://www.cars.com//vehicledetail/detail/797406084/overview/?isShippableInsideSearchRadius\n",
      "2020-01-21 18:00:51.636548 https://www.cars.com//vehicledetail/detail/800786372/overview/?isShippableInsideSearchRadius\n",
      "2020-01-21 18:00:52.486531 https://www.cars.com//vehicledetail/detail/800837520/overview/?isShippableInsideSearchRadius\n",
      "2020-01-21 18:00:53.205761 https://www.cars.com//vehicledetail/detail/800837182/overview/?isShippableInsideSearchRadius\n",
      "2020-01-21 18:00:53.966694 https://www.cars.com//vehicledetail/detail/799538156/overview/?isShippableInsideSearchRadius\n",
      "2020-01-21 18:00:54.739571 https://www.cars.com//vehicledetail/detail/800071386/overview/?isShippableInsideSearchRadius\n",
      "2020-01-21 18:00:55.417343 https://www.cars.com//vehicledetail/detail/800835013/overview/?isShippableInsideSearchRadius\n",
      "2020-01-21 18:00:56.195633 https://www.cars.com//vehicledetail/detail/799495073/overview/?isShippableInsideSearchRadius\n",
      "2020-01-21 18:00:56.621063 https://www.cars.com//vehicledetail/detail/800764555/overview/?isShippableInsideSearchRadius\n",
      "2020-01-21 18:00:57.179808 https://www.cars.com//vehicledetail/detail/800763944/overview/?isShippableInsideSearchRadius\n",
      "2020-01-21 18:00:57.671152 https://www.cars.com//vehicledetail/detail/800764078/overview/?isShippableInsideSearchRadius\n",
      "2020-01-21 18:00:58.484270 https://www.cars.com//vehicledetail/detail/799300725/overview/?isShippableInsideSearchRadius\n",
      "2020-01-21 18:00:59.601113 https://www.cars.com//vehicledetail/detail/800776768/overview/?isShippableInsideSearchRadius\n",
      "2020-01-21 18:01:00.174581 https://www.cars.com//vehicledetail/detail/800775531/overview/?isShippableInsideSearchRadius\n",
      "2020-01-21 18:01:00.931403 https://www.cars.com//vehicledetail/detail/799763259/overview/?isShippableInsideSearchRadius\n",
      "2020-01-21 18:01:01.545075 https://www.cars.com//vehicledetail/detail/800801717/overview/?isShippableInsideSearchRadius\n",
      "2020-01-21 18:01:02.236090 https://www.cars.com//vehicledetail/detail/800069803/overview/?isShippableInsideSearchRadius\n",
      "2020-01-21 18:01:03.198314 https://www.cars.com//vehicledetail/detail/800280318/overview/?isShippableInsideSearchRadius\n",
      "2020-01-21 18:01:04.009951 https://www.cars.com//vehicledetail/detail/800076769/overview/?isShippableInsideSearchRadius\n",
      "2020-01-21 18:01:05.081324 https://www.cars.com//vehicledetail/detail/798855787/overview/?isShippableInsideSearchRadius\n",
      "2020-01-21 18:01:05.597612 https://www.cars.com//vehicledetail/detail/800802439/overview/?isShippableInsideSearchRadius\n",
      "2020-01-21 18:01:06.315545 https://www.cars.com//vehicledetail/detail/800802900/overview/?isShippableInsideSearchRadius\n",
      "2020-01-21 18:01:07.029660 https://www.cars.com//vehicledetail/detail/800248059/overview/?isShippableInsideSearchRadius\n"
     ]
    },
    {
     "name": "stderr",
     "output_type": "stream",
     "text": [
      " 40% |#############################                                           |\r"
     ]
    },
    {
     "name": "stdout",
     "output_type": "stream",
     "text": [
      "2020-01-21 18:01:07.892017 https://www.cars.com//vehicledetail/detail/800780639/overview/?isShippableInsideSearchRadius\n",
      "2020-01-21 18:01:08.573795 https://www.cars.com//vehicledetail/detail/800875018/overview/\n",
      "2020-01-21 18:01:09.261204 https://www.cars.com//vehicledetail/detail/800834254/overview/\n",
      "2020-01-21 18:01:10.083576 https://www.cars.com//vehicledetail/detail/800913897/overview/\n",
      "2020-01-21 18:01:10.691894 https://www.cars.com//vehicledetail/detail/800837946/overview/?isShippableInsideSearchRadius\n",
      "2020-01-21 18:01:11.144383 https://www.cars.com//vehicledetail/detail/800783166/overview/?isShippableInsideSearchRadius\n",
      "2020-01-21 18:01:11.930612 https://www.cars.com//vehicledetail/detail/800764513/overview/?isShippableInsideSearchRadius\n",
      "2020-01-21 18:01:12.654026 https://www.cars.com//vehicledetail/detail/800237094/overview/?isShippableInsideSearchRadius\n",
      "2020-01-21 18:01:13.443400 https://www.cars.com//vehicledetail/detail/800763390/overview/?isShippableInsideSearchRadius\n",
      "2020-01-21 18:01:14.249054 https://www.cars.com//vehicledetail/detail/800761673/overview/?isShippableInsideSearchRadius\n",
      "2020-01-21 18:01:14.910325 https://www.cars.com//vehicledetail/detail/800761367/overview/?isShippableInsideSearchRadius\n",
      "2020-01-21 18:01:15.641719 https://www.cars.com//vehicledetail/detail/800836100/overview/?isShippableInsideSearchRadius\n",
      "2020-01-21 18:01:16.169154 https://www.cars.com//vehicledetail/detail/800769621/overview/?isShippableInsideSearchRadius\n",
      "2020-01-21 18:01:16.644899 https://www.cars.com//vehicledetail/detail/800770459/overview/?isShippableInsideSearchRadius\n",
      "2020-01-21 18:01:17.321634 https://www.cars.com//vehicledetail/detail/800768488/overview/?isShippableInsideSearchRadius\n",
      "2020-01-21 18:01:17.859300 https://www.cars.com//vehicledetail/detail/800836978/overview/?isShippableInsideSearchRadius\n",
      "2020-01-21 18:01:18.622791 https://www.cars.com//vehicledetail/detail/800772093/overview/?isShippableInsideSearchRadius\n",
      "2020-01-21 18:01:19.102481 https://www.cars.com//vehicledetail/detail/798299538/overview/?isShippableInsideSearchRadius\n",
      "2020-01-21 18:01:19.555406 https://www.cars.com//vehicledetail/detail/796358082/overview/?isShippableInsideSearchRadius\n",
      "2020-01-21 18:01:19.968800 https://www.cars.com//vehicledetail/detail/800819836/overview/?isShippableInsideSearchRadius\n",
      "2020-01-21 18:01:20.740301 https://www.cars.com//vehicledetail/detail/800809713/overview/?isShippableInsideSearchRadius\n",
      "2020-01-21 18:01:21.617155 https://www.cars.com//vehicledetail/detail/799543524/overview/?isShippableInsideSearchRadius\n",
      "2020-01-21 18:01:22.366019 https://www.cars.com//vehicledetail/detail/799503039/overview/?isShippableInsideSearchRadius\n",
      "2020-01-21 18:01:22.943806 https://www.cars.com//vehicledetail/detail/800804459/overview/?isShippableInsideSearchRadius\n",
      "2020-01-21 18:01:23.929322 https://www.cars.com//vehicledetail/detail/798334571/overview/?isShippableInsideSearchRadius\n"
     ]
    },
    {
     "name": "stderr",
     "output_type": "stream",
     "text": [
      " 41% |##############################                                          |\r"
     ]
    },
    {
     "name": "stdout",
     "output_type": "stream",
     "text": [
      "2020-01-21 18:01:24.645619 https://www.cars.com//vehicledetail/detail/800804740/overview/?isShippableInsideSearchRadius\n",
      "2020-01-21 18:01:25.304780 https://www.cars.com//vehicledetail/detail/796388231/overview/?isShippableInsideSearchRadius\n",
      "2020-01-21 18:01:26.183664 https://www.cars.com//vehicledetail/detail/800800373/overview/?isShippableInsideSearchRadius\n",
      "2020-01-21 18:01:27.108916 https://www.cars.com//vehicledetail/detail/800800181/overview/?isShippableInsideSearchRadius\n",
      "2020-01-21 18:01:27.595129 https://www.cars.com//vehicledetail/detail/800814599/overview/?isShippableInsideSearchRadius\n",
      "2020-01-21 18:01:28.627244 https://www.cars.com//vehicledetail/detail/800807844/overview/?isShippableInsideSearchRadius\n",
      "2020-01-21 18:01:29.322997 https://www.cars.com//vehicledetail/detail/800028734/overview/?isShippableInsideSearchRadius\n",
      "2020-01-21 18:01:29.983835 https://www.cars.com//vehicledetail/detail/800075222/overview/?isShippableInsideSearchRadius\n",
      "2020-01-21 18:01:30.851728 https://www.cars.com//vehicledetail/detail/800808030/overview/?isShippableInsideSearchRadius\n",
      "2020-01-21 18:01:31.348211 https://www.cars.com//vehicledetail/detail/800808357/overview/?isShippableInsideSearchRadius\n",
      "2020-01-21 18:01:31.911203 https://www.cars.com//vehicledetail/detail/800809799/overview/?isShippableInsideSearchRadius\n",
      "2020-01-21 18:01:32.421606 https://www.cars.com//vehicledetail/detail/800810653/overview/?isShippableInsideSearchRadius\n",
      "2020-01-21 18:01:32.878620 https://www.cars.com//vehicledetail/detail/800077174/overview/?isShippableInsideSearchRadius\n",
      "2020-01-21 18:01:33.320713 https://www.cars.com//vehicledetail/detail/799758925/overview/?isShippableInsideSearchRadius\n",
      "2020-01-21 18:01:33.913103 https://www.cars.com//vehicledetail/detail/800770872/overview/?isShippableInsideSearchRadius\n",
      "2020-01-21 18:01:34.729306 https://www.cars.com//vehicledetail/detail/800772373/overview/?isShippableInsideSearchRadius\n",
      "2020-01-21 18:01:35.506307 https://www.cars.com//vehicledetail/detail/800772063/overview/?isShippableInsideSearchRadius\n",
      "2020-01-21 18:01:36.387730 https://www.cars.com//vehicledetail/detail/800772060/overview/?isShippableInsideSearchRadius\n",
      "2020-01-21 18:01:37.267068 https://www.cars.com//vehicledetail/detail/800772045/overview/?isShippableInsideSearchRadius\n",
      "2020-01-21 18:01:37.835260 https://www.cars.com//vehicledetail/detail/800772357/overview/?isShippableInsideSearchRadius\n",
      "2020-01-21 18:01:38.229564 https://www.cars.com//vehicledetail/detail/800056296/overview/?isShippableInsideSearchRadius\n",
      "2020-01-21 18:01:38.851395 https://www.cars.com//vehicledetail/detail/800804508/overview/?isShippableInsideSearchRadius\n",
      "2020-01-21 18:01:39.510351 https://www.cars.com//vehicledetail/detail/800804305/overview/?isShippableInsideSearchRadius\n",
      "2020-01-21 18:01:40.129809 https://www.cars.com//vehicledetail/detail/800071576/overview/?isShippableInsideSearchRadius\n",
      "2020-01-21 18:01:41.346368 https://www.cars.com//vehicledetail/detail/800766696/overview/?isShippableInsideSearchRadius\n"
     ]
    },
    {
     "name": "stderr",
     "output_type": "stream",
     "text": [
      " 42% |##############################                                          |\r"
     ]
    },
    {
     "name": "stdout",
     "output_type": "stream",
     "text": [
      "2020-01-21 18:01:42.381605 https://www.cars.com//vehicledetail/detail/800780195/overview/?isShippableInsideSearchRadius\n",
      "2020-01-21 18:01:43.357867 https://www.cars.com//vehicledetail/detail/800780434/overview/?isShippableInsideSearchRadius\n",
      "2020-01-21 18:01:43.921758 https://www.cars.com//vehicledetail/detail/800810487/overview/?isShippableInsideSearchRadius\n",
      "2020-01-21 18:01:44.394309 https://www.cars.com//vehicledetail/detail/800811334/overview/?isShippableInsideSearchRadius\n",
      "2020-01-21 18:01:45.216017 https://www.cars.com//vehicledetail/detail/800817024/overview/?isShippableInsideSearchRadius\n",
      "2020-01-21 18:01:46.028062 https://www.cars.com//vehicledetail/detail/800311510/overview/?isShippableInsideSearchRadius\n",
      "2020-01-21 18:01:46.797471 https://www.cars.com//vehicledetail/detail/799821026/overview/?isShippableInsideSearchRadius\n",
      "2020-01-21 18:01:47.445068 https://www.cars.com//vehicledetail/detail/800790235/overview/?isShippableInsideSearchRadius\n",
      "2020-01-21 18:01:47.988534 https://www.cars.com//vehicledetail/detail/800056038/overview/?isShippableInsideSearchRadius\n",
      "2020-01-21 18:01:48.574106 https://www.cars.com//vehicledetail/detail/800818752/overview/?isShippableInsideSearchRadius\n",
      "2020-01-21 18:01:49.096487 https://www.cars.com//vehicledetail/detail/800818136/overview/?isShippableInsideSearchRadius\n",
      "2020-01-21 18:01:49.694339 https://www.cars.com//vehicledetail/detail/800776490/overview/?isShippableInsideSearchRadius\n",
      "2020-01-21 18:01:50.552511 https://www.cars.com//vehicledetail/detail/799416343/overview/\n",
      "2020-01-21 18:01:51.198782 https://www.cars.com//vehicledetail/detail/800098775/overview/\n",
      "2020-01-21 18:01:52.096915 https://www.cars.com//vehicledetail/detail/799804372/overview/?isShippableInsideSearchRadius\n",
      "2020-01-21 18:01:53.070091 https://www.cars.com//vehicledetail/detail/800806122/overview/?isShippableInsideSearchRadius\n",
      "2020-01-21 18:01:53.814697 https://www.cars.com//vehicledetail/detail/800837699/overview/?isShippableInsideSearchRadius\n",
      "2020-01-21 18:01:54.338962 https://www.cars.com//vehicledetail/detail/800837662/overview/?isShippableInsideSearchRadius\n",
      "2020-01-21 18:01:54.921697 https://www.cars.com//vehicledetail/detail/800797209/overview/?isShippableInsideSearchRadius\n",
      "2020-01-21 18:01:55.478034 https://www.cars.com//vehicledetail/detail/800797513/overview/?isShippableInsideSearchRadius\n",
      "2020-01-21 18:01:56.189476 https://www.cars.com//vehicledetail/detail/800274835/overview/?isShippableInsideSearchRadius\n",
      "2020-01-21 18:01:57.064694 https://www.cars.com//vehicledetail/detail/800273817/overview/?isShippableInsideSearchRadius\n",
      "2020-01-21 18:01:57.789832 https://www.cars.com//vehicledetail/detail/800858424/overview/\n",
      "2020-01-21 18:01:58.572131 https://www.cars.com//vehicledetail/detail/800796423/overview/?isShippableInsideSearchRadius\n",
      "2020-01-21 18:01:59.427090 https://www.cars.com//vehicledetail/detail/800796416/overview/?isShippableInsideSearchRadius\n"
     ]
    },
    {
     "name": "stderr",
     "output_type": "stream",
     "text": [
      " 43% |###############################                                         |\r"
     ]
    },
    {
     "name": "stdout",
     "output_type": "stream",
     "text": [
      "2020-01-21 18:01:59.844133 https://www.cars.com//vehicledetail/detail/800810971/overview/?isShippableInsideSearchRadius\n",
      "2020-01-21 18:02:00.713813 https://www.cars.com//vehicledetail/detail/800811333/overview/?isShippableInsideSearchRadius\n",
      "2020-01-21 18:02:01.648427 https://www.cars.com//vehicledetail/detail/800811438/overview/?isShippableInsideSearchRadius\n",
      "2020-01-21 18:02:02.471772 https://www.cars.com//vehicledetail/detail/799548430/overview/?isShippableInsideSearchRadius\n",
      "2020-01-21 18:02:03.188578 https://www.cars.com//vehicledetail/detail/799937295/overview/\n",
      "2020-01-21 18:02:04.172083 https://www.cars.com//vehicledetail/detail/800764235/overview/?isShippableInsideSearchRadius\n",
      "2020-01-21 18:02:04.981101 https://www.cars.com//vehicledetail/detail/799026531/overview/?isShippableInsideSearchRadius\n",
      "2020-01-21 18:02:05.816812 https://www.cars.com//vehicledetail/detail/800774863/overview/?isShippableInsideSearchRadius\n",
      "2020-01-21 18:02:06.387594 https://www.cars.com//vehicledetail/detail/800774486/overview/?isShippableInsideSearchRadius\n",
      "2020-01-21 18:02:07.006039 https://www.cars.com//vehicledetail/detail/800894890/overview/\n",
      "2020-01-21 18:02:07.717174 https://www.cars.com//vehicledetail/detail/800765085/overview/?isShippableInsideSearchRadius\n",
      "2020-01-21 18:02:08.588362 https://www.cars.com//vehicledetail/detail/798291311/overview/?isShippableInsideSearchRadius\n",
      "2020-01-21 18:02:09.523356 https://www.cars.com//vehicledetail/detail/800770701/overview/?isShippableInsideSearchRadius\n",
      "2020-01-21 18:02:10.296946 https://www.cars.com//vehicledetail/detail/800770503/overview/?isShippableInsideSearchRadius\n",
      "2020-01-21 18:02:11.283922 https://www.cars.com//vehicledetail/detail/800770602/overview/?isShippableInsideSearchRadius\n",
      "2020-01-21 18:02:12.035719 https://www.cars.com//vehicledetail/detail/800835516/overview/?isShippableInsideSearchRadius\n",
      "2020-01-21 18:02:12.734226 https://www.cars.com//vehicledetail/detail/797707796/overview/?isShippableInsideSearchRadius\n",
      "2020-01-21 18:02:13.423811 https://www.cars.com//vehicledetail/detail/800805358/overview/?isShippableInsideSearchRadius\n",
      "2020-01-21 18:02:14.190941 https://www.cars.com//vehicledetail/detail/800837803/overview/?isShippableInsideSearchRadius\n",
      "2020-01-21 18:02:14.675121 https://www.cars.com//vehicledetail/detail/800772968/overview/?isShippableInsideSearchRadius\n",
      "2020-01-21 18:02:15.346613 https://www.cars.com//vehicledetail/detail/800884491/overview/\n",
      "2020-01-21 18:02:16.169388 https://www.cars.com//vehicledetail/detail/800888469/overview/\n",
      "2020-01-21 18:02:16.840359 https://www.cars.com//vehicledetail/detail/800886279/overview/\n",
      "2020-01-21 18:02:17.333646 https://www.cars.com//vehicledetail/detail/800779318/overview/?isShippableInsideSearchRadius\n",
      "2020-01-21 18:02:18.015744 https://www.cars.com//vehicledetail/detail/799025075/overview/?isShippableInsideSearchRadius\n"
     ]
    },
    {
     "name": "stderr",
     "output_type": "stream",
     "text": [
      " 44% |################################                                        |\r"
     ]
    },
    {
     "name": "stdout",
     "output_type": "stream",
     "text": [
      "2020-01-21 18:02:18.586602 https://www.cars.com//vehicledetail/detail/800045162/overview/?isShippableInsideSearchRadius\n",
      "2020-01-21 18:02:19.262015 https://www.cars.com//vehicledetail/detail/798497955/overview/\n",
      "2020-01-21 18:02:20.132763 https://www.cars.com//vehicledetail/detail/800910634/overview/\n",
      "2020-01-21 18:02:21.038407 https://www.cars.com//vehicledetail/detail/800880063/overview/\n",
      "2020-01-21 18:02:21.799008 https://www.cars.com//vehicledetail/detail/800822381/overview/?isShippableInsideSearchRadius\n",
      "2020-01-21 18:02:22.381075 https://www.cars.com//vehicledetail/detail/798885755/overview/?isShippableInsideSearchRadius\n",
      "2020-01-21 18:02:23.085711 https://www.cars.com//vehicledetail/detail/800821782/overview/?isShippableInsideSearchRadius\n",
      "2020-01-21 18:02:23.647496 https://www.cars.com//vehicledetail/detail/800045928/overview/?isShippableInsideSearchRadius\n",
      "2020-01-21 18:02:24.283546 https://www.cars.com//vehicledetail/detail/798608806/overview/?isShippableInsideSearchRadius\n",
      "2020-01-21 18:02:24.917736 https://www.cars.com//vehicledetail/detail/800838401/overview/?isShippableInsideSearchRadius\n",
      "2020-01-21 18:02:25.796957 https://www.cars.com//vehicledetail/detail/800836862/overview/?isShippableInsideSearchRadius\n",
      "2020-01-21 18:02:26.749684 https://www.cars.com//vehicledetail/detail/800820694/overview/?isShippableInsideSearchRadius\n",
      "2020-01-21 18:02:27.750057 https://www.cars.com//vehicledetail/detail/800908986/overview/\n",
      "2020-01-21 18:02:28.723158 https://www.cars.com//vehicledetail/detail/800908985/overview/\n",
      "2020-01-21 18:02:29.511070 https://www.cars.com//vehicledetail/detail/800787743/overview/?isShippableInsideSearchRadius\n",
      "2020-01-21 18:02:30.227317 https://www.cars.com//vehicledetail/detail/797682644/overview/?isShippableInsideSearchRadius\n",
      "2020-01-21 18:02:31.041851 https://www.cars.com//vehicledetail/detail/799783057/overview/?isShippableInsideSearchRadius\n",
      "2020-01-21 18:02:31.638966 https://www.cars.com//vehicledetail/detail/800838905/overview/?isShippableInsideSearchRadius\n",
      "2020-01-21 18:02:32.275030 https://www.cars.com//vehicledetail/detail/800787545/overview/?isShippableInsideSearchRadius\n",
      "2020-01-21 18:02:33.434801 https://www.cars.com//vehicledetail/detail/799767719/overview/?isShippableInsideSearchRadius\n",
      "2020-01-21 18:02:34.298573 https://www.cars.com//vehicledetail/detail/799763562/overview/?isShippableInsideSearchRadius\n",
      "2020-01-21 18:02:35.120411 https://www.cars.com//vehicledetail/detail/799512758/overview/?isShippableInsideSearchRadius\n",
      "2020-01-21 18:02:36.087682 https://www.cars.com//vehicledetail/detail/800788945/overview/?isShippableInsideSearchRadius\n",
      "2020-01-21 18:02:36.582826 https://www.cars.com//vehicledetail/detail/800838977/overview/?isShippableInsideSearchRadius\n",
      "2020-01-21 18:02:37.202207 https://www.cars.com//vehicledetail/detail/800887786/overview/\n"
     ]
    },
    {
     "name": "stderr",
     "output_type": "stream",
     "text": [
      " 46% |#################################                                       |\r"
     ]
    },
    {
     "name": "stdout",
     "output_type": "stream",
     "text": [
      "2020-01-21 18:02:38.000304 https://www.cars.com//vehicledetail/detail/800771310/overview/?isShippableInsideSearchRadius\n",
      "2020-01-21 18:02:39.139303 https://www.cars.com//vehicledetail/detail/800780589/overview/?isShippableInsideSearchRadius\n",
      "2020-01-21 18:02:39.595121 https://www.cars.com//vehicledetail/detail/800780289/overview/?isShippableInsideSearchRadius\n",
      "2020-01-21 18:02:40.374971 https://www.cars.com//vehicledetail/detail/800248512/overview/?isShippableInsideSearchRadius\n",
      "2020-01-21 18:02:41.607982 https://www.cars.com//vehicledetail/detail/800780514/overview/?isShippableInsideSearchRadius\n",
      "2020-01-21 18:02:42.552714 https://www.cars.com//vehicledetail/detail/798606088/overview/?isShippableInsideSearchRadius\n",
      "2020-01-21 18:02:43.357575 https://www.cars.com//vehicledetail/detail/791513648/overview/?isShippableInsideSearchRadius\n",
      "2020-01-21 18:02:44.189588 https://www.cars.com//vehicledetail/detail/800838213/overview/?isShippableInsideSearchRadius\n",
      "2020-01-21 18:02:44.843394 https://www.cars.com//vehicledetail/detail/800813430/overview/?isShippableInsideSearchRadius\n",
      "2020-01-21 18:02:45.560779 https://www.cars.com//vehicledetail/detail/800813741/overview/?isShippableInsideSearchRadius\n",
      "2020-01-21 18:02:46.278714 https://www.cars.com//vehicledetail/detail/800836266/overview/?isShippableInsideSearchRadius\n",
      "2020-01-21 18:02:46.779186 https://www.cars.com//vehicledetail/detail/798318507/overview/?isShippableInsideSearchRadius\n",
      "2020-01-21 18:02:47.326321 https://www.cars.com//vehicledetail/detail/800782453/overview/?isShippableInsideSearchRadius\n",
      "2020-01-21 18:02:47.858048 https://www.cars.com//vehicledetail/detail/800782902/overview/?isShippableInsideSearchRadius\n",
      "2020-01-21 18:02:48.893729 https://www.cars.com//vehicledetail/detail/800787242/overview/?isShippableInsideSearchRadius\n",
      "2020-01-21 18:02:49.295338 https://www.cars.com//vehicledetail/detail/800817398/overview/?isShippableInsideSearchRadius\n",
      "2020-01-21 18:02:50.153548 https://www.cars.com//vehicledetail/detail/798596133/overview/?isShippableInsideSearchRadius\n",
      "2020-01-21 18:02:50.774947 https://www.cars.com//vehicledetail/detail/800773141/overview/?isShippableInsideSearchRadius\n",
      "2020-01-21 18:02:51.771932 https://www.cars.com//vehicledetail/detail/798599751/overview/?isShippableInsideSearchRadius\n",
      "2020-01-21 18:02:52.363350 https://www.cars.com//vehicledetail/detail/799497739/overview/?isShippableInsideSearchRadius\n",
      "2020-01-21 18:02:53.400401 https://www.cars.com//vehicledetail/detail/797075716/overview/\n",
      "2020-01-21 18:02:54.333686 https://www.cars.com//vehicledetail/detail/800835633/overview/?isShippableInsideSearchRadius\n",
      "2020-01-21 18:02:55.070148 https://www.cars.com//vehicledetail/detail/800795793/overview/?isShippableInsideSearchRadius\n",
      "2020-01-21 18:02:55.672266 https://www.cars.com//vehicledetail/detail/800795890/overview/?isShippableInsideSearchRadius\n",
      "2020-01-21 18:02:56.467983 https://www.cars.com//vehicledetail/detail/800794625/overview/?isShippableInsideSearchRadius\n"
     ]
    },
    {
     "name": "stderr",
     "output_type": "stream",
     "text": [
      " 47% |#################################                                       |\r"
     ]
    },
    {
     "name": "stdout",
     "output_type": "stream",
     "text": [
      "2020-01-21 18:02:57.236519 https://www.cars.com//vehicledetail/detail/800894485/overview/\n",
      "2020-01-21 18:02:57.735835 https://www.cars.com//vehicledetail/detail/800818524/overview/?isShippableInsideSearchRadius\n",
      "2020-01-21 18:02:58.591057 https://www.cars.com//vehicledetail/detail/800803239/overview/?isShippableInsideSearchRadius\n",
      "2020-01-21 18:02:59.618487 https://www.cars.com//vehicledetail/detail/800860017/overview/\n",
      "2020-01-21 18:03:00.201228 https://www.cars.com//vehicledetail/detail/800798468/overview/?isShippableInsideSearchRadius\n",
      "2020-01-21 18:03:01.178308 https://www.cars.com//vehicledetail/detail/800276360/overview/?isShippableInsideSearchRadius\n",
      "2020-01-21 18:03:02.056275 https://www.cars.com//vehicledetail/detail/800798388/overview/?isShippableInsideSearchRadius\n",
      "2020-01-21 18:03:02.857928 https://www.cars.com//vehicledetail/detail/800835069/overview/?isShippableInsideSearchRadius\n",
      "2020-01-21 18:03:03.421362 https://www.cars.com//vehicledetail/detail/800902503/overview/\n",
      "2020-01-21 18:03:04.003026 https://www.cars.com//vehicledetail/detail/800836946/overview/?isShippableInsideSearchRadius\n",
      "2020-01-21 18:03:04.652112 https://www.cars.com//vehicledetail/detail/800896337/overview/\n",
      "2020-01-21 18:03:05.493566 https://www.cars.com//vehicledetail/detail/800881530/overview/\n",
      "2020-01-21 18:03:06.468609 https://www.cars.com//vehicledetail/detail/800780796/overview/?isShippableInsideSearchRadius\n",
      "2020-01-21 18:03:07.485292 https://www.cars.com//vehicledetail/detail/800781883/overview/?isShippableInsideSearchRadius\n",
      "2020-01-21 18:03:08.446344 https://www.cars.com//vehicledetail/detail/800780848/overview/?isShippableInsideSearchRadius\n",
      "2020-01-21 18:03:09.274787 https://www.cars.com//vehicledetail/detail/800785821/overview/?isShippableInsideSearchRadius\n",
      "2020-01-21 18:03:10.003465 https://www.cars.com//vehicledetail/detail/800051794/overview/?isShippableInsideSearchRadius\n",
      "2020-01-21 18:03:10.714873 https://www.cars.com//vehicledetail/detail/800836954/overview/?isShippableInsideSearchRadius\n",
      "2020-01-21 18:03:11.312557 https://www.cars.com//vehicledetail/detail/786072668/overview/\n",
      "2020-01-21 18:03:12.360789 https://www.cars.com//vehicledetail/detail/800764949/overview/?isShippableInsideSearchRadius\n",
      "2020-01-21 18:03:13.119372 https://www.cars.com//vehicledetail/detail/800763975/overview/?isShippableInsideSearchRadius\n",
      "2020-01-21 18:03:13.744854 https://www.cars.com//vehicledetail/detail/799018335/overview/?isShippableInsideSearchRadius\n",
      "2020-01-21 18:03:14.133577 https://www.cars.com//vehicledetail/detail/800775964/overview/?isShippableInsideSearchRadius\n",
      "2020-01-21 18:03:14.813783 https://www.cars.com//vehicledetail/detail/800777356/overview/?isShippableInsideSearchRadius\n",
      "2020-01-21 18:03:15.491633 https://www.cars.com//vehicledetail/detail/799034078/overview/?isShippableInsideSearchRadius\n"
     ]
    },
    {
     "name": "stderr",
     "output_type": "stream",
     "text": [
      " 48% |##################################                                      |\r"
     ]
    },
    {
     "name": "stdout",
     "output_type": "stream",
     "text": [
      "2020-01-21 18:03:16.120757 https://www.cars.com//vehicledetail/detail/800775851/overview/?isShippableInsideSearchRadius\n",
      "2020-01-21 18:03:16.771254 https://www.cars.com//vehicledetail/detail/800833450/overview/\n",
      "2020-01-21 18:03:17.261770 https://www.cars.com//vehicledetail/detail/800829034/overview/?isShippableInsideSearchRadius\n",
      "2020-01-21 18:03:18.136004 https://www.cars.com//vehicledetail/detail/795118801/overview/?isShippableInsideSearchRadius\n",
      "2020-01-21 18:03:18.898641 https://www.cars.com//vehicledetail/detail/799774717/overview/?isShippableInsideSearchRadius\n",
      "2020-01-21 18:03:19.382363 https://www.cars.com//vehicledetail/detail/800261247/overview/?isShippableInsideSearchRadius\n",
      "2020-01-21 18:03:19.986209 https://www.cars.com//vehicledetail/detail/800787972/overview/?isShippableInsideSearchRadius\n",
      "2020-01-21 18:03:21.032379 https://www.cars.com//vehicledetail/detail/800786101/overview/?isShippableInsideSearchRadius\n",
      "2020-01-21 18:03:21.577992 https://www.cars.com//vehicledetail/detail/800051822/overview/?isShippableInsideSearchRadius\n",
      "2020-01-21 18:03:22.161552 https://www.cars.com//vehicledetail/detail/800789579/overview/?isShippableInsideSearchRadius\n",
      "2020-01-21 18:03:22.647742 https://www.cars.com//vehicledetail/detail/800785775/overview/?isShippableInsideSearchRadius\n",
      "2020-01-21 18:03:23.196921 https://www.cars.com//vehicledetail/detail/800784735/overview/?isShippableInsideSearchRadius\n",
      "2020-01-21 18:03:24.063463 https://www.cars.com//vehicledetail/detail/800784284/overview/?isShippableInsideSearchRadius\n",
      "2020-01-21 18:03:25.048924 https://www.cars.com//vehicledetail/detail/799764841/overview/?isShippableInsideSearchRadius\n",
      "2020-01-21 18:03:25.449766 https://www.cars.com//vehicledetail/detail/800878186/overview/\n",
      "2020-01-21 18:03:26.269466 https://www.cars.com//vehicledetail/detail/800892428/overview/\n",
      "2020-01-21 18:03:26.973047 https://www.cars.com//vehicledetail/detail/800900455/overview/\n",
      "2020-01-21 18:03:27.833050 https://www.cars.com//vehicledetail/detail/800793138/overview/?isShippableInsideSearchRadius\n",
      "2020-01-21 18:03:28.861719 https://www.cars.com//vehicledetail/detail/800793863/overview/?isShippableInsideSearchRadius\n",
      "2020-01-21 18:03:29.592854 https://www.cars.com//vehicledetail/detail/800819975/overview/?isShippableInsideSearchRadius\n",
      "2020-01-21 18:03:30.136247 https://www.cars.com//vehicledetail/detail/800821234/overview/?isShippableInsideSearchRadius\n",
      "2020-01-21 18:03:30.544888 https://www.cars.com//vehicledetail/detail/800890748/overview/\n",
      "2020-01-21 18:03:31.457578 https://www.cars.com//vehicledetail/detail/800837088/overview/?isShippableInsideSearchRadius\n",
      "2020-01-21 18:03:32.412002 https://www.cars.com//vehicledetail/detail/799787628/overview/?isShippableInsideSearchRadius\n",
      "2020-01-21 18:03:32.923256 https://www.cars.com//vehicledetail/detail/800796777/overview/?isShippableInsideSearchRadius\n"
     ]
    },
    {
     "name": "stderr",
     "output_type": "stream",
     "text": [
      " 49% |###################################                                     |\r"
     ]
    },
    {
     "name": "stdout",
     "output_type": "stream",
     "text": [
      "2020-01-21 18:03:33.888988 https://www.cars.com//vehicledetail/detail/800779722/overview/?isShippableInsideSearchRadius\n",
      "2020-01-21 18:03:34.571510 https://www.cars.com//vehicledetail/detail/800864491/overview/\n",
      "2020-01-21 18:03:35.077910 https://www.cars.com//vehicledetail/detail/800455822/overview/\n",
      "2020-01-21 18:03:35.659585 https://www.cars.com//vehicledetail/detail/800083361/overview/\n",
      "2020-01-21 18:03:36.477125 https://www.cars.com//vehicledetail/detail/800779207/overview/?isShippableInsideSearchRadius\n",
      "2020-01-21 18:03:37.048190 https://www.cars.com//vehicledetail/detail/800522691/overview/?isShippableInsideSearchRadius\n",
      "2020-01-21 18:03:37.574063 https://www.cars.com//vehicledetail/detail/800523632/overview/?isShippableInsideSearchRadius\n",
      "2020-01-21 18:03:38.230262 https://www.cars.com//vehicledetail/detail/799972222/overview/?isShippableInsideSearchRadius\n",
      "2020-01-21 18:03:38.660371 https://www.cars.com//vehicledetail/detail/799707314/overview/?isShippableInsideSearchRadius\n",
      "2020-01-21 18:03:39.149924 https://www.cars.com//vehicledetail/detail/797495092/overview/?isShippableInsideSearchRadius\n",
      "2020-01-21 18:03:40.021760 https://www.cars.com//vehicledetail/detail/800504831/overview/?isShippableInsideSearchRadius\n",
      "2020-01-21 18:03:40.731156 https://www.cars.com//vehicledetail/detail/800245055/overview/?isShippableInsideSearchRadius\n",
      "2020-01-21 18:03:41.728632 https://www.cars.com//vehicledetail/detail/788042736/overview/\n",
      "2020-01-21 18:03:42.523470 https://www.cars.com//vehicledetail/detail/788042753/overview/\n",
      "2020-01-21 18:03:43.113805 https://www.cars.com//vehicledetail/detail/796981487/overview/?isShippableInsideSearchRadius\n",
      "2020-01-21 18:03:43.686021 https://www.cars.com//vehicledetail/detail/799962186/overview/?isShippableInsideSearchRadius\n",
      "2020-01-21 18:03:44.502088 https://www.cars.com//vehicledetail/detail/799718802/overview/?isShippableInsideSearchRadius\n",
      "2020-01-21 18:03:45.363933 https://www.cars.com//vehicledetail/detail/768255771/overview/\n",
      "2020-01-21 18:03:45.863130 https://www.cars.com//vehicledetail/detail/798463091/overview/\n",
      "2020-01-21 18:03:46.405834 https://www.cars.com//vehicledetail/detail/799688402/overview/\n",
      "2020-01-21 18:03:47.296332 https://www.cars.com//vehicledetail/detail/799974278/overview/\n",
      "2020-01-21 18:03:48.070754 https://www.cars.com//vehicledetail/detail/800436242/overview/\n",
      "2020-01-21 18:03:48.765281 https://www.cars.com//vehicledetail/detail/800618668/overview/\n",
      "2020-01-21 18:03:49.595168 https://www.cars.com//vehicledetail/detail/797129267/overview/\n",
      "2020-01-21 18:03:50.645889 https://www.cars.com//vehicledetail/detail/797129351/overview/\n"
     ]
    },
    {
     "name": "stderr",
     "output_type": "stream",
     "text": [
      " 50% |####################################                                    |\r"
     ]
    },
    {
     "name": "stdout",
     "output_type": "stream",
     "text": [
      "2020-01-21 18:03:51.246105 https://www.cars.com//vehicledetail/detail/794811307/overview/\n",
      "2020-01-21 18:03:51.893899 https://www.cars.com//vehicledetail/detail/799827277/overview/\n",
      "2020-01-21 18:03:52.672435 https://www.cars.com//vehicledetail/detail/789636963/overview/\n",
      "2020-01-21 18:03:53.381725 https://www.cars.com//vehicledetail/detail/798453539/overview/\n",
      "2020-01-21 18:03:53.771178 https://www.cars.com//vehicledetail/detail/800017935/overview/\n",
      "2020-01-21 18:03:54.316752 https://www.cars.com//vehicledetail/detail/798134772/overview/\n",
      "2020-01-21 18:03:55.202473 https://www.cars.com//vehicledetail/detail/793124314/overview/\n",
      "2020-01-21 18:03:56.059773 https://www.cars.com//vehicledetail/detail/800831022/overview/\n",
      "2020-01-21 18:03:56.676047 https://www.cars.com//vehicledetail/detail/799917622/overview/\n",
      "2020-01-21 18:03:57.627109 https://www.cars.com//vehicledetail/detail/800516687/overview/?isShippableInsideSearchRadius\n",
      "2020-01-21 18:03:58.523395 https://www.cars.com//vehicledetail/detail/795443581/overview/\n",
      "2020-01-21 18:04:00.573763 https://www.cars.com//vehicledetail/detail/798680385/overview/\n",
      "2020-01-21 18:04:01.349077 https://www.cars.com//vehicledetail/detail/762782113/overview/\n",
      "2020-01-21 18:04:01.857117 https://www.cars.com//vehicledetail/detail/759318582/overview/\n",
      "2020-01-21 18:04:02.652626 https://www.cars.com//vehicledetail/detail/798877429/overview/\n",
      "2020-01-21 18:04:03.358066 https://www.cars.com//vehicledetail/detail/782581663/overview/\n",
      "2020-01-21 18:04:04.326235 https://www.cars.com//vehicledetail/detail/799488863/overview/\n",
      "2020-01-21 18:04:05.267304 https://www.cars.com//vehicledetail/detail/796051762/overview/\n",
      "2020-01-21 18:04:05.814308 https://www.cars.com//vehicledetail/detail/798984632/overview/\n",
      "2020-01-21 18:04:06.444751 https://www.cars.com//vehicledetail/detail/798665497/overview/\n",
      "2020-01-21 18:04:06.994278 https://www.cars.com//vehicledetail/detail/790450744/overview/\n",
      "2020-01-21 18:04:07.837608 https://www.cars.com//vehicledetail/detail/790451027/overview/\n",
      "2020-01-21 18:04:08.675406 https://www.cars.com//vehicledetail/detail/790450969/overview/\n",
      "2020-01-21 18:04:09.511355 https://www.cars.com//vehicledetail/detail/790450768/overview/\n",
      "2020-01-21 18:04:10.050939 https://www.cars.com//vehicledetail/detail/799295316/overview/\n"
     ]
    },
    {
     "name": "stderr",
     "output_type": "stream",
     "text": [
      " 51% |####################################                                    |\r"
     ]
    },
    {
     "name": "stdout",
     "output_type": "stream",
     "text": [
      "2020-01-21 18:04:10.600463 https://www.cars.com//vehicledetail/detail/779651568/overview/\n",
      "2020-01-21 18:04:11.148690 https://www.cars.com//vehicledetail/detail/797846995/overview/\n",
      "2020-01-21 18:04:11.958452 https://www.cars.com//vehicledetail/detail/799705369/overview/?isShippableInsideSearchRadius\n",
      "2020-01-21 18:04:12.817918 https://www.cars.com//vehicledetail/detail/799962188/overview/?isShippableInsideSearchRadius\n",
      "2020-01-21 18:04:13.465866 https://www.cars.com//vehicledetail/detail/799718986/overview/?isShippableInsideSearchRadius\n",
      "2020-01-21 18:04:14.171893 https://www.cars.com//vehicledetail/detail/797863852/overview/\n",
      "2020-01-21 18:04:14.726383 https://www.cars.com//vehicledetail/detail/798663055/overview/\n",
      "2020-01-21 18:04:15.586046 https://www.cars.com//vehicledetail/detail/796650894/overview/\n",
      "2020-01-21 18:04:16.256147 https://www.cars.com//vehicledetail/detail/796933847/overview/\n",
      "2020-01-21 18:04:16.865616 https://www.cars.com//vehicledetail/detail/800246159/overview/?isShippableInsideSearchRadius\n",
      "2020-01-21 18:04:17.709469 https://www.cars.com//vehicledetail/detail/799759698/overview/?isShippableInsideSearchRadius\n",
      "2020-01-21 18:04:18.508684 https://www.cars.com//vehicledetail/detail/796841240/overview/\n",
      "2020-01-21 18:04:19.112397 https://www.cars.com//vehicledetail/detail/800120424/overview/\n",
      "2020-01-21 18:04:19.671324 https://www.cars.com//vehicledetail/detail/797564493/overview/\n",
      "2020-01-21 18:04:20.313354 https://www.cars.com//vehicledetail/detail/798964283/overview/\n",
      "2020-01-21 18:04:21.172255 https://www.cars.com//vehicledetail/detail/798255064/overview/\n",
      "2020-01-21 18:04:21.617255 https://www.cars.com//vehicledetail/detail/793076015/overview/\n",
      "2020-01-21 18:04:22.104638 https://www.cars.com//vehicledetail/detail/797028148/overview/\n",
      "2020-01-21 18:04:22.714866 https://www.cars.com//vehicledetail/detail/750083924/overview/\n",
      "2020-01-21 18:04:23.422183 https://www.cars.com//vehicledetail/detail/799484582/overview/\n",
      "2020-01-21 18:04:23.981577 https://www.cars.com//vehicledetail/detail/736848426/overview/\n",
      "2020-01-21 18:04:24.582435 https://www.cars.com//vehicledetail/detail/793962151/overview/\n",
      "2020-01-21 18:04:25.115690 https://www.cars.com//vehicledetail/detail/799734159/overview/\n",
      "2020-01-21 18:04:25.702370 https://www.cars.com//vehicledetail/detail/798736824/overview/\n",
      "2020-01-21 18:04:26.458787 https://www.cars.com//vehicledetail/detail/800359557/overview/?isShippableInsideSearchRadius\n"
     ]
    },
    {
     "name": "stderr",
     "output_type": "stream",
     "text": [
      " 52% |#####################################                                   |\r"
     ]
    },
    {
     "name": "stdout",
     "output_type": "stream",
     "text": [
      "2020-01-21 18:04:27.268747 https://www.cars.com//vehicledetail/detail/800359558/overview/?isShippableInsideSearchRadius\n",
      "2020-01-21 18:04:27.971818 https://www.cars.com//vehicledetail/detail/800359554/overview/?isShippableInsideSearchRadius\n",
      "2020-01-21 18:04:28.750268 https://www.cars.com//vehicledetail/detail/800359555/overview/?isShippableInsideSearchRadius\n",
      "2020-01-21 18:04:29.350612 https://www.cars.com//vehicledetail/detail/799971860/overview/?isShippableInsideSearchRadius\n",
      "2020-01-21 18:04:30.220090 https://www.cars.com//vehicledetail/detail/796982674/overview/?isShippableInsideSearchRadius\n",
      "2020-01-21 18:04:30.931095 https://www.cars.com//vehicledetail/detail/799963812/overview/?isShippableInsideSearchRadius\n",
      "2020-01-21 18:04:31.866397 https://www.cars.com//vehicledetail/detail/799631761/overview/\n",
      "2020-01-21 18:04:32.333026 https://www.cars.com//vehicledetail/detail/797495126/overview/?isShippableInsideSearchRadius\n",
      "2020-01-21 18:04:33.130884 https://www.cars.com//vehicledetail/detail/795477613/overview/\n",
      "2020-01-21 18:04:34.097068 https://www.cars.com//vehicledetail/detail/798439628/overview/\n",
      "2020-01-21 18:04:34.962468 https://www.cars.com//vehicledetail/detail/798678412/overview/\n",
      "2020-01-21 18:04:35.707329 https://www.cars.com//vehicledetail/detail/792536464/overview/\n",
      "2020-01-21 18:04:36.571905 https://www.cars.com//vehicledetail/detail/800241466/overview/?isShippableInsideSearchRadius\n",
      "2020-01-21 18:04:37.442742 https://www.cars.com//vehicledetail/detail/798589164/overview/?isShippableInsideSearchRadius\n",
      "2020-01-21 18:04:38.150143 https://www.cars.com//vehicledetail/detail/799701591/overview/\n",
      "2020-01-21 18:04:38.780101 https://www.cars.com//vehicledetail/detail/798720898/overview/\n",
      "2020-01-21 18:04:39.677286 https://www.cars.com//vehicledetail/detail/788959944/overview/\n",
      "2020-01-21 18:04:40.407687 https://www.cars.com//vehicledetail/detail/795494483/overview/\n",
      "2020-01-21 18:04:40.977324 https://www.cars.com//vehicledetail/detail/800390635/overview/\n",
      "2020-01-21 18:04:41.944246 https://www.cars.com//vehicledetail/detail/797477562/overview/\n",
      "2020-01-21 18:04:42.766461 https://www.cars.com//vehicledetail/detail/791072259/overview/\n",
      "2020-01-21 18:04:43.602792 https://www.cars.com//vehicledetail/detail/799833397/overview/\n",
      "2020-01-21 18:04:44.635107 https://www.cars.com//vehicledetail/detail/797584083/overview/\n",
      "2020-01-21 18:04:45.238458 https://www.cars.com//vehicledetail/detail/795416367/overview/\n",
      "2020-01-21 18:04:46.154880 https://www.cars.com//vehicledetail/detail/799113036/overview/\n"
     ]
    },
    {
     "name": "stderr",
     "output_type": "stream",
     "text": [
      " 53% |######################################                                  |\r"
     ]
    },
    {
     "name": "stdout",
     "output_type": "stream",
     "text": [
      "2020-01-21 18:04:46.791225 https://www.cars.com//vehicledetail/detail/800533471/overview/\n",
      "2020-01-21 18:04:47.399819 https://www.cars.com//vehicledetail/detail/791329994/overview/\n",
      "2020-01-21 18:04:48.363682 https://www.cars.com//vehicledetail/detail/799168171/overview/\n",
      "2020-01-21 18:04:48.805691 https://www.cars.com//vehicledetail/detail/799296220/overview/\n",
      "2020-01-21 18:04:49.426032 https://www.cars.com//vehicledetail/detail/797491771/overview/?isShippableInsideSearchRadius\n",
      "2020-01-21 18:04:50.092090 https://www.cars.com//vehicledetail/detail/798916640/overview/?isShippableInsideSearchRadius\n",
      "2020-01-21 18:04:50.950404 https://www.cars.com//vehicledetail/detail/798684154/overview/\n",
      "2020-01-21 18:04:51.948219 https://www.cars.com//vehicledetail/detail/798250912/overview/\n",
      "2020-01-21 18:04:52.739970 https://www.cars.com//vehicledetail/detail/797486871/overview/\n",
      "2020-01-21 18:04:53.644887 https://www.cars.com//vehicledetail/detail/800531177/overview/?isShippableInsideSearchRadius\n",
      "2020-01-21 18:04:54.464395 https://www.cars.com//vehicledetail/detail/799495829/overview/?isShippableInsideSearchRadius\n",
      "2020-01-21 18:04:55.195761 https://www.cars.com//vehicledetail/detail/800171125/overview/\n",
      "2020-01-21 18:04:55.995202 https://www.cars.com//vehicledetail/detail/796980779/overview/?isShippableInsideSearchRadius\n",
      "2020-01-21 18:04:56.878073 https://www.cars.com//vehicledetail/detail/795465899/overview/\n",
      "2020-01-21 18:04:57.392986 https://www.cars.com//vehicledetail/detail/797475959/overview/\n",
      "2020-01-21 18:04:58.251539 https://www.cars.com//vehicledetail/detail/794350355/overview/\n",
      "2020-01-21 18:04:59.008930 https://www.cars.com//vehicledetail/detail/794350356/overview/\n",
      "2020-01-21 18:04:59.802879 https://www.cars.com//vehicledetail/detail/781122737/overview/\n",
      "2020-01-21 18:05:00.712684 https://www.cars.com//vehicledetail/detail/793574188/overview/\n",
      "2020-01-21 18:05:01.494242 https://www.cars.com//vehicledetail/detail/788868665/overview/\n",
      "2020-01-21 18:05:02.132903 https://www.cars.com//vehicledetail/detail/785897020/overview/\n",
      "2020-01-21 18:05:02.926417 https://www.cars.com//vehicledetail/detail/798607936/overview/?isShippableInsideSearchRadius\n",
      "2020-01-21 18:05:03.489581 https://www.cars.com//vehicledetail/detail/800526427/overview/?isShippableInsideSearchRadius\n",
      "2020-01-21 18:05:04.259302 https://www.cars.com//vehicledetail/detail/800670870/overview/\n",
      "2020-01-21 18:05:05.193602 https://www.cars.com//vehicledetail/detail/799653137/overview/\n"
     ]
    },
    {
     "name": "stderr",
     "output_type": "stream",
     "text": [
      " 54% |#######################################                                 |\r"
     ]
    },
    {
     "name": "stdout",
     "output_type": "stream",
     "text": [
      "2020-01-21 18:05:05.833479 https://www.cars.com//vehicledetail/detail/797057639/overview/\n",
      "2020-01-21 18:05:06.496418 https://www.cars.com//vehicledetail/detail/796954999/overview/\n",
      "2020-01-21 18:05:07.089188 https://www.cars.com//vehicledetail/detail/800207845/overview/\n",
      "2020-01-21 18:05:08.013585 https://www.cars.com//vehicledetail/detail/790269480/overview/\n",
      "2020-01-21 18:05:08.652395 https://www.cars.com//vehicledetail/detail/793478334/overview/\n",
      "2020-01-21 18:05:09.585635 https://www.cars.com//vehicledetail/detail/794722215/overview/\n",
      "2020-01-21 18:05:10.534443 https://www.cars.com//vehicledetail/detail/799182864/overview/\n",
      "2020-01-21 18:05:11.334747 https://www.cars.com//vehicledetail/detail/796655615/overview/\n",
      "2020-01-21 18:05:12.257773 https://www.cars.com//vehicledetail/detail/790641673/overview/\n",
      "2020-01-21 18:05:13.031701 https://www.cars.com//vehicledetail/detail/787542651/overview/\n",
      "2020-01-21 18:05:13.531370 https://www.cars.com//vehicledetail/detail/795492913/overview/\n",
      "2020-01-21 18:05:14.131833 https://www.cars.com//vehicledetail/detail/796943254/overview/\n",
      "2020-01-21 18:05:14.705246 https://www.cars.com//vehicledetail/detail/794159349/overview/\n",
      "2020-01-21 18:05:15.358562 https://www.cars.com//vehicledetail/detail/796239014/overview/\n",
      "2020-01-21 18:05:15.975859 https://www.cars.com//vehicledetail/detail/800272177/overview/\n",
      "2020-01-21 18:05:16.852588 https://www.cars.com//vehicledetail/detail/796779688/overview/\n",
      "2020-01-21 18:05:17.750469 https://www.cars.com//vehicledetail/detail/796943250/overview/\n",
      "2020-01-21 18:05:18.645790 https://www.cars.com//vehicledetail/detail/794447461/overview/\n",
      "2020-01-21 18:05:19.275584 https://www.cars.com//vehicledetail/detail/799097679/overview/\n",
      "2020-01-21 18:05:19.896018 https://www.cars.com//vehicledetail/detail/800535298/overview/\n",
      "2020-01-21 18:05:20.442478 https://www.cars.com//vehicledetail/detail/798037419/overview/\n",
      "2020-01-21 18:05:20.960793 https://www.cars.com//vehicledetail/detail/799830851/overview/\n",
      "2020-01-21 18:05:21.463626 https://www.cars.com//vehicledetail/detail/799461343/overview/\n",
      "2020-01-21 18:05:22.427176 https://www.cars.com//vehicledetail/detail/800518143/overview/?isShippableInsideSearchRadius\n",
      "2020-01-21 18:05:23.228140 https://www.cars.com//vehicledetail/detail/800047378/overview/?isShippableInsideSearchRadius\n"
     ]
    },
    {
     "name": "stderr",
     "output_type": "stream",
     "text": [
      " 55% |#######################################                                 |\r"
     ]
    },
    {
     "name": "stdout",
     "output_type": "stream",
     "text": [
      "2020-01-21 18:05:23.765353 https://www.cars.com//vehicledetail/detail/800516506/overview/?isShippableInsideSearchRadius\n",
      "2020-01-21 18:05:24.264013 https://www.cars.com//vehicledetail/detail/800202801/overview/\n",
      "2020-01-21 18:05:25.035713 https://www.cars.com//vehicledetail/detail/800203047/overview/\n",
      "2020-01-21 18:05:25.601216 https://www.cars.com//vehicledetail/detail/800473817/overview/\n",
      "2020-01-21 18:05:26.257327 https://www.cars.com//vehicledetail/detail/794353079/overview/\n",
      "2020-01-21 18:05:26.705071 https://www.cars.com//vehicledetail/detail/786266597/overview/\n",
      "2020-01-21 18:05:27.315514 https://www.cars.com//vehicledetail/detail/800115818/overview/\n",
      "2020-01-21 18:05:28.331789 https://www.cars.com//vehicledetail/detail/799840757/overview/\n",
      "2020-01-21 18:05:28.913099 https://www.cars.com//vehicledetail/detail/797502304/overview/\n",
      "2020-01-21 18:05:29.611846 https://www.cars.com//vehicledetail/detail/800844369/overview/\n",
      "2020-01-21 18:05:30.349913 https://www.cars.com//vehicledetail/detail/797843823/overview/\n",
      "2020-01-21 18:05:31.420150 https://www.cars.com//vehicledetail/detail/798910859/overview/\n",
      "2020-01-21 18:05:32.026543 https://www.cars.com//vehicledetail/detail/797135569/overview/\n",
      "2020-01-21 18:05:32.882913 https://www.cars.com//vehicledetail/detail/800115254/overview/\n",
      "2020-01-21 18:05:33.387630 https://www.cars.com//vehicledetail/detail/798093854/overview/\n",
      "2020-01-21 18:05:34.154673 https://www.cars.com//vehicledetail/detail/794694023/overview/\n",
      "2020-01-21 18:05:34.644610 https://www.cars.com//vehicledetail/detail/796889475/overview/\n",
      "2020-01-21 18:05:35.550361 https://www.cars.com//vehicledetail/detail/786965733/overview/\n",
      "2020-01-21 18:05:36.273988 https://www.cars.com//vehicledetail/detail/799261733/overview/\n",
      "2020-01-21 18:05:37.218411 https://www.cars.com//vehicledetail/detail/799998972/overview/\n",
      "2020-01-21 18:05:37.760691 https://www.cars.com//vehicledetail/detail/799169247/overview/\n",
      "2020-01-21 18:05:38.551625 https://www.cars.com//vehicledetail/detail/791025417/overview/\n",
      "2020-01-21 18:05:39.354031 https://www.cars.com//vehicledetail/detail/800099062/overview/\n",
      "2020-01-21 18:05:39.758525 https://www.cars.com//vehicledetail/detail/799718737/overview/?isShippableInsideSearchRadius\n",
      "2020-01-21 18:05:40.256576 https://www.cars.com//vehicledetail/detail/796978906/overview/?isShippableInsideSearchRadius\n"
     ]
    },
    {
     "name": "stderr",
     "output_type": "stream",
     "text": [
      " 56% |########################################                                |\r"
     ]
    },
    {
     "name": "stdout",
     "output_type": "stream",
     "text": [
      "2020-01-21 18:05:40.905780 https://www.cars.com//vehicledetail/detail/797494503/overview/?isShippableInsideSearchRadius\n",
      "2020-01-21 18:05:41.658483 https://www.cars.com//vehicledetail/detail/799704084/overview/?isShippableInsideSearchRadius\n",
      "2020-01-21 18:05:42.371502 https://www.cars.com//vehicledetail/detail/799606304/overview/\n",
      "2020-01-21 18:05:43.412099 https://www.cars.com//vehicledetail/detail/789809889/overview/\n",
      "2020-01-21 18:05:44.129246 https://www.cars.com//vehicledetail/detail/799165229/overview/\n",
      "2020-01-21 18:05:45.071549 https://www.cars.com//vehicledetail/detail/795062145/overview/\n",
      "2020-01-21 18:05:45.778970 https://www.cars.com//vehicledetail/detail/800571653/overview/\n",
      "2020-01-21 18:05:46.669160 https://www.cars.com//vehicledetail/detail/799972799/overview/?isShippableInsideSearchRadius\n",
      "2020-01-21 18:05:47.128789 https://www.cars.com//vehicledetail/detail/798034046/overview/\n",
      "2020-01-21 18:05:48.026530 https://www.cars.com//vehicledetail/detail/799584691/overview/\n",
      "2020-01-21 18:05:48.544209 https://www.cars.com//vehicledetail/detail/799867613/overview/\n",
      "2020-01-21 18:05:49.142928 https://www.cars.com//vehicledetail/detail/799701209/overview/\n",
      "2020-01-21 18:05:49.941895 https://www.cars.com//vehicledetail/detail/798413180/overview/\n",
      "2020-01-21 18:05:50.623177 https://www.cars.com//vehicledetail/detail/797510128/overview/\n",
      "2020-01-21 18:05:51.476163 https://www.cars.com//vehicledetail/detail/798050489/overview/\n",
      "2020-01-21 18:05:52.246444 https://www.cars.com//vehicledetail/detail/798371827/overview/\n",
      "2020-01-21 18:05:52.990882 https://www.cars.com//vehicledetail/detail/794779378/overview/\n",
      "2020-01-21 18:05:53.670489 https://www.cars.com//vehicledetail/detail/790698479/overview/\n",
      "2020-01-21 18:05:54.257378 https://www.cars.com//vehicledetail/detail/799962800/overview/?isShippableInsideSearchRadius\n",
      "2020-01-21 18:05:55.159477 https://www.cars.com//vehicledetail/detail/799972771/overview/?isShippableInsideSearchRadius\n",
      "2020-01-21 18:05:55.805699 https://www.cars.com//vehicledetail/detail/782523417/overview/\n",
      "2020-01-21 18:05:56.688314 https://www.cars.com//vehicledetail/detail/800020886/overview/\n",
      "2020-01-21 18:05:57.926589 https://www.cars.com//vehicledetail/detail/791868119/overview/\n",
      "2020-01-21 18:05:58.532106 https://www.cars.com//vehicledetail/detail/794727476/overview/\n",
      "2020-01-21 18:05:59.483212 https://www.cars.com//vehicledetail/detail/800649556/overview/\n"
     ]
    },
    {
     "name": "stderr",
     "output_type": "stream",
     "text": [
      " 57% |#########################################                               |\r"
     ]
    },
    {
     "name": "stdout",
     "output_type": "stream",
     "text": [
      "2020-01-21 18:06:00.232150 https://www.cars.com//vehicledetail/detail/799718417/overview/?isShippableInsideSearchRadius\n",
      "2020-01-21 18:06:00.794155 https://www.cars.com//vehicledetail/detail/798407650/overview/\n",
      "2020-01-21 18:06:01.563272 https://www.cars.com//vehicledetail/detail/794462679/overview/\n",
      "2020-01-21 18:06:02.390026 https://www.cars.com//vehicledetail/detail/798422208/overview/\n",
      "2020-01-21 18:06:03.077046 https://www.cars.com//vehicledetail/detail/800337135/overview/?isShippableInsideSearchRadius\n",
      "2020-01-21 18:06:03.738245 https://www.cars.com//vehicledetail/detail/797493343/overview/?isShippableInsideSearchRadius\n",
      "2020-01-21 18:06:04.228006 https://www.cars.com//vehicledetail/detail/797294480/overview/\n",
      "2020-01-21 18:06:05.221923 https://www.cars.com//vehicledetail/detail/799109740/overview/\n",
      "2020-01-21 18:06:05.666189 https://www.cars.com//vehicledetail/detail/799571447/overview/\n",
      "2020-01-21 18:06:06.201493 https://www.cars.com//vehicledetail/detail/799951315/overview/\n",
      "2020-01-21 18:06:06.963649 https://www.cars.com//vehicledetail/detail/798278563/overview/\n",
      "2020-01-21 18:06:07.706879 https://www.cars.com//vehicledetail/detail/798946853/overview/\n",
      "2020-01-21 18:06:08.351446 https://www.cars.com//vehicledetail/detail/800167418/overview/\n",
      "2020-01-21 18:06:08.891710 https://www.cars.com//vehicledetail/detail/799574083/overview/\n",
      "2020-01-21 18:06:09.558440 https://www.cars.com//vehicledetail/detail/794504674/overview/\n",
      "2020-01-21 18:06:10.511115 https://www.cars.com//vehicledetail/detail/793594896/overview/\n",
      "2020-01-21 18:06:11.444700 https://www.cars.com//vehicledetail/detail/788435853/overview/\n",
      "2020-01-21 18:06:12.085968 https://www.cars.com//vehicledetail/detail/800154912/overview/\n",
      "2020-01-21 18:06:12.651295 https://www.cars.com//vehicledetail/detail/797268551/overview/\n",
      "2020-01-21 18:06:13.564881 https://www.cars.com//vehicledetail/detail/799451073/overview/\n",
      "2020-01-21 18:06:14.323294 https://www.cars.com//vehicledetail/detail/800846398/overview/\n",
      "2020-01-21 18:06:14.807102 https://www.cars.com//vehicledetail/detail/800249490/overview/?isShippableInsideSearchRadius\n",
      "2020-01-21 18:06:15.794335 https://www.cars.com//vehicledetail/detail/800249837/overview/?isShippableInsideSearchRadius\n",
      "2020-01-21 18:06:16.407420 https://www.cars.com//vehicledetail/detail/784442956/overview/\n",
      "2020-01-21 18:06:16.978192 https://www.cars.com//vehicledetail/detail/772829299/overview/\n"
     ]
    },
    {
     "name": "stderr",
     "output_type": "stream",
     "text": [
      " 58% |#########################################                               |\r"
     ]
    },
    {
     "name": "stdout",
     "output_type": "stream",
     "text": [
      "2020-01-21 18:06:17.815963 https://www.cars.com//vehicledetail/detail/800278946/overview/?isShippableInsideSearchRadius\n",
      "2020-01-21 18:06:18.367922 https://www.cars.com//vehicledetail/detail/797555467/overview/\n",
      "2020-01-21 18:06:19.047723 https://www.cars.com//vehicledetail/detail/794637664/overview/\n",
      "2020-01-21 18:06:19.557629 https://www.cars.com//vehicledetail/detail/800562578/overview/?isShippableInsideSearchRadius\n",
      "2020-01-21 18:06:20.636453 https://www.cars.com//vehicledetail/detail/800638968/overview/\n",
      "2020-01-21 18:06:21.398620 https://www.cars.com//vehicledetail/detail/796239570/overview/\n",
      "2020-01-21 18:06:22.102583 https://www.cars.com//vehicledetail/detail/739179888/overview/\n",
      "2020-01-21 18:06:23.053789 https://www.cars.com//vehicledetail/detail/797496005/overview/?isShippableInsideSearchRadius\n",
      "2020-01-21 18:06:23.600156 https://www.cars.com//vehicledetail/detail/800753270/overview/?isShippableInsideSearchRadius\n",
      "2020-01-21 18:06:24.501036 https://www.cars.com//vehicledetail/detail/799720229/overview/?isShippableInsideSearchRadius\n",
      "2020-01-21 18:06:25.393613 https://www.cars.com//vehicledetail/detail/800393547/overview/\n",
      "2020-01-21 18:06:25.891765 https://www.cars.com//vehicledetail/detail/799942523/overview/\n",
      "2020-01-21 18:06:26.559952 https://www.cars.com//vehicledetail/detail/800411060/overview/\n",
      "2020-01-21 18:06:27.415145 https://www.cars.com//vehicledetail/detail/799971623/overview/?isShippableInsideSearchRadius\n",
      "2020-01-21 18:06:28.276606 https://www.cars.com//vehicledetail/detail/799704268/overview/?isShippableInsideSearchRadius\n",
      "2020-01-21 18:06:28.844160 https://www.cars.com//vehicledetail/detail/799963270/overview/?isShippableInsideSearchRadius\n",
      "2020-01-21 18:06:29.618053 https://www.cars.com//vehicledetail/detail/800122937/overview/\n",
      "2020-01-21 18:06:30.390211 https://www.cars.com//vehicledetail/detail/797496448/overview/?isShippableInsideSearchRadius\n",
      "2020-01-21 18:06:30.980128 https://www.cars.com//vehicledetail/detail/796983329/overview/?isShippableInsideSearchRadius\n",
      "2020-01-21 18:06:31.739971 https://www.cars.com//vehicledetail/detail/799720382/overview/?isShippableInsideSearchRadius\n",
      "2020-01-21 18:06:32.527173 https://www.cars.com//vehicledetail/detail/797267039/overview/\n",
      "2020-01-21 18:06:33.330386 https://www.cars.com//vehicledetail/detail/799918754/overview/\n",
      "2020-01-21 18:06:34.240578 https://www.cars.com//vehicledetail/detail/800271069/overview/\n",
      "2020-01-21 18:06:35.100163 https://www.cars.com//vehicledetail/detail/799573158/overview/\n",
      "2020-01-21 18:06:35.720302 https://www.cars.com//vehicledetail/detail/800824242/overview/\n"
     ]
    },
    {
     "name": "stderr",
     "output_type": "stream",
     "text": [
      " 59% |##########################################                              |\r"
     ]
    },
    {
     "name": "stdout",
     "output_type": "stream",
     "text": [
      "2020-01-21 18:06:36.357983 https://www.cars.com//vehicledetail/detail/800621476/overview/?isShippableInsideSearchRadius\n",
      "2020-01-21 18:06:37.238912 https://www.cars.com//vehicledetail/detail/800226940/overview/\n",
      "2020-01-21 18:06:38.582640 https://www.cars.com//vehicledetail/detail/793254687/overview/\n",
      "2020-01-21 18:06:39.480313 https://www.cars.com//vehicledetail/detail/798729443/overview/\n",
      "2020-01-21 18:06:40.334195 https://www.cars.com//vehicledetail/detail/799400050/overview/\n",
      "2020-01-21 18:06:41.115318 https://www.cars.com//vehicledetail/detail/799532200/overview/\n",
      "2020-01-21 18:06:41.861957 https://www.cars.com//vehicledetail/detail/800095972/overview/?isShippableInsideSearchRadius\n",
      "2020-01-21 18:06:43.078154 https://www.cars.com//vehicledetail/detail/797915124/overview/\n",
      "2020-01-21 18:06:43.903090 https://www.cars.com//vehicledetail/detail/797017099/overview/\n",
      "2020-01-21 18:06:44.950681 https://www.cars.com//vehicledetail/detail/793858816/overview/\n",
      "2020-01-21 18:06:45.917626 https://www.cars.com//vehicledetail/detail/799719856/overview/?isShippableInsideSearchRadius\n",
      "2020-01-21 18:06:46.900824 https://www.cars.com//vehicledetail/detail/799963464/overview/?isShippableInsideSearchRadius\n",
      "2020-01-21 18:06:47.578997 https://www.cars.com//vehicledetail/detail/799990762/overview/\n",
      "2020-01-21 18:06:48.355793 https://www.cars.com//vehicledetail/detail/799907326/overview/\n",
      "2020-01-21 18:06:49.035134 https://www.cars.com//vehicledetail/detail/797594373/overview/\n",
      "2020-01-21 18:06:50.096170 https://www.cars.com//vehicledetail/detail/798960664/overview/\n",
      "2020-01-21 18:06:50.977742 https://www.cars.com//vehicledetail/detail/800030498/overview/?isShippableInsideSearchRadius\n",
      "2020-01-21 18:06:51.553382 https://www.cars.com//vehicledetail/detail/798784277/overview/\n",
      "2020-01-21 18:06:52.240193 https://www.cars.com//vehicledetail/detail/799580665/overview/\n",
      "2020-01-21 18:06:53.180708 https://www.cars.com//vehicledetail/detail/800298283/overview/\n",
      "2020-01-21 18:06:53.843080 https://www.cars.com//vehicledetail/detail/800578458/overview/\n",
      "2020-01-21 18:06:54.757197 https://www.cars.com//vehicledetail/detail/800728868/overview/\n",
      "2020-01-21 18:06:55.551138 https://www.cars.com//vehicledetail/detail/792654430/overview/\n",
      "2020-01-21 18:06:56.272035 https://www.cars.com//vehicledetail/detail/785057760/overview/\n",
      "2020-01-21 18:06:57.169062 https://www.cars.com//vehicledetail/detail/800098535/overview/\n"
     ]
    },
    {
     "name": "stderr",
     "output_type": "stream",
     "text": [
      " 60% |###########################################                             |\r"
     ]
    },
    {
     "name": "stdout",
     "output_type": "stream",
     "text": [
      "2020-01-21 18:06:57.749071 https://www.cars.com//vehicledetail/detail/800357459/overview/?isShippableInsideSearchRadius\n",
      "2020-01-21 18:06:58.583372 https://www.cars.com//vehicledetail/detail/799719952/overview/?isShippableInsideSearchRadius\n",
      "2020-01-21 18:06:59.392135 https://www.cars.com//vehicledetail/detail/799963910/overview/?isShippableInsideSearchRadius\n",
      "2020-01-21 18:06:59.830165 https://www.cars.com//vehicledetail/detail/799719943/overview/?isShippableInsideSearchRadius\n",
      "2020-01-21 18:07:00.627937 https://www.cars.com//vehicledetail/detail/797494895/overview/?isShippableInsideSearchRadius\n",
      "2020-01-21 18:07:01.553118 https://www.cars.com//vehicledetail/detail/798395283/overview/?isShippableInsideSearchRadius\n",
      "2020-01-21 18:07:02.111137 https://www.cars.com//vehicledetail/detail/800730188/overview/\n",
      "2020-01-21 18:07:02.532215 https://www.cars.com//vehicledetail/detail/797443072/overview/\n",
      "2020-01-21 18:07:03.062010 https://www.cars.com//vehicledetail/detail/787801974/overview/\n",
      "2020-01-21 18:07:03.907892 https://www.cars.com//vehicledetail/detail/799972792/overview/?isShippableInsideSearchRadius\n",
      "2020-01-21 18:07:04.335960 https://www.cars.com//vehicledetail/detail/799720197/overview/?isShippableInsideSearchRadius\n",
      "2020-01-21 18:07:04.775087 https://www.cars.com//vehicledetail/detail/796982855/overview/?isShippableInsideSearchRadius\n",
      "2020-01-21 18:07:05.728392 https://www.cars.com//vehicledetail/detail/798368415/overview/\n",
      "2020-01-21 18:07:06.427512 https://www.cars.com//vehicledetail/detail/798598486/overview/?isShippableInsideSearchRadius\n",
      "2020-01-21 18:07:07.013900 https://www.cars.com//vehicledetail/detail/799768264/overview/?isShippableInsideSearchRadius\n",
      "2020-01-21 18:07:07.872308 https://www.cars.com//vehicledetail/detail/800590990/overview/\n",
      "2020-01-21 18:07:08.579403 https://www.cars.com//vehicledetail/detail/784673160/overview/\n",
      "2020-01-21 18:07:09.217671 https://www.cars.com//vehicledetail/detail/800303901/overview/?isShippableInsideSearchRadius\n",
      "2020-01-21 18:07:09.756511 https://www.cars.com//vehicledetail/detail/797495928/overview/?isShippableInsideSearchRadius\n",
      "2020-01-21 18:07:10.555114 https://www.cars.com//vehicledetail/detail/799720326/overview/?isShippableInsideSearchRadius\n",
      "2020-01-21 18:07:11.308101 https://www.cars.com//vehicledetail/detail/799964348/overview/?isShippableInsideSearchRadius\n",
      "2020-01-21 18:07:12.198928 https://www.cars.com//vehicledetail/detail/800360280/overview/?isShippableInsideSearchRadius\n",
      "2020-01-21 18:07:12.647744 https://www.cars.com//vehicledetail/detail/797496438/overview/?isShippableInsideSearchRadius\n",
      "2020-01-21 18:07:13.577664 https://www.cars.com//vehicledetail/detail/800021867/overview/?isShippableInsideSearchRadius\n",
      "2020-01-21 18:07:14.466324 https://www.cars.com//vehicledetail/detail/797257962/overview/\n"
     ]
    },
    {
     "name": "stderr",
     "output_type": "stream",
     "text": [
      " 61% |############################################                            |\r"
     ]
    },
    {
     "name": "stdout",
     "output_type": "stream",
     "text": [
      "2020-01-21 18:07:15.059277 https://www.cars.com//vehicledetail/detail/701728018/overview/\n",
      "2020-01-21 18:07:15.731116 https://www.cars.com//vehicledetail/detail/728755413/overview/\n",
      "2020-01-21 18:07:16.160462 https://www.cars.com//vehicledetail/detail/733850393/overview/\n",
      "2020-01-21 18:07:16.970657 https://www.cars.com//vehicledetail/detail/733850387/overview/\n",
      "2020-01-21 18:07:17.495476 https://www.cars.com//vehicledetail/detail/795960269/overview/\n",
      "2020-01-21 18:07:18.102889 https://www.cars.com//vehicledetail/detail/800290546/overview/\n",
      "2020-01-21 18:07:18.547808 https://www.cars.com//vehicledetail/detail/799970841/overview/?isShippableInsideSearchRadius\n",
      "2020-01-21 18:07:19.142641 https://www.cars.com//vehicledetail/detail/800192002/overview/?isShippableInsideSearchRadius\n",
      "2020-01-21 18:07:19.701177 https://www.cars.com//vehicledetail/detail/797944653/overview/?isShippableInsideSearchRadius\n",
      "2020-01-21 18:07:20.324492 https://www.cars.com//vehicledetail/detail/800021181/overview/?isShippableInsideSearchRadius\n",
      "2020-01-21 18:07:21.018886 https://www.cars.com//vehicledetail/detail/797249990/overview/\n",
      "2020-01-21 18:07:21.683790 https://www.cars.com//vehicledetail/detail/798626149/overview/?isShippableInsideSearchRadius\n",
      "2020-01-21 18:07:22.534975 https://www.cars.com//vehicledetail/detail/800283284/overview/?isShippableInsideSearchRadius\n",
      "2020-01-21 18:07:23.413914 https://www.cars.com//vehicledetail/detail/798709052/overview/\n",
      "2020-01-21 18:07:23.868723 https://www.cars.com//vehicledetail/detail/798719773/overview/\n",
      "2020-01-21 18:07:24.725155 https://www.cars.com//vehicledetail/detail/792461641/overview/\n",
      "2020-01-21 18:07:25.200464 https://www.cars.com//vehicledetail/detail/797281300/overview/\n",
      "2020-01-21 18:07:25.863177 https://www.cars.com//vehicledetail/detail/797281265/overview/\n",
      "2020-01-21 18:07:26.550074 https://www.cars.com//vehicledetail/detail/800252269/overview/\n",
      "2020-01-21 18:07:27.058693 https://www.cars.com//vehicledetail/detail/792155416/overview/\n",
      "2020-01-21 18:07:27.661883 https://www.cars.com//vehicledetail/detail/792155418/overview/\n",
      "2020-01-21 18:07:28.426251 https://www.cars.com//vehicledetail/detail/799909612/overview/\n",
      "2020-01-21 18:07:29.142890 https://www.cars.com//vehicledetail/detail/797259567/overview/\n",
      "2020-01-21 18:07:29.789526 https://www.cars.com//vehicledetail/detail/797259575/overview/\n",
      "2020-01-21 18:07:30.714580 https://www.cars.com//vehicledetail/detail/796240000/overview/\n"
     ]
    },
    {
     "name": "stderr",
     "output_type": "stream",
     "text": [
      " 62% |############################################                            |\r"
     ]
    },
    {
     "name": "stdout",
     "output_type": "stream",
     "text": [
      "2020-01-21 18:07:31.526521 https://www.cars.com//vehicledetail/detail/797259556/overview/\n",
      "2020-01-21 18:07:32.167531 https://www.cars.com//vehicledetail/detail/791309774/overview/\n",
      "2020-01-21 18:07:32.975735 https://www.cars.com//vehicledetail/detail/795302546/overview/\n",
      "2020-01-21 18:07:33.937015 https://www.cars.com//vehicledetail/detail/797848050/overview/\n",
      "2020-01-21 18:07:34.547977 https://www.cars.com//vehicledetail/detail/797787214/overview/?isShippableInsideSearchRadius\n",
      "2020-01-21 18:07:35.243196 https://www.cars.com//vehicledetail/detail/778038913/overview/\n",
      "2020-01-21 18:07:36.081303 https://www.cars.com//vehicledetail/detail/795993753/overview/\n",
      "2020-01-21 18:07:36.885484 https://www.cars.com//vehicledetail/detail/796976072/overview/\n",
      "2020-01-21 18:07:37.584773 https://www.cars.com//vehicledetail/detail/800379387/overview/\n",
      "2020-01-21 18:07:38.376033 https://www.cars.com//vehicledetail/detail/798354891/overview/\n",
      "2020-01-21 18:07:39.181306 https://www.cars.com//vehicledetail/detail/797563294/overview/\n",
      "2020-01-21 18:07:39.926095 https://www.cars.com//vehicledetail/detail/798801882/overview/\n",
      "2020-01-21 18:07:40.483596 https://www.cars.com//vehicledetail/detail/797893829/overview/\n",
      "2020-01-21 18:07:41.203587 https://www.cars.com//vehicledetail/detail/800362604/overview/?isShippableInsideSearchRadius\n",
      "2020-01-21 18:07:41.999908 https://www.cars.com//vehicledetail/detail/800194661/overview/?isShippableInsideSearchRadius\n",
      "2020-01-21 18:07:42.921945 https://www.cars.com//vehicledetail/detail/797880932/overview/?isShippableInsideSearchRadius\n",
      "2020-01-21 18:07:44.010860 https://www.cars.com//vehicledetail/detail/799648150/overview/\n",
      "2020-01-21 18:07:44.790145 https://www.cars.com//vehicledetail/detail/800593134/overview/\n",
      "2020-01-21 18:07:45.909715 https://www.cars.com//vehicledetail/detail/796768209/overview/\n",
      "2020-01-21 18:07:46.363567 https://www.cars.com//vehicledetail/detail/800188457/overview/\n",
      "2020-01-21 18:07:46.962986 https://www.cars.com//vehicledetail/detail/799969556/overview/\n",
      "2020-01-21 18:07:47.562778 https://www.cars.com//vehicledetail/detail/798602131/overview/?isShippableInsideSearchRadius\n",
      "2020-01-21 18:07:48.315195 https://www.cars.com//vehicledetail/detail/799578308/overview/\n",
      "2020-01-21 18:07:49.208786 https://www.cars.com//vehicledetail/detail/796551095/overview/\n",
      "2020-01-21 18:07:50.062759 https://www.cars.com//vehicledetail/detail/797333943/overview/\n"
     ]
    },
    {
     "name": "stderr",
     "output_type": "stream",
     "text": [
      " 63% |#############################################                           |\r"
     ]
    },
    {
     "name": "stdout",
     "output_type": "stream",
     "text": [
      "2020-01-21 18:07:50.891823 https://www.cars.com//vehicledetail/detail/798768589/overview/\n",
      "2020-01-21 18:07:51.799903 https://www.cars.com//vehicledetail/detail/800030329/overview/?isShippableInsideSearchRadius\n",
      "2020-01-21 18:07:52.533093 https://www.cars.com//vehicledetail/detail/798468180/overview/\n",
      "2020-01-21 18:07:53.099048 https://www.cars.com//vehicledetail/detail/799998594/overview/\n",
      "2020-01-21 18:07:53.691231 https://www.cars.com//vehicledetail/detail/799409397/overview/\n",
      "2020-01-21 18:07:54.523351 https://www.cars.com//vehicledetail/detail/800129074/overview/\n",
      "2020-01-21 18:07:55.345595 https://www.cars.com//vehicledetail/detail/800078051/overview/?isShippableInsideSearchRadius\n",
      "2020-01-21 18:07:55.914594 https://www.cars.com//vehicledetail/detail/799620023/overview/\n",
      "2020-01-21 18:07:56.741062 https://www.cars.com//vehicledetail/detail/799686975/overview/\n",
      "2020-01-21 18:07:57.701985 https://www.cars.com//vehicledetail/detail/800505146/overview/?isShippableInsideSearchRadius\n",
      "2020-01-21 18:07:58.317702 https://www.cars.com//vehicledetail/detail/797937364/overview/\n",
      "2020-01-21 18:07:58.693430 https://www.cars.com//vehicledetail/detail/797496299/overview/?isShippableInsideSearchRadius\n",
      "2020-01-21 18:07:59.428892 https://www.cars.com//vehicledetail/detail/799964106/overview/?isShippableInsideSearchRadius\n",
      "2020-01-21 18:07:59.944123 https://www.cars.com//vehicledetail/detail/799719870/overview/?isShippableInsideSearchRadius\n",
      "2020-01-21 18:08:00.468986 https://www.cars.com//vehicledetail/detail/796027969/overview/\n",
      "2020-01-21 18:08:01.133134 https://www.cars.com//vehicledetail/detail/798884524/overview/\n",
      "2020-01-21 18:08:01.834405 https://www.cars.com//vehicledetail/detail/800728751/overview/\n",
      "2020-01-21 18:08:02.592066 https://www.cars.com//vehicledetail/detail/798545451/overview/\n",
      "2020-01-21 18:08:03.432759 https://www.cars.com//vehicledetail/detail/792586136/overview/\n",
      "2020-01-21 18:08:04.274387 https://www.cars.com//vehicledetail/detail/797497454/overview/?isShippableInsideSearchRadius\n",
      "2020-01-21 18:08:04.853017 https://www.cars.com//vehicledetail/detail/799963817/overview/?isShippableInsideSearchRadius\n",
      "2020-01-21 18:08:05.795473 https://www.cars.com//vehicledetail/detail/799720213/overview/?isShippableInsideSearchRadius\n",
      "2020-01-21 18:08:06.612809 https://www.cars.com//vehicledetail/detail/800345465/overview/\n",
      "2020-01-21 18:08:07.157474 https://www.cars.com//vehicledetail/detail/800159682/overview/\n",
      "2020-01-21 18:08:07.940832 https://www.cars.com//vehicledetail/detail/800269533/overview/?isShippableInsideSearchRadius\n"
     ]
    },
    {
     "name": "stderr",
     "output_type": "stream",
     "text": [
      " 64% |##############################################                          |\r"
     ]
    },
    {
     "name": "stdout",
     "output_type": "stream",
     "text": [
      "2020-01-21 18:08:08.777814 https://www.cars.com//vehicledetail/detail/800071724/overview/?isShippableInsideSearchRadius\n",
      "2020-01-21 18:08:09.480647 https://www.cars.com//vehicledetail/detail/800503290/overview/?isShippableInsideSearchRadius\n",
      "2020-01-21 18:08:10.032650 https://www.cars.com//vehicledetail/detail/799946930/overview/\n",
      "2020-01-21 18:08:10.661379 https://www.cars.com//vehicledetail/detail/798271803/overview/\n",
      "2020-01-21 18:08:11.509720 https://www.cars.com//vehicledetail/detail/800420668/overview/\n",
      "2020-01-21 18:08:12.464688 https://www.cars.com//vehicledetail/detail/796538347/overview/\n",
      "2020-01-21 18:08:13.188908 https://www.cars.com//vehicledetail/detail/797494073/overview/?isShippableInsideSearchRadius\n",
      "2020-01-21 18:08:13.649461 https://www.cars.com//vehicledetail/detail/799987426/overview/\n",
      "2020-01-21 18:08:14.556668 https://www.cars.com//vehicledetail/detail/797346094/overview/\n",
      "2020-01-21 18:08:15.162918 https://www.cars.com//vehicledetail/detail/798050623/overview/\n",
      "2020-01-21 18:08:15.648320 https://www.cars.com//vehicledetail/detail/796904240/overview/\n",
      "2020-01-21 18:08:16.568174 https://www.cars.com//vehicledetail/detail/797496470/overview/?isShippableInsideSearchRadius\n",
      "2020-01-21 18:08:17.050388 https://www.cars.com//vehicledetail/detail/799963212/overview/?isShippableInsideSearchRadius\n",
      "2020-01-21 18:08:17.706608 https://www.cars.com//vehicledetail/detail/800811899/overview/\n",
      "2020-01-21 18:08:18.538037 https://www.cars.com//vehicledetail/detail/800565517/overview/\n",
      "2020-01-21 18:08:19.059587 https://www.cars.com//vehicledetail/detail/799816832/overview/\n",
      "2020-01-21 18:08:19.816411 https://www.cars.com//vehicledetail/detail/797248472/overview/\n",
      "2020-01-21 18:08:20.432360 https://www.cars.com//vehicledetail/detail/799631640/overview/\n",
      "2020-01-21 18:08:21.172152 https://www.cars.com//vehicledetail/detail/800051857/overview/?isShippableInsideSearchRadius\n",
      "2020-01-21 18:08:21.898164 https://www.cars.com//vehicledetail/detail/799516637/overview/?isShippableInsideSearchRadius\n",
      "2020-01-21 18:08:22.427567 https://www.cars.com//vehicledetail/detail/800253482/overview/?isShippableInsideSearchRadius\n",
      "2020-01-21 18:08:23.122256 https://www.cars.com//vehicledetail/detail/799771492/overview/?isShippableInsideSearchRadius\n",
      "2020-01-21 18:08:23.555470 https://www.cars.com//vehicledetail/detail/799717843/overview/?isShippableInsideSearchRadius\n",
      "2020-01-21 18:08:24.159319 https://www.cars.com//vehicledetail/detail/797492016/overview/?isShippableInsideSearchRadius\n",
      "2020-01-21 18:08:24.621466 https://www.cars.com//vehicledetail/detail/799961021/overview/?isShippableInsideSearchRadius\n"
     ]
    },
    {
     "name": "stderr",
     "output_type": "stream",
     "text": [
      " 65% |###############################################                         |\r"
     ]
    },
    {
     "name": "stdout",
     "output_type": "stream",
     "text": [
      "2020-01-21 18:08:25.409206 https://www.cars.com//vehicledetail/detail/800295644/overview/?isShippableInsideSearchRadius\n",
      "2020-01-21 18:08:26.019495 https://www.cars.com//vehicledetail/detail/799665645/overview/\n",
      "2020-01-21 18:08:26.687489 https://www.cars.com//vehicledetail/detail/800394876/overview/\n",
      "2020-01-21 18:08:27.231828 https://www.cars.com//vehicledetail/detail/800627413/overview/\n",
      "2020-01-21 18:08:28.020945 https://www.cars.com//vehicledetail/detail/798630859/overview/?isShippableInsideSearchRadius\n",
      "2020-01-21 18:08:28.490827 https://www.cars.com//vehicledetail/detail/799629396/overview/\n",
      "2020-01-21 18:08:29.349360 https://www.cars.com//vehicledetail/detail/797295194/overview/\n",
      "2020-01-21 18:08:29.807829 https://www.cars.com//vehicledetail/detail/799572452/overview/\n",
      "2020-01-21 18:08:30.544335 https://www.cars.com//vehicledetail/detail/797495364/overview/?isShippableInsideSearchRadius\n",
      "2020-01-21 18:08:30.961131 https://www.cars.com//vehicledetail/detail/799719990/overview/?isShippableInsideSearchRadius\n",
      "2020-01-21 18:08:31.951402 https://www.cars.com//vehicledetail/detail/796983871/overview/?isShippableInsideSearchRadius\n",
      "2020-01-21 18:08:32.575171 https://www.cars.com//vehicledetail/detail/799963957/overview/?isShippableInsideSearchRadius\n",
      "2020-01-21 18:08:33.326304 https://www.cars.com//vehicledetail/detail/799972299/overview/?isShippableInsideSearchRadius\n",
      "2020-01-21 18:08:33.941418 https://www.cars.com//vehicledetail/detail/799719989/overview/?isShippableInsideSearchRadius\n",
      "2020-01-21 18:08:34.764516 https://www.cars.com//vehicledetail/detail/800649629/overview/\n",
      "2020-01-21 18:08:35.595664 https://www.cars.com//vehicledetail/detail/800593627/overview/\n",
      "2020-01-21 18:08:36.458008 https://www.cars.com//vehicledetail/detail/798892366/overview/\n",
      "2020-01-21 18:08:36.922563 https://www.cars.com//vehicledetail/detail/800529258/overview/?isShippableInsideSearchRadius\n",
      "2020-01-21 18:08:37.401084 https://www.cars.com//vehicledetail/detail/799960758/overview/?isShippableInsideSearchRadius\n",
      "2020-01-21 18:08:38.127886 https://www.cars.com//vehicledetail/detail/796980420/overview/?isShippableInsideSearchRadius\n",
      "2020-01-21 18:08:39.000966 https://www.cars.com//vehicledetail/detail/797491792/overview/?isShippableInsideSearchRadius\n",
      "2020-01-21 18:08:39.683289 https://www.cars.com//vehicledetail/detail/799592256/overview/\n",
      "2020-01-21 18:08:40.139010 https://www.cars.com//vehicledetail/detail/800580379/overview/?isShippableInsideSearchRadius\n",
      "2020-01-21 18:08:40.811020 https://www.cars.com//vehicledetail/detail/799518606/overview/\n",
      "2020-01-21 18:08:41.686601 https://www.cars.com//vehicledetail/detail/799518380/overview/\n"
     ]
    },
    {
     "name": "stderr",
     "output_type": "stream",
     "text": [
      " 66% |###############################################                         |\r"
     ]
    },
    {
     "name": "stdout",
     "output_type": "stream",
     "text": [
      "2020-01-21 18:08:42.195832 https://www.cars.com//vehicledetail/detail/797588413/overview/\n",
      "2020-01-21 18:08:42.794467 https://www.cars.com//vehicledetail/detail/799983122/overview/\n",
      "2020-01-21 18:08:43.610444 https://www.cars.com//vehicledetail/detail/792435828/overview/\n",
      "2020-01-21 18:08:44.554708 https://www.cars.com//vehicledetail/detail/777546008/overview/\n",
      "2020-01-21 18:08:45.498935 https://www.cars.com//vehicledetail/detail/800714119/overview/\n",
      "2020-01-21 18:08:46.522145 https://www.cars.com//vehicledetail/detail/798714727/overview/\n",
      "2020-01-21 18:08:47.573421 https://www.cars.com//vehicledetail/detail/799922503/overview/\n",
      "2020-01-21 18:08:48.339894 https://www.cars.com//vehicledetail/detail/793929125/overview/\n",
      "2020-01-21 18:08:49.202141 https://www.cars.com//vehicledetail/detail/794376871/overview/\n",
      "2020-01-21 18:08:49.778566 https://www.cars.com//vehicledetail/detail/799222738/overview/\n",
      "2020-01-21 18:08:50.356058 https://www.cars.com//vehicledetail/detail/800320910/overview/\n",
      "2020-01-21 18:08:51.156893 https://www.cars.com//vehicledetail/detail/797076500/overview/\n",
      "2020-01-21 18:08:52.019394 https://www.cars.com//vehicledetail/detail/797890943/overview/\n",
      "2020-01-21 18:08:52.912795 https://www.cars.com//vehicledetail/detail/800692900/overview/\n",
      "2020-01-21 18:08:53.820527 https://www.cars.com//vehicledetail/detail/792587755/overview/\n",
      "2020-01-21 18:08:54.719715 https://www.cars.com//vehicledetail/detail/793340672/overview/\n",
      "2020-01-21 18:08:55.600211 https://www.cars.com//vehicledetail/detail/792320584/overview/\n",
      "2020-01-21 18:08:56.640331 https://www.cars.com//vehicledetail/detail/793340608/overview/\n",
      "2020-01-21 18:08:57.920391 https://www.cars.com//vehicledetail/detail/777824308/overview/\n",
      "2020-01-21 18:08:59.011688 https://www.cars.com//vehicledetail/detail/800130806/overview/\n",
      "2020-01-21 18:08:59.613057 https://www.cars.com//vehicledetail/detail/798654997/overview/\n",
      "2020-01-21 18:09:00.213012 https://www.cars.com//vehicledetail/detail/799973167/overview/?isShippableInsideSearchRadius\n",
      "2020-01-21 18:09:00.854291 https://www.cars.com//vehicledetail/detail/799229142/overview/?isShippableInsideSearchRadius\n",
      "2020-01-21 18:09:01.714229 https://www.cars.com//vehicledetail/detail/800408451/overview/\n",
      "2020-01-21 18:09:02.134498 https://www.cars.com//vehicledetail/detail/800708350/overview/\n"
     ]
    },
    {
     "name": "stderr",
     "output_type": "stream",
     "text": [
      " 67% |################################################                        |\r"
     ]
    },
    {
     "name": "stdout",
     "output_type": "stream",
     "text": [
      "2020-01-21 18:09:02.895829 https://www.cars.com//vehicledetail/detail/765998984/overview/\n",
      "2020-01-21 18:09:03.365061 https://www.cars.com//vehicledetail/detail/786422031/overview/\n",
      "2020-01-21 18:09:03.925934 https://www.cars.com//vehicledetail/detail/800634039/overview/\n",
      "2020-01-21 18:09:04.693296 https://www.cars.com//vehicledetail/detail/796633193/overview/\n",
      "2020-01-21 18:09:05.615302 https://www.cars.com//vehicledetail/detail/799678908/overview/\n",
      "2020-01-21 18:09:06.309200 https://www.cars.com//vehicledetail/detail/800309579/overview/\n",
      "2020-01-21 18:09:06.966753 https://www.cars.com//vehicledetail/detail/779786239/overview/\n",
      "2020-01-21 18:09:07.820318 https://www.cars.com//vehicledetail/detail/797118303/overview/\n",
      "2020-01-21 18:09:08.724708 https://www.cars.com//vehicledetail/detail/796212308/overview/\n",
      "2020-01-21 18:09:09.169661 https://www.cars.com//vehicledetail/detail/800354419/overview/?isShippableInsideSearchRadius\n",
      "2020-01-21 18:09:09.879866 https://www.cars.com//vehicledetail/detail/800354418/overview/?isShippableInsideSearchRadius\n",
      "2020-01-21 18:09:10.628725 https://www.cars.com//vehicledetail/detail/800354480/overview/?isShippableInsideSearchRadius\n",
      "2020-01-21 18:09:11.498267 https://www.cars.com//vehicledetail/detail/800354537/overview/?isShippableInsideSearchRadius\n",
      "2020-01-21 18:09:12.282581 https://www.cars.com//vehicledetail/detail/800354420/overview/?isShippableInsideSearchRadius\n",
      "2020-01-21 18:09:13.028909 https://www.cars.com//vehicledetail/detail/797493373/overview/?isShippableInsideSearchRadius\n",
      "2020-01-21 18:09:13.916225 https://www.cars.com//vehicledetail/detail/800354467/overview/?isShippableInsideSearchRadius\n",
      "2020-01-21 18:09:14.566633 https://www.cars.com//vehicledetail/detail/798420691/overview/\n",
      "2020-01-21 18:09:15.268125 https://www.cars.com//vehicledetail/detail/798554360/overview/\n",
      "2020-01-21 18:09:16.298414 https://www.cars.com//vehicledetail/detail/799550535/overview/\n",
      "2020-01-21 18:09:17.216103 https://www.cars.com//vehicledetail/detail/797929104/overview/\n",
      "2020-01-21 18:09:18.142760 https://www.cars.com//vehicledetail/detail/798499488/overview/\n",
      "2020-01-21 18:09:18.972435 https://www.cars.com//vehicledetail/detail/799144771/overview/?isShippableInsideSearchRadius\n",
      "2020-01-21 18:09:19.964035 https://www.cars.com//vehicledetail/detail/797881577/overview/?isShippableInsideSearchRadius\n",
      "2020-01-21 18:09:20.811960 https://www.cars.com//vehicledetail/detail/799902452/overview/\n",
      "2020-01-21 18:09:21.636100 https://www.cars.com//vehicledetail/detail/798414619/overview/\n"
     ]
    },
    {
     "name": "stderr",
     "output_type": "stream",
     "text": [
      " 68% |#################################################                       |\r"
     ]
    },
    {
     "name": "stdout",
     "output_type": "stream",
     "text": [
      "2020-01-21 18:09:22.186712 https://www.cars.com//vehicledetail/detail/793309701/overview/\n",
      "2020-01-21 18:09:22.774672 https://www.cars.com//vehicledetail/detail/797434006/overview/\n",
      "2020-01-21 18:09:23.428236 https://www.cars.com//vehicledetail/detail/797880727/overview/\n",
      "2020-01-21 18:09:24.158952 https://www.cars.com//vehicledetail/detail/800567440/overview/\n",
      "2020-01-21 18:09:24.985188 https://www.cars.com//vehicledetail/detail/799666751/overview/\n",
      "2020-01-21 18:09:25.711861 https://www.cars.com//vehicledetail/detail/795245922/overview/\n",
      "2020-01-21 18:09:26.638617 https://www.cars.com//vehicledetail/detail/799972466/overview/?isShippableInsideSearchRadius\n",
      "2020-01-21 18:09:27.141581 https://www.cars.com//vehicledetail/detail/799720259/overview/?isShippableInsideSearchRadius\n",
      "2020-01-21 18:09:27.936753 https://www.cars.com//vehicledetail/detail/799707196/overview/?isShippableInsideSearchRadius\n",
      "2020-01-21 18:09:28.649805 https://www.cars.com//vehicledetail/detail/794339322/overview/?isShippableInsideSearchRadius\n",
      "2020-01-21 18:09:29.402333 https://www.cars.com//vehicledetail/detail/800540146/overview/?isShippableInsideSearchRadius\n",
      "2020-01-21 18:09:29.968189 https://www.cars.com//vehicledetail/detail/799575666/overview/?isShippableInsideSearchRadius\n",
      "2020-01-21 18:09:30.696399 https://www.cars.com//vehicledetail/detail/799199484/overview/\n",
      "2020-01-21 18:09:31.175176 https://www.cars.com//vehicledetail/detail/799199699/overview/\n",
      "2020-01-21 18:09:31.637902 https://www.cars.com//vehicledetail/detail/797573306/overview/\n",
      "2020-01-21 18:09:32.533270 https://www.cars.com//vehicledetail/detail/792169512/overview/\n",
      "2020-01-21 18:09:33.607611 https://www.cars.com//vehicledetail/detail/798942731/overview/\n",
      "2020-01-21 18:09:34.362355 https://www.cars.com//vehicledetail/detail/800290072/overview/\n",
      "2020-01-21 18:09:34.930451 https://www.cars.com//vehicledetail/detail/798454185/overview/\n",
      "2020-01-21 18:09:36.026789 https://www.cars.com//vehicledetail/detail/800143511/overview/\n",
      "2020-01-21 18:09:36.837002 https://www.cars.com//vehicledetail/detail/785203047/overview/\n",
      "2020-01-21 18:09:38.106764 https://www.cars.com//vehicledetail/detail/793360899/overview/\n",
      "2020-01-21 18:09:38.848557 https://www.cars.com//vehicledetail/detail/778013611/overview/\n",
      "2020-01-21 18:09:39.567662 https://www.cars.com//vehicledetail/detail/800534289/overview/\n",
      "2020-01-21 18:09:40.194945 https://www.cars.com//vehicledetail/detail/788818438/overview/\n"
     ]
    },
    {
     "name": "stderr",
     "output_type": "stream",
     "text": [
      " 69% |##################################################                      |\r"
     ]
    },
    {
     "name": "stdout",
     "output_type": "stream",
     "text": [
      "2020-01-21 18:09:41.183626 https://www.cars.com//vehicledetail/detail/781988338/overview/\n",
      "2020-01-21 18:09:42.018397 https://www.cars.com//vehicledetail/detail/781988431/overview/\n",
      "2020-01-21 18:09:43.092979 https://www.cars.com//vehicledetail/detail/799898412/overview/\n",
      "2020-01-21 18:09:43.772828 https://www.cars.com//vehicledetail/detail/800732133/overview/\n",
      "2020-01-21 18:09:44.552050 https://www.cars.com//vehicledetail/detail/800364218/overview/?isShippableInsideSearchRadius\n",
      "2020-01-21 18:09:45.334843 https://www.cars.com//vehicledetail/detail/798394020/overview/?isShippableInsideSearchRadius\n",
      "2020-01-21 18:09:46.310984 https://www.cars.com//vehicledetail/detail/797475357/overview/\n",
      "2020-01-21 18:09:47.071017 https://www.cars.com//vehicledetail/detail/787403552/overview/\n",
      "2020-01-21 18:09:47.598603 https://www.cars.com//vehicledetail/detail/798692559/overview/\n",
      "2020-01-21 18:09:48.619761 https://www.cars.com//vehicledetail/detail/798664382/overview/\n",
      "2020-01-21 18:09:49.210903 https://www.cars.com//vehicledetail/detail/787293012/overview/\n",
      "2020-01-21 18:09:49.695367 https://www.cars.com//vehicledetail/detail/792175266/overview/\n",
      "2020-01-21 18:09:50.460559 https://www.cars.com//vehicledetail/detail/798671270/overview/\n",
      "2020-01-21 18:09:51.135148 https://www.cars.com//vehicledetail/detail/800565206/overview/?isShippableInsideSearchRadius\n",
      "2020-01-21 18:09:52.020646 https://www.cars.com//vehicledetail/detail/799811272/overview/?isShippableInsideSearchRadius\n",
      "2020-01-21 18:09:52.740294 https://www.cars.com//vehicledetail/detail/799554163/overview/\n",
      "2020-01-21 18:09:53.280664 https://www.cars.com//vehicledetail/detail/800712357/overview/?isShippableInsideSearchRadius\n",
      "2020-01-21 18:09:53.882861 https://www.cars.com//vehicledetail/detail/791301022/overview/\n",
      "2020-01-21 18:09:54.588419 https://www.cars.com//vehicledetail/detail/797574928/overview/\n",
      "2020-01-21 18:09:55.446563 https://www.cars.com//vehicledetail/detail/797532962/overview/\n",
      "2020-01-21 18:09:56.267291 https://www.cars.com//vehicledetail/detail/796784490/overview/\n",
      "2020-01-21 18:09:56.890779 https://www.cars.com//vehicledetail/detail/797339389/overview/?isShippableInsideSearchRadius\n",
      "2020-01-21 18:09:57.625028 https://www.cars.com//vehicledetail/detail/796343947/overview/\n",
      "2020-01-21 18:09:58.196162 https://www.cars.com//vehicledetail/detail/798552775/overview/\n",
      "2020-01-21 18:09:59.082827 https://www.cars.com//vehicledetail/detail/798469570/overview/\n"
     ]
    },
    {
     "name": "stderr",
     "output_type": "stream",
     "text": [
      " 70% |##################################################                      |\r"
     ]
    },
    {
     "name": "stdout",
     "output_type": "stream",
     "text": [
      "2020-01-21 18:09:59.855895 https://www.cars.com//vehicledetail/detail/798363651/overview/\n",
      "2020-01-21 18:10:00.737099 https://www.cars.com//vehicledetail/detail/799622106/overview/\n",
      "2020-01-21 18:10:01.636494 https://www.cars.com//vehicledetail/detail/792378219/overview/\n",
      "2020-01-21 18:10:02.182212 https://www.cars.com//vehicledetail/detail/795542686/overview/\n",
      "2020-01-21 18:10:02.754686 https://www.cars.com//vehicledetail/detail/800597557/overview/\n",
      "2020-01-21 18:10:03.228669 https://www.cars.com//vehicledetail/detail/799903278/overview/\n",
      "2020-01-21 18:10:03.647226 https://www.cars.com//vehicledetail/detail/799585950/overview/\n",
      "2020-01-21 18:10:04.366774 https://www.cars.com//vehicledetail/detail/760722597/overview/\n",
      "2020-01-21 18:10:05.234701 https://www.cars.com//vehicledetail/detail/798898364/overview/\n",
      "2020-01-21 18:10:05.706125 https://www.cars.com//vehicledetail/detail/798950815/overview/\n",
      "2020-01-21 18:10:06.297246 https://www.cars.com//vehicledetail/detail/800671601/overview/\n",
      "2020-01-21 18:10:06.961097 https://www.cars.com//vehicledetail/detail/800247379/overview/?isShippableInsideSearchRadius\n",
      "2020-01-21 18:10:07.822842 https://www.cars.com//vehicledetail/detail/800510171/overview/?isShippableInsideSearchRadius\n",
      "2020-01-21 18:10:08.668804 https://www.cars.com//vehicledetail/detail/799665679/overview/\n",
      "2020-01-21 18:10:09.340804 https://www.cars.com//vehicledetail/detail/799458431/overview/?isShippableInsideSearchRadius\n",
      "2020-01-21 18:10:10.055402 https://www.cars.com//vehicledetail/detail/797692120/overview/\n",
      "2020-01-21 18:10:10.879469 https://www.cars.com//vehicledetail/detail/799928014/overview/\n",
      "2020-01-21 18:10:11.455316 https://www.cars.com//vehicledetail/detail/797137507/overview/\n",
      "2020-01-21 18:10:12.016719 https://www.cars.com//vehicledetail/detail/796810837/overview/\n",
      "2020-01-21 18:10:12.767315 https://www.cars.com//vehicledetail/detail/799457110/overview/\n",
      "2020-01-21 18:10:13.343436 https://www.cars.com//vehicledetail/detail/799912865/overview/\n",
      "2020-01-21 18:10:13.920082 https://www.cars.com//vehicledetail/detail/794668704/overview/\n",
      "2020-01-21 18:10:14.782939 https://www.cars.com//vehicledetail/detail/800031161/overview/?isShippableInsideSearchRadius\n",
      "2020-01-21 18:10:15.669209 https://www.cars.com//vehicledetail/detail/800501166/overview/?isShippableInsideSearchRadius\n",
      "2020-01-21 18:10:16.538195 https://www.cars.com//vehicledetail/detail/797110884/overview/\n"
     ]
    },
    {
     "name": "stderr",
     "output_type": "stream",
     "text": [
      " 71% |###################################################                     |\r"
     ]
    },
    {
     "name": "stdout",
     "output_type": "stream",
     "text": [
      "2020-01-21 18:10:17.333494 https://www.cars.com//vehicledetail/detail/799858412/overview/\n",
      "2020-01-21 18:10:18.239583 https://www.cars.com//vehicledetail/detail/800396613/overview/\n",
      "2020-01-21 18:10:18.724152 https://www.cars.com//vehicledetail/detail/799973153/overview/?isShippableInsideSearchRadius\n",
      "2020-01-21 18:10:19.589600 https://www.cars.com//vehicledetail/detail/797496268/overview/?isShippableInsideSearchRadius\n",
      "2020-01-21 18:10:20.576956 https://www.cars.com//vehicledetail/detail/799952332/overview/\n",
      "2020-01-21 18:10:21.444532 https://www.cars.com//vehicledetail/detail/799111762/overview/\n",
      "2020-01-21 18:10:22.193471 https://www.cars.com//vehicledetail/detail/790575068/overview/\n",
      "2020-01-21 18:10:22.716485 https://www.cars.com//vehicledetail/detail/799499668/overview/?isShippableInsideSearchRadius\n",
      "2020-01-21 18:10:23.425426 https://www.cars.com//vehicledetail/detail/798593266/overview/?isShippableInsideSearchRadius\n",
      "2020-01-21 18:10:24.308593 https://www.cars.com//vehicledetail/detail/799971294/overview/?isShippableInsideSearchRadius\n",
      "2020-01-21 18:10:25.177395 https://www.cars.com//vehicledetail/detail/799961599/overview/?isShippableInsideSearchRadius\n",
      "2020-01-21 18:10:25.829698 https://www.cars.com//vehicledetail/detail/799717945/overview/?isShippableInsideSearchRadius\n",
      "2020-01-21 18:10:26.599702 https://www.cars.com//vehicledetail/detail/797493178/overview/?isShippableInsideSearchRadius\n",
      "2020-01-21 18:10:27.852941 https://www.cars.com//vehicledetail/detail/799704384/overview/?isShippableInsideSearchRadius\n",
      "2020-01-21 18:10:28.669884 https://www.cars.com//vehicledetail/detail/796980948/overview/?isShippableInsideSearchRadius\n",
      "2020-01-21 18:10:29.218207 https://www.cars.com//vehicledetail/detail/799720583/overview/\n",
      "2020-01-21 18:10:29.999082 https://www.cars.com//vehicledetail/detail/799635099/overview/\n",
      "2020-01-21 18:10:30.494608 https://www.cars.com//vehicledetail/detail/799184205/overview/\n",
      "2020-01-21 18:10:30.975696 https://www.cars.com//vehicledetail/detail/795687205/overview/\n",
      "2020-01-21 18:10:31.620203 https://www.cars.com//vehicledetail/detail/798890855/overview/\n",
      "2020-01-21 18:10:32.129770 https://www.cars.com//vehicledetail/detail/800361292/overview/?isShippableInsideSearchRadius\n",
      "2020-01-21 18:10:33.163905 https://www.cars.com//vehicledetail/detail/800361539/overview/?isShippableInsideSearchRadius\n",
      "2020-01-21 18:10:33.834151 https://www.cars.com//vehicledetail/detail/799719590/overview/?isShippableInsideSearchRadius\n",
      "2020-01-21 18:10:34.622950 https://www.cars.com//vehicledetail/detail/796984044/overview/?isShippableInsideSearchRadius\n",
      "2020-01-21 18:10:35.268476 https://www.cars.com//vehicledetail/detail/796723534/overview/\n"
     ]
    },
    {
     "name": "stderr",
     "output_type": "stream",
     "text": [
      " 72% |####################################################                    |\r"
     ]
    },
    {
     "name": "stdout",
     "output_type": "stream",
     "text": [
      "2020-01-21 18:10:35.753481 https://www.cars.com//vehicledetail/detail/799680492/overview/\n",
      "2020-01-21 18:10:36.330320 https://www.cars.com//vehicledetail/detail/792902187/overview/\n",
      "2020-01-21 18:10:36.809079 https://www.cars.com//vehicledetail/detail/800344669/overview/\n",
      "2020-01-21 18:10:37.588411 https://www.cars.com//vehicledetail/detail/799192005/overview/\n",
      "2020-01-21 18:10:38.076299 https://www.cars.com//vehicledetail/detail/795252736/overview/\n",
      "2020-01-21 18:10:39.276370 https://www.cars.com//vehicledetail/detail/796495958/overview/\n",
      "2020-01-21 18:10:40.027856 https://www.cars.com//vehicledetail/detail/797757755/overview/\n",
      "2020-01-21 18:10:40.698658 https://www.cars.com//vehicledetail/detail/800190482/overview/\n",
      "2020-01-21 18:10:41.584751 https://www.cars.com//vehicledetail/detail/800846714/overview/\n",
      "2020-01-21 18:10:42.521635 https://www.cars.com//vehicledetail/detail/800144329/overview/\n",
      "2020-01-21 18:10:43.171850 https://www.cars.com//vehicledetail/detail/798916625/overview/?isShippableInsideSearchRadius\n",
      "2020-01-21 18:10:43.899645 https://www.cars.com//vehicledetail/detail/796781723/overview/\n",
      "2020-01-21 18:10:44.938283 https://www.cars.com//vehicledetail/detail/799403129/overview/\n",
      "2020-01-21 18:10:45.776884 https://www.cars.com//vehicledetail/detail/797250350/overview/\n",
      "2020-01-21 18:10:46.520077 https://www.cars.com//vehicledetail/detail/799540464/overview/?isShippableInsideSearchRadius\n",
      "2020-01-21 18:10:47.503175 https://www.cars.com//vehicledetail/detail/799805070/overview/?isShippableInsideSearchRadius\n",
      "2020-01-21 18:10:48.719209 https://www.cars.com//vehicledetail/detail/793896456/overview/\n",
      "2020-01-21 18:10:49.792641 https://www.cars.com//vehicledetail/detail/800145534/overview/\n",
      "2020-01-21 18:10:50.673653 https://www.cars.com//vehicledetail/detail/800115616/overview/\n",
      "2020-01-21 18:10:51.540242 https://www.cars.com//vehicledetail/detail/797267427/overview/\n",
      "2020-01-21 18:10:52.531963 https://www.cars.com//vehicledetail/detail/787405031/overview/\n",
      "2020-01-21 18:10:53.033480 https://www.cars.com//vehicledetail/detail/799934246/overview/\n",
      "2020-01-21 18:10:54.036998 https://www.cars.com//vehicledetail/detail/800145484/overview/\n",
      "2020-01-21 18:10:55.097102 https://www.cars.com//vehicledetail/detail/798752563/overview/\n",
      "2020-01-21 18:10:55.891704 https://www.cars.com//vehicledetail/detail/799705828/overview/?isShippableInsideSearchRadius\n"
     ]
    },
    {
     "name": "stderr",
     "output_type": "stream",
     "text": [
      " 73% |#####################################################                   |\r"
     ]
    },
    {
     "name": "stdout",
     "output_type": "stream",
     "text": [
      "2020-01-21 18:10:56.606574 https://www.cars.com//vehicledetail/detail/800363122/overview/?isShippableInsideSearchRadius\n",
      "2020-01-21 18:10:57.446592 https://www.cars.com//vehicledetail/detail/798032834/overview/\n",
      "2020-01-21 18:10:57.851981 https://www.cars.com//vehicledetail/detail/800441230/overview/\n",
      "2020-01-21 18:10:58.291776 https://www.cars.com//vehicledetail/detail/800489924/overview/\n",
      "2020-01-21 18:10:59.092126 https://www.cars.com//vehicledetail/detail/800210425/overview/\n",
      "2020-01-21 18:10:59.934849 https://www.cars.com//vehicledetail/detail/797344805/overview/\n",
      "2020-01-21 18:11:00.656821 https://www.cars.com//vehicledetail/detail/800225648/overview/\n",
      "2020-01-21 18:11:01.571236 https://www.cars.com//vehicledetail/detail/791402598/overview/\n",
      "2020-01-21 18:11:02.261271 https://www.cars.com//vehicledetail/detail/791402659/overview/\n",
      "2020-01-21 18:11:03.295901 https://www.cars.com//vehicledetail/detail/781882345/overview/\n",
      "2020-01-21 18:11:04.112483 https://www.cars.com//vehicledetail/detail/791402596/overview/\n",
      "2020-01-21 18:11:04.894832 https://www.cars.com//vehicledetail/detail/799858126/overview/\n",
      "2020-01-21 18:11:05.748453 https://www.cars.com//vehicledetail/detail/791402597/overview/\n",
      "2020-01-21 18:11:06.493032 https://www.cars.com//vehicledetail/detail/783321246/overview/\n",
      "2020-01-21 18:11:07.437362 https://www.cars.com//vehicledetail/detail/791402595/overview/\n",
      "2020-01-21 18:11:07.981983 https://www.cars.com//vehicledetail/detail/791402636/overview/\n",
      "2020-01-21 18:11:08.522472 https://www.cars.com//vehicledetail/detail/791402657/overview/\n",
      "2020-01-21 18:11:09.239293 https://www.cars.com//vehicledetail/detail/791402658/overview/\n",
      "2020-01-21 18:11:09.972362 https://www.cars.com//vehicledetail/detail/791402564/overview/\n",
      "2020-01-21 18:11:10.793852 https://www.cars.com//vehicledetail/detail/799721012/overview/\n",
      "2020-01-21 18:11:11.671582 https://www.cars.com//vehicledetail/detail/800512430/overview/?isShippableInsideSearchRadius\n",
      "2020-01-21 18:11:12.580149 https://www.cars.com//vehicledetail/detail/798191663/overview/?isShippableInsideSearchRadius\n",
      "2020-01-21 18:11:13.312167 https://www.cars.com//vehicledetail/detail/800512091/overview/?isShippableInsideSearchRadius\n",
      "2020-01-21 18:11:14.099909 https://www.cars.com//vehicledetail/detail/799505392/overview/?isShippableInsideSearchRadius\n",
      "2020-01-21 18:11:15.093471 https://www.cars.com//vehicledetail/detail/800244586/overview/?isShippableInsideSearchRadius\n"
     ]
    },
    {
     "name": "stderr",
     "output_type": "stream",
     "text": [
      " 74% |#####################################################                   |\r"
     ]
    },
    {
     "name": "stdout",
     "output_type": "stream",
     "text": [
      "2020-01-21 18:11:15.836220 https://www.cars.com//vehicledetail/detail/798605130/overview/?isShippableInsideSearchRadius\n",
      "2020-01-21 18:11:16.392366 https://www.cars.com//vehicledetail/detail/799774242/overview/?isShippableInsideSearchRadius\n",
      "2020-01-21 18:11:17.027831 https://www.cars.com//vehicledetail/detail/798186927/overview/?isShippableInsideSearchRadius\n",
      "2020-01-21 18:11:17.764131 https://www.cars.com//vehicledetail/detail/800042704/overview/?isShippableInsideSearchRadius\n",
      "2020-01-21 18:11:18.967254 https://www.cars.com//vehicledetail/detail/797290841/overview/\n",
      "2020-01-21 18:11:19.859455 https://www.cars.com//vehicledetail/detail/800185598/overview/\n",
      "2020-01-21 18:11:20.347875 https://www.cars.com//vehicledetail/detail/800350979/overview/?isShippableInsideSearchRadius\n",
      "2020-01-21 18:11:21.545379 https://www.cars.com//vehicledetail/detail/799717375/overview/?isShippableInsideSearchRadius\n",
      "2020-01-21 18:11:22.243324 https://www.cars.com//vehicledetail/detail/800351191/overview/?isShippableInsideSearchRadius\n",
      "2020-01-21 18:11:22.736579 https://www.cars.com//vehicledetail/detail/796979534/overview/?isShippableInsideSearchRadius\n",
      "2020-01-21 18:11:23.322757 https://www.cars.com//vehicledetail/detail/800683066/overview/\n",
      "2020-01-21 18:11:23.986868 https://www.cars.com//vehicledetail/detail/797832568/overview/\n",
      "2020-01-21 18:11:24.915663 https://www.cars.com//vehicledetail/detail/788204949/overview/\n",
      "2020-01-21 18:11:25.659918 https://www.cars.com//vehicledetail/detail/799889287/overview/\n",
      "2020-01-21 18:11:26.468814 https://www.cars.com//vehicledetail/detail/799992788/overview/\n",
      "2020-01-21 18:11:27.174163 https://www.cars.com//vehicledetail/detail/797544513/overview/\n",
      "2020-01-21 18:11:28.135904 https://www.cars.com//vehicledetail/detail/797544176/overview/\n",
      "2020-01-21 18:11:29.118425 https://www.cars.com//vehicledetail/detail/797544347/overview/\n",
      "2020-01-21 18:11:30.092585 https://www.cars.com//vehicledetail/detail/800652271/overview/\n",
      "2020-01-21 18:11:30.798647 https://www.cars.com//vehicledetail/detail/800374024/overview/\n",
      "2020-01-21 18:11:31.397950 https://www.cars.com//vehicledetail/detail/799969960/overview/\n",
      "2020-01-21 18:11:32.046585 https://www.cars.com//vehicledetail/detail/797492338/overview/?isShippableInsideSearchRadius\n",
      "2020-01-21 18:11:32.670795 https://www.cars.com//vehicledetail/detail/798047955/overview/\n",
      "2020-01-21 18:11:33.300464 https://www.cars.com//vehicledetail/detail/798356828/overview/\n",
      "2020-01-21 18:11:33.865470 https://www.cars.com//vehicledetail/detail/797331504/overview/\n"
     ]
    },
    {
     "name": "stderr",
     "output_type": "stream",
     "text": [
      " 75% |######################################################                  |\r"
     ]
    },
    {
     "name": "stdout",
     "output_type": "stream",
     "text": [
      "2020-01-21 18:11:34.470016 https://www.cars.com//vehicledetail/detail/796990278/overview/\n",
      "2020-01-21 18:11:35.168056 https://www.cars.com//vehicledetail/detail/800456078/overview/\n",
      "2020-01-21 18:11:35.810514 https://www.cars.com//vehicledetail/detail/789694850/overview/\n",
      "2020-01-21 18:11:36.396549 https://www.cars.com//vehicledetail/detail/800518581/overview/?isShippableInsideSearchRadius\n",
      "2020-01-21 18:11:37.309362 https://www.cars.com//vehicledetail/detail/796677564/overview/\n",
      "2020-01-21 18:11:38.102273 https://www.cars.com//vehicledetail/detail/799910085/overview/\n",
      "2020-01-21 18:11:38.723580 https://www.cars.com//vehicledetail/detail/799457686/overview/\n",
      "2020-01-21 18:11:39.329332 https://www.cars.com//vehicledetail/detail/800416760/overview/\n",
      "2020-01-21 18:11:39.751304 https://www.cars.com//vehicledetail/detail/798277316/overview/\n",
      "2020-01-21 18:11:40.403528 https://www.cars.com//vehicledetail/detail/797269943/overview/\n",
      "2020-01-21 18:11:40.833819 https://www.cars.com//vehicledetail/detail/798577323/overview/\n",
      "2020-01-21 18:11:41.386150 https://www.cars.com//vehicledetail/detail/796829511/overview/\n",
      "2020-01-21 18:11:42.228730 https://www.cars.com//vehicledetail/detail/800084141/overview/?isShippableInsideSearchRadius\n",
      "2020-01-21 18:11:43.262974 https://www.cars.com//vehicledetail/detail/800673783/overview/\n",
      "2020-01-21 18:11:44.334791 https://www.cars.com//vehicledetail/detail/800298946/overview/\n",
      "2020-01-21 18:11:45.373054 https://www.cars.com//vehicledetail/detail/799058479/overview/\n",
      "2020-01-21 18:11:46.178856 https://www.cars.com//vehicledetail/detail/797419205/overview/\n",
      "2020-01-21 18:11:47.150691 https://www.cars.com//vehicledetail/detail/800552038/overview/\n",
      "2020-01-21 18:11:47.837713 https://www.cars.com//vehicledetail/detail/800593901/overview/\n",
      "2020-01-21 18:11:48.851916 https://www.cars.com//vehicledetail/detail/800199476/overview/\n",
      "2020-01-21 18:11:49.572215 https://www.cars.com//vehicledetail/detail/800317702/overview/?isShippableInsideSearchRadius\n",
      "2020-01-21 18:11:50.053761 https://www.cars.com//vehicledetail/detail/800586616/overview/?isShippableInsideSearchRadius\n",
      "2020-01-21 18:11:50.745151 https://www.cars.com//vehicledetail/detail/798391350/overview/\n",
      "2020-01-21 18:11:51.273873 https://www.cars.com//vehicledetail/detail/797820851/overview/\n",
      "2020-01-21 18:11:51.920374 https://www.cars.com//vehicledetail/detail/799647032/overview/\n"
     ]
    },
    {
     "name": "stderr",
     "output_type": "stream",
     "text": [
      " 76% |#######################################################                 |\r"
     ]
    },
    {
     "name": "stdout",
     "output_type": "stream",
     "text": [
      "2020-01-21 18:11:52.605080 https://www.cars.com//vehicledetail/detail/799624100/overview/\n",
      "2020-01-21 18:11:53.475706 https://www.cars.com//vehicledetail/detail/797831542/overview/\n",
      "2020-01-21 18:11:54.356128 https://www.cars.com//vehicledetail/detail/797553585/overview/\n",
      "2020-01-21 18:11:55.138071 https://www.cars.com//vehicledetail/detail/797918253/overview/\n",
      "2020-01-21 18:11:55.853140 https://www.cars.com//vehicledetail/detail/800298188/overview/\n",
      "2020-01-21 18:11:56.403491 https://www.cars.com//vehicledetail/detail/799771789/overview/?isShippableInsideSearchRadius\n",
      "2020-01-21 18:11:57.219345 https://www.cars.com//vehicledetail/detail/799961492/overview/?isShippableInsideSearchRadius\n",
      "expected string or bytes-like object\n",
      "2020-01-21 18:11:58.473789 https://www.cars.com//vehicledetail/detail/796954924/overview/\n",
      "2020-01-21 18:11:59.328757 https://www.cars.com//vehicledetail/detail/800350869/overview/?isShippableInsideSearchRadius\n",
      "2020-01-21 18:12:00.248827 https://www.cars.com//vehicledetail/detail/798463138/overview/\n",
      "2020-01-21 18:12:00.846367 https://www.cars.com//vehicledetail/detail/799964517/overview/?isShippableInsideSearchRadius\n",
      "2020-01-21 18:12:01.470042 https://www.cars.com//vehicledetail/detail/799720453/overview/?isShippableInsideSearchRadius\n",
      "2020-01-21 18:12:02.255255 https://www.cars.com//vehicledetail/detail/797496702/overview/?isShippableInsideSearchRadius\n",
      "2020-01-21 18:12:03.074151 https://www.cars.com//vehicledetail/detail/797050678/overview/\n",
      "2020-01-21 18:12:03.823352 https://www.cars.com//vehicledetail/detail/799973534/overview/?isShippableInsideSearchRadius\n",
      "2020-01-21 18:12:04.265409 https://www.cars.com//vehicledetail/detail/796983648/overview/?isShippableInsideSearchRadius\n",
      "expected string or bytes-like object\n",
      "2020-01-21 18:12:05.529780 https://www.cars.com//vehicledetail/detail/800550258/overview/?isShippableInsideSearchRadius\n",
      "2020-01-21 18:12:06.319969 https://www.cars.com//vehicledetail/detail/799802818/overview/?isShippableInsideSearchRadius\n",
      "2020-01-21 18:12:06.740991 https://www.cars.com//vehicledetail/detail/800191763/overview/?isShippableInsideSearchRadius\n",
      "2020-01-21 18:12:07.257201 https://www.cars.com//vehicledetail/detail/797944052/overview/\n",
      "2020-01-21 18:12:07.806414 https://www.cars.com//vehicledetail/detail/794438595/overview/\n",
      "2020-01-21 18:12:08.553922 https://www.cars.com//vehicledetail/detail/799506161/overview/\n",
      "2020-01-21 18:12:09.576873 https://www.cars.com//vehicledetail/detail/799182883/overview/\n"
     ]
    },
    {
     "name": "stderr",
     "output_type": "stream",
     "text": [
      " 77% |#######################################################                 |\r"
     ]
    },
    {
     "name": "stdout",
     "output_type": "stream",
     "text": [
      "2020-01-21 18:12:10.329835 https://www.cars.com//vehicledetail/detail/799655103/overview/\n",
      "2020-01-21 18:12:11.201096 https://www.cars.com//vehicledetail/detail/799655103/overview/\n",
      "2020-01-21 18:12:12.109175 https://www.cars.com//vehicledetail/detail/799929017/overview/\n",
      "2020-01-21 18:12:12.956677 https://www.cars.com//vehicledetail/detail/800128987/overview/\n",
      "2020-01-21 18:12:13.524557 https://www.cars.com//vehicledetail/detail/799195471/overview/\n",
      "2020-01-21 18:12:14.334868 https://www.cars.com//vehicledetail/detail/782537093/overview/\n",
      "2020-01-21 18:12:15.466546 https://www.cars.com//vehicledetail/detail/799506282/overview/\n",
      "2020-01-21 18:12:16.201952 https://www.cars.com//vehicledetail/detail/800668290/overview/\n",
      "2020-01-21 18:12:16.785921 https://www.cars.com//vehicledetail/detail/799182676/overview/\n",
      "2020-01-21 18:12:17.609592 https://www.cars.com//vehicledetail/detail/800343290/overview/\n",
      "2020-01-21 18:12:18.247310 https://www.cars.com//vehicledetail/detail/800095238/overview/?isShippableInsideSearchRadius\n",
      "2020-01-21 18:12:18.937221 https://www.cars.com//vehicledetail/detail/786450814/overview/\n",
      "2020-01-21 18:12:19.666669 https://www.cars.com//vehicledetail/detail/797038761/overview/\n",
      "2020-01-21 18:12:20.484069 https://www.cars.com//vehicledetail/detail/797480391/overview/\n",
      "2020-01-21 18:12:21.271981 https://www.cars.com//vehicledetail/detail/794650440/overview/\n",
      "2020-01-21 18:12:21.865145 https://www.cars.com//vehicledetail/detail/799359485/overview/\n",
      "2020-01-21 18:12:22.371406 https://www.cars.com//vehicledetail/detail/800224321/overview/\n",
      "2020-01-21 18:12:22.986177 https://www.cars.com//vehicledetail/detail/799280936/overview/\n",
      "2020-01-21 18:12:23.604591 https://www.cars.com//vehicledetail/detail/797946780/overview/\n",
      "2020-01-21 18:12:24.430429 https://www.cars.com//vehicledetail/detail/799289808/overview/\n",
      "2020-01-21 18:12:25.371332 https://www.cars.com//vehicledetail/detail/799222250/overview/\n",
      "2020-01-21 18:12:25.963712 https://www.cars.com//vehicledetail/detail/799972470/overview/?isShippableInsideSearchRadius\n",
      "2020-01-21 18:12:26.649697 https://www.cars.com//vehicledetail/detail/799718701/overview/?isShippableInsideSearchRadius\n",
      "2020-01-21 18:12:27.381798 https://www.cars.com//vehicledetail/detail/796980129/overview/?isShippableInsideSearchRadius\n",
      "2020-01-21 18:12:28.036367 https://www.cars.com//vehicledetail/detail/797493114/overview/?isShippableInsideSearchRadius\n"
     ]
    },
    {
     "name": "stderr",
     "output_type": "stream",
     "text": [
      " 78% |########################################################                |\r"
     ]
    },
    {
     "name": "stdout",
     "output_type": "stream",
     "text": [
      "2020-01-21 18:12:28.947097 https://www.cars.com//vehicledetail/detail/799329952/overview/\n",
      "2020-01-21 18:12:29.876041 https://www.cars.com//vehicledetail/detail/794729099/overview/\n",
      "2020-01-21 18:12:30.758519 https://www.cars.com//vehicledetail/detail/800134426/overview/\n",
      "2020-01-21 18:12:31.545559 https://www.cars.com//vehicledetail/detail/800005225/overview/\n",
      "2020-01-21 18:12:32.361915 https://www.cars.com//vehicledetail/detail/800423411/overview/\n",
      "2020-01-21 18:12:33.316371 https://www.cars.com//vehicledetail/detail/795864996/overview/\n",
      "2020-01-21 18:12:34.143063 https://www.cars.com//vehicledetail/detail/800206604/overview/\n",
      "2020-01-21 18:12:34.979108 https://www.cars.com//vehicledetail/detail/799466426/overview/\n",
      "2020-01-21 18:12:35.656747 https://www.cars.com//vehicledetail/detail/798078687/overview/\n",
      "2020-01-21 18:12:36.730234 https://www.cars.com//vehicledetail/detail/798389860/overview/\n",
      "2020-01-21 18:12:37.320506 https://www.cars.com//vehicledetail/detail/800751165/overview/\n",
      "2020-01-21 18:12:37.959174 https://www.cars.com//vehicledetail/detail/800435763/overview/\n",
      "2020-01-21 18:12:38.403119 https://www.cars.com//vehicledetail/detail/798714261/overview/\n",
      "2020-01-21 18:12:38.953275 https://www.cars.com//vehicledetail/detail/797790396/overview/\n",
      "2020-01-21 18:12:39.662064 https://www.cars.com//vehicledetail/detail/800300653/overview/\n",
      "2020-01-21 18:12:40.293839 https://www.cars.com//vehicledetail/detail/800610164/overview/\n",
      "2020-01-21 18:12:40.997226 https://www.cars.com//vehicledetail/detail/800363924/overview/\n",
      "2020-01-21 18:12:41.666827 https://www.cars.com//vehicledetail/detail/795182897/overview/\n",
      "2020-01-21 18:12:42.648188 https://www.cars.com//vehicledetail/detail/800633483/overview/\n",
      "2020-01-21 18:12:43.216525 https://www.cars.com//vehicledetail/detail/800746460/overview/\n",
      "2020-01-21 18:12:44.531932 https://www.cars.com//vehicledetail/detail/799736044/overview/\n",
      "2020-01-21 18:12:45.740660 https://www.cars.com//vehicledetail/detail/790592525/overview/\n",
      "2020-01-21 18:12:46.798235 https://www.cars.com//vehicledetail/detail/800443535/overview/\n",
      "2020-01-21 18:12:47.598213 https://www.cars.com//vehicledetail/detail/799720350/overview/?isShippableInsideSearchRadius\n",
      "2020-01-21 18:12:48.490960 https://www.cars.com//vehicledetail/detail/797495713/overview/?isShippableInsideSearchRadius\n"
     ]
    },
    {
     "name": "stderr",
     "output_type": "stream",
     "text": [
      " 79% |#########################################################               |\r"
     ]
    },
    {
     "name": "stdout",
     "output_type": "stream",
     "text": [
      "2020-01-21 18:12:49.068976 https://www.cars.com//vehicledetail/detail/799964954/overview/?isShippableInsideSearchRadius\n",
      "2020-01-21 18:12:49.742111 https://www.cars.com//vehicledetail/detail/794925877/overview/\n",
      "2020-01-21 18:12:50.446348 https://www.cars.com//vehicledetail/detail/800006226/overview/?isShippableInsideSearchRadius\n",
      "2020-01-21 18:12:50.891734 https://www.cars.com//vehicledetail/detail/799356062/overview/\n",
      "2020-01-21 18:12:51.453914 https://www.cars.com//vehicledetail/detail/797345884/overview/\n",
      "2020-01-21 18:12:52.306940 https://www.cars.com//vehicledetail/detail/800613807/overview/\n",
      "2020-01-21 18:12:53.144514 https://www.cars.com//vehicledetail/detail/799518146/overview/?isShippableInsideSearchRadius\n",
      "2020-01-21 18:12:53.953840 https://www.cars.com//vehicledetail/detail/799612716/overview/\n",
      "2020-01-21 18:12:54.782480 https://www.cars.com//vehicledetail/detail/799720506/overview/?isShippableInsideSearchRadius\n",
      "2020-01-21 18:12:55.637857 https://www.cars.com//vehicledetail/detail/799964839/overview/?isShippableInsideSearchRadius\n",
      "2020-01-21 18:12:56.139398 https://www.cars.com//vehicledetail/detail/796984438/overview/?isShippableInsideSearchRadius\n",
      "expected string or bytes-like object\n",
      "2020-01-21 18:12:57.224627 https://www.cars.com//vehicledetail/detail/797496973/overview/?isShippableInsideSearchRadius\n",
      "2020-01-21 18:12:57.918256 https://www.cars.com//vehicledetail/detail/799973645/overview/?isShippableInsideSearchRadius\n",
      "2020-01-21 18:12:58.478244 https://www.cars.com//vehicledetail/detail/795526200/overview/\n",
      "2020-01-21 18:12:59.315977 https://www.cars.com//vehicledetail/detail/797078175/overview/\n",
      "2020-01-21 18:12:59.819647 https://www.cars.com//vehicledetail/detail/771250908/overview/\n",
      "2020-01-21 18:13:00.478138 https://www.cars.com//vehicledetail/detail/790647896/overview/\n",
      "2020-01-21 18:13:01.221434 https://www.cars.com//vehicledetail/detail/800093173/overview/\n",
      "2020-01-21 18:13:01.764047 https://www.cars.com//vehicledetail/detail/799973821/overview/?isShippableInsideSearchRadius\n",
      "2020-01-21 18:13:02.526381 https://www.cars.com//vehicledetail/detail/796983863/overview/?isShippableInsideSearchRadius\n",
      "2020-01-21 18:13:03.384445 https://www.cars.com//vehicledetail/detail/797496925/overview/?isShippableInsideSearchRadius\n",
      "2020-01-21 18:13:04.080038 https://www.cars.com//vehicledetail/detail/799720121/overview/?isShippableInsideSearchRadius\n",
      "2020-01-21 18:13:05.096439 https://www.cars.com//vehicledetail/detail/799964945/overview/?isShippableInsideSearchRadius\n",
      "expected string or bytes-like object\n"
     ]
    },
    {
     "name": "stderr",
     "output_type": "stream",
     "text": [
      " 80% |##########################################################              |\r"
     ]
    },
    {
     "name": "stdout",
     "output_type": "stream",
     "text": [
      "2020-01-21 18:13:06.147856 https://www.cars.com//vehicledetail/detail/800161969/overview/\n",
      "2020-01-21 18:13:06.705541 https://www.cars.com//vehicledetail/detail/797862728/overview/\n",
      "2020-01-21 18:13:07.210807 https://www.cars.com//vehicledetail/detail/796931223/overview/\n",
      "2020-01-21 18:13:07.952611 https://www.cars.com//vehicledetail/detail/793471604/overview/\n",
      "2020-01-21 18:13:08.510950 https://www.cars.com//vehicledetail/detail/800588089/overview/\n",
      "2020-01-21 18:13:09.309680 https://www.cars.com//vehicledetail/detail/797280364/overview/\n",
      "2020-01-21 18:13:10.243843 https://www.cars.com//vehicledetail/detail/800395775/overview/\n",
      "2020-01-21 18:13:10.719601 https://www.cars.com//vehicledetail/detail/799488700/overview/\n",
      "2020-01-21 18:13:11.468717 https://www.cars.com//vehicledetail/detail/783512183/overview/\n",
      "2020-01-21 18:13:12.076947 https://www.cars.com//vehicledetail/detail/799376923/overview/\n",
      "2020-01-21 18:13:12.854924 https://www.cars.com//vehicledetail/detail/798538324/overview/\n",
      "2020-01-21 18:13:13.515033 https://www.cars.com//vehicledetail/detail/799610478/overview/\n",
      "2020-01-21 18:13:14.244584 https://www.cars.com//vehicledetail/detail/798096359/overview/\n",
      "2020-01-21 18:13:15.068203 https://www.cars.com//vehicledetail/detail/796180798/overview/\n",
      "2020-01-21 18:13:15.619756 https://www.cars.com//vehicledetail/detail/796010872/overview/\n",
      "2020-01-21 18:13:16.174343 https://www.cars.com//vehicledetail/detail/800545830/overview/\n",
      "2020-01-21 18:13:17.155877 https://www.cars.com//vehicledetail/detail/800372662/overview/\n",
      "2020-01-21 18:13:18.125340 https://www.cars.com//vehicledetail/detail/798781676/overview/\n",
      "2020-01-21 18:13:18.863201 https://www.cars.com//vehicledetail/detail/798264296/overview/\n",
      "2020-01-21 18:13:19.801992 https://www.cars.com//vehicledetail/detail/800102054/overview/\n",
      "2020-01-21 18:13:20.588187 https://www.cars.com//vehicledetail/detail/799712668/overview/\n",
      "2020-01-21 18:13:21.309591 https://www.cars.com//vehicledetail/detail/795734503/overview/\n",
      "2020-01-21 18:13:22.167217 https://www.cars.com//vehicledetail/detail/799612017/overview/\n",
      "2020-01-21 18:13:22.704432 https://www.cars.com//vehicledetail/detail/795736936/overview/\n",
      "2020-01-21 18:13:23.205333 https://www.cars.com//vehicledetail/detail/797095414/overview/\n"
     ]
    },
    {
     "name": "stderr",
     "output_type": "stream",
     "text": [
      " 81% |##########################################################              |\r"
     ]
    },
    {
     "name": "stdout",
     "output_type": "stream",
     "text": [
      "2020-01-21 18:13:23.794862 https://www.cars.com//vehicledetail/detail/799139509/overview/\n",
      "2020-01-21 18:13:24.563776 https://www.cars.com//vehicledetail/detail/800156752/overview/\n",
      "2020-01-21 18:13:25.081705 https://www.cars.com//vehicledetail/detail/798975849/overview/\n",
      "2020-01-21 18:13:25.673588 https://www.cars.com//vehicledetail/detail/800729178/overview/\n",
      "2020-01-21 18:13:26.097217 https://www.cars.com//vehicledetail/detail/797495651/overview/?isShippableInsideSearchRadius\n",
      "2020-01-21 18:13:27.038742 https://www.cars.com//vehicledetail/detail/800753188/overview/?isShippableInsideSearchRadius\n",
      "2020-01-21 18:13:27.977676 https://www.cars.com//vehicledetail/detail/799720221/overview/?isShippableInsideSearchRadius\n",
      "2020-01-21 18:13:28.763521 https://www.cars.com//vehicledetail/detail/800175821/overview/?isShippableInsideSearchRadius\n",
      "2020-01-21 18:13:29.760494 https://www.cars.com//vehicledetail/detail/798498100/overview/\n",
      "2020-01-21 18:13:30.696567 https://www.cars.com//vehicledetail/detail/800090210/overview/\n",
      "2020-01-21 18:13:31.443691 https://www.cars.com//vehicledetail/detail/799719133/overview/?isShippableInsideSearchRadius\n",
      "2020-01-21 18:13:32.187049 https://www.cars.com//vehicledetail/detail/797754464/overview/\n",
      "2020-01-21 18:13:33.025503 https://www.cars.com//vehicledetail/detail/800383591/overview/\n",
      "2020-01-21 18:13:33.556068 https://www.cars.com//vehicledetail/detail/797913583/overview/\n",
      "2020-01-21 18:13:34.015031 https://www.cars.com//vehicledetail/detail/799856433/overview/\n",
      "2020-01-21 18:13:34.723126 https://www.cars.com//vehicledetail/detail/799857482/overview/\n",
      "2020-01-21 18:13:35.295190 https://www.cars.com//vehicledetail/detail/798107664/overview/\n",
      "2020-01-21 18:13:35.725658 https://www.cars.com//vehicledetail/detail/797078867/overview/\n",
      "2020-01-21 18:13:36.627744 https://www.cars.com//vehicledetail/detail/797828110/overview/\n",
      "2020-01-21 18:13:37.288724 https://www.cars.com//vehicledetail/detail/796810412/overview/\n",
      "2020-01-21 18:13:38.137026 https://www.cars.com//vehicledetail/detail/793169773/overview/\n",
      "2020-01-21 18:13:38.808908 https://www.cars.com//vehicledetail/detail/788987431/overview/\n",
      "2020-01-21 18:13:39.665927 https://www.cars.com//vehicledetail/detail/799642948/overview/\n",
      "2020-01-21 18:13:40.503936 https://www.cars.com//vehicledetail/detail/796742750/overview/\n",
      "2020-01-21 18:13:40.977553 https://www.cars.com//vehicledetail/detail/789703203/overview/\n"
     ]
    },
    {
     "name": "stderr",
     "output_type": "stream",
     "text": [
      " 82% |###########################################################             |\r"
     ]
    },
    {
     "name": "stdout",
     "output_type": "stream",
     "text": [
      "2020-01-21 18:13:41.890931 https://www.cars.com//vehicledetail/detail/800691371/overview/\n",
      "2020-01-21 18:13:42.671182 https://www.cars.com//vehicledetail/detail/795442258/overview/\n",
      "2020-01-21 18:13:43.415275 https://www.cars.com//vehicledetail/detail/797591246/overview/\n",
      "2020-01-21 18:13:44.043541 https://www.cars.com//vehicledetail/detail/795864354/overview/\n",
      "2020-01-21 18:13:44.558184 https://www.cars.com//vehicledetail/detail/800682027/overview/\n",
      "2020-01-21 18:13:45.187930 https://www.cars.com//vehicledetail/detail/799677176/overview/\n",
      "2020-01-21 18:13:46.557675 https://www.cars.com//vehicledetail/detail/800483579/overview/\n",
      "2020-01-21 18:13:47.416467 https://www.cars.com//vehicledetail/detail/800021248/overview/?isShippableInsideSearchRadius\n",
      "2020-01-21 18:13:48.125371 https://www.cars.com//vehicledetail/detail/797491947/overview/?isShippableInsideSearchRadius\n",
      "2020-01-21 18:13:48.836898 https://www.cars.com//vehicledetail/detail/798821019/overview/?isShippableInsideSearchRadius\n",
      "2020-01-21 18:13:49.548780 https://www.cars.com//vehicledetail/detail/799507136/overview/?isShippableInsideSearchRadius\n",
      "2020-01-21 18:13:50.563082 https://www.cars.com//vehicledetail/detail/797920896/overview/\n",
      "2020-01-21 18:13:50.967715 https://www.cars.com//vehicledetail/detail/799636204/overview/\n",
      "2020-01-21 18:13:51.437594 https://www.cars.com//vehicledetail/detail/796240885/overview/\n",
      "2020-01-21 18:13:52.121458 https://www.cars.com//vehicledetail/detail/797007239/overview/\n",
      "2020-01-21 18:13:52.806846 https://www.cars.com//vehicledetail/detail/799150512/overview/\n",
      "2020-01-21 18:13:53.620877 https://www.cars.com//vehicledetail/detail/799258935/overview/\n",
      "2020-01-21 18:13:54.341296 https://www.cars.com//vehicledetail/detail/797495867/overview/?isShippableInsideSearchRadius\n",
      "expected string or bytes-like object\n",
      "2020-01-21 18:13:55.432004 https://www.cars.com//vehicledetail/detail/797271806/overview/\n",
      "2020-01-21 18:13:55.921093 https://www.cars.com//vehicledetail/detail/800248841/overview/?isShippableInsideSearchRadius\n",
      "2020-01-21 18:13:56.734898 https://www.cars.com//vehicledetail/detail/799775765/overview/?isShippableInsideSearchRadius\n",
      "2020-01-21 18:13:57.672528 https://www.cars.com//vehicledetail/detail/797464433/overview/\n",
      "2020-01-21 18:13:58.504879 https://www.cars.com//vehicledetail/detail/800442355/overview/\n",
      "2020-01-21 18:13:59.141570 https://www.cars.com//vehicledetail/detail/792819149/overview/\n"
     ]
    },
    {
     "name": "stderr",
     "output_type": "stream",
     "text": [
      " 83% |############################################################            |\r"
     ]
    },
    {
     "name": "stdout",
     "output_type": "stream",
     "text": [
      "2020-01-21 18:13:59.927928 https://www.cars.com//vehicledetail/detail/784169711/overview/\n",
      "2020-01-21 18:14:00.441004 https://www.cars.com//vehicledetail/detail/788181302/overview/\n",
      "2020-01-21 18:14:01.349722 https://www.cars.com//vehicledetail/detail/800563469/overview/\n",
      "2020-01-21 18:14:02.069920 https://www.cars.com//vehicledetail/detail/792355133/overview/\n",
      "2020-01-21 18:14:02.632272 https://www.cars.com//vehicledetail/detail/798983380/overview/\n",
      "2020-01-21 18:14:03.213869 https://www.cars.com//vehicledetail/detail/800276778/overview/\n",
      "2020-01-21 18:14:03.700327 https://www.cars.com//vehicledetail/detail/798275316/overview/\n",
      "2020-01-21 18:14:04.081109 https://www.cars.com//vehicledetail/detail/799464729/overview/\n",
      "2020-01-21 18:14:04.525294 https://www.cars.com//vehicledetail/detail/799631677/overview/\n",
      "2020-01-21 18:14:05.165954 https://www.cars.com//vehicledetail/detail/799970486/overview/?isShippableInsideSearchRadius\n",
      "2020-01-21 18:14:05.906794 https://www.cars.com//vehicledetail/detail/799717895/overview/?isShippableInsideSearchRadius\n",
      "2020-01-21 18:14:06.642667 https://www.cars.com//vehicledetail/detail/782691355/overview/\n",
      "2020-01-21 18:14:07.639984 https://www.cars.com//vehicledetail/detail/789026469/overview/\n",
      "2020-01-21 18:14:08.340884 https://www.cars.com//vehicledetail/detail/792838835/overview/\n",
      "2020-01-21 18:14:09.585675 https://www.cars.com//vehicledetail/detail/797525838/overview/\n",
      "2020-01-21 18:14:10.648736 https://www.cars.com//vehicledetail/detail/782691357/overview/\n",
      "2020-01-21 18:14:11.315019 https://www.cars.com//vehicledetail/detail/790215086/overview/\n",
      "2020-01-21 18:14:12.109529 https://www.cars.com//vehicledetail/detail/796714070/overview/\n",
      "2020-01-21 18:14:13.048077 https://www.cars.com//vehicledetail/detail/800110993/overview/\n",
      "2020-01-21 18:14:13.894966 https://www.cars.com//vehicledetail/detail/799960521/overview/?isShippableInsideSearchRadius\n",
      "2020-01-21 18:14:14.446382 https://www.cars.com//vehicledetail/detail/796978497/overview/?isShippableInsideSearchRadius\n",
      "2020-01-21 18:14:15.258970 https://www.cars.com//vehicledetail/detail/799359260/overview/\n",
      "2020-01-21 18:14:16.055955 https://www.cars.com//vehicledetail/detail/800199639/overview/\n",
      "2020-01-21 18:14:16.891106 https://www.cars.com//vehicledetail/detail/797037791/overview/\n",
      "2020-01-21 18:14:17.428322 https://www.cars.com//vehicledetail/detail/793862837/overview/\n"
     ]
    },
    {
     "name": "stderr",
     "output_type": "stream",
     "text": [
      " 84% |#############################################################           |\r"
     ]
    },
    {
     "name": "stdout",
     "output_type": "stream",
     "text": [
      "2020-01-21 18:14:17.906892 https://www.cars.com//vehicledetail/detail/798728517/overview/\n",
      "2020-01-21 18:14:18.728785 https://www.cars.com//vehicledetail/detail/797495790/overview/?isShippableInsideSearchRadius\n",
      "2020-01-21 18:14:19.369571 https://www.cars.com//vehicledetail/detail/796409013/overview/\n",
      "2020-01-21 18:14:20.154650 https://www.cars.com//vehicledetail/detail/799965124/overview/?isShippableInsideSearchRadius\n",
      "2020-01-21 18:14:21.091503 https://www.cars.com//vehicledetail/detail/800302565/overview/?isShippableInsideSearchRadius\n",
      "2020-01-21 18:14:21.882278 https://www.cars.com//vehicledetail/detail/800755615/overview/\n",
      "2020-01-21 18:14:22.896232 https://www.cars.com//vehicledetail/detail/800551718/overview/\n",
      "2020-01-21 18:14:23.773318 https://www.cars.com//vehicledetail/detail/800633239/overview/\n",
      "2020-01-21 18:14:24.455835 https://www.cars.com//vehicledetail/detail/799973617/overview/?isShippableInsideSearchRadius\n",
      "2020-01-21 18:14:24.939170 https://www.cars.com//vehicledetail/detail/799720714/overview/?isShippableInsideSearchRadius\n",
      "2020-01-21 18:14:25.394306 https://www.cars.com//vehicledetail/detail/800174756/overview/\n",
      "2020-01-21 18:14:25.790996 https://www.cars.com//vehicledetail/detail/799962488/overview/?isShippableInsideSearchRadius\n",
      "2020-01-21 18:14:26.669290 https://www.cars.com//vehicledetail/detail/797494112/overview/?isShippableInsideSearchRadius\n",
      "2020-01-21 18:14:27.240044 https://www.cars.com//vehicledetail/detail/799718546/overview/?isShippableInsideSearchRadius\n",
      "2020-01-21 18:14:27.886459 https://www.cars.com//vehicledetail/detail/796763561/overview/\n",
      "2020-01-21 18:14:28.573070 https://www.cars.com//vehicledetail/detail/800637108/overview/\n",
      "2020-01-21 18:14:29.283791 https://www.cars.com//vehicledetail/detail/799426562/overview/\n",
      "2020-01-21 18:14:30.234311 https://www.cars.com//vehicledetail/detail/799396155/overview/\n",
      "2020-01-21 18:14:31.017695 https://www.cars.com//vehicledetail/detail/799703022/overview/\n",
      "2020-01-21 18:14:31.775296 https://www.cars.com//vehicledetail/detail/799167502/overview/\n",
      "2020-01-21 18:14:32.321345 https://www.cars.com//vehicledetail/detail/799254322/overview/\n",
      "2020-01-21 18:14:32.827155 https://www.cars.com//vehicledetail/detail/799678952/overview/\n",
      "2020-01-21 18:14:33.612247 https://www.cars.com//vehicledetail/detail/797076873/overview/\n",
      "2020-01-21 18:14:34.519461 https://www.cars.com//vehicledetail/detail/797495555/overview/?isShippableInsideSearchRadius\n",
      "2020-01-21 18:14:35.181545 https://www.cars.com//vehicledetail/detail/799963260/overview/?isShippableInsideSearchRadius\n"
     ]
    },
    {
     "name": "stderr",
     "output_type": "stream",
     "text": [
      " 85% |#############################################################           |\r"
     ]
    },
    {
     "name": "stdout",
     "output_type": "stream",
     "text": [
      "2020-01-21 18:14:35.945070 https://www.cars.com//vehicledetail/detail/798710136/overview/\n",
      "2020-01-21 18:14:36.799594 https://www.cars.com//vehicledetail/detail/799842381/overview/\n",
      "2020-01-21 18:14:37.522200 https://www.cars.com//vehicledetail/detail/794668777/overview/\n",
      "2020-01-21 18:14:38.004161 https://www.cars.com//vehicledetail/detail/800752989/overview/\n",
      "2020-01-21 18:14:38.632276 https://www.cars.com//vehicledetail/detail/800224472/overview/\n",
      "2020-01-21 18:14:39.887856 https://www.cars.com//vehicledetail/detail/799778789/overview/?isShippableInsideSearchRadius\n",
      "2020-01-21 18:14:40.869287 https://www.cars.com//vehicledetail/detail/799778564/overview/?isShippableInsideSearchRadius\n",
      "2020-01-21 18:14:41.634362 https://www.cars.com//vehicledetail/detail/798614333/overview/?isShippableInsideSearchRadius\n",
      "2020-01-21 18:14:42.167982 https://www.cars.com//vehicledetail/detail/800050650/overview/?isShippableInsideSearchRadius\n",
      "2020-01-21 18:14:43.021720 https://www.cars.com//vehicledetail/detail/800248510/overview/?isShippableInsideSearchRadius\n",
      "2020-01-21 18:14:43.584821 https://www.cars.com//vehicledetail/detail/800249787/overview/?isShippableInsideSearchRadius\n",
      "2020-01-21 18:14:44.397419 https://www.cars.com//vehicledetail/detail/800051156/overview/?isShippableInsideSearchRadius\n",
      "2020-01-21 18:14:45.330946 https://www.cars.com//vehicledetail/detail/798582722/overview/\n",
      "2020-01-21 18:14:46.220458 https://www.cars.com//vehicledetail/detail/796726841/overview/\n",
      "2020-01-21 18:14:47.133327 https://www.cars.com//vehicledetail/detail/799893016/overview/\n",
      "2020-01-21 18:14:47.937566 https://www.cars.com//vehicledetail/detail/798998116/overview/\n",
      "2020-01-21 18:14:48.841352 https://www.cars.com//vehicledetail/detail/798951534/overview/\n",
      "2020-01-21 18:14:49.674392 https://www.cars.com//vehicledetail/detail/800213294/overview/\n",
      "2020-01-21 18:14:50.476347 https://www.cars.com//vehicledetail/detail/799808776/overview/\n",
      "2020-01-21 18:14:51.501624 https://www.cars.com//vehicledetail/detail/800473936/overview/\n",
      "2020-01-21 18:14:52.054416 https://www.cars.com//vehicledetail/detail/800719511/overview/\n",
      "2020-01-21 18:14:52.951684 https://www.cars.com//vehicledetail/detail/797319084/overview/\n",
      "2020-01-21 18:14:53.522625 https://www.cars.com//vehicledetail/detail/731128001/overview/\n",
      "2020-01-21 18:14:54.318673 https://www.cars.com//vehicledetail/detail/753704439/overview/\n",
      "2020-01-21 18:14:55.086064 https://www.cars.com//vehicledetail/detail/799819189/overview/?isShippableInsideSearchRadius\n"
     ]
    },
    {
     "name": "stderr",
     "output_type": "stream",
     "text": [
      " 86% |##############################################################          |\r"
     ]
    },
    {
     "name": "stdout",
     "output_type": "stream",
     "text": [
      "2020-01-21 18:14:55.827088 https://www.cars.com//vehicledetail/detail/799641999/overview/?isShippableInsideSearchRadius\n",
      "2020-01-21 18:14:56.327745 https://www.cars.com//vehicledetail/detail/796949378/overview/?isShippableInsideSearchRadius\n",
      "2020-01-21 18:14:57.061580 https://www.cars.com//vehicledetail/detail/799957002/overview/?isShippableInsideSearchRadius\n",
      "2020-01-21 18:14:57.619306 https://www.cars.com//vehicledetail/detail/799712552/overview/?isShippableInsideSearchRadius\n",
      "2020-01-21 18:14:58.233985 https://www.cars.com//vehicledetail/detail/800827926/overview/?isShippableInsideSearchRadius\n",
      "2020-01-21 18:14:58.854390 https://www.cars.com//vehicledetail/detail/797751494/overview/\n",
      "2020-01-21 18:14:59.602387 https://www.cars.com//vehicledetail/detail/796159126/overview/\n",
      "2020-01-21 18:15:00.557651 https://www.cars.com//vehicledetail/detail/799972786/overview/?isShippableInsideSearchRadius\n",
      "expected string or bytes-like object\n",
      "2020-01-21 18:15:01.678210 https://www.cars.com//vehicledetail/detail/796981741/overview/?isShippableInsideSearchRadius\n",
      "2020-01-21 18:15:02.194167 https://www.cars.com//vehicledetail/detail/800094534/overview/\n",
      "2020-01-21 18:15:02.999831 https://www.cars.com//vehicledetail/detail/800434233/overview/\n",
      "2020-01-21 18:15:03.891670 https://www.cars.com//vehicledetail/detail/797465534/overview/\n",
      "2020-01-21 18:15:04.733376 https://www.cars.com//vehicledetail/detail/795946077/overview/\n",
      "2020-01-21 18:15:05.825695 https://www.cars.com//vehicledetail/detail/796114698/overview/\n",
      "2020-01-21 18:15:06.541932 https://www.cars.com//vehicledetail/detail/797483980/overview/\n",
      "2020-01-21 18:15:07.088635 https://www.cars.com//vehicledetail/detail/797332209/overview/\n",
      "2020-01-21 18:15:07.513878 https://www.cars.com//vehicledetail/detail/794746637/overview/\n",
      "2020-01-21 18:15:08.233868 https://www.cars.com//vehicledetail/detail/799962321/overview/?isShippableInsideSearchRadius\n",
      "expected string or bytes-like object\n",
      "2020-01-21 18:15:09.086806 https://www.cars.com//vehicledetail/detail/797494205/overview/?isShippableInsideSearchRadius\n",
      "2020-01-21 18:15:09.590757 https://www.cars.com//vehicledetail/detail/799971686/overview/?isShippableInsideSearchRadius\n",
      "2020-01-21 18:15:10.186363 https://www.cars.com//vehicledetail/detail/800235953/overview/?isShippableInsideSearchRadius\n",
      "2020-01-21 18:15:10.963832 https://www.cars.com//vehicledetail/detail/799762240/overview/?isShippableInsideSearchRadius\n",
      "2020-01-21 18:15:11.756880 https://www.cars.com//vehicledetail/detail/798685089/overview/\n"
     ]
    },
    {
     "name": "stderr",
     "output_type": "stream",
     "text": [
      " 87% |###############################################################         |\r"
     ]
    },
    {
     "name": "stdout",
     "output_type": "stream",
     "text": [
      "2020-01-21 18:15:12.370817 https://www.cars.com//vehicledetail/detail/800021283/overview/?isShippableInsideSearchRadius\n",
      "2020-01-21 18:15:13.189001 https://www.cars.com//vehicledetail/detail/788532244/overview/\n",
      "2020-01-21 18:15:13.798011 https://www.cars.com//vehicledetail/detail/780407017/overview/\n",
      "2020-01-21 18:15:14.408109 https://www.cars.com//vehicledetail/detail/799904404/overview/\n",
      "2020-01-21 18:15:15.020982 https://www.cars.com//vehicledetail/detail/799787064/overview/?isShippableInsideSearchRadius\n",
      "2020-01-21 18:15:15.811953 https://www.cars.com//vehicledetail/detail/800269919/overview/?isShippableInsideSearchRadius\n",
      "2020-01-21 18:15:16.434190 https://www.cars.com//vehicledetail/detail/798616481/overview/?isShippableInsideSearchRadius\n",
      "2020-01-21 18:15:17.533779 https://www.cars.com//vehicledetail/detail/795741519/overview/\n",
      "2020-01-21 18:15:18.596449 https://www.cars.com//vehicledetail/detail/799612044/overview/\n",
      "2020-01-21 18:15:19.325614 https://www.cars.com//vehicledetail/detail/788759186/overview/\n",
      "2020-01-21 18:15:20.401880 https://www.cars.com//vehicledetail/detail/800094045/overview/\n",
      "2020-01-21 18:15:21.442125 https://www.cars.com//vehicledetail/detail/799721393/overview/\n",
      "2020-01-21 18:15:22.231731 https://www.cars.com//vehicledetail/detail/797150759/overview/\n",
      "2020-01-21 18:15:22.967461 https://www.cars.com//vehicledetail/detail/786848459/overview/\n",
      "2020-01-21 18:15:23.748911 https://www.cars.com//vehicledetail/detail/796704054/overview/\n",
      "2020-01-21 18:15:24.591053 https://www.cars.com//vehicledetail/detail/796820069/overview/\n",
      "2020-01-21 18:15:25.410083 https://www.cars.com//vehicledetail/detail/796701979/overview/\n",
      "2020-01-21 18:15:26.029880 https://www.cars.com//vehicledetail/detail/795078554/overview/\n",
      "2020-01-21 18:15:26.810016 https://www.cars.com//vehicledetail/detail/798566239/overview/\n",
      "2020-01-21 18:15:27.565155 https://www.cars.com//vehicledetail/detail/799718686/overview/?isShippableInsideSearchRadius\n",
      "2020-01-21 18:15:28.413584 https://www.cars.com//vehicledetail/detail/799961940/overview/?isShippableInsideSearchRadius\n",
      "2020-01-21 18:15:29.033163 https://www.cars.com//vehicledetail/detail/800195228/overview/?isShippableInsideSearchRadius\n",
      "2020-01-21 18:15:29.983337 https://www.cars.com//vehicledetail/detail/800340544/overview/?isShippableInsideSearchRadius\n",
      "2020-01-21 18:15:31.067898 https://www.cars.com//vehicledetail/detail/800669428/overview/\n",
      "2020-01-21 18:15:32.095920 https://www.cars.com//vehicledetail/detail/797761643/overview/\n"
     ]
    },
    {
     "name": "stderr",
     "output_type": "stream",
     "text": [
      " 88% |################################################################        |\r"
     ]
    },
    {
     "name": "stdout",
     "output_type": "stream",
     "text": [
      "2020-01-21 18:15:33.069954 https://www.cars.com//vehicledetail/detail/770549393/overview/\n",
      "2020-01-21 18:15:33.992318 https://www.cars.com//vehicledetail/detail/783354898/overview/\n",
      "2020-01-21 18:15:34.599388 https://www.cars.com//vehicledetail/detail/797805690/overview/\n",
      "2020-01-21 18:15:35.667402 https://www.cars.com//vehicledetail/detail/798471318/overview/\n",
      "2020-01-21 18:15:36.237180 https://www.cars.com//vehicledetail/detail/799356867/overview/\n",
      "2020-01-21 18:15:36.854818 https://www.cars.com//vehicledetail/detail/799718448/overview/?isShippableInsideSearchRadius\n",
      "2020-01-21 18:15:37.652368 https://www.cars.com//vehicledetail/detail/799961248/overview/?isShippableInsideSearchRadius\n",
      "2020-01-21 18:15:38.424978 https://www.cars.com//vehicledetail/detail/797493105/overview/?isShippableInsideSearchRadius\n",
      "2020-01-21 18:15:39.269037 https://www.cars.com//vehicledetail/detail/790613105/overview/\n",
      "2020-01-21 18:15:40.127315 https://www.cars.com//vehicledetail/detail/794816808/overview/\n",
      "2020-01-21 18:15:40.935967 https://www.cars.com//vehicledetail/detail/792540358/overview/\n",
      "2020-01-21 18:15:41.684154 https://www.cars.com//vehicledetail/detail/796743043/overview/\n",
      "2020-01-21 18:15:42.572861 https://www.cars.com//vehicledetail/detail/790503910/overview/\n",
      "2020-01-21 18:15:43.769005 https://www.cars.com//vehicledetail/detail/790605008/overview/\n",
      "2020-01-21 18:15:44.740350 https://www.cars.com//vehicledetail/detail/800395256/overview/\n",
      "2020-01-21 18:15:45.507062 https://www.cars.com//vehicledetail/detail/788954589/overview/\n",
      "2020-01-21 18:15:46.660102 https://www.cars.com//vehicledetail/detail/788954679/overview/\n",
      "2020-01-21 18:15:47.696023 https://www.cars.com//vehicledetail/detail/799813790/overview/\n",
      "2020-01-21 18:15:49.010621 https://www.cars.com//vehicledetail/detail/799119372/overview/\n",
      "2020-01-21 18:15:50.085875 https://www.cars.com//vehicledetail/detail/791040581/overview/\n",
      "2020-01-21 18:15:51.250257 https://www.cars.com//vehicledetail/detail/798503115/overview/\n",
      "expected string or bytes-like object\n",
      "2020-01-21 18:15:52.868622 https://www.cars.com//vehicledetail/detail/797492192/overview/?isShippableInsideSearchRadius\n",
      "2020-01-21 18:15:54.656964 https://www.cars.com//vehicledetail/detail/799532523/overview/?isShippableInsideSearchRadius\n",
      "2020-01-21 18:15:56.182909 https://www.cars.com//vehicledetail/detail/800546766/overview/?isShippableInsideSearchRadius\n"
     ]
    },
    {
     "name": "stderr",
     "output_type": "stream",
     "text": [
      " 89% |################################################################        |\r"
     ]
    },
    {
     "name": "stdout",
     "output_type": "stream",
     "text": [
      "2020-01-21 18:15:56.706027 https://www.cars.com//vehicledetail/detail/796983072/overview/?isShippableInsideSearchRadius\n",
      "2020-01-21 18:15:57.656851 https://www.cars.com//vehicledetail/detail/798242546/overview/\n",
      "2020-01-21 18:15:58.359282 https://www.cars.com//vehicledetail/detail/799439318/overview/\n",
      "2020-01-21 18:16:00.375277 https://www.cars.com//vehicledetail/detail/798521446/overview/\n",
      "2020-01-21 18:16:04.307830 https://www.cars.com//vehicledetail/detail/799973268/overview/?isShippableInsideSearchRadius\n",
      "2020-01-21 18:16:05.317737 https://www.cars.com//vehicledetail/detail/799722819/overview/\n",
      "2020-01-21 18:16:06.172525 https://www.cars.com//vehicledetail/detail/784027742/overview/\n",
      "2020-01-21 18:16:06.963597 https://www.cars.com//vehicledetail/detail/798843678/overview/?isShippableInsideSearchRadius\n",
      "2020-01-21 18:16:07.607573 https://www.cars.com//vehicledetail/detail/800456115/overview/\n",
      "2020-01-21 18:16:08.460668 https://www.cars.com//vehicledetail/detail/790337647/overview/\n",
      "2020-01-21 18:16:09.177552 https://www.cars.com//vehicledetail/detail/799720487/overview/?isShippableInsideSearchRadius\n",
      "2020-01-21 18:16:09.877545 https://www.cars.com//vehicledetail/detail/799964609/overview/?isShippableInsideSearchRadius\n",
      "2020-01-21 18:16:10.377855 https://www.cars.com//vehicledetail/detail/797496241/overview/?isShippableInsideSearchRadius\n",
      "2020-01-21 18:16:11.136331 https://www.cars.com//vehicledetail/detail/797492872/overview/?isShippableInsideSearchRadius\n",
      "2020-01-21 18:16:11.747136 https://www.cars.com//vehicledetail/detail/799963818/overview/?isShippableInsideSearchRadius\n",
      "2020-01-21 18:16:12.392480 https://www.cars.com//vehicledetail/detail/799963268/overview/?isShippableInsideSearchRadius\n",
      "2020-01-21 18:16:13.185898 https://www.cars.com//vehicledetail/detail/800437374/overview/\n",
      "2020-01-21 18:16:14.024671 https://www.cars.com//vehicledetail/detail/799297085/overview/\n",
      "2020-01-21 18:16:14.764649 https://www.cars.com//vehicledetail/detail/799296962/overview/\n",
      "2020-01-21 18:16:15.360404 https://www.cars.com//vehicledetail/detail/799297087/overview/\n",
      "2020-01-21 18:16:16.213382 https://www.cars.com//vehicledetail/detail/798789818/overview/\n",
      "2020-01-21 18:16:16.901060 https://www.cars.com//vehicledetail/detail/799963151/overview/?isShippableInsideSearchRadius\n",
      "2020-01-21 18:16:17.481087 https://www.cars.com//vehicledetail/detail/798649098/overview/?isShippableInsideSearchRadius\n",
      "2020-01-21 18:16:18.383233 https://www.cars.com//vehicledetail/detail/800336977/overview/?isShippableInsideSearchRadius\n",
      "2020-01-21 18:16:18.935973 https://www.cars.com//vehicledetail/detail/800710860/overview/?isShippableInsideSearchRadius\n"
     ]
    },
    {
     "name": "stderr",
     "output_type": "stream",
     "text": [
      " 91% |#################################################################       |\r"
     ]
    },
    {
     "name": "stdout",
     "output_type": "stream",
     "text": [
      "2020-01-21 18:16:19.683381 https://www.cars.com//vehicledetail/detail/798684459/overview/\n",
      "2020-01-21 18:16:20.543046 https://www.cars.com//vehicledetail/detail/799134872/overview/?isShippableInsideSearchRadius\n",
      "2020-01-21 18:16:21.487320 https://www.cars.com//vehicledetail/detail/797444913/overview/\n",
      "2020-01-21 18:16:22.114474 https://www.cars.com//vehicledetail/detail/799848643/overview/\n",
      "2020-01-21 18:16:23.059956 https://www.cars.com//vehicledetail/detail/799531230/overview/\n",
      "2020-01-21 18:16:23.895167 https://www.cars.com//vehicledetail/detail/800589644/overview/\n",
      "2020-01-21 18:16:24.444942 https://www.cars.com//vehicledetail/detail/799878635/overview/\n",
      "2020-01-21 18:16:25.100567 https://www.cars.com//vehicledetail/detail/800636056/overview/\n",
      "2020-01-21 18:16:25.623500 https://www.cars.com//vehicledetail/detail/799988052/overview/\n",
      "2020-01-21 18:16:26.839892 https://www.cars.com//vehicledetail/detail/797642041/overview/\n",
      "2020-01-21 18:16:27.516627 https://www.cars.com//vehicledetail/detail/797357330/overview/\n",
      "2020-01-21 18:16:28.338484 https://www.cars.com//vehicledetail/detail/800710809/overview/\n",
      "2020-01-21 18:16:28.958190 https://www.cars.com//vehicledetail/detail/797494897/overview/?isShippableInsideSearchRadius\n",
      "2020-01-21 18:16:29.839032 https://www.cars.com//vehicledetail/detail/799971991/overview/?isShippableInsideSearchRadius\n",
      "2020-01-21 18:16:30.533053 https://www.cars.com//vehicledetail/detail/799656206/overview/\n",
      "2020-01-21 18:16:31.340019 https://www.cars.com//vehicledetail/detail/800145345/overview/\n",
      "2020-01-21 18:16:32.196043 https://www.cars.com//vehicledetail/detail/799698867/overview/\n",
      "2020-01-21 18:16:32.805018 https://www.cars.com//vehicledetail/detail/800295224/overview/\n",
      "2020-01-21 18:16:33.356494 https://www.cars.com//vehicledetail/detail/799159155/overview/\n",
      "2020-01-21 18:16:34.111714 https://www.cars.com//vehicledetail/detail/798936834/overview/\n",
      "2020-01-21 18:16:34.633151 https://www.cars.com//vehicledetail/detail/793428489/overview/\n",
      "2020-01-21 18:16:35.420352 https://www.cars.com//vehicledetail/detail/794791967/overview/\n",
      "2020-01-21 18:16:36.143062 https://www.cars.com//vehicledetail/detail/795515559/overview/\n",
      "2020-01-21 18:16:37.068270 https://www.cars.com//vehicledetail/detail/800327791/overview/\n",
      "2020-01-21 18:16:37.753236 https://www.cars.com//vehicledetail/detail/799743562/overview/\n"
     ]
    },
    {
     "name": "stderr",
     "output_type": "stream",
     "text": [
      " 92% |##################################################################      |\r"
     ]
    },
    {
     "name": "stdout",
     "output_type": "stream",
     "text": [
      "2020-01-21 18:16:38.777371 https://www.cars.com//vehicledetail/detail/800519864/overview/?isShippableInsideSearchRadius\n",
      "2020-01-21 18:16:39.703005 https://www.cars.com//vehicledetail/detail/799829961/overview/\n",
      "2020-01-21 18:16:40.545544 https://www.cars.com//vehicledetail/detail/772164821/overview/\n",
      "2020-01-21 18:16:41.286329 https://www.cars.com//vehicledetail/detail/800481205/overview/\n",
      "2020-01-21 18:16:41.985422 https://www.cars.com//vehicledetail/detail/800377653/overview/\n",
      "2020-01-21 18:16:43.069092 https://www.cars.com//vehicledetail/detail/800710025/overview/\n",
      "2020-01-21 18:16:44.193891 https://www.cars.com//vehicledetail/detail/799960871/overview/?isShippableInsideSearchRadius\n",
      "2020-01-21 18:16:44.758953 https://www.cars.com//vehicledetail/detail/799718760/overview/?isShippableInsideSearchRadius\n",
      "2020-01-21 18:16:45.334141 https://www.cars.com//vehicledetail/detail/796980219/overview/?isShippableInsideSearchRadius\n",
      "expected string or bytes-like object\n",
      "2020-01-21 18:16:46.342704 https://www.cars.com//vehicledetail/detail/799723330/overview/\n",
      "2020-01-21 18:16:47.324377 https://www.cars.com//vehicledetail/detail/796938430/overview/\n",
      "2020-01-21 18:16:48.279996 https://www.cars.com//vehicledetail/detail/798771781/overview/\n",
      "2020-01-21 18:16:49.143998 https://www.cars.com//vehicledetail/detail/796798377/overview/\n",
      "2020-01-21 18:16:49.723083 https://www.cars.com//vehicledetail/detail/799414069/overview/\n",
      "2020-01-21 18:16:50.423511 https://www.cars.com//vehicledetail/detail/796243560/overview/\n",
      "2020-01-21 18:16:51.478927 https://www.cars.com//vehicledetail/detail/799855366/overview/\n",
      "2020-01-21 18:16:52.317653 https://www.cars.com//vehicledetail/detail/800594107/overview/\n",
      "2020-01-21 18:16:53.105141 https://www.cars.com//vehicledetail/detail/799368488/overview/?isShippableInsideSearchRadius\n",
      "2020-01-21 18:16:54.029769 https://www.cars.com//vehicledetail/detail/800753129/overview/?isShippableInsideSearchRadius\n",
      "2020-01-21 18:16:55.064158 https://www.cars.com//vehicledetail/detail/800742312/overview/\n",
      "2020-01-21 18:16:55.862262 https://www.cars.com//vehicledetail/detail/800409352/overview/\n",
      "2020-01-21 18:16:56.918976 https://www.cars.com//vehicledetail/detail/798610887/overview/?isShippableInsideSearchRadius\n",
      "2020-01-21 18:16:57.660009 https://www.cars.com//vehicledetail/detail/799777154/overview/?isShippableInsideSearchRadius\n",
      "2020-01-21 18:16:58.236856 https://www.cars.com//vehicledetail/detail/800698915/overview/\n"
     ]
    },
    {
     "name": "stderr",
     "output_type": "stream",
     "text": [
      " 93% |##################################################################      |\r"
     ]
    },
    {
     "name": "stdout",
     "output_type": "stream",
     "text": [
      "2020-01-21 18:16:59.005016 https://www.cars.com//vehicledetail/detail/797085515/overview/\n",
      "2020-01-21 18:16:59.597521 https://www.cars.com//vehicledetail/detail/800327453/overview/\n",
      "2020-01-21 18:17:00.176065 https://www.cars.com//vehicledetail/detail/800405041/overview/\n",
      "2020-01-21 18:17:00.863851 https://www.cars.com//vehicledetail/detail/800553158/overview/\n",
      "2020-01-21 18:17:01.698117 https://www.cars.com//vehicledetail/detail/795337941/overview/\n",
      "2020-01-21 18:17:02.117479 https://www.cars.com//vehicledetail/detail/797056671/overview/\n",
      "2020-01-21 18:17:02.712363 https://www.cars.com//vehicledetail/detail/797710578/overview/\n",
      "2020-01-21 18:17:03.500604 https://www.cars.com//vehicledetail/detail/797262359/overview/\n",
      "2020-01-21 18:17:04.055452 https://www.cars.com//vehicledetail/detail/794419551/overview/\n",
      "2020-01-21 18:17:04.855450 https://www.cars.com//vehicledetail/detail/795166422/overview/\n",
      "2020-01-21 18:17:05.738284 https://www.cars.com//vehicledetail/detail/795914705/overview/\n",
      "2020-01-21 18:17:06.279021 https://www.cars.com//vehicledetail/detail/799458987/overview/?isShippableInsideSearchRadius\n",
      "2020-01-21 18:17:06.933152 https://www.cars.com//vehicledetail/detail/797949646/overview/\n",
      "2020-01-21 18:17:07.596979 https://www.cars.com//vehicledetail/detail/799386423/overview/\n",
      "2020-01-21 18:17:08.301139 https://www.cars.com//vehicledetail/detail/791612171/overview/\n",
      "2020-01-21 18:17:09.057693 https://www.cars.com//vehicledetail/detail/800385446/overview/\n",
      "2020-01-21 18:17:09.731620 https://www.cars.com//vehicledetail/detail/798050937/overview/\n",
      "2020-01-21 18:17:10.663786 https://www.cars.com//vehicledetail/detail/797028623/overview/\n",
      "2020-01-21 18:17:11.188482 https://www.cars.com//vehicledetail/detail/797885743/overview/\n",
      "2020-01-21 18:17:11.728652 https://www.cars.com//vehicledetail/detail/796528598/overview/\n",
      "expected string or bytes-like object\n",
      "2020-01-21 18:17:12.444567 https://www.cars.com//vehicledetail/detail/800523314/overview/?isShippableInsideSearchRadius\n",
      "2020-01-21 18:17:13.012709 https://www.cars.com//vehicledetail/detail/800051845/overview/?isShippableInsideSearchRadius\n",
      "2020-01-21 18:17:13.641178 https://www.cars.com//vehicledetail/detail/800562489/overview/\n",
      "2020-01-21 18:17:14.601386 https://www.cars.com//vehicledetail/detail/797496508/overview/?isShippableInsideSearchRadius\n"
     ]
    },
    {
     "name": "stderr",
     "output_type": "stream",
     "text": [
      " 94% |###################################################################     |\r"
     ]
    },
    {
     "name": "stdout",
     "output_type": "stream",
     "text": [
      "2020-01-21 18:17:15.548141 https://www.cars.com//vehicledetail/detail/800361600/overview/?isShippableInsideSearchRadius\n",
      "2020-01-21 18:17:16.472724 https://www.cars.com//vehicledetail/detail/797277736/overview/\n",
      "2020-01-21 18:17:17.466755 https://www.cars.com//vehicledetail/detail/779250229/overview/\n",
      "2020-01-21 18:17:18.095737 https://www.cars.com//vehicledetail/detail/799748539/overview/\n",
      "expected string or bytes-like object\n",
      "2020-01-21 18:17:19.372280 https://www.cars.com//vehicledetail/detail/796982042/overview/?isShippableInsideSearchRadius\n",
      "2020-01-21 18:17:20.141940 https://www.cars.com//vehicledetail/detail/797110872/overview/\n",
      "2020-01-21 18:17:20.887473 https://www.cars.com//vehicledetail/detail/798073357/overview/\n",
      "2020-01-21 18:17:21.783505 https://www.cars.com//vehicledetail/detail/798236296/overview/\n",
      "2020-01-21 18:17:22.565210 https://www.cars.com//vehicledetail/detail/799848840/overview/\n",
      "2020-01-21 18:17:23.152408 https://www.cars.com//vehicledetail/detail/797493095/overview/?isShippableInsideSearchRadius\n",
      "2020-01-21 18:17:23.682126 https://www.cars.com//vehicledetail/detail/799970983/overview/?isShippableInsideSearchRadius\n",
      "2020-01-21 18:17:24.698973 https://www.cars.com//vehicledetail/detail/799718610/overview/?isShippableInsideSearchRadius\n",
      "2020-01-21 18:17:25.503392 https://www.cars.com//vehicledetail/detail/799962000/overview/?isShippableInsideSearchRadius\n",
      "2020-01-21 18:17:26.223453 https://www.cars.com//vehicledetail/detail/797543670/overview/\n",
      "2020-01-21 18:17:26.928083 https://www.cars.com//vehicledetail/detail/797543669/overview/\n",
      "2020-01-21 18:17:27.384985 https://www.cars.com//vehicledetail/detail/799547104/overview/\n",
      "2020-01-21 18:17:28.354746 https://www.cars.com//vehicledetail/detail/800753696/overview/\n",
      "2020-01-21 18:17:28.804018 https://www.cars.com//vehicledetail/detail/800031499/overview/?isShippableInsideSearchRadius\n",
      "2020-01-21 18:17:29.572462 https://www.cars.com//vehicledetail/detail/798599076/overview/?isShippableInsideSearchRadius\n",
      "2020-01-21 18:17:30.004983 https://www.cars.com//vehicledetail/detail/799755418/overview/?isShippableInsideSearchRadius\n",
      "2020-01-21 18:17:30.548906 https://www.cars.com//vehicledetail/detail/799006668/overview/\n",
      "2020-01-21 18:17:31.085971 https://www.cars.com//vehicledetail/detail/796205864/overview/\n",
      "2020-01-21 18:17:31.548708 https://www.cars.com//vehicledetail/detail/799970581/overview/?isShippableInsideSearchRadius\n",
      "2020-01-21 18:17:32.104423 https://www.cars.com//vehicledetail/detail/794628510/overview/\n"
     ]
    },
    {
     "name": "stderr",
     "output_type": "stream",
     "text": [
      " 95% |####################################################################    |\r"
     ]
    },
    {
     "name": "stdout",
     "output_type": "stream",
     "text": [
      "2020-01-21 18:17:32.970054 https://www.cars.com//vehicledetail/detail/794810310/overview/\n",
      "2020-01-21 18:17:33.587421 https://www.cars.com//vehicledetail/detail/796252036/overview/\n",
      "2020-01-21 18:17:34.381426 https://www.cars.com//vehicledetail/detail/800749123/overview/\n",
      "2020-01-21 18:17:35.142324 https://www.cars.com//vehicledetail/detail/797889716/overview/\n",
      "2020-01-21 18:17:36.022157 https://www.cars.com//vehicledetail/detail/799799564/overview/\n",
      "2020-01-21 18:17:36.949809 https://www.cars.com//vehicledetail/detail/793749758/overview/\n",
      "2020-01-21 18:17:37.795164 https://www.cars.com//vehicledetail/detail/799568038/overview/\n",
      "2020-01-21 18:17:38.545847 https://www.cars.com//vehicledetail/detail/800508830/overview/?isShippableInsideSearchRadius\n",
      "2020-01-21 18:17:39.244989 https://www.cars.com//vehicledetail/detail/798081679/overview/\n",
      "2020-01-21 18:17:40.284087 https://www.cars.com//vehicledetail/detail/800325449/overview/\n",
      "2020-01-21 18:17:41.230296 https://www.cars.com//vehicledetail/detail/797458690/overview/\n",
      "2020-01-21 18:17:41.934034 https://www.cars.com//vehicledetail/detail/791850542/overview/\n",
      "2020-01-21 18:17:42.862049 https://www.cars.com//vehicledetail/detail/800475935/overview/\n",
      "2020-01-21 18:17:43.419555 https://www.cars.com//vehicledetail/detail/798897726/overview/\n",
      "2020-01-21 18:17:44.120646 https://www.cars.com//vehicledetail/detail/796915193/overview/\n",
      "2020-01-21 18:17:44.856979 https://www.cars.com//vehicledetail/detail/797939081/overview/?isShippableInsideSearchRadius\n",
      "2020-01-21 18:17:45.906676 https://www.cars.com//vehicledetail/detail/798571444/overview/?isShippableInsideSearchRadius\n",
      "2020-01-21 18:17:47.013341 https://www.cars.com//vehicledetail/detail/797528201/overview/\n",
      "2020-01-21 18:17:47.685381 https://www.cars.com//vehicledetail/detail/797496807/overview/?isShippableInsideSearchRadius\n",
      "2020-01-21 18:17:48.650774 https://www.cars.com//vehicledetail/detail/800708276/overview/\n",
      "2020-01-21 18:17:49.505182 https://www.cars.com//vehicledetail/detail/799811144/overview/\n",
      "2020-01-21 18:17:50.442345 https://www.cars.com//vehicledetail/detail/800727430/overview/\n",
      "2020-01-21 18:17:51.217155 https://www.cars.com//vehicledetail/detail/800172978/overview/\n",
      "2020-01-21 18:17:52.004670 https://www.cars.com//vehicledetail/detail/791420223/overview/\n",
      "2020-01-21 18:17:52.764918 https://www.cars.com//vehicledetail/detail/798479533/overview/\n"
     ]
    },
    {
     "name": "stderr",
     "output_type": "stream",
     "text": [
      " 96% |#####################################################################   |\r"
     ]
    },
    {
     "name": "stdout",
     "output_type": "stream",
     "text": [
      "2020-01-21 18:17:53.460852 https://www.cars.com//vehicledetail/detail/800523287/overview/?isShippableInsideSearchRadius\n",
      "2020-01-21 18:17:54.180688 https://www.cars.com//vehicledetail/detail/800063115/overview/?isShippableInsideSearchRadius\n",
      "expected string or bytes-like object\n",
      "2020-01-21 18:17:55.523274 https://www.cars.com//vehicledetail/detail/800709238/overview/\n",
      "2020-01-21 18:17:56.139700 https://www.cars.com//vehicledetail/detail/800708499/overview/\n",
      "2020-01-21 18:17:56.765659 https://www.cars.com//vehicledetail/detail/799321790/overview/?isShippableInsideSearchRadius\n",
      "2020-01-21 18:17:57.231683 https://www.cars.com//vehicledetail/detail/800496717/overview/?isShippableInsideSearchRadius\n",
      "2020-01-21 18:17:58.059623 https://www.cars.com//vehicledetail/detail/797255767/overview/\n",
      "2020-01-21 18:17:58.624560 https://www.cars.com//vehicledetail/detail/797648876/overview/\n",
      "2020-01-21 18:17:59.475002 https://www.cars.com//vehicledetail/detail/799990638/overview/\n",
      "2020-01-21 18:18:00.301694 https://www.cars.com//vehicledetail/detail/799261850/overview/\n",
      "2020-01-21 18:18:01.107039 https://www.cars.com//vehicledetail/detail/797584690/overview/\n",
      "2020-01-21 18:18:01.967692 https://www.cars.com//vehicledetail/detail/797061849/overview/\n",
      "2020-01-21 18:18:02.915092 https://www.cars.com//vehicledetail/detail/799589919/overview/\n",
      "2020-01-21 18:18:03.601784 https://www.cars.com//vehicledetail/detail/799742977/overview/\n",
      "2020-01-21 18:18:04.538369 https://www.cars.com//vehicledetail/detail/800846484/overview/\n",
      "2020-01-21 18:18:05.013940 https://www.cars.com//vehicledetail/detail/800126806/overview/\n",
      "2020-01-21 18:18:05.644665 https://www.cars.com//vehicledetail/detail/800444654/overview/?isShippableInsideSearchRadius\n",
      "2020-01-21 18:18:06.123972 https://www.cars.com//vehicledetail/detail/798648377/overview/\n",
      "2020-01-21 18:18:06.973392 https://www.cars.com//vehicledetail/detail/799458217/overview/\n",
      "2020-01-21 18:18:07.892354 https://www.cars.com//vehicledetail/detail/800167841/overview/\n",
      "expected string or bytes-like object\n",
      "2020-01-21 18:18:08.775687 https://www.cars.com//vehicledetail/detail/800835140/overview/?isShippableInsideSearchRadius\n",
      "2020-01-21 18:18:09.489406 https://www.cars.com//vehicledetail/detail/800357067/overview/?isShippableInsideSearchRadius\n",
      "2020-01-21 18:18:09.959453 https://www.cars.com//vehicledetail/detail/796981374/overview/?isShippableInsideSearchRadius\n"
     ]
    },
    {
     "name": "stderr",
     "output_type": "stream",
     "text": [
      " 97% |#####################################################################   |\r"
     ]
    },
    {
     "name": "stdout",
     "output_type": "stream",
     "text": [
      "2020-01-21 18:18:10.844433 https://www.cars.com//vehicledetail/detail/800581851/overview/?isShippableInsideSearchRadius\n",
      "2020-01-21 18:18:11.879509 https://www.cars.com//vehicledetail/detail/797245704/overview/\n",
      "2020-01-21 18:18:12.673284 https://www.cars.com//vehicledetail/detail/798679540/overview/\n",
      "2020-01-21 18:18:13.513027 https://www.cars.com//vehicledetail/detail/796844354/overview/\n",
      "2020-01-21 18:18:14.198461 https://www.cars.com//vehicledetail/detail/796480191/overview/\n",
      "2020-01-21 18:18:14.820332 https://www.cars.com//vehicledetail/detail/798053527/overview/\n",
      "2020-01-21 18:18:15.678542 https://www.cars.com//vehicledetail/detail/799745590/overview/\n",
      "2020-01-21 18:18:16.509828 https://www.cars.com//vehicledetail/detail/796844355/overview/\n",
      "2020-01-21 18:18:17.573643 https://www.cars.com//vehicledetail/detail/798750114/overview/\n",
      "2020-01-21 18:18:18.624672 https://www.cars.com//vehicledetail/detail/797737753/overview/\n",
      "2020-01-21 18:18:19.580140 https://www.cars.com//vehicledetail/detail/798525198/overview/\n",
      "2020-01-21 18:18:20.199777 https://www.cars.com//vehicledetail/detail/796736939/overview/\n",
      "2020-01-21 18:18:20.817079 https://www.cars.com//vehicledetail/detail/800535380/overview/?isShippableInsideSearchRadius\n",
      "2020-01-21 18:18:21.682387 https://www.cars.com//vehicledetail/detail/800061650/overview/?isShippableInsideSearchRadius\n",
      "2020-01-21 18:18:22.457397 https://www.cars.com//vehicledetail/detail/799784279/overview/?isShippableInsideSearchRadius\n",
      "2020-01-21 18:18:23.388119 https://www.cars.com//vehicledetail/detail/800061442/overview/?isShippableInsideSearchRadius\n",
      "2020-01-21 18:18:24.195572 https://www.cars.com//vehicledetail/detail/800332357/overview/\n",
      "2020-01-21 18:18:24.885327 https://www.cars.com//vehicledetail/detail/797495399/overview/?isShippableInsideSearchRadius\n",
      "2020-01-21 18:18:25.666067 https://www.cars.com//vehicledetail/detail/799824151/overview/?isShippableInsideSearchRadius\n",
      "2020-01-21 18:18:26.097684 https://www.cars.com//vehicledetail/detail/800087185/overview/?isShippableInsideSearchRadius\n",
      "2020-01-21 18:18:26.774018 https://www.cars.com//vehicledetail/detail/800087014/overview/?isShippableInsideSearchRadius\n",
      "2020-01-21 18:18:27.544912 https://www.cars.com//vehicledetail/detail/797186041/overview/\n",
      "2020-01-21 18:18:28.055215 https://www.cars.com//vehicledetail/detail/800732600/overview/\n",
      "2020-01-21 18:18:28.615556 https://www.cars.com//vehicledetail/detail/800141879/overview/\n",
      "2020-01-21 18:18:29.308519 https://www.cars.com//vehicledetail/detail/800302474/overview/\n"
     ]
    },
    {
     "name": "stderr",
     "output_type": "stream",
     "text": [
      " 98% |######################################################################  |\r"
     ]
    },
    {
     "name": "stdout",
     "output_type": "stream",
     "text": [
      "2020-01-21 18:18:29.694896 https://www.cars.com//vehicledetail/detail/795767341/overview/\n",
      "2020-01-21 18:18:30.630187 https://www.cars.com//vehicledetail/detail/799482321/overview/\n",
      "2020-01-21 18:18:31.422153 https://www.cars.com//vehicledetail/detail/800120545/overview/\n",
      "2020-01-21 18:18:32.268464 https://www.cars.com//vehicledetail/detail/797598436/overview/\n",
      "2020-01-21 18:18:32.720408 https://www.cars.com//vehicledetail/detail/799849700/overview/\n",
      "2020-01-21 18:18:33.690099 https://www.cars.com//vehicledetail/detail/799361205/overview/\n",
      "2020-01-21 18:18:34.253610 https://www.cars.com//vehicledetail/detail/799719396/overview/?isShippableInsideSearchRadius\n",
      "2020-01-21 18:18:34.823478 https://www.cars.com//vehicledetail/detail/800548611/overview/?isShippableInsideSearchRadius\n",
      "2020-01-21 18:18:35.559165 https://www.cars.com//vehicledetail/detail/800537411/overview/?isShippableInsideSearchRadius\n",
      "2020-01-21 18:18:36.648572 https://www.cars.com//vehicledetail/detail/771268337/overview/\n",
      "2020-01-21 18:18:37.638956 https://www.cars.com//vehicledetail/detail/799962496/overview/?isShippableInsideSearchRadius\n",
      "2020-01-21 18:18:38.286409 https://www.cars.com//vehicledetail/detail/800517356/overview/?isShippableInsideSearchRadius\n",
      "2020-01-21 18:18:38.875854 https://www.cars.com//vehicledetail/detail/799027462/overview/?isShippableInsideSearchRadius\n",
      "2020-01-21 18:18:39.550374 https://www.cars.com//vehicledetail/detail/800560673/overview/?isShippableInsideSearchRadius\n",
      "2020-01-21 18:18:40.315870 https://www.cars.com//vehicledetail/detail/796882604/overview/\n",
      "2020-01-21 18:18:40.873486 https://www.cars.com//vehicledetail/detail/797586498/overview/\n",
      "2020-01-21 18:18:41.393861 https://www.cars.com//vehicledetail/detail/793807681/overview/\n",
      "2020-01-21 18:18:42.117650 https://www.cars.com//vehicledetail/detail/798274463/overview/\n",
      "2020-01-21 18:18:42.786377 https://www.cars.com//vehicledetail/detail/798971019/overview/\n",
      "2020-01-21 18:18:43.751773 https://www.cars.com//vehicledetail/detail/798404889/overview/\n",
      "expected string or bytes-like object\n",
      "2020-01-21 18:18:45.114120 https://www.cars.com//vehicledetail/detail/799973560/overview/?isShippableInsideSearchRadius\n",
      "2020-01-21 18:18:45.981931 https://www.cars.com//vehicledetail/detail/797598944/overview/\n",
      "2020-01-21 18:18:46.931832 https://www.cars.com//vehicledetail/detail/799283764/overview/\n",
      "2020-01-21 18:18:47.827327 https://www.cars.com//vehicledetail/detail/800425995/overview/\n"
     ]
    },
    {
     "name": "stderr",
     "output_type": "stream",
     "text": [
      " 99% |####################################################################### |\r"
     ]
    },
    {
     "name": "stdout",
     "output_type": "stream",
     "text": [
      "2020-01-21 18:18:48.556102 https://www.cars.com//vehicledetail/detail/799178712/overview/\n",
      "2020-01-21 18:18:49.102502 https://www.cars.com//vehicledetail/detail/800576604/overview/?isShippableInsideSearchRadius\n",
      "2020-01-21 18:18:49.908173 https://www.cars.com//vehicledetail/detail/792128301/overview/\n",
      "2020-01-21 18:18:50.667409 https://www.cars.com//vehicledetail/detail/798127138/overview/\n",
      "2020-01-21 18:18:51.344516 https://www.cars.com//vehicledetail/detail/798127141/overview/\n",
      "2020-01-21 18:18:52.306824 https://www.cars.com//vehicledetail/detail/789431630/overview/\n",
      "2020-01-21 18:18:53.168728 https://www.cars.com//vehicledetail/detail/800694738/overview/\n",
      "2020-01-21 18:18:53.907750 https://www.cars.com//vehicledetail/detail/765293718/overview/\n",
      "2020-01-21 18:18:54.670556 https://www.cars.com//vehicledetail/detail/773446268/overview/\n",
      "2020-01-21 18:18:55.830373 https://www.cars.com//vehicledetail/detail/767445262/overview/\n",
      "2020-01-21 18:18:56.979547 https://www.cars.com//vehicledetail/detail/775690250/overview/\n",
      "2020-01-21 18:18:57.655199 https://www.cars.com//vehicledetail/detail/789791101/overview/\n",
      "2020-01-21 18:18:58.601648 https://www.cars.com//vehicledetail/detail/787335982/overview/\n",
      "2020-01-21 18:18:59.497494 https://www.cars.com//vehicledetail/detail/793786203/overview/\n",
      "2020-01-21 18:19:00.181589 https://www.cars.com//vehicledetail/detail/799171863/overview/\n",
      "2020-01-21 18:19:01.139672 https://www.cars.com//vehicledetail/detail/799868232/overview/\n",
      "2020-01-21 18:19:01.812009 https://www.cars.com//vehicledetail/detail/798777932/overview/\n",
      "2020-01-21 18:19:02.805864 https://www.cars.com//vehicledetail/detail/799988515/overview/\n",
      "2020-01-21 18:19:03.609850 https://www.cars.com//vehicledetail/detail/797610144/overview/\n",
      "2020-01-21 18:19:04.654715 https://www.cars.com//vehicledetail/detail/800456878/overview/\n"
     ]
    },
    {
     "name": "stderr",
     "output_type": "stream",
     "text": [
      "100% |########################################################################|\r"
     ]
    },
    {
     "name": "stdout",
     "output_type": "stream",
     "text": [
      "2020-01-21 18:19:05.634897 https://www.cars.com//vehicledetail/detail/799486691/overview/\n"
     ]
    },
    {
     "name": "stderr",
     "output_type": "stream",
     "text": [
      "\n"
     ]
    }
   ],
   "source": [
    "for car_dets in pbar(car_listing):\n",
    "    \n",
    "    try:\n",
    "    \n",
    "        #NEW PAGE\n",
    "        user_agent=new_agent()\n",
    "        page = requests.get(car_dets, user_agent).text\n",
    "        soup = BeautifulSoup(page, 'html5lib')\n",
    "\n",
    "        #COLLECT VARIABLES\n",
    "        #stock_type new or used\n",
    "        if soup.find(class_ = 'vehicle-info__stock-type'):\n",
    "            stock_type = soup.find(class_ = 'vehicle-info__stock-type').text\n",
    "        else: \n",
    "            stock_type = None\n",
    "        #vin\n",
    "        if soup.find(text='VIN:'):\n",
    "            vin = soup.find(text='VIN:').findNext().text\n",
    "        elif soup.find('p', text = re.compile(r\"JM1N[A-Za-z0-9]{13}\")):\n",
    "            vin = re.search(r\"JM1N[A-Za-z0-9]{13}\", soup.find('p', text = re.compile(r\"JM1N[A-Za-z0-9]{13}\")).text).group(0)\n",
    "        else: \n",
    "            vin = None\n",
    "            \n",
    "        #year and model\n",
    "        if soup.find(class_ = 'cui-heading-2--secondary vehicle-info__title'):\n",
    "            year_model = soup.find(class_ = 'cui-heading-2--secondary vehicle-info__title').text\n",
    "        else: \n",
    "            year_model = None\n",
    "        #year\n",
    "        year = re.search(r\"(20|19)\\d{2}\",year_model).group()\n",
    "        #model\n",
    "        model = re.search(r\"Mazda(.*)\",year_model).group(1)\n",
    "        #MSRP\n",
    "        if soup.find(class_ = 'vehicle-info__price-label vehicle-info__price-label--msrp-badge'):\n",
    "            msrp = (soup.find(class_ = 'vehicle-info__price-label vehicle-info__price-label--msrp-badge').findNext().text).translate(str.maketrans('', '', string.punctuation))\n",
    "        elif soup.find(class_ = 'vehicle-info__price-display'):\n",
    "            msrp = (soup.find(class_ = 'vehicle-info__price-display').text).translate(str.maketrans('', '', string.punctuation))\n",
    "        else:\n",
    "            msrp = None\n",
    "        #price\n",
    "        if soup.find(class_ = 'vehicle-info__price-display vehicle-info__price-display--dealer cui-heading-2'):\n",
    "            price = (soup.find(class_ = 'vehicle-info__price-display vehicle-info__price-display--dealer cui-heading-2').text).translate(str.maketrans('', '', string.punctuation))\n",
    "        else:\n",
    "            price = None\n",
    "        #overall Rating\n",
    "        overall_rating = soup.find(class_ = 'overall-review-stars').findNext().findNext().text\n",
    "        #comfort Rating\n",
    "        comf_rating = soup.find(\"p\",text=\"Comfort\").findNext().findNext().text\n",
    "        #Performance Rating\n",
    "        perf_rating = soup.find(\"p\",text=\"Performance\").findNext().findNext().text\n",
    "        #Exterior Styling Rating\n",
    "        if soup.find(\"p\",text=\"Exterior Styling\"):\n",
    "            ext_rating = soup.find(\"p\",text=\"Exterior Styling\").findNext().findNext().text\n",
    "        else:\n",
    "            ext_rating = None\n",
    "        #Interior Design Rating\n",
    "        if soup.find(\"p\",text=\"Interior Design\"):\n",
    "            int_rating = soup.find(\"p\",text=\"Interior Design\").findNext().findNext().text\n",
    "        else:\n",
    "            int_rating = None\n",
    "        #Value for the Money Rating\n",
    "        value_rating = soup.find(\"p\",text=\"Value for the Money\").findNext().findNext().text\n",
    "        #Reliability Rating\n",
    "        reliability_rating = soup.find(\"p\",text=\"Reliability\").findNext().findNext().text\n",
    "        #Dealership or Private\n",
    "        if soup.find(class_=\"page-section__title page-section__title--dealer-name cui-heading-6\"):\n",
    "            indv_dealer='Dealer'\n",
    "        else:\n",
    "            indv_dealer='Individual'\n",
    "        #Dealership Review Count\n",
    "        if soup.find(class_=\"rating__link--has-reviews-count\"):\n",
    "            dealer_rev_count = re.search(r\"^[0-9]+\",soup.find(class_=\"rating__link--has-reviews-count\").text).group()\n",
    "        else:\n",
    "            dealer_rev_count = None\n",
    "        #Dealership Review Rating\n",
    "        if soup.find(class_=\"rating__link rating__link--has-reviews\"):\n",
    "            dealer_rev_rating = re.search(r\"(\\()([0-9.]+)(\\))\",soup.find(class_=\"rating__link rating__link--has-reviews\").text).group(2)\n",
    "        else:\n",
    "            dealer_rev_rating = None\n",
    "        #Location of Dealership\n",
    "        if soup.find(class_=\"get-directions-link__link\"):\n",
    "            location = re.search(r\"[0-9]{5}\",soup.find(class_=\"get-directions-link__link\").text).group(0)\n",
    "        else: \n",
    "            location = None\n",
    "        #Fuel Type\n",
    "        fuel_type = soup.find(text='Fuel Type:').findNext().text\n",
    "        #Exterior Color\n",
    "        if soup.find(text='Exterior Color:'):\n",
    "            ext_color = soup.find(text='Exterior Color:').findNext().text\n",
    "        else:\n",
    "            ext_color = None\n",
    "        #Interior Color\n",
    "        if soup.find(text='Interior Color:'):\n",
    "            int_color = soup.find(text='Interior Color:').findNext().text\n",
    "        else: \n",
    "            int_color = None\n",
    "        #Stock\n",
    "        if soup.find(text='Stock:'):\n",
    "            stock = soup.find(text='Stock:').findNext().text\n",
    "        else:\n",
    "            stock = None\n",
    "        #Drivetrain\n",
    "        if soup.find(text='Drivetrain:'):\n",
    "            drivetrain = soup.find(text='Drivetrain:').findNext().text\n",
    "        else: \n",
    "            drivetrain = None\n",
    "        #Transmission\n",
    "        if soup.find(text='Transmission:'):\n",
    "            transmission = soup.find(text='Transmission:').findNext().text\n",
    "        else:\n",
    "            transmission = None\n",
    "        #Engine\n",
    "        if soup.find(text='Engine:'):\n",
    "            engine = soup.find(text='Engine:').findNext().text\n",
    "        else:\n",
    "            engine = None\n",
    "        #Mileage\n",
    "        if soup.find(text='Mileage:'):\n",
    "            mileage = soup.find(text='Mileage:').findNext().text\n",
    "        else: \n",
    "            mileage = None\n",
    "        #City MPG\n",
    "        if soup.find(text='City MPG:'):\n",
    "            city_mpg = soup.find(text='City MPG:').findNext().text\n",
    "        else: \n",
    "            city_mpg = None\n",
    "        #Highway MPG\n",
    "        if soup.find(text='Highway MPG:'):\n",
    "            highway_mpg = soup.find(text='Highway MPG:').findNext().text\n",
    "        else:\n",
    "            highway_mpg = None\n",
    "        #Convenience\n",
    "        if soup.find(class_='page-section__title--sub cui-heading-2', text='Convenience'):\n",
    "            convenience_feats = soup.find(class_='page-section__title--sub cui-heading-2', text='Convenience').findNext().text\n",
    "        else:\n",
    "            convenience_feats = None\n",
    "        #Entertainment\n",
    "        if soup.find(class_='page-section__title--sub cui-heading-2', text='Entertainment'):\n",
    "            entertainment_feats = soup.find(class_='page-section__title--sub cui-heading-2', text='Entertainment').findNext().text\n",
    "        else:\n",
    "            entertainment_feats = None\n",
    "        #Safety\n",
    "        if soup.find(class_='page-section__title--sub cui-heading-2', text='Safety'):\n",
    "            safety_feats = soup.find(class_='page-section__title--sub cui-heading-2', text='Safety').findNext().text\n",
    "        else:\n",
    "            safety_feats = None\n",
    "        #Seating\n",
    "        if soup.find(class_='page-section__title--sub cui-heading-2', text='Seating'):\n",
    "            seating_feats = soup.find(class_='page-section__title--sub cui-heading-2', text='Seating').findNext().text\n",
    "        else:\n",
    "            seating_feats = None\n",
    "        #Exterior\n",
    "        if soup.find(class_='page-section__title--sub cui-heading-2', text='Exterior'):\n",
    "            exterior_feats = soup.find(class_='page-section__title--sub cui-heading-2', text='Exterior').findNext().text\n",
    "        else:\n",
    "            exterior_feats = None\n",
    "\n",
    "        #APPEND TO DICT\n",
    "        car_dict = dict(zip(headers, [  \n",
    "                                    car_dets,\n",
    "                                    vin,\n",
    "                                    stock_type,\n",
    "                                    year_model,\n",
    "                                    year,\n",
    "                                    model,\n",
    "                                    msrp,\n",
    "                                    price, \n",
    "                                    overall_rating,\n",
    "                                    comf_rating,\n",
    "                                    perf_rating,\n",
    "                                    ext_rating,\n",
    "                                    int_rating,\n",
    "                                    value_rating,\n",
    "                                    reliability_rating,\n",
    "                                    indv_dealer,\n",
    "                                    dealer_rev_count,\n",
    "                                    dealer_rev_rating,\n",
    "                                    location,\n",
    "                                    fuel_type,\n",
    "                                    ext_color,\n",
    "                                    int_color,\n",
    "                                    stock,\n",
    "                                    drivetrain,\n",
    "                                    transmission,\n",
    "                                    engine,\n",
    "                                    mileage,\n",
    "                                    city_mpg,\n",
    "                                    highway_mpg,\n",
    "                                    convenience_feats,\n",
    "                                    entertainment_feats,\n",
    "                                    safety_feats,\n",
    "                                    seating_feats,\n",
    "                                    exterior_feats\n",
    "                                 ]))\n",
    "\n",
    "        car_data.append(car_dict)\n",
    "\n",
    "        #GO TO SLEEP\n",
    "        time.sleep(.5*random.random())\n",
    "\n",
    "        print(datetime.now(),car_dets)\n",
    "    \n",
    "    except StopIteration:\n",
    "        raise\n",
    "    except Exception as e:\n",
    "        print(e) # or whatever kind of logging you want\n",
    "        pass\n",
    "    "
   ]
  },
  {
   "cell_type": "markdown",
   "metadata": {},
   "source": [
    "## SCRAPED and Processing"
   ]
  },
  {
   "cell_type": "code",
   "execution_count": 309,
   "metadata": {},
   "outputs": [],
   "source": [
    "#convert dict to df\n",
    "df_car_data = pd.DataFrame.from_dict(car_data)\n",
    "#export to excel\n",
    "df_car_data.to_csv(\"car_data\", encoding='utf-8', index=False)\n",
    "#read median income excel\n",
    "income_data = pd.read_csv(\"median_house_income.csv\")\n",
    "#create only zipcodes\n",
    "income_data['zip_code']=income_data['GEO.display-label'].str[-5:]\n",
    "#delete useless column\n",
    "del income_data['GEO.display-label']\n",
    "#rename columns\n",
    "income_data.columns = ['median_income','zip_code']\n",
    "#change type\n",
    "income_data['median_income'] = income_data['median_income'].apply(pd.to_numeric, errors='coerce')"
   ]
  },
  {
   "cell_type": "code",
   "execution_count": 310,
   "metadata": {},
   "outputs": [],
   "source": [
    "#VIN Clean Up\n",
    "#http://neomiata.com/garage/Miata%20VIN%20Decoder.pdf\n",
    "df_car_data['vin']=df_car_data['vin'].str.upper()\n",
    "df_car_data['general_vin'] = df_car_data['vin'].str[:8]+df_car_data['vin'].str[9:10]"
   ]
  },
  {
   "cell_type": "code",
   "execution_count": 311,
   "metadata": {},
   "outputs": [],
   "source": [
    "#Price & MSRP clean up\n",
    "#drop if MSRP and price are both null\n",
    "drop_null = df_car_data[df_car_data.price.isnull() & df_car_data.msrp.isnull()].index\n",
    "df_car_data.drop(drop_null, inplace=True)\n",
    "\n",
    "#fill in MSRP if price is null\n",
    "df_car_data[\"price\"].fillna(df_car_data.msrp, inplace = True) \n",
    "\n",
    "#zip and median inc merge,\n",
    "df_full_car = df_car_data.merge(income_data,how='left', left_on='location', right_on='zip_code').copy()\n",
    "del df_full_car['zip_code']"
   ]
  },
  {
   "cell_type": "code",
   "execution_count": 312,
   "metadata": {},
   "outputs": [],
   "source": [
    "#count features\n",
    "def count_feats(feats):\n",
    "    return (int(len(re.findall(r\"\\n\",feats)))-1)\n",
    "\n",
    "df_full_car['count_convenience_feats'] = df_full_car['convenience_feats'][df_full_car['convenience_feats'].notnull()].apply(count_feats)\n",
    "df_full_car['count_entertainment_feats'] = df_full_car['entertainment_feats'][df_full_car['entertainment_feats'].notnull()].apply(count_feats)\n",
    "df_full_car['count_safety_feats'] = df_full_car['safety_feats'][df_full_car['safety_feats'].notnull()].apply(count_feats)\n",
    "df_full_car['count_seating_feats'] = df_full_car['seating_feats'][df_full_car['seating_feats'].notnull()].apply(count_feats)\n",
    "df_full_car['count_exterior_feats'] = df_full_car['exterior_feats'][df_full_car['exterior_feats'].notnull()].apply(count_feats)\n",
    "\n",
    "df_full_car['count_convenience_feats'] = df_full_car['count_convenience_feats'].fillna(0)\n",
    "df_full_car['count_entertainment_feats'] = df_full_car['count_entertainment_feats'].fillna(0)\n",
    "df_full_car['count_safety_feats'] = df_full_car['count_safety_feats'].fillna(0)\n",
    "df_full_car['count_seating_feats'] = df_full_car['count_seating_feats'].fillna(0)\n",
    "df_full_car['count_exterior_feats'] = df_full_car['count_exterior_feats'].fillna(0)"
   ]
  },
  {
   "cell_type": "code",
   "execution_count": 313,
   "metadata": {},
   "outputs": [],
   "source": [
    "#drop individual sellers\n",
    "drop_individual = df_full_car[df_full_car['indv_dealer'] == 'Individual'].index\n",
    "df_full_car.drop(drop_individual, inplace=True)"
   ]
  },
  {
   "cell_type": "code",
   "execution_count": 314,
   "metadata": {},
   "outputs": [],
   "source": [
    "#drop duplicates\n",
    "df_full_car.drop_duplicates(subset =\"link\", \n",
    "                     keep = False, inplace = True) "
   ]
  },
  {
   "cell_type": "code",
   "execution_count": 315,
   "metadata": {},
   "outputs": [],
   "source": [
    "#drop null MPG\n",
    "drop_null_city_mpg = df_full_car[df_full_car['city_mpg'].isnull()].index\n",
    "df_full_car.drop(drop_null_city_mpg, inplace=True)\n",
    "drop_null_hw_mpg = df_full_car[df_full_car['highway_mpg'].isnull()].index\n",
    "df_full_car.drop(drop_null_hw_mpg, inplace=True)"
   ]
  },
  {
   "cell_type": "code",
   "execution_count": 316,
   "metadata": {},
   "outputs": [],
   "source": [
    "#drop no income zipcodes bc of census\n",
    "drop_no_income = df_full_car[df_select_car.median_income.isnull()].index\n",
    "df_full_car.drop(drop_no_income, inplace=True)\n"
   ]
  },
  {
   "cell_type": "markdown",
   "metadata": {},
   "source": [
    "## Feature Engineer"
   ]
  },
  {
   "cell_type": "code",
   "execution_count": 317,
   "metadata": {},
   "outputs": [],
   "source": [
    "#HELPFUL QUERIES\n",
    "#df_car_data.groupby(['general_vin','year','model'])['vin'].count().reset_index()\n",
    "#df_car_data[df_car_data['location'].notnull()].groupby(['indv_dealer'])['vin'].count().reset_index()\n",
    "#df_full_car[df_full_car['general_vin'] == 'JM1NC2FFA']\n",
    "#df_full_car[df_full_car['general_vin'] == 'JM1NDAM7H'].sort_values(['year'],ascending=False)\n",
    "#df_full_car.describe()\n",
    "#df_full_car[df_full_car['highway_mpg'].isnull()].groupby(['general_vin'])['vin'].count().reset_index()\n",
    "#df_full_car[df_full_car.mileage.isnull()]\n",
    "#df_full_car['mileage'][df_full_car['mileage'].str.replace(',', '').apply(pd.to_numeric, errors='coerce').isnull()]\n",
    "\n"
   ]
  },
  {
   "cell_type": "code",
   "execution_count": 318,
   "metadata": {},
   "outputs": [],
   "source": [
    "df_full_car[\"ext_color\"].fillna(\"Not_Populated\", inplace = True)\n",
    "df_full_car[\"int_color\"].fillna(\"Not_Populated\", inplace = True)\n",
    "df_full_car['city_mpg'] = df_full_car['city_mpg'].astype(float, errors='ignore')\n",
    "df_full_car['city_mpg'] = df_full_car['city_mpg'].fillna(df_full_car.groupby(['general_vin','year_model'])['city_mpg'].transform('mean'))\n",
    "df_full_car['city_mpg'] = df_full_car['city_mpg'].fillna(df_full_car.groupby(['general_vin'])['city_mpg'].transform('mean'))\n",
    "df_full_car['highway_mpg'] = df_full_car['highway_mpg'].astype(float, errors='ignore')\n",
    "df_full_car['highway_mpg'] = df_full_car['highway_mpg'].fillna(df_full_car.groupby(['general_vin','year_model'])['highway_mpg'].transform('mean'))\n",
    "df_full_car['highway_mpg'] = df_full_car['highway_mpg'].fillna(df_full_car.groupby(['general_vin'])['highway_mpg'].transform('mean'))\n",
    "df_full_car['msrp'] = df_full_car['msrp'].astype(float, errors='ignore')\n",
    "df_full_car['median_income'] = df_full_car['median_income'].apply(pd.to_numeric, errors='coerce')\n",
    "df_full_car['price'] = df_full_car['price'].astype(float, errors='ignore')\n",
    "df_full_car['overall_rating'] = df_full_car['overall_rating'].astype(float, errors='ignore')\n",
    "df_full_car['comf_rating'] = df_full_car['comf_rating'].astype(float, errors='ignore')\n",
    "df_full_car['perf_rating'] = df_full_car['perf_rating'].astype(float, errors='ignore')\n",
    "df_full_car['ext_rating'] = df_full_car['ext_rating'].astype(float, errors='ignore')\n",
    "df_full_car['int_rating'] = df_full_car['int_rating'].astype(float, errors='ignore')\n",
    "df_full_car['value_rating'] = df_full_car['value_rating'].astype(float, errors='ignore')\n",
    "df_full_car['reliability_rating'] = df_full_car['reliability_rating'].astype(float, errors='ignore')\n",
    "df_full_car[\"dealer_rev_count\"].fillna(0, inplace = True)\n",
    "df_full_car['dealer_rev_count'] = df_full_car['dealer_rev_count'].astype(float, errors='ignore')\n",
    "df_full_car[\"dealer_rev_rating\"].fillna(0, inplace = True)\n",
    "df_full_car['dealer_rev_rating'] = df_full_car['dealer_rev_rating'].astype(float, errors='ignore')\n",
    "df_full_car['mileage'] = df_full_car['mileage'].str.replace(',', '').apply(pd.to_numeric, errors='coerce')\n",
    "df_full_car['mileage'] = df_full_car['mileage'].fillna(0)\n",
    "df_full_car['year'] = df_full_car['year'].apply(pd.to_numeric, errors='coerce')\n",
    "df_full_car['engine'] = df_full_car['engine'].fillna(df_full_car.groupby(['general_vin','year_model'])['engine'].transform('first'))\n",
    "\n"
   ]
  },
  {
   "cell_type": "code",
   "execution_count": 319,
   "metadata": {},
   "outputs": [],
   "source": [
    "#export to excel\n",
    "df_full_car.to_csv(\"df_full_car\", encoding='utf-8', index=False)"
   ]
  },
  {
   "cell_type": "code",
   "execution_count": 328,
   "metadata": {},
   "outputs": [],
   "source": [
    "df_select_car = df_full_car.loc[:,['stock_type', 'year', 'model', \n",
    "                      'price', 'overall_rating', 'mileage',  \n",
    "                      #'perf_rating', 'ext_rating', 'int_rating', 'comf_rating','value_rating','reliability_rating',\n",
    "                      'ext_color','int_color','engine','city_mpg','highway_mpg',\n",
    "                      'count_convenience_feats','count_entertainment_feats',\n",
    "                      'count_safety_feats','count_seating_feats',\n",
    "                      'count_exterior_feats','general_vin','median_income',\n",
    "                      'dealer_rev_count','dealer_rev_rating']].copy()\n"
   ]
  },
  {
   "cell_type": "code",
   "execution_count": 358,
   "metadata": {},
   "outputs": [
    {
     "data": {
      "text/plain": [
       "(14.5, -0.5)"
      ]
     },
     "execution_count": 358,
     "metadata": {},
     "output_type": "execute_result"
    },
    {
     "data": {
      "image/png": "[encoded data removed]",
      "text/plain": [
       "<Figure size 720x432 with 2 Axes>"
      ]
     },
     "metadata": {
      "image/png": {
       "height": 480,
       "width": 675
      }
     },
     "output_type": "display_data"
    }
   ],
   "source": [
    "df_select_car.corr()\n",
    "plt.figure(figsize=(10, 6))\n",
    "sns.heatmap(df_select_car.corr(), cmap=\"seismic\", annot=True, vmin=-1, vmax=1)\n",
    "plt.gca().set_ylim(len(df_select_car.corr())+0.5, -0.5)\n"
   ]
  },
  {
   "cell_type": "code",
   "execution_count": 402,
   "metadata": {},
   "outputs": [],
   "source": [
    "# Features\n",
    "X = df_select_car.loc[:,['overall_rating', 'mileage', 'city_mpg','highway_mpg','year',\n",
    "                      #'stock_type', 'model', \n",
    "                      #'perf_rating', 'ext_rating', 'int_rating', 'comf_rating','value_rating','reliability_rating',\n",
    "                      #'ext_color','int_color','engine','general_vin','location',\n",
    "                      'count_convenience_feats','count_entertainment_feats',\n",
    "                      'count_safety_feats','count_seating_feats',\n",
    "                      'count_exterior_feats','median_income',\n",
    "                      'dealer_rev_count','dealer_rev_rating']]\n",
    "\n",
    "# Target\n",
    "y = df_select_car['price']"
   ]
  },
  {
   "cell_type": "code",
   "execution_count": 403,
   "metadata": {},
   "outputs": [],
   "source": [
    "def split_and_validate(X, y):\n",
    "    '''\n",
    "    For a set of features and target X, y, perform a 80/20 train/val split, \n",
    "    fit and validate a linear regression model, and report results\n",
    "    '''\n",
    "    \n",
    "    # perform train/val split\n",
    "    X_train, X_val, y_train, y_val = \\\n",
    "        train_test_split(X, y, test_size=0.2, random_state=42)\n",
    "    \n",
    "    # fit linear regression to training data\n",
    "    lr_model = LinearRegression()\n",
    "    lr_model.fit(X_train, y_train)\n",
    "    \n",
    "    # score fit model on validation data\n",
    "    val_score = lr_model.score(X_val, y_val)\n",
    "    \n",
    "    # report results\n",
    "    print('\\nValidation R^2 score was:', val_score)\n",
    "    print('Feature coefficient results: \\n')\n",
    "    for feature, coef in zip(X.columns, lr_model.coef_):\n",
    "        print(feature, ':', f'{coef:.2f}') "
   ]
  },
  {
   "cell_type": "code",
   "execution_count": 404,
   "metadata": {},
   "outputs": [
    {
     "name": "stdout",
     "output_type": "stream",
     "text": [
      "\n",
      "Validation R^2 score was: 0.873612776789901\n",
      "Feature coefficient results: \n",
      "\n",
      "overall_rating : 7617.03\n",
      "mileage : -0.09\n",
      "city_mpg : -2521.74\n",
      "highway_mpg : 3062.84\n",
      "year : 198.60\n",
      "count_convenience_feats : -178.63\n",
      "count_entertainment_feats : -1206.70\n",
      "count_safety_feats : 941.78\n",
      "count_seating_feats : 308.53\n",
      "count_exterior_feats : -44.28\n",
      "median_income : 0.00\n",
      "dealer_rev_count : -0.17\n",
      "dealer_rev_rating : 69.70\n"
     ]
    }
   ],
   "source": [
    "split_and_validate(X, y)"
   ]
  },
  {
   "cell_type": "code",
   "execution_count": 390,
   "metadata": {},
   "outputs": [
    {
     "data": {
      "text/html": [
       "<div>\n",
       "<style scoped>\n",
       "    .dataframe tbody tr th:only-of-type {\n",
       "        vertical-align: middle;\n",
       "    }\n",
       "\n",
       "    .dataframe tbody tr th {\n",
       "        vertical-align: top;\n",
       "    }\n",
       "\n",
       "    .dataframe thead th {\n",
       "        text-align: right;\n",
       "    }\n",
       "</style>\n",
       "<table border=\"1\" class=\"dataframe\">\n",
       "  <thead>\n",
       "    <tr style=\"text-align: right;\">\n",
       "      <th></th>\n",
       "      <th>USED</th>\n",
       "    </tr>\n",
       "  </thead>\n",
       "  <tbody>\n",
       "    <tr>\n",
       "      <th>0</th>\n",
       "      <td>1</td>\n",
       "    </tr>\n",
       "    <tr>\n",
       "      <th>3</th>\n",
       "      <td>1</td>\n",
       "    </tr>\n",
       "    <tr>\n",
       "      <th>4</th>\n",
       "      <td>0</td>\n",
       "    </tr>\n",
       "    <tr>\n",
       "      <th>6</th>\n",
       "      <td>1</td>\n",
       "    </tr>\n",
       "    <tr>\n",
       "      <th>7</th>\n",
       "      <td>0</td>\n",
       "    </tr>\n",
       "    <tr>\n",
       "      <th>...</th>\n",
       "      <td>...</td>\n",
       "    </tr>\n",
       "    <tr>\n",
       "      <th>2384</th>\n",
       "      <td>1</td>\n",
       "    </tr>\n",
       "    <tr>\n",
       "      <th>2385</th>\n",
       "      <td>1</td>\n",
       "    </tr>\n",
       "    <tr>\n",
       "      <th>2386</th>\n",
       "      <td>1</td>\n",
       "    </tr>\n",
       "    <tr>\n",
       "      <th>2387</th>\n",
       "      <td>0</td>\n",
       "    </tr>\n",
       "    <tr>\n",
       "      <th>2388</th>\n",
       "      <td>1</td>\n",
       "    </tr>\n",
       "  </tbody>\n",
       "</table>\n",
       "<p>2082 rows × 1 columns</p>\n",
       "</div>"
      ],
      "text/plain": [
       "      USED\n",
       "0        1\n",
       "3        1\n",
       "4        0\n",
       "6        1\n",
       "7        0\n",
       "...    ...\n",
       "2384     1\n",
       "2385     1\n",
       "2386     1\n",
       "2387     0\n",
       "2388     1\n",
       "\n",
       "[2082 rows x 1 columns]"
      ]
     },
     "execution_count": 390,
     "metadata": {},
     "output_type": "execute_result"
    }
   ],
   "source": [
    "pd.get_dummies(df_select_car['stock_type'],drop_first=True)"
   ]
  },
  {
   "cell_type": "code",
   "execution_count": 391,
   "metadata": {},
   "outputs": [],
   "source": [
    "# Features\n",
    "X = df_select_car.loc[:,['overall_rating', 'mileage', 'city_mpg','highway_mpg','year',\n",
    "                      #'stock_type','model',\n",
    "                      #'perf_rating', 'ext_rating', 'int_rating', 'comf_rating','value_rating','reliability_rating',\n",
    "                      #'ext_color','int_color','engine','general_vin','location',\n",
    "                      'count_convenience_feats','count_entertainment_feats',\n",
    "                      'count_safety_feats','count_seating_feats',\n",
    "                      'count_exterior_feats','median_income',\n",
    "                      'dealer_rev_count','dealer_rev_rating']]\n",
    "\n",
    "# Target\n",
    "y = df_select_car['price']\n",
    "\n",
    "#Cat Model\n",
    "X[['model1','model2','model3','model4','model5','model6','model7','model8','model9','model10','model11','model12','model13']] = pd.get_dummies(df_select_car['model'],drop_first=True)\n",
    "\n",
    "#Cat Stock_Type\n",
    "X[['used']] = pd.get_dummies(df_select_car['stock_type'],drop_first=True)\n",
    "\n"
   ]
  },
  {
   "cell_type": "code",
   "execution_count": 392,
   "metadata": {},
   "outputs": [
    {
     "data": {
      "text/plain": [
       "0.9342589741087346"
      ]
     },
     "execution_count": 392,
     "metadata": {},
     "output_type": "execute_result"
    }
   ],
   "source": [
    "m = LinearRegression()\n",
    "X_train, X_test, y_train, y_test = train_test_split(X, y, test_size=0.33, random_state=42)\n",
    "m.fit(X_train,y_train)\n",
    "m.score(X_train,y_train)"
   ]
  },
  {
   "cell_type": "code",
   "execution_count": 393,
   "metadata": {},
   "outputs": [
    {
     "data": {
      "text/plain": [
       "0.9433014287315777"
      ]
     },
     "execution_count": 393,
     "metadata": {},
     "output_type": "execute_result"
    }
   ],
   "source": [
    "m.score(X_test,y_test)"
   ]
  },
  {
   "cell_type": "code",
   "execution_count": 394,
   "metadata": {},
   "outputs": [
    {
     "name": "stdout",
     "output_type": "stream",
     "text": [
      "overall_rating : 4248.09\n",
      "mileage : -0.06\n",
      "city_mpg : -1046.35\n",
      "highway_mpg : 1231.99\n",
      "year : 559.79\n",
      "count_convenience_feats : 317.63\n",
      "count_entertainment_feats : -572.80\n",
      "count_safety_feats : 147.77\n",
      "count_seating_feats : 102.40\n",
      "count_exterior_feats : -630.42\n",
      "median_income : 0.01\n",
      "dealer_rev_count : -0.05\n",
      "dealer_rev_rating : 8.95\n",
      "model1 : -3470.71\n",
      "model2 : -4181.14\n",
      "model3 : -4607.91\n",
      "model4 : -1979.71\n",
      "model5 : -0.00\n",
      "model6 : -1369.00\n",
      "model7 : -1416.04\n",
      "model8 : -1657.22\n",
      "model9 : 682.40\n",
      "model10 : -4362.64\n",
      "model11 : -5920.62\n",
      "model12 : -4933.81\n",
      "model13 : 0.00\n",
      "used : -5349.25\n"
     ]
    }
   ],
   "source": [
    "for feature, coef in zip(X.columns, m.coef_):\n",
    "    print(feature, ':', f'{coef:.2f}') "
   ]
  },
  {
   "cell_type": "code",
   "execution_count": 395,
   "metadata": {},
   "outputs": [
    {
     "data": {
      "text/plain": [
       "0.9645843779489738"
      ]
     },
     "execution_count": 395,
     "metadata": {},
     "output_type": "execute_result"
    }
   ],
   "source": [
    "#Regular Polynomial\n",
    "m = LinearRegression()\n",
    "p = PolynomialFeatures(degree=2)\n",
    "m.fit(p.fit_transform(X_train),y_train)\n",
    "m.score(p.transform(X_train),y_train)"
   ]
  },
  {
   "cell_type": "code",
   "execution_count": 396,
   "metadata": {},
   "outputs": [
    {
     "data": {
      "text/plain": [
       "0.9207519734063384"
      ]
     },
     "execution_count": 396,
     "metadata": {},
     "output_type": "execute_result"
    }
   ],
   "source": [
    "m.score(p.transform(X_test),y_test)"
   ]
  },
  {
   "cell_type": "code",
   "execution_count": 397,
   "metadata": {},
   "outputs": [
    {
     "data": {
      "text/plain": [
       "(['1',\n",
       "  'x0',\n",
       "  'x1',\n",
       "  'x2',\n",
       "  'x3',\n",
       "  'x4',\n",
       "  'x5',\n",
       "  'x6',\n",
       "  'x7',\n",
       "  'x8',\n",
       "  'x9',\n",
       "  'x10',\n",
       "  'x11',\n",
       "  'x12',\n",
       "  'x13',\n",
       "  'x14',\n",
       "  'x15',\n",
       "  'x16',\n",
       "  'x17',\n",
       "  'x18',\n",
       "  'x19',\n",
       "  'x20',\n",
       "  'x21',\n",
       "  'x22',\n",
       "  'x23',\n",
       "  'x24',\n",
       "  'x25',\n",
       "  'x26',\n",
       "  'x0^2',\n",
       "  'x0 x1',\n",
       "  'x0 x2',\n",
       "  'x0 x3',\n",
       "  'x0 x4',\n",
       "  'x0 x5',\n",
       "  'x0 x6',\n",
       "  'x0 x7',\n",
       "  'x0 x8',\n",
       "  'x0 x9',\n",
       "  'x0 x10',\n",
       "  'x0 x11',\n",
       "  'x0 x12',\n",
       "  'x0 x13',\n",
       "  'x0 x14',\n",
       "  'x0 x15',\n",
       "  'x0 x16',\n",
       "  'x0 x17',\n",
       "  'x0 x18',\n",
       "  'x0 x19',\n",
       "  'x0 x20',\n",
       "  'x0 x21',\n",
       "  'x0 x22',\n",
       "  'x0 x23',\n",
       "  'x0 x24',\n",
       "  'x0 x25',\n",
       "  'x0 x26',\n",
       "  'x1^2',\n",
       "  'x1 x2',\n",
       "  'x1 x3',\n",
       "  'x1 x4',\n",
       "  'x1 x5',\n",
       "  'x1 x6',\n",
       "  'x1 x7',\n",
       "  'x1 x8',\n",
       "  'x1 x9',\n",
       "  'x1 x10',\n",
       "  'x1 x11',\n",
       "  'x1 x12',\n",
       "  'x1 x13',\n",
       "  'x1 x14',\n",
       "  'x1 x15',\n",
       "  'x1 x16',\n",
       "  'x1 x17',\n",
       "  'x1 x18',\n",
       "  'x1 x19',\n",
       "  'x1 x20',\n",
       "  'x1 x21',\n",
       "  'x1 x22',\n",
       "  'x1 x23',\n",
       "  'x1 x24',\n",
       "  'x1 x25',\n",
       "  'x1 x26',\n",
       "  'x2^2',\n",
       "  'x2 x3',\n",
       "  'x2 x4',\n",
       "  'x2 x5',\n",
       "  'x2 x6',\n",
       "  'x2 x7',\n",
       "  'x2 x8',\n",
       "  'x2 x9',\n",
       "  'x2 x10',\n",
       "  'x2 x11',\n",
       "  'x2 x12',\n",
       "  'x2 x13',\n",
       "  'x2 x14',\n",
       "  'x2 x15',\n",
       "  'x2 x16',\n",
       "  'x2 x17',\n",
       "  'x2 x18',\n",
       "  'x2 x19',\n",
       "  'x2 x20',\n",
       "  'x2 x21',\n",
       "  'x2 x22',\n",
       "  'x2 x23',\n",
       "  'x2 x24',\n",
       "  'x2 x25',\n",
       "  'x2 x26',\n",
       "  'x3^2',\n",
       "  'x3 x4',\n",
       "  'x3 x5',\n",
       "  'x3 x6',\n",
       "  'x3 x7',\n",
       "  'x3 x8',\n",
       "  'x3 x9',\n",
       "  'x3 x10',\n",
       "  'x3 x11',\n",
       "  'x3 x12',\n",
       "  'x3 x13',\n",
       "  'x3 x14',\n",
       "  'x3 x15',\n",
       "  'x3 x16',\n",
       "  'x3 x17',\n",
       "  'x3 x18',\n",
       "  'x3 x19',\n",
       "  'x3 x20',\n",
       "  'x3 x21',\n",
       "  'x3 x22',\n",
       "  'x3 x23',\n",
       "  'x3 x24',\n",
       "  'x3 x25',\n",
       "  'x3 x26',\n",
       "  'x4^2',\n",
       "  'x4 x5',\n",
       "  'x4 x6',\n",
       "  'x4 x7',\n",
       "  'x4 x8',\n",
       "  'x4 x9',\n",
       "  'x4 x10',\n",
       "  'x4 x11',\n",
       "  'x4 x12',\n",
       "  'x4 x13',\n",
       "  'x4 x14',\n",
       "  'x4 x15',\n",
       "  'x4 x16',\n",
       "  'x4 x17',\n",
       "  'x4 x18',\n",
       "  'x4 x19',\n",
       "  'x4 x20',\n",
       "  'x4 x21',\n",
       "  'x4 x22',\n",
       "  'x4 x23',\n",
       "  'x4 x24',\n",
       "  'x4 x25',\n",
       "  'x4 x26',\n",
       "  'x5^2',\n",
       "  'x5 x6',\n",
       "  'x5 x7',\n",
       "  'x5 x8',\n",
       "  'x5 x9',\n",
       "  'x5 x10',\n",
       "  'x5 x11',\n",
       "  'x5 x12',\n",
       "  'x5 x13',\n",
       "  'x5 x14',\n",
       "  'x5 x15',\n",
       "  'x5 x16',\n",
       "  'x5 x17',\n",
       "  'x5 x18',\n",
       "  'x5 x19',\n",
       "  'x5 x20',\n",
       "  'x5 x21',\n",
       "  'x5 x22',\n",
       "  'x5 x23',\n",
       "  'x5 x24',\n",
       "  'x5 x25',\n",
       "  'x5 x26',\n",
       "  'x6^2',\n",
       "  'x6 x7',\n",
       "  'x6 x8',\n",
       "  'x6 x9',\n",
       "  'x6 x10',\n",
       "  'x6 x11',\n",
       "  'x6 x12',\n",
       "  'x6 x13',\n",
       "  'x6 x14',\n",
       "  'x6 x15',\n",
       "  'x6 x16',\n",
       "  'x6 x17',\n",
       "  'x6 x18',\n",
       "  'x6 x19',\n",
       "  'x6 x20',\n",
       "  'x6 x21',\n",
       "  'x6 x22',\n",
       "  'x6 x23',\n",
       "  'x6 x24',\n",
       "  'x6 x25',\n",
       "  'x6 x26',\n",
       "  'x7^2',\n",
       "  'x7 x8',\n",
       "  'x7 x9',\n",
       "  'x7 x10',\n",
       "  'x7 x11',\n",
       "  'x7 x12',\n",
       "  'x7 x13',\n",
       "  'x7 x14',\n",
       "  'x7 x15',\n",
       "  'x7 x16',\n",
       "  'x7 x17',\n",
       "  'x7 x18',\n",
       "  'x7 x19',\n",
       "  'x7 x20',\n",
       "  'x7 x21',\n",
       "  'x7 x22',\n",
       "  'x7 x23',\n",
       "  'x7 x24',\n",
       "  'x7 x25',\n",
       "  'x7 x26',\n",
       "  'x8^2',\n",
       "  'x8 x9',\n",
       "  'x8 x10',\n",
       "  'x8 x11',\n",
       "  'x8 x12',\n",
       "  'x8 x13',\n",
       "  'x8 x14',\n",
       "  'x8 x15',\n",
       "  'x8 x16',\n",
       "  'x8 x17',\n",
       "  'x8 x18',\n",
       "  'x8 x19',\n",
       "  'x8 x20',\n",
       "  'x8 x21',\n",
       "  'x8 x22',\n",
       "  'x8 x23',\n",
       "  'x8 x24',\n",
       "  'x8 x25',\n",
       "  'x8 x26',\n",
       "  'x9^2',\n",
       "  'x9 x10',\n",
       "  'x9 x11',\n",
       "  'x9 x12',\n",
       "  'x9 x13',\n",
       "  'x9 x14',\n",
       "  'x9 x15',\n",
       "  'x9 x16',\n",
       "  'x9 x17',\n",
       "  'x9 x18',\n",
       "  'x9 x19',\n",
       "  'x9 x20',\n",
       "  'x9 x21',\n",
       "  'x9 x22',\n",
       "  'x9 x23',\n",
       "  'x9 x24',\n",
       "  'x9 x25',\n",
       "  'x9 x26',\n",
       "  'x10^2',\n",
       "  'x10 x11',\n",
       "  'x10 x12',\n",
       "  'x10 x13',\n",
       "  'x10 x14',\n",
       "  'x10 x15',\n",
       "  'x10 x16',\n",
       "  'x10 x17',\n",
       "  'x10 x18',\n",
       "  'x10 x19',\n",
       "  'x10 x20',\n",
       "  'x10 x21',\n",
       "  'x10 x22',\n",
       "  'x10 x23',\n",
       "  'x10 x24',\n",
       "  'x10 x25',\n",
       "  'x10 x26',\n",
       "  'x11^2',\n",
       "  'x11 x12',\n",
       "  'x11 x13',\n",
       "  'x11 x14',\n",
       "  'x11 x15',\n",
       "  'x11 x16',\n",
       "  'x11 x17',\n",
       "  'x11 x18',\n",
       "  'x11 x19',\n",
       "  'x11 x20',\n",
       "  'x11 x21',\n",
       "  'x11 x22',\n",
       "  'x11 x23',\n",
       "  'x11 x24',\n",
       "  'x11 x25',\n",
       "  'x11 x26',\n",
       "  'x12^2',\n",
       "  'x12 x13',\n",
       "  'x12 x14',\n",
       "  'x12 x15',\n",
       "  'x12 x16',\n",
       "  'x12 x17',\n",
       "  'x12 x18',\n",
       "  'x12 x19',\n",
       "  'x12 x20',\n",
       "  'x12 x21',\n",
       "  'x12 x22',\n",
       "  'x12 x23',\n",
       "  'x12 x24',\n",
       "  'x12 x25',\n",
       "  'x12 x26',\n",
       "  'x13^2',\n",
       "  'x13 x14',\n",
       "  'x13 x15',\n",
       "  'x13 x16',\n",
       "  'x13 x17',\n",
       "  'x13 x18',\n",
       "  'x13 x19',\n",
       "  'x13 x20',\n",
       "  'x13 x21',\n",
       "  'x13 x22',\n",
       "  'x13 x23',\n",
       "  'x13 x24',\n",
       "  'x13 x25',\n",
       "  'x13 x26',\n",
       "  'x14^2',\n",
       "  'x14 x15',\n",
       "  'x14 x16',\n",
       "  'x14 x17',\n",
       "  'x14 x18',\n",
       "  'x14 x19',\n",
       "  'x14 x20',\n",
       "  'x14 x21',\n",
       "  'x14 x22',\n",
       "  'x14 x23',\n",
       "  'x14 x24',\n",
       "  'x14 x25',\n",
       "  'x14 x26',\n",
       "  'x15^2',\n",
       "  'x15 x16',\n",
       "  'x15 x17',\n",
       "  'x15 x18',\n",
       "  'x15 x19',\n",
       "  'x15 x20',\n",
       "  'x15 x21',\n",
       "  'x15 x22',\n",
       "  'x15 x23',\n",
       "  'x15 x24',\n",
       "  'x15 x25',\n",
       "  'x15 x26',\n",
       "  'x16^2',\n",
       "  'x16 x17',\n",
       "  'x16 x18',\n",
       "  'x16 x19',\n",
       "  'x16 x20',\n",
       "  'x16 x21',\n",
       "  'x16 x22',\n",
       "  'x16 x23',\n",
       "  'x16 x24',\n",
       "  'x16 x25',\n",
       "  'x16 x26',\n",
       "  'x17^2',\n",
       "  'x17 x18',\n",
       "  'x17 x19',\n",
       "  'x17 x20',\n",
       "  'x17 x21',\n",
       "  'x17 x22',\n",
       "  'x17 x23',\n",
       "  'x17 x24',\n",
       "  'x17 x25',\n",
       "  'x17 x26',\n",
       "  'x18^2',\n",
       "  'x18 x19',\n",
       "  'x18 x20',\n",
       "  'x18 x21',\n",
       "  'x18 x22',\n",
       "  'x18 x23',\n",
       "  'x18 x24',\n",
       "  'x18 x25',\n",
       "  'x18 x26',\n",
       "  'x19^2',\n",
       "  'x19 x20',\n",
       "  'x19 x21',\n",
       "  'x19 x22',\n",
       "  'x19 x23',\n",
       "  'x19 x24',\n",
       "  'x19 x25',\n",
       "  'x19 x26',\n",
       "  'x20^2',\n",
       "  'x20 x21',\n",
       "  'x20 x22',\n",
       "  'x20 x23',\n",
       "  'x20 x24',\n",
       "  'x20 x25',\n",
       "  'x20 x26',\n",
       "  'x21^2',\n",
       "  'x21 x22',\n",
       "  'x21 x23',\n",
       "  'x21 x24',\n",
       "  'x21 x25',\n",
       "  'x21 x26',\n",
       "  'x22^2',\n",
       "  'x22 x23',\n",
       "  'x22 x24',\n",
       "  'x22 x25',\n",
       "  'x22 x26',\n",
       "  'x23^2',\n",
       "  'x23 x24',\n",
       "  'x23 x25',\n",
       "  'x23 x26',\n",
       "  'x24^2',\n",
       "  'x24 x25',\n",
       "  'x24 x26',\n",
       "  'x25^2',\n",
       "  'x25 x26',\n",
       "  'x26^2'],\n",
       " array([ 3.37198046e-02,  2.78704862e+05,  2.96577628e+00, -2.48570760e+05,\n",
       "         6.36056293e+04, -2.58252445e+05, -1.11463601e+05, -4.00811350e+04,\n",
       "        -2.15594398e+05,  3.87944241e+04,  2.52074088e+05, -2.40904693e+00,\n",
       "         2.21910303e+02, -7.61749371e+04, -1.17754464e+05,  4.75380253e+05,\n",
       "         5.96839605e+01, -4.10772900e+00,  5.73432752e+00,  5.75164187e+00,\n",
       "         4.25095053e+00,  4.49747766e+00, -1.92534101e+00,  1.85565648e+00,\n",
       "         1.01861908e+06,  5.70295384e+05,  4.15854982e+00,  5.46838059e+03,\n",
       "        -7.59330340e+03,  8.13188924e-03, -1.34177284e+04,  1.14587961e+04,\n",
       "        -1.16925233e+02,  1.72143478e+03, -3.21902767e+03, -8.03659690e+02,\n",
       "        -8.52477445e+02,  1.42590752e+03, -3.13517762e-02,  8.60773447e-01,\n",
       "        -6.92999032e+01, -1.53346578e+04, -1.39145407e+04, -2.42162806e-02,\n",
       "         5.50706547e-01,  4.43180979e-02, -1.14377079e+02,  9.06705226e+00,\n",
       "         4.50736697e-01,  2.34476629e-02, -1.65372872e-01, -1.49926689e+04,\n",
       "        -2.53097868e+03,  3.71225543e-02,  1.04789211e+04,  2.35741027e-08,\n",
       "         8.89236569e-03, -9.48185470e-03, -1.53710751e-03, -6.72809157e-04,\n",
       "         1.80487903e-03, -4.94327004e-03, -1.11403645e-02,  2.55800966e-02,\n",
       "         8.98726285e-08, -4.55473491e-06,  2.70579337e-03,  2.13780189e-02,\n",
       "         4.04234774e-02, -1.81461941e-01,  5.00322235e-02, -1.55635692e-02,\n",
       "        -8.70979038e-02,  1.21502751e-02, -7.05848491e+00, -1.06385115e-01,\n",
       "         6.13493366e-02,  2.94112604e-03,  2.60038972e-02,  8.68593352e-04,\n",
       "         5.31378389e-02, -5.56532218e+02,  7.82305406e+02,  1.60123071e+02,\n",
       "         6.28316463e+02, -6.09147069e+02,  5.80848877e-01,  1.78932269e+02,\n",
       "         1.21938621e+03, -7.67048669e-03, -7.53709982e-01, -5.00846652e+01,\n",
       "         6.49295073e+02,  7.81520706e+02, -6.84112621e-04, -1.72500240e+00,\n",
       "         1.13880328e-03,  6.02357716e+02,  4.77005369e+02, -7.44662369e-03,\n",
       "         1.26415433e-02, -2.48181678e-01, -2.48382712e+03,  1.15501092e+03,\n",
       "        -1.22986735e-04, -6.25307062e+03, -3.19166628e+02, -5.90319883e+01,\n",
       "        -5.89317579e+02, -2.22326599e+01,  4.28707051e+02, -7.60978599e+02,\n",
       "        -7.14412205e+02,  7.89575664e-03,  7.32998778e-01,  7.36796396e+01,\n",
       "        -2.10840326e+03, -1.90484818e+03, -2.68747302e-05, -9.17978517e-01,\n",
       "        -5.72380112e-06,  1.72471815e+01,  5.23615704e+02, -9.02335860e-03,\n",
       "         1.46082926e-02, -3.31398236e-01,  6.10664394e+02, -3.74931902e+03,\n",
       "        -6.03745104e-06,  1.15549545e+03,  6.42596209e+01,  6.03779363e+01,\n",
       "         3.70766075e+01,  1.19132926e+02, -7.22462683e+00, -1.35673444e+02,\n",
       "         1.23593453e-03, -1.13959880e-01,  3.71561238e+01,  3.53812471e+01,\n",
       "        -5.60758413e+02, -4.14105321e-03, -7.28627978e+00,  2.51192114e-06,\n",
       "        -1.52999136e+02, -1.58892489e+02, -5.20901812e-01,  1.06842309e+00,\n",
       "        -2.38063664e+01, -1.10086319e+03, -8.05739117e+02, -2.37074141e-06,\n",
       "        -1.08955476e+02,  2.04502784e+02, -5.98397574e+02,  2.43462775e+00,\n",
       "         8.85630971e+02, -1.16374196e+03, -1.97077743e-03,  2.21718935e-02,\n",
       "         5.45052274e+01, -1.41768282e+04, -1.62974135e+04, -5.75598733e-07,\n",
       "         1.24475264e-07,  2.37843778e-07, -1.51585930e+04, -1.68479595e+04,\n",
       "        -5.24034316e-04, -1.08728182e-06, -1.42528993e-02, -1.51933038e+04,\n",
       "        -1.35078188e+04,  1.48110485e-06,  6.50066439e+02,  1.23651167e+03,\n",
       "         8.65217310e+01,  4.88157121e+02, -5.56742230e+03,  8.26713246e-03,\n",
       "        -1.23147188e-01, -1.13613750e+02, -2.34604652e+03, -4.34987118e+03,\n",
       "        -5.30417310e-09, -3.53407613e-03,  4.72045940e-07, -2.51242058e+03,\n",
       "        -1.90715126e+03, -5.25246133e-04,  2.42101082e-03, -1.42426475e-02,\n",
       "         4.08475768e+01, -2.77922556e+03, -6.24303084e-07,  3.54875528e+02,\n",
       "        -2.89483741e+02,  2.70691871e+02,  1.11071397e+03, -2.80989307e-03,\n",
       "         1.77577250e-01, -9.22643508e+01, -3.45475574e+04, -3.32281018e+04,\n",
       "         4.83123586e-09, -9.02218744e-09, -3.66708264e-09, -3.45575676e+04,\n",
       "        -3.46097210e+04, -1.29726560e-03,  0.00000000e+00, -1.18409401e-02,\n",
       "        -3.36959757e+04, -3.20714180e+04,  0.00000000e+00,  1.22624353e+02,\n",
       "        -4.64661554e+02,  1.34783645e+03,  1.86232412e-03, -1.96146620e-01,\n",
       "         1.09573111e+02, -2.29423498e+03, -1.14674625e+03,  0.00000000e+00,\n",
       "        -3.53869087e-03,  0.00000000e+00, -3.00980731e+03, -9.20168518e+01,\n",
       "        -5.24956043e-04,  2.41577117e-03, -2.36835347e-02, -1.83736476e+03,\n",
       "        -1.56492880e+03,  0.00000000e+00, -1.11896340e+03,  2.90745881e+03,\n",
       "         8.27797501e-03,  1.05426740e-01, -6.88103189e+01,  6.55678631e+03,\n",
       "         3.97350733e+03,  1.07543694e-06, -3.53423903e-03,  0.00000000e+00,\n",
       "         8.71761473e+03,  6.11450295e+03, -2.51621999e-04,  2.42110793e-03,\n",
       "        -1.18409205e-02,  3.53281845e+03, -9.91517439e+02,  0.00000000e+00,\n",
       "        -5.60287117e+02, -1.90993887e-08, -1.11409463e-06,  7.11425624e-04,\n",
       "         2.90755792e-03,  9.04121104e-03,  1.62568945e-01,  9.36977614e-02,\n",
       "         0.00000000e+00,  1.75682732e-03, -3.40632712e-03, -1.58970920e+00,\n",
       "         9.50565450e-02, -3.68179744e-01,  1.02175783e-02, -2.91146898e-03,\n",
       "         0.00000000e+00,  2.61777001e-04, -1.36890012e-05, -3.67601274e-01,\n",
       "        -2.18470807e-01, -4.87134996e-01, -1.24855800e-04,  9.90404010e+00,\n",
       "         0.00000000e+00, -4.57178386e-01, -2.67280265e-01,  6.87350400e-01,\n",
       "        -8.50455088e-02,  3.65321324e+00,  1.78337516e-02,  6.93082786e-01,\n",
       "         0.00000000e+00,  1.30256827e+00,  1.64314463e+02, -3.20408042e+02,\n",
       "        -1.45250114e+02,  1.60301130e-05,  3.08012010e+00,  0.00000000e+00,\n",
       "        -2.08006446e+02, -2.15473824e+02,  9.83666175e-04,  3.96203456e-03,\n",
       "        -2.77231938e-03, -1.28677299e+02, -2.79534308e+02,  0.00000000e+00,\n",
       "        -9.86193550e+01, -1.17759486e+05,  0.00000000e+00,  0.00000000e+00,\n",
       "         0.00000000e+00,  0.00000000e+00,  0.00000000e+00,  0.00000000e+00,\n",
       "         0.00000000e+00,  0.00000000e+00,  0.00000000e+00,  0.00000000e+00,\n",
       "         0.00000000e+00,  0.00000000e+00,  2.75027461e+05,  4.75337453e+05,\n",
       "         0.00000000e+00,  0.00000000e+00,  0.00000000e+00,  0.00000000e+00,\n",
       "         0.00000000e+00,  0.00000000e+00,  0.00000000e+00,  0.00000000e+00,\n",
       "         0.00000000e+00,  0.00000000e+00,  0.00000000e+00,  2.74189275e+05,\n",
       "         1.07037604e-06,  0.00000000e+00,  0.00000000e+00,  0.00000000e+00,\n",
       "         0.00000000e+00,  0.00000000e+00,  0.00000000e+00,  0.00000000e+00,\n",
       "         0.00000000e+00,  0.00000000e+00,  0.00000000e+00,  1.07037604e-06,\n",
       "        -3.53423991e-03,  0.00000000e+00,  0.00000000e+00,  0.00000000e+00,\n",
       "         0.00000000e+00,  0.00000000e+00,  0.00000000e+00,  0.00000000e+00,\n",
       "         0.00000000e+00,  0.00000000e+00, -3.51723626e-03,  0.00000000e+00,\n",
       "         0.00000000e+00,  0.00000000e+00,  0.00000000e+00,  0.00000000e+00,\n",
       "         0.00000000e+00,  0.00000000e+00,  0.00000000e+00,  0.00000000e+00,\n",
       "         0.00000000e+00,  5.08195090e-01,  0.00000000e+00,  0.00000000e+00,\n",
       "         0.00000000e+00,  0.00000000e+00,  0.00000000e+00,  0.00000000e+00,\n",
       "         0.00000000e+00,  2.78075405e+05,  1.33539749e-01,  0.00000000e+00,\n",
       "         0.00000000e+00,  0.00000000e+00,  0.00000000e+00,  0.00000000e+00,\n",
       "         0.00000000e+00,  2.75420843e+05, -2.62478021e-04,  0.00000000e+00,\n",
       "         0.00000000e+00,  0.00000000e+00,  0.00000000e+00,  0.00000000e+00,\n",
       "        -2.62478021e-04,  5.21938570e-04,  0.00000000e+00,  0.00000000e+00,\n",
       "         0.00000000e+00,  0.00000000e+00,  5.23805418e-04, -1.18417674e-02,\n",
       "         0.00000000e+00,  0.00000000e+00,  0.00000000e+00, -1.18409402e-02,\n",
       "         1.01861339e+06,  0.00000000e+00,  0.00000000e+00,  2.78948299e+05,\n",
       "         5.70295468e+05,  0.00000000e+00,  5.70295468e+05,  0.00000000e+00,\n",
       "         0.00000000e+00,  5.46928558e+03]))"
      ]
     },
     "execution_count": 397,
     "metadata": {},
     "output_type": "execute_result"
    }
   ],
   "source": [
    "p.get_feature_names(),m.coef_"
   ]
  },
  {
   "cell_type": "code",
   "execution_count": 398,
   "metadata": {},
   "outputs": [
    {
     "name": "stderr",
     "output_type": "stream",
     "text": [
      "/Users/chen/opt/anaconda3/lib/python3.7/site-packages/sklearn/model_selection/_split.py:1978: FutureWarning: The default value of cv will change from 3 to 5 in version 0.22. Specify it explicitly to silence this warning.\n",
      "  warnings.warn(CV_WARNING, FutureWarning)\n"
     ]
    },
    {
     "data": {
      "text/plain": [
       "0.7427534303731185"
      ]
     },
     "execution_count": 398,
     "metadata": {},
     "output_type": "execute_result"
    }
   ],
   "source": [
    "#Lasso\n",
    "m = LassoCV()\n",
    "p = PolynomialFeatures(degree=2)\n",
    "m.fit(p.fit_transform(X_train),y_train)\n",
    "m.score(p.transform(X_train),y_train)"
   ]
  },
  {
   "cell_type": "code",
   "execution_count": 399,
   "metadata": {},
   "outputs": [
    {
     "data": {
      "text/plain": [
       "0.7330348534526855"
      ]
     },
     "execution_count": 399,
     "metadata": {},
     "output_type": "execute_result"
    }
   ],
   "source": [
    "m.score(p.transform(X_test),y_test)"
   ]
  },
  {
   "cell_type": "code",
   "execution_count": 400,
   "metadata": {},
   "outputs": [
    {
     "data": {
      "text/plain": [
       "-5393730704149.371"
      ]
     },
     "execution_count": 400,
     "metadata": {},
     "output_type": "execute_result"
    }
   ],
   "source": [
    "#Ridge\n",
    "m = RidgeCV()\n",
    "p = PolynomialFeatures(degree=2)\n",
    "m.fit(p.fit_transform(X_train),y_train)\n",
    "m.score(p.transform(X_train),y_train)"
   ]
  },
  {
   "cell_type": "code",
   "execution_count": 401,
   "metadata": {},
   "outputs": [
    {
     "data": {
      "text/plain": [
       "-6201591057002.006"
      ]
     },
     "execution_count": 401,
     "metadata": {},
     "output_type": "execute_result"
    }
   ],
   "source": [
    "m.score(p.transform(X_test),y_test)"
   ]
  },
  {
   "cell_type": "code",
   "execution_count": null,
   "metadata": {},
   "outputs": [],
   "source": []
  },
  {
   "cell_type": "code",
   "execution_count": null,
   "metadata": {},
   "outputs": [],
   "source": []
  },
  {
   "cell_type": "code",
   "execution_count": null,
   "metadata": {},
   "outputs": [],
   "source": [
    "page = requests.get('https://www.cars.com/vehicledetail/detail/792320587/overview/', user_agent).text\n",
    "soup = BeautifulSoup(page, 'html5lib')\n",
    "#(soup.find(class_ = 'vehicle-info__price-label vehicle-info__price-label--msrp-badge').findNext().text).translate(str.maketrans('', '', string.punctuation))\n",
    "#car_data\n",
    "#car_dets\n"
   ]
  },
  {
   "cell_type": "code",
   "execution_count": null,
   "metadata": {},
   "outputs": [],
   "source": [
    "df_car_data.sort_values(['year_model'],ascending=False)"
   ]
  },
  {
   "cell_type": "code",
   "execution_count": null,
   "metadata": {},
   "outputs": [],
   "source": [
    "   elif soup.find('p', text = re.compile(r\"JM1N[A-Za-z0-9]{13}\")):\n",
    "\n",
    "        \n",
    "vin = re.search(r\"JM1N[A-Za-z0-9]{13}\", soup.find('p', text = re.compile(r\"JM1N[A-Za-z0-9]{13}\")).text).group(0)\n",
    " "
   ]
  },
  {
   "cell_type": "code",
   "execution_count": null,
   "metadata": {},
   "outputs": [],
   "source": [
    "2\n",
    "\n",
    "import re\n",
    "soup.findAll('a', text = re.compile(\"Fetch\"))"
   ]
  },
  {
   "cell_type": "code",
   "execution_count": null,
   "metadata": {},
   "outputs": [],
   "source": [
    "#soup.find(class_='page-section__title--sub cui-heading-2', text='Convenience').findNext().text\n",
    "\n",
    "\n",
    "#New Car: https://www.cars.com/vehicledetail/detail/767132829/overview/\n",
    "\n",
    "\n",
    "#Dealership Review Count\n",
    "if soup.find(class_=\"rating__link--has-reviews-count\"):\n",
    "    dealer_rev_count = re.search(r\"^[0-9]+\",soup.find(class_=\"rating__link--has-reviews-count\").text).group()\n",
    "else:\n",
    "    dealer_rev_count = None\n",
    "print(dealer_rev_count)\n",
    "#Dealership Review Rating\n",
    "if soup.find(class_=\"rating__link rating__link--has-reviews\"):\n",
    "    dealer_rev_rating = re.search(r\"(\\()([0-9.]+)(\\))\",soup.find(class_=\"rating__link rating__link--has-reviews\").text).group(2)\n",
    "else:\n",
    "    dealer_rev_rating = None\n",
    "print(dealer_rev_rating)"
   ]
  },
  {
   "cell_type": "code",
   "execution_count": 25,
   "metadata": {},
   "outputs": [],
   "source": [
    "pd.set_option(\"display.max_rows\", 999)\n",
    "pd.set_option('display.max_columns', 500)\n",
    "pd.set_option('max_colwidth', 800)"
   ]
  },
  {
   "cell_type": "code",
   "execution_count": null,
   "metadata": {},
   "outputs": [],
   "source": []
  }
 ],
 "metadata": {
  "kernelspec": {
   "display_name": "Python 3",
   "language": "python",
   "name": "python3"
  },
  "language_info": {
   "codemirror_mode": {
    "name": "ipython",
    "version": 3
   },
   "file_extension": ".py",
   "mimetype": "text/x-python",
   "name": "python",
   "nbconvert_exporter": "python",
   "pygments_lexer": "ipython3",
   "version": "3.7.5"
  }
 },
 "nbformat": 4,
 "nbformat_minor": 2
}
